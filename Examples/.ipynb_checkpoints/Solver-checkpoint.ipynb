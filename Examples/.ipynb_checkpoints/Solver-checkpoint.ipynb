{
 "cells": [
  {
   "cell_type": "markdown",
   "metadata": {
    "toc": true
   },
   "source": [
    "<h1>Table of Contents<span class=\"tocSkip\"></span></h1>\n",
    "<div class=\"toc\"><ul class=\"toc-item\"><li><span><a href=\"#Initializations\" data-toc-modified-id=\"Initializations-1\"><span class=\"toc-item-num\">1&nbsp;&nbsp;</span>Initializations</a></span></li><li><span><a href=\"#Exact-Solution-for-Convection-Diffusion-Equation\" data-toc-modified-id=\"Exact-Solution-for-Convection-Diffusion-Equation-2\"><span class=\"toc-item-num\">2&nbsp;&nbsp;</span>Exact Solution for Convection-Diffusion Equation</a></span></li><li><span><a href=\"#Discontinuous-Galerkin-Convection-Diffusion-with-upwind\" data-toc-modified-id=\"Discontinuous-Galerkin-Convection-Diffusion-with-upwind-3\"><span class=\"toc-item-num\">3&nbsp;&nbsp;</span>Discontinuous Galerkin Convection-Diffusion with upwind</a></span></li><li><span><a href=\"#Hybrid-Discontinuous-Galerkin-Convection-Diffusion-with-upwind\" data-toc-modified-id=\"Hybrid-Discontinuous-Galerkin-Convection-Diffusion-with-upwind-4\"><span class=\"toc-item-num\">4&nbsp;&nbsp;</span>Hybrid Discontinuous Galerkin Convection-Diffusion with upwind</a></span></li><li><span><a href=\"#Solving-Mass-Matrix-problem\" data-toc-modified-id=\"Solving-Mass-Matrix-problem-5\"><span class=\"toc-item-num\">5&nbsp;&nbsp;</span>Solving Mass Matrix problem</a></span></li><li><span><a href=\"#Enrichment\" data-toc-modified-id=\"Enrichment-6\"><span class=\"toc-item-num\">6&nbsp;&nbsp;</span>Enrichment</a></span><ul class=\"toc-item\"><li><span><a href=\"#Enrichment-for-Mass-Matrix\" data-toc-modified-id=\"Enrichment-for-Mass-Matrix-6.1\"><span class=\"toc-item-num\">6.1&nbsp;&nbsp;</span>Enrichment for Mass Matrix</a></span><ul class=\"toc-item\"><li><ul class=\"toc-item\"><li><span><a href=\"#Enrichment-for-Mass-Matrix-(enrich-x-axis)\" data-toc-modified-id=\"Enrichment-for-Mass-Matrix-(enrich-x-axis)-6.1.0.1\"><span class=\"toc-item-num\">6.1.0.1&nbsp;&nbsp;</span>Enrichment for Mass Matrix (enrich x-axis)</a></span></li><li><span><a href=\"#Enrichment-for-Mass-Matrix-(enrich-y-axis)\" data-toc-modified-id=\"Enrichment-for-Mass-Matrix-(enrich-y-axis)-6.1.0.2\"><span class=\"toc-item-num\">6.1.0.2&nbsp;&nbsp;</span>Enrichment for Mass Matrix (enrich y-axis)</a></span></li><li><span><a href=\"#Enrichment-for-Mass-Matrix-(enrich-both-xy-axis)\" data-toc-modified-id=\"Enrichment-for-Mass-Matrix-(enrich-both-xy-axis)-6.1.0.3\"><span class=\"toc-item-num\">6.1.0.3&nbsp;&nbsp;</span>Enrichment for Mass Matrix (enrich both xy-axis)</a></span></li></ul></li></ul></li><li><span><a href=\"#Enrichment-with-DG\" data-toc-modified-id=\"Enrichment-with-DG-6.2\"><span class=\"toc-item-num\">6.2&nbsp;&nbsp;</span>Enrichment with DG</a></span></li><li><span><a href=\"#Enrichment-with-HDG\" data-toc-modified-id=\"Enrichment-with-HDG-6.3\"><span class=\"toc-item-num\">6.3&nbsp;&nbsp;</span>Enrichment with HDG</a></span></li></ul></li><li><span><a href=\"#Testing-Functions\" data-toc-modified-id=\"Testing-Functions-7\"><span class=\"toc-item-num\">7&nbsp;&nbsp;</span>Testing Functions</a></span></li></ul></div>"
   ]
  },
  {
   "cell_type": "code",
   "execution_count": 14,
   "metadata": {
    "ExecuteTime": {
     "end_time": "2020-03-17T04:04:25.804133Z",
     "start_time": "2020-03-17T04:04:25.801117Z"
    },
    "slideshow": {
     "slide_type": "slide"
    }
   },
   "outputs": [],
   "source": [
    "import netgen.gui\n",
    "from netgen.geom2d import unit_square\n",
    "from ngsolve import *\n",
    "import pandas as pd\n",
    "from ngsolve import grad as oldgrad"
   ]
  },
  {
   "cell_type": "markdown",
   "metadata": {},
   "source": [
    "### Initializations"
   ]
  },
  {
   "cell_type": "code",
   "execution_count": 2,
   "metadata": {
    "ExecuteTime": {
     "end_time": "2020-03-17T01:49:00.109967Z",
     "start_time": "2020-03-17T01:49:00.095492Z"
    }
   },
   "outputs": [],
   "source": [
    "## Parameter setup\n",
    "orders = [1, 2, 3]\n",
    "beta = (2,0.001)\n",
    "mesh_size = [1.0, 0.5, 0.25, 0.1250, 0.0625, 0.0313]\n",
    "eps = 0.01\n",
    "\n",
    "# Exact Solution\n",
    "#p = lambda x: x + (exp(beta[0]*x/eps)-1)/(1-exp(beta[0]/eps))\n",
    "#q = lambda y: y + (exp(beta[1]*y/eps)-1)/(1-exp(beta[1]/eps))\n",
    "\n",
    "p = lambda x: x + (exp(beta[0]*(x-1)/eps)-exp(-beta[0]/eps))/(exp(-beta[0]/eps)-1)\n",
    "q = lambda y: y + (exp(beta[1]*(y-1)/eps)-exp(-beta[1]/eps))/(exp(-beta[1]/eps)-1)\n",
    "\n",
    "exact = p(x) * q(y)\n",
    "\n",
    "coeff =  beta[1] * p(x) +  beta[0] * q(y)\n",
    "\n",
    "coeff_x = p(x)\n",
    "coeff_y = q(y)\n",
    "\n",
    "alpha = 20\n",
    "\n",
    "## Dataframes\n",
    "columns = ['Order', 'Mesh Size', 'Error']"
   ]
  },
  {
   "cell_type": "markdown",
   "metadata": {},
   "source": [
    "### Exact Solution for Convection-Diffusion Equation"
   ]
  },
  {
   "cell_type": "code",
   "execution_count": null,
   "metadata": {
    "ExecuteTime": {
     "start_time": "2020-01-30T15:19:39.772Z"
    }
   },
   "outputs": [],
   "source": [
    "orders = 1\n",
    "mesh_size = 0.05\n",
    "mesh = Mesh(unit_square.GenerateMesh(maxh=mesh_size))\n",
    "fes = L2(mesh, order=orders, dirichlet=\"bottom|right|left|top\")\n",
    "gfu = GridFunction(fes)\n",
    "Draw(exact, mesh, 'exact')"
   ]
  },
  {
   "cell_type": "markdown",
   "metadata": {},
   "source": [
    "### Discontinuous Galerkin Convection-Diffusion with upwind"
   ]
  },
  {
   "cell_type": "code",
   "execution_count": 7,
   "metadata": {
    "ExecuteTime": {
     "end_time": "2020-02-11T11:12:46.482001Z",
     "start_time": "2020-02-11T11:12:39.039384Z"
    }
   },
   "outputs": [
    {
     "name": "stdout",
     "output_type": "stream",
     "text": [
      "Order: 1 Mesh Size: 1.0 L2-error: 0.18257309111946565\n",
      "Order: 1 Mesh Size: 0.5 L2-error: 0.04135998165755911\n",
      "Order: 1 Mesh Size: 0.25 L2-error: 0.008750193484002773\n",
      "Order: 1 Mesh Size: 0.125 L2-error: 0.0022536854068236863\n",
      "Order: 1 Mesh Size: 0.0625 L2-error: 0.0005383411099784809\n",
      "Order: 1 Mesh Size: 0.0313 L2-error: 0.00018108211261156967\n",
      "......................................................................\n",
      "Order: 2 Mesh Size: 1.0 L2-error: 0.01853983925032323\n",
      "Order: 2 Mesh Size: 0.5 L2-error: 0.004898412117691761\n",
      "Order: 2 Mesh Size: 0.25 L2-error: 0.0003986823643231045\n",
      "Order: 2 Mesh Size: 0.125 L2-error: 0.0002666594046657533\n",
      "Order: 2 Mesh Size: 0.0625 L2-error: 0.00023092318731803528\n",
      "Order: 2 Mesh Size: 0.0313 L2-error: 9.834853448538155e-05\n",
      "......................................................................\n",
      "Order: 3 Mesh Size: 1.0 L2-error: 0.004575058082357951\n",
      "Order: 3 Mesh Size: 0.5 L2-error: 0.0005531519948966951\n",
      "Order: 3 Mesh Size: 0.25 L2-error: 0.0005412666022360723\n",
      "Order: 3 Mesh Size: 0.125 L2-error: 0.00038096214250627375\n",
      "Order: 3 Mesh Size: 0.0625 L2-error: 0.0001416357750797661\n",
      "Order: 3 Mesh Size: 0.0313 L2-error: 2.9235153983979366e-05\n",
      "......................................................................\n",
      "Stored 'dg' (DataFrame)\n"
     ]
    }
   ],
   "source": [
    "dg = pd.DataFrame(columns=columns)\n",
    "for order in orders:\n",
    "    for size in mesh_size:\n",
    "        mesh = Mesh(unit_square.GenerateMesh(maxh=size))\n",
    "        fes = L2(mesh, order=order, dgjumps=True)\n",
    "        u, v = fes.TnT()\n",
    "\n",
    "        jump_u = u-u.Other()\n",
    "        jump_v = v-v.Other()\n",
    "        n = specialcf.normal(2)\n",
    "        mean_dudn = 0.5 * n * (grad(u) + grad(u.Other()))\n",
    "        mean_dvdn = 0.5 * n * (grad(v) + grad(v.Other()))\n",
    "\n",
    "        h = specialcf.mesh_size\n",
    "\n",
    "        # diffusion\n",
    "        diffusion = grad(u) * grad(v) * dx \\\n",
    "            +alpha * order ** 2/ h * jump_u * jump_v * dx(skeleton=True) \\\n",
    "            +(-mean_dudn * jump_v - mean_dvdn * jump_u) * dx(skeleton=True) \\\n",
    "            +alpha * order ** 2/h * u * v * ds(skeleton=True) \\\n",
    "            + (-n * grad(u) * v -n * grad(v) * u) * ds(skeleton=True)\n",
    "\n",
    "        # convection\n",
    "        b = CoefficientFunction((beta[0],beta[1]) )\n",
    "        uup = IfPos(b * n, u, u.Other())\n",
    "        convection = -b * u * grad(v) * dx + b * n * uup * jump_v * dx(skeleton=True)\n",
    "        \n",
    "        acd = BilinearForm(fes)\n",
    "        acd += eps * diffusion + convection\n",
    "        acd.Assemble()\n",
    "        \n",
    "        # rhs\n",
    "        f = LinearForm(fes)\n",
    "        f += SymbolicLFI(coeff * v)\n",
    "        f.Assemble()\n",
    "\n",
    "        gfu = GridFunction(fes, name=\"uDG\")        \n",
    "        gfu.vec.data = acd.mat.Inverse(freedofs=fes.FreeDofs(),inverse=\"umfpack\") * f.vec\n",
    "        \n",
    "        error = sqrt (Integrate ((gfu-exact)*(gfu-exact), mesh))\n",
    "        dg.loc[len(dg)] = [order, size, error]\n",
    "        \n",
    "        Draw(gfu, mesh,\"u\",sd=5)\n",
    "        netgen.gui.Snapshot(w=800,h=500, filename='Images/' +\"dg-h_\"+str(size)+\"-k_\"+str(order)+\".png\")\n",
    "        \n",
    "        print ('Order:', order, 'Mesh Size:', size , \"L2-error:\", error)\n",
    "    print('......................................................................')\n",
    "    \n",
    "%store dg"
   ]
  },
  {
   "cell_type": "markdown",
   "metadata": {},
   "source": [
    "### Hybrid Discontinuous Galerkin Convection-Diffusion with upwind"
   ]
  },
  {
   "cell_type": "code",
   "execution_count": 8,
   "metadata": {
    "ExecuteTime": {
     "end_time": "2020-02-11T11:13:01.911078Z",
     "start_time": "2020-02-11T11:12:55.480165Z"
    }
   },
   "outputs": [
    {
     "name": "stdout",
     "output_type": "stream",
     "text": [
      "Order: 1 Mesh Size: 1.0 L2-error: 0.0021388692850139966\n",
      "Order: 1 Mesh Size: 0.5 L2-error: 0.0015448207320687085\n",
      "Order: 1 Mesh Size: 0.25 L2-error: 0.000306667868916133\n",
      "Order: 1 Mesh Size: 0.125 L2-error: 0.00026642038024525993\n",
      "Order: 1 Mesh Size: 0.0625 L2-error: 0.00025697510865131673\n",
      "Order: 1 Mesh Size: 0.0313 L2-error: 0.00017357829671152517\n",
      "......................................................................\n",
      "Order: 2 Mesh Size: 1.0 L2-error: 0.0009453965788588372\n",
      "Order: 2 Mesh Size: 0.5 L2-error: 0.0006825357593877056\n",
      "Order: 2 Mesh Size: 0.25 L2-error: 0.0005863220096288398\n",
      "Order: 2 Mesh Size: 0.125 L2-error: 0.00040409105409260516\n",
      "Order: 2 Mesh Size: 0.0625 L2-error: 0.0002293211015932574\n",
      "Order: 2 Mesh Size: 0.0313 L2-error: 9.062183487970655e-05\n",
      "......................................................................\n",
      "Order: 3 Mesh Size: 1.0 L2-error: 0.0008425809719983904\n",
      "Order: 3 Mesh Size: 0.5 L2-error: 0.0008665829734104698\n",
      "Order: 3 Mesh Size: 0.25 L2-error: 0.0006963995342044203\n",
      "Order: 3 Mesh Size: 0.125 L2-error: 0.00038781416791653576\n",
      "Order: 3 Mesh Size: 0.0625 L2-error: 0.00013626089196429209\n",
      "Order: 3 Mesh Size: 0.0313 L2-error: 2.7154524756950232e-05\n",
      "......................................................................\n",
      "Stored 'hdg' (DataFrame)\n"
     ]
    }
   ],
   "source": [
    "hdg = pd.DataFrame(columns=columns)\n",
    "for order in orders:\n",
    "    for size in mesh_size:\n",
    "        mesh = Mesh(unit_square.GenerateMesh(maxh=size))\n",
    "        V = L2(mesh, order=order)\n",
    "        F = FacetFESpace(mesh, order=order, dirichlet=\"bottom|left|right|top\")\n",
    "\n",
    "        fes = FESpace([V,F])\n",
    "        u,uhat = fes.TrialFunction()\n",
    "        v,vhat = fes.TestFunction()\n",
    "\n",
    "        jump_u = u-uhat\n",
    "        jump_v = v-vhat\n",
    "\n",
    "        condense = True\n",
    "        h = specialcf.mesh_size\n",
    "        n = specialcf.normal(mesh.dim)\n",
    "\n",
    "        dS = dx(element_boundary=True)\n",
    "\n",
    "        # diffusion\n",
    "        diffusion = grad(u) * grad(v) * dx + \\\n",
    "            alpha * order ** 2/h * jump_u * jump_v * dS + \\\n",
    "            (-grad(u) * n * jump_v - grad(v) * n * jump_u) * dS\n",
    "\n",
    "        # convection            \n",
    "        b = CoefficientFunction((beta[0],beta[1])) \n",
    "        uup = IfPos(b * n, u, uhat)\n",
    "        convection = -b * u * grad(v) * dx + b * n * uup * jump_v * dS\n",
    "\n",
    "        acd = BilinearForm(fes, condense=condense)\n",
    "        acd += eps * diffusion + convection\n",
    "        acd.Assemble()\n",
    "        \n",
    "        #rhs\n",
    "        f = LinearForm(fes)\n",
    "        f += SymbolicLFI(coeff * v)\n",
    "        f.Assemble()\n",
    "\n",
    "        gfu = GridFunction(fes)    \n",
    "        if not condense:\n",
    "            inv = acd.mat.Inverse(fes.FreeDofs(), \"umfpack\")\n",
    "            gfu.vec.data = inv * f.vec\n",
    "        else:\n",
    "            f.vec.data += acd.harmonic_extension_trans * f.vec\n",
    "\n",
    "            inv = acd.mat.Inverse(fes.FreeDofs(True), \"umfpack\")\n",
    "            gfu.vec.data = inv * f.vec\n",
    "\n",
    "            gfu.vec.data += acd.harmonic_extension * gfu.vec\n",
    "            gfu.vec.data += acd.inner_solve * f.vec\n",
    "            \n",
    "        error = sqrt (Integrate ((gfu.components[0] - exact)*(gfu.components[0]- exact), mesh))\n",
    "        hdg.loc[len(hdg)] = [order, size, error]\n",
    "        \n",
    "        Draw(gfu.components[0], mesh,\"u\",sd=5)\n",
    "        netgen.gui.Snapshot(w=800,h=500, filename='Images/' + \"hdg-h_\"+str(size)+\"-k_\"+str(order)+\".png\")\n",
    "        \n",
    "        print ('Order:', order, 'Mesh Size:', size , \"L2-error:\", error)                            \n",
    "    print('......................................................................')\n",
    "\n",
    "%store hdg"
   ]
  },
  {
   "cell_type": "markdown",
   "metadata": {},
   "source": [
    "### Solving Mass Matrix problem"
   ]
  },
  {
   "cell_type": "code",
   "execution_count": 18,
   "metadata": {
    "ExecuteTime": {
     "end_time": "2020-01-30T14:25:05.341968Z",
     "start_time": "2020-01-30T14:24:59.957982Z"
    }
   },
   "outputs": [
    {
     "name": "stdout",
     "output_type": "stream",
     "text": [
      "Order: 1 Mesh Size: 1.0 L2-error: 0.004459175075878796\n",
      "Order: 1 Mesh Size: 0.5 L2-error: 0.00276080549360834\n",
      "Order: 1 Mesh Size: 0.25 L2-error: 0.0015611084025224855\n",
      "Order: 1 Mesh Size: 0.125 L2-error: 0.0009505531270130825\n",
      "Order: 1 Mesh Size: 0.0625 L2-error: 0.0005425383964925907\n",
      "Order: 1 Mesh Size: 0.0313 L2-error: 0.0002718806091670007\n",
      "......................................................................\n",
      "Order: 2 Mesh Size: 1.0 L2-error: 0.000520829059102421\n",
      "Order: 2 Mesh Size: 0.5 L2-error: 0.00011315394599981354\n",
      "Order: 2 Mesh Size: 0.25 L2-error: 0.00012161280758327406\n",
      "Order: 2 Mesh Size: 0.125 L2-error: 0.00018388342675309724\n",
      "Order: 2 Mesh Size: 0.0625 L2-error: 0.00013790607359845654\n",
      "Order: 2 Mesh Size: 0.0313 L2-error: 5.835771499725604e-05\n",
      "......................................................................\n",
      "Order: 3 Mesh Size: 1.0 L2-error: 1.4432766278165542e-06\n",
      "Order: 3 Mesh Size: 0.5 L2-error: 1.6053585394211418e-06\n",
      "Order: 3 Mesh Size: 0.25 L2-error: 1.7700643967471053e-05\n",
      "Order: 3 Mesh Size: 0.125 L2-error: 3.116410381222672e-05\n",
      "Order: 3 Mesh Size: 0.0625 L2-error: 2.3574445960244415e-05\n",
      "Order: 3 Mesh Size: 0.0313 L2-error: 7.047308392974724e-06\n",
      "......................................................................\n",
      "Stored 'mm' (DataFrame)\n"
     ]
    }
   ],
   "source": [
    "mm = pd.DataFrame(columns=columns)\n",
    "for order in orders:\n",
    "    for size in mesh_size:\n",
    "        mesh = Mesh(unit_square.GenerateMesh(maxh=size))\n",
    "        fes = L2(mesh, order=order, dirichlet=\"bottom|right|left|top\")\n",
    "        u, v = fes.TnT()\n",
    "             \n",
    "        m = BilinearForm(fes, symmetric=False)\n",
    "        m += u * v * dx\n",
    "        m.Assemble()\n",
    "        \n",
    "        f = LinearForm(fes)\n",
    "        f += SymbolicLFI(exact * v)\n",
    "        f.Assemble()\n",
    "        \n",
    "        invmstar = m.mat.Inverse(inverse=\"umfpack\")\n",
    "        \n",
    "        gfu = GridFunction(fes)        \n",
    "        gfu.vec.data = invmstar * f.vec\n",
    "        \n",
    "        error = sqrt (Integrate ((gfu-exact)*(gfu-exact), mesh))\n",
    "        mm.loc[len(mm)] = [order, size, error] \n",
    "        \n",
    "        Draw(gfu, mesh,\"u\",sd=5)\n",
    "        netgen.gui.Snapshot(w=800,h=500, filename='Images/' + \"mm-h_\"+str(size)+\"-k_\"+str(order)+\".png\")\n",
    "        \n",
    "        print ('Order:', order, 'Mesh Size:', size , \"L2-error:\", error)            \n",
    "    print('......................................................................')\n",
    "\n",
    "%store mm"
   ]
  },
  {
   "cell_type": "markdown",
   "metadata": {},
   "source": [
    "### Enrichment"
   ]
  },
  {
   "cell_type": "markdown",
   "metadata": {},
   "source": [
    "#### Enrichment for Mass Matrix"
   ]
  },
  {
   "cell_type": "markdown",
   "metadata": {
    "heading_collapsed": true
   },
   "source": [
    "###### Enrichment for Mass Matrix (enrich x-axis)"
   ]
  },
  {
   "cell_type": "code",
   "execution_count": 22,
   "metadata": {
    "ExecuteTime": {
     "end_time": "2020-01-30T14:29:55.630225Z",
     "start_time": "2020-01-30T14:29:49.698239Z"
    },
    "hidden": true
   },
   "outputs": [
    {
     "name": "stdout",
     "output_type": "stream",
     "text": [
      "Order: 1  Mesh Size: 1.0 L2 Error: 0.002952636918040936\n",
      "Order: 1  Mesh Size: 0.5 L2 Error: 0.0009501798785034101\n",
      "Order: 1  Mesh Size: 0.25 L2 Error: 0.00043207219306410017\n",
      "Order: 1  Mesh Size: 0.125 L2 Error: 0.00016864186418859539\n",
      "Order: 1  Mesh Size: 0.0625 L2 Error: 0.00016128397515625427\n",
      "Order: 1  Mesh Size: 0.0313 L2 Error: 6.772025556227388e-05\n",
      "...........................................................\n",
      "Order: 2  Mesh Size: 1.0 L2 Error: 0.001118191394806087\n",
      "Order: 2  Mesh Size: 0.5 L2 Error: 0.00026975255465462193\n",
      "Order: 2  Mesh Size: 0.25 L2 Error: 5.1198173308916446e-05\n",
      "Order: 2  Mesh Size: 0.125 L2 Error: 2.7204401671671377e-05\n",
      "Order: 2  Mesh Size: 0.0625 L2 Error: 1.1572495937445686e-05\n",
      "Order: 2  Mesh Size: 0.0313 L2 Error: 2.210127347266843e-06\n",
      "...........................................................\n",
      "Order: 3  Mesh Size: 1.0 L2 Error: 0.0005307327802862197\n",
      "Order: 3  Mesh Size: 0.5 L2 Error: 7.076022323416959e-05\n",
      "Order: 3  Mesh Size: 0.25 L2 Error: 6.15217373476984e-05\n",
      "Order: 3  Mesh Size: 0.125 L2 Error: 1.59931719508471e-05\n",
      "Order: 3  Mesh Size: 0.0625 L2 Error: 2.392741838521294e-06\n",
      "Order: 3  Mesh Size: 0.0313 L2 Error: 2.4243564639775495e-07\n",
      "...........................................................\n",
      "Stored 'emm_x' (DataFrame)\n"
     ]
    }
   ],
   "source": [
    "emm_x = pd.DataFrame(columns=columns)\n",
    "for order in orders:\n",
    "    for size in mesh_size:\n",
    "        eps_size = size\n",
    "        #eps = 1e-8\n",
    "        mesh = Mesh(unit_square.GenerateMesh(maxh=size))\n",
    "        V = L2(mesh, order=order, dirichlet=\"bottom|right|left|top\")\n",
    "        Q = L2(mesh, order=0)\n",
    "        \n",
    "        ba_x = BitArray(Q.ndof)        \n",
    "        ba_x.Clear()\n",
    "        for el in Q.Elements():\n",
    "            mark = False\n",
    "            for v in el.vertices:\n",
    "                if (mesh[v].point[0] > 1-eps_size):\n",
    "                    mark = True\n",
    "            for dof in el.dofs:\n",
    "                ba_x[dof] = mark\n",
    "        \n",
    "        Qx = Compress(Q, active_dofs=ba_x)\n",
    "        fes = FESpace([V, Qx])\n",
    "        (us, px), (vs, qx) = fes.TnT()\n",
    "        \n",
    "        p = coeff_x * px\n",
    "        q = coeff_x * qx\n",
    "\n",
    "        u = us + p\n",
    "        v = vs + q\n",
    "\n",
    "        m = BilinearForm(fes, symmetric=False)\n",
    "        m += SymbolicBFI(u * v).SetIntegrationRule(TRIG,IntegrationRule(TRIG,10*order))\n",
    "        m.Assemble()\n",
    "\n",
    "        f = LinearForm(fes)\n",
    "        f += SymbolicLFI(exact * v).SetIntegrationRule(TRIG,IntegrationRule(TRIG,4*order))\n",
    "        f.Assemble()\n",
    "\n",
    "        invmstar = m.mat.Inverse(inverse=\"sparsecholesky\")\n",
    "        \n",
    "        gfu = GridFunction(fes)\n",
    "        gfu.vec.data = invmstar * f.vec\n",
    "        \n",
    "        u2 = gfu.components[0] + gfu.components[1] * coeff_x\n",
    "        \n",
    "        error = sqrt (Integrate ((u2 - exact)*(u2- exact), mesh))\n",
    "        emm_x.loc[len(emm_x)] = [order, size, error] \n",
    "        \n",
    "        Draw(u2, mesh,\"u\",sd=5)\n",
    "        netgen.gui.Snapshot(w=800,h=500, filename='Images/' + \"mmx-h_\"+str(size)+\"-k_\"+str(order)+\".png\")\n",
    "        \n",
    "        print('Order:', order, ' Mesh Size:', size , \"L2 Error:\", error)\n",
    "    print('...........................................................')\n",
    "    \n",
    "\n",
    "%store emm_x"
   ]
  },
  {
   "cell_type": "markdown",
   "metadata": {
    "heading_collapsed": true
   },
   "source": [
    "###### Enrichment for Mass Matrix (enrich y-axis)"
   ]
  },
  {
   "cell_type": "code",
   "execution_count": 23,
   "metadata": {
    "ExecuteTime": {
     "end_time": "2020-01-30T14:30:03.607222Z",
     "start_time": "2020-01-30T14:29:57.710179Z"
    },
    "hidden": true
   },
   "outputs": [
    {
     "name": "stdout",
     "output_type": "stream",
     "text": [
      "Order: 1  Mesh Size: 1.0 L2 Error: 0.0008768977915884472\n",
      "Order: 1  Mesh Size: 0.5 L2 Error: 0.0002833798014764053\n",
      "Order: 1  Mesh Size: 0.25 L2 Error: 0.0001587711632443963\n",
      "Order: 1  Mesh Size: 0.125 L2 Error: 0.00022733105121315887\n",
      "Order: 1  Mesh Size: 0.0625 L2 Error: 0.00023019651366120643\n",
      "Order: 1  Mesh Size: 0.0313 L2 Error: 0.00015173522664498626\n",
      "...........................................................\n",
      "Order: 2  Mesh Size: 1.0 L2 Error: 0.0003436446994244419\n",
      "Order: 2  Mesh Size: 0.5 L2 Error: 0.00012668855441226573\n",
      "Order: 2  Mesh Size: 0.25 L2 Error: 0.00013551816372671095\n",
      "Order: 2  Mesh Size: 0.125 L2 Error: 0.00011937240345172871\n",
      "Order: 2  Mesh Size: 0.0625 L2 Error: 0.00010532969884170173\n",
      "Order: 2  Mesh Size: 0.0313 L2 Error: 5.157608314558916e-05\n",
      "...........................................................\n",
      "Order: 3  Mesh Size: 1.0 L2 Error: 2.067290006840831e-05\n",
      "Order: 3  Mesh Size: 0.5 L2 Error: 0.0001780025296640239\n",
      "Order: 3  Mesh Size: 0.25 L2 Error: 0.00021423934446983335\n",
      "Order: 3  Mesh Size: 0.125 L2 Error: 0.0001148850954425434\n",
      "Order: 3  Mesh Size: 0.0625 L2 Error: 3.9274089675545164e-05\n",
      "Order: 3  Mesh Size: 0.0313 L2 Error: 8.324700755268098e-06\n",
      "...........................................................\n",
      "Stored 'emm_y' (DataFrame)\n"
     ]
    }
   ],
   "source": [
    "emm_y = pd.DataFrame(columns=columns)\n",
    "for order in orders:\n",
    "    for size in mesh_size:\n",
    "        eps_size = size\n",
    "        #eps = 1e-8\n",
    "        mesh = Mesh(unit_square.GenerateMesh(maxh=size))\n",
    "        V = L2(mesh, order=order, dirichlet=\"bottom|right|left|top\")\n",
    "        Q = L2(mesh, order=0)\n",
    "        \n",
    "        ba_y = BitArray(Q.ndof)        \n",
    "        ba_y.Clear()\n",
    "        for el in Q.Elements():\n",
    "            mark = False\n",
    "            for v in el.vertices:\n",
    "                if (mesh[v].point[1] > 1-eps_size):\n",
    "                    mark = True\n",
    "            for dof in el.dofs:\n",
    "                ba_y[dof] = mark\n",
    "        \n",
    "        Qy = Compress(Q, active_dofs=ba_y)\n",
    "        fes = FESpace([V, Qy])\n",
    "        (us, py), (vs, qy) = fes.TnT()\n",
    "        \n",
    "        p = coeff_y * py\n",
    "        q = coeff_y * qy\n",
    "\n",
    "        u = us + p\n",
    "        v = vs + q\n",
    "\n",
    "        m = BilinearForm(fes, symmetric=False)\n",
    "        m += SymbolicBFI(u * v).SetIntegrationRule(TRIG,IntegrationRule(TRIG,10*order))\n",
    "        m.Assemble()\n",
    "\n",
    "        f = LinearForm(fes)\n",
    "        f += SymbolicLFI(exact * v).SetIntegrationRule(TRIG,IntegrationRule(TRIG,4*order))\n",
    "        f.Assemble()\n",
    "\n",
    "        invmstar = m.mat.Inverse(inverse=\"sparsecholesky\")\n",
    "        \n",
    "        gfu = GridFunction(fes)\n",
    "        gfu.vec.data = invmstar * f.vec\n",
    "        \n",
    "        u2 = gfu.components[0] + gfu.components[1] * coeff_y\n",
    "        \n",
    "        error = sqrt (Integrate ((u2 - exact)*(u2- exact), mesh))\n",
    "        emm_y.loc[len(emm_y)] = [order, size, error] \n",
    "        \n",
    "        Draw(u2, mesh,\"u\",sd=5)\n",
    "        netgen.gui.Snapshot(w=800,h=500, filename='Images/' + \"mmy-h_\"+str(size)+\"-k_\"+str(order)+\".png\")\n",
    "        \n",
    "        print('Order:', order, ' Mesh Size:', size , \"L2 Error:\", error)\n",
    "    print('...........................................................')\n",
    "    \n",
    "%store emm_y"
   ]
  },
  {
   "cell_type": "markdown",
   "metadata": {
    "heading_collapsed": true
   },
   "source": [
    "###### Enrichment for Mass Matrix (enrich both xy-axis)"
   ]
  },
  {
   "cell_type": "code",
   "execution_count": 21,
   "metadata": {
    "ExecuteTime": {
     "end_time": "2020-01-30T14:26:47.684170Z",
     "start_time": "2020-01-30T14:26:41.169190Z"
    },
    "hidden": true
   },
   "outputs": [
    {
     "name": "stdout",
     "output_type": "stream",
     "text": [
      "Order: 1  Mesh Size: 1.0 L2 Error: 0.0024882388345344526\n",
      "Order: 1  Mesh Size: 0.5 L2 Error: nan\n",
      "Order: 1  Mesh Size: 0.25 L2 Error: 0.0004317936237340082\n",
      "Order: 1  Mesh Size: 0.125 L2 Error: 0.00016869467161744953\n",
      "Order: 1  Mesh Size: 0.0625 L2 Error: 0.00016123919512957377\n",
      "Order: 1  Mesh Size: 0.0313 L2 Error: 6.77108905719306e-05\n",
      "...........................................................\n",
      "Order: 2  Mesh Size: 1.0 L2 Error: 0.0010660990044307854\n",
      "Order: 2  Mesh Size: 0.5 L2 Error: 0.00027173411064722016\n",
      "Order: 2  Mesh Size: 0.25 L2 Error: 5.168195966095573e-05\n",
      "Order: 2  Mesh Size: 0.125 L2 Error: 2.719436874514838e-05\n",
      "Order: 2  Mesh Size: 0.0625 L2 Error: 1.1523078251078182e-05\n",
      "Order: 2  Mesh Size: 0.0313 L2 Error: 2.184692199963132e-06\n",
      "...........................................................\n",
      "Order: 3  Mesh Size: 1.0 L2 Error: 0.000535077074655014\n",
      "Order: 3  Mesh Size: 0.5 L2 Error: 7.11747459566518e-05\n",
      "Order: 3  Mesh Size: 0.25 L2 Error: 6.190525038952954e-05\n",
      "Order: 3  Mesh Size: 0.125 L2 Error: 1.6266120533193754e-05\n",
      "Order: 3  Mesh Size: 0.0625 L2 Error: 2.3916956721839987e-06\n",
      "Order: 3  Mesh Size: 0.0313 L2 Error: 2.4243232508837174e-07\n",
      "...........................................................\n",
      "Stored 'emm_xy' (DataFrame)\n"
     ]
    }
   ],
   "source": [
    "emm_xy = pd.DataFrame(columns=columns)\n",
    "for order in orders:\n",
    "    for size in mesh_size:\n",
    "        eps_size = size\n",
    "        #eps = 1e-8\n",
    "        mesh = Mesh(unit_square.GenerateMesh(maxh=size))\n",
    "        V = L2(mesh, order=order, dirichlet=\"bottom|right|left|top\")\n",
    "        Q = L2(mesh, order=0)\n",
    "        \n",
    "        ba_x = BitArray(Q.ndof)        \n",
    "        ba_x.Clear()\n",
    "        for el in Q.Elements():\n",
    "            mark = False\n",
    "            for v in el.vertices:\n",
    "                if (mesh[v].point[0] > 1-eps_size):\n",
    "                    mark = True\n",
    "            for dof in el.dofs:\n",
    "                ba_x[dof] = mark\n",
    "        \n",
    "        ba_y = BitArray(Q.ndof)        \n",
    "        ba_y.Clear()\n",
    "        for el in Q.Elements():\n",
    "            mark = False\n",
    "            for v in el.vertices:\n",
    "                if (mesh[v].point[1] > 1-eps_size):\n",
    "                    mark = True\n",
    "            for dof in el.dofs:\n",
    "                ba_y[dof] = mark\n",
    "        \n",
    "        Qx = Compress(Q, active_dofs=ba_x)\n",
    "        Qy = Compress(Q, active_dofs=ba_y)\n",
    "        \n",
    "        fes = FESpace([V, Qx, Qy])\n",
    "\n",
    "        (us, px, py), (vs, qx, qy) = fes.TnT()\n",
    "        \n",
    "        #coeff=exact\n",
    "        p = coeff_x * px + coeff_y * py\n",
    "        q = coeff_x * qx + coeff_y * qy\n",
    "\n",
    "        u = us + p\n",
    "        v = vs + q\n",
    "\n",
    "        m = BilinearForm(fes, symmetric=False)\n",
    "        m += SymbolicBFI(u * v).SetIntegrationRule(TRIG,IntegrationRule(TRIG,10*order))\n",
    "        m.Assemble()\n",
    "\n",
    "        f = LinearForm(fes)\n",
    "        f += SymbolicLFI(exact * v).SetIntegrationRule(TRIG,IntegrationRule(TRIG,4*order))\n",
    "        f.Assemble()\n",
    "\n",
    "        invmstar = m.mat.Inverse(inverse=\"sparsecholesky\")\n",
    "        \n",
    "        gfu = GridFunction(fes)\n",
    "        gfu.vec.data = invmstar * f.vec\n",
    "        \n",
    "        u2 = gfu.components[0] + gfu.components[1] * coeff_x + gfu.components[2] * coeff_y\n",
    "        #Draw(u2-exact,mesh, 'error')\n",
    "        #Draw(gfu.components[0], mesh, 'testa')\n",
    "        #Draw(gfu.components[1], mesh, 'testb')\n",
    "        #Draw(gfu.components[1] * coeff, mesh, 'testc')\n",
    "        error = sqrt (Integrate ((u2 - exact)*(u2- exact), mesh))\n",
    "        emm_xy.loc[len(emm_xy)] = [order, size, error] \n",
    "        \n",
    "        Draw(u2, mesh,\"u\",sd=5)\n",
    "        netgen.gui.Snapshot(w=800,h=500, filename='Images/' + \"mmxy-h_\"+str(size)+\"-k_\"+str(order)+\".png\")\n",
    "        \n",
    "        print('Order:', order, ' Mesh Size:', size , \"L2 Error:\", error)\n",
    "    print('...........................................................')\n",
    "    \n",
    "Draw(u2, mesh, 'test')\n",
    "%store emm_xy"
   ]
  },
  {
   "cell_type": "code",
   "execution_count": 47,
   "metadata": {
    "ExecuteTime": {
     "end_time": "2020-01-28T11:59:07.653136Z",
     "start_time": "2020-01-28T11:59:07.650539Z"
    },
    "hidden": true
   },
   "outputs": [],
   "source": [
    "## Observations\n",
    "# Emriching the y axis has a better convergence rate then enriching both x and y\n",
    "# umfpack fails for this problem"
   ]
  },
  {
   "cell_type": "markdown",
   "metadata": {
    "heading_collapsed": true
   },
   "source": [
    "#### Enrichment with DG"
   ]
  },
  {
   "cell_type": "code",
   "execution_count": 9,
   "metadata": {
    "ExecuteTime": {
     "end_time": "2020-02-11T11:14:02.633016Z",
     "start_time": "2020-02-11T11:13:30.198516Z"
    },
    "hidden": true
   },
   "outputs": [
    {
     "name": "stdout",
     "output_type": "stream",
     "text": [
      "Order: 1  Mesh Size: 1.0 L2 Error: 0.00116568101261031\n",
      "Order: 1  Mesh Size: 0.5 L2 Error: 0.00046124673355203347\n",
      "Order: 1  Mesh Size: 0.25 L2 Error: 0.00013559421913931894\n",
      "Order: 1  Mesh Size: 0.125 L2 Error: 4.3529056149508155e-05\n",
      "Order: 1  Mesh Size: 0.0625 L2 Error: 1.75672462164104e-05\n",
      "Order: 1  Mesh Size: 0.0313 L2 Error: 6.780074243845164e-06\n",
      ".......................................................................\n",
      "Order: 2  Mesh Size: 1.0 L2 Error: 0.0007415986460839588\n",
      "Order: 2  Mesh Size: 0.5 L2 Error: 0.00032150885326483815\n",
      "Order: 2  Mesh Size: 0.25 L2 Error: 0.00013131072634960656\n",
      "Order: 2  Mesh Size: 0.125 L2 Error: 4.465492718547705e-05\n",
      "Order: 2  Mesh Size: 0.0625 L2 Error: 1.2453923349641581e-05\n",
      "Order: 2  Mesh Size: 0.0313 L2 Error: 3.084870317519995e-06\n",
      ".......................................................................\n",
      "Order: 3  Mesh Size: 1.0 L2 Error: 0.0006074459810307916\n",
      "Order: 3  Mesh Size: 0.5 L2 Error: 0.0003440047668385\n",
      "Order: 3  Mesh Size: 0.25 L2 Error: 0.00015983209586716671\n",
      "Order: 3  Mesh Size: 0.125 L2 Error: 4.3356194799252016e-05\n",
      "Order: 3  Mesh Size: 0.0625 L2 Error: 2.0869464109561725e-05\n",
      "Order: 3  Mesh Size: 0.0313 L2 Error: 9.84850435053487e-07\n",
      ".......................................................................\n",
      "Stored 'edg' (DataFrame)\n"
     ]
    }
   ],
   "source": [
    "edg = pd.DataFrame(columns=columns)\n",
    "val = 15 # bonusintorder\n",
    "for order in orders:\n",
    "    for size in mesh_size:\n",
    "        eps_size = 0.0001*size\n",
    "        #eps = 1e-8\n",
    "        mesh = Mesh(unit_square.GenerateMesh(maxh=size))\n",
    "        V = L2(mesh, order=order, dgjumps=True)\n",
    "        Q = L2(mesh, order=0)\n",
    "        \n",
    "        ba_x = BitArray(Q.ndof)        \n",
    "        ba_x.Clear()\n",
    "        \n",
    "        for el in Q.Elements():\n",
    "            mark = False\n",
    "            for v in el.vertices:\n",
    "                if (mesh[v].point[0] > 1-eps_size):\n",
    "                    mark = True\n",
    "            for dof in el.dofs:\n",
    "                ba_x[dof] = mark\n",
    "        \n",
    "        ba_y = BitArray(Q.ndof)\n",
    "        ba_y.Clear()\n",
    "        \n",
    "        \n",
    "        for el in Q.Elements():\n",
    "            mark = False\n",
    "            for v in el.vertices:\n",
    "                if (mesh[v].point[1] > 1-eps_size):\n",
    "                    mark = True\n",
    "            for dof in el.dofs:\n",
    "                ba_y[dof] = mark\n",
    "        \n",
    "        Qx = Compress(Q, active_dofs=ba_x)\n",
    "        Qy = Compress(Q, active_dofs=ba_y)\n",
    "        \n",
    "        fes = FESpace([V, Qx, Qy], dgjumps = True)\n",
    "\n",
    "        (us, px, py), (vs, qx, qy) = fes.TnT()\n",
    "        \n",
    "        #coeff=exact\n",
    "        ## Enrichment\n",
    "        p = (coeff_x * px) + (coeff_y * py)\n",
    "        q = (coeff_x * qx) + (coeff_y * qy)\n",
    "\n",
    "        u = us + p\n",
    "        v = vs + q\n",
    "        \n",
    "        u_Other = us.Other() + coeff_x * px.Other() + coeff_y * py.Other()\n",
    "        v_Other = vs.Other() + coeff_x * qx.Other() + coeff_y * qy.Other()\n",
    "        \n",
    "        jump_u = u - u_Other\n",
    "        jump_v = v - v_Other\n",
    "        \n",
    "        n = specialcf.normal(2)\n",
    "        \n",
    "        grad_u = grad(us) \\\n",
    "        + CoefficientFunction((coeff_x.Diff(x), coeff_x.Diff(y))) * px \\\n",
    "        + CoefficientFunction((coeff_y.Diff(x), coeff_y.Diff(y))) * py \\\n",
    "        + coeff_x * grad(px) + coeff_y * grad(py)\n",
    "        \n",
    "        grad_v = grad(vs) \\\n",
    "        + CoefficientFunction((coeff_x.Diff(x), coeff_x.Diff(y))) * qx \\\n",
    "        + CoefficientFunction((coeff_y.Diff(x), coeff_y.Diff(y))) * qy \\\n",
    "        + coeff_x * grad(qx) + coeff_y * grad(qy)\n",
    "        \n",
    "        grad_uOther = grad(us.Other()) \\\n",
    "        + CoefficientFunction((coeff_x.Diff(x), coeff_x.Diff(y))) * px.Other() \\\n",
    "        + CoefficientFunction((coeff_y.Diff(x), coeff_y.Diff(y))) * py.Other() \\\n",
    "        + coeff_x * grad(px.Other()) + coeff_y * grad(py.Other())\n",
    "        \n",
    "        grad_vOther = grad(vs.Other()) \\\n",
    "        + CoefficientFunction((coeff_x.Diff(x), coeff_x.Diff(y))) * qx.Other() \\\n",
    "        + CoefficientFunction((coeff_y.Diff(x), coeff_y.Diff(y))) * qy.Other() \\\n",
    "        + coeff_x * grad(qx.Other()) + coeff_y * grad(qy.Other())\n",
    "                \n",
    "            \n",
    "        mean_dudn = 0.5 * n * (grad_u + grad_uOther)\n",
    "        mean_dvdn = 0.5 * n * (grad_v + grad_vOther)\n",
    "        \n",
    "        h = specialcf.mesh_size\n",
    "        \n",
    "        # diffusion\n",
    "        diffusion = grad_u * grad_v * dx(bonus_intorder = val) \\\n",
    "        + alpha * order**2/h * jump_u * jump_v * dx(skeleton=True, bonus_intorder = val) \\\n",
    "        + (-mean_dudn* jump_v - mean_dvdn * jump_u) * dx(skeleton=True, bonus_intorder = val) \\\n",
    "        + alpha * order**2/h * u * v * ds(skeleton=True, bonus_intorder = val) \\\n",
    "        + (-n * grad_u * v - n * grad_v * u) * ds(skeleton=True, bonus_intorder = val)\n",
    "                \n",
    "        # convection\n",
    "        b = CoefficientFunction((beta[0],beta[1]) )\n",
    "        uup = IfPos(b*n, u, u_Other)\n",
    "        convection = -b * u * grad_v * dx(bonus_intorder = val) + b * n * uup * jump_v * dx(skeleton=True, bonus_intorder = val)\n",
    "        convection = -b * u * grad_v * dx(bonus_intorder = val) + b * n * uup * v * dx(element_boundary=True, bonus_intorder = val)\n",
    "       \n",
    "        acd = BilinearForm(fes)\n",
    "        acd += eps * diffusion + convection\n",
    "        \n",
    "        with TaskManager():\n",
    "            acd.Assemble()\n",
    "\n",
    "        # rhs\n",
    "        f = LinearForm(fes)\n",
    "        f += SymbolicLFI(coeff * v, bonus_intorder = val)\n",
    "        \n",
    "        with TaskManager():\n",
    "            f.Assemble()\n",
    "\n",
    "        gfu = GridFunction(fes)\n",
    "        gfu.vec.data = acd.mat.Inverse(inverse=\"umfpack\") * f.vec\n",
    "    \n",
    "        u2 = gfu.components[0] + gfu.components[1] * coeff_x + gfu.components[2] * coeff_y\n",
    "        \n",
    "        error = sqrt (Integrate ((u2 - exact)*(u2- exact), mesh))\n",
    "        edg.loc[len(edg)] = [order, size, error]\n",
    "        \n",
    "        Draw(u2,mesh,\"u\",sd=5)\n",
    "        netgen.gui.Snapshot(w=800,h=500, filename='Images/' + \"edg-h_\"+str(size)+\"-k_\"+str(order)+\".png\")\n",
    "        \n",
    "        print('Order:', order, ' Mesh Size:', size , \"L2 Error:\", error)\n",
    "    print('.......................................................................')\n",
    "        \n",
    "%store edg"
   ]
  },
  {
   "cell_type": "markdown",
   "metadata": {},
   "source": [
    "#### Enrichment with HDG"
   ]
  },
  {
   "cell_type": "code",
   "execution_count": 10,
   "metadata": {
    "ExecuteTime": {
     "end_time": "2020-02-11T11:14:25.890249Z",
     "start_time": "2020-02-11T11:14:12.434178Z"
    }
   },
   "outputs": [
    {
     "name": "stdout",
     "output_type": "stream",
     "text": [
      "Order: 1  Mesh Size: 1.0 L2 Error: 0.0012243558735062666\n",
      "Order: 1  Mesh Size: 0.5 L2 Error: 0.0004178846051949366\n",
      "Order: 1  Mesh Size: 0.25 L2 Error: 0.00014981066075503882\n",
      "Order: 1  Mesh Size: 0.125 L2 Error: 0.00014632981960107337\n",
      "Order: 1  Mesh Size: 0.0625 L2 Error: 2.0154839880428308e-05\n",
      "Order: 1  Mesh Size: 0.0313 L2 Error: 6.851321959980205e-05\n",
      ".......................................................................\n",
      "Order: 2  Mesh Size: 1.0 L2 Error: 0.0007705105357385041\n",
      "Order: 2  Mesh Size: 0.5 L2 Error: 0.00031537386130942757\n",
      "Order: 2  Mesh Size: 0.25 L2 Error: 0.00012228814698440863\n",
      "Order: 2  Mesh Size: 0.125 L2 Error: 4.9104799208266335e-05\n",
      "Order: 2  Mesh Size: 0.0625 L2 Error: 1.4394110748536032e-05\n",
      "Order: 2  Mesh Size: 0.0313 L2 Error: 3.2747452879615423e-06\n",
      ".......................................................................\n",
      "Order: 3  Mesh Size: 1.0 L2 Error: 0.000575009704912471\n",
      "Order: 3  Mesh Size: 0.5 L2 Error: 0.00028085641559553976\n",
      "Order: 3  Mesh Size: 0.25 L2 Error: 0.00013032474101173984\n",
      "Order: 3  Mesh Size: 0.125 L2 Error: 0.012514164168915433\n",
      "Order: 3  Mesh Size: 0.0625 L2 Error: 5.948419179459977e-05\n",
      "Order: 3  Mesh Size: 0.0313 L2 Error: 1.1752296897698706e-06\n",
      ".......................................................................\n",
      "Stored 'ehdg' (DataFrame)\n"
     ]
    }
   ],
   "source": [
    "ehdg = pd.DataFrame(columns=columns)\n",
    "val = 15\n",
    "for order in orders:\n",
    "    for size in mesh_size:        \n",
    "        mesh = Mesh(unit_square.GenerateMesh(maxh=size))\n",
    "        V = L2(mesh, order=order)\n",
    "        Q = L2(mesh, order=0)\n",
    "        QF = FacetFESpace(mesh, order=0)\n",
    "        \n",
    "        eps_size = 0.0001*size\n",
    "        \n",
    "        ba_x = BitArray(Q.ndof)        \n",
    "        ba_x.Clear()\n",
    "        \n",
    "        for el in Q.Elements():\n",
    "            mark = False\n",
    "            for v in el.vertices:\n",
    "                if (mesh[v].point[0] > 1-eps_size):\n",
    "                    mark = True\n",
    "            for dof in el.dofs:\n",
    "                ba_x[dof] = mark\n",
    "        \n",
    "        ba_y = BitArray(Q.ndof)\n",
    "        ba_y.Clear()\n",
    "        \n",
    "        for el in Q.Elements():\n",
    "            mark = False\n",
    "            for v in el.vertices:\n",
    "                if (mesh[v].point[1] > 1-eps_size):\n",
    "                    mark = True\n",
    "            for dof in el.dofs:\n",
    "                ba_y[dof] = mark\n",
    "        \n",
    "        \n",
    "        gfF = GridFunction(QF)\n",
    "        \n",
    "        gfF.vec[:] = 0\n",
    "        for el in QF.Elements():\n",
    "            if ba_x[el.nr]:\n",
    "                for dof in el.dofs:\n",
    "                    gfF.vec[dof] += 1\n",
    "        ba_F_x = BitArray(QF.ndof)\n",
    "        ba_F_x.Clear()\n",
    "        for i in range(QF.ndof):\n",
    "            if gfF.vec[i] > 1.5:\n",
    "                ba_F_x[i] = True\n",
    "\n",
    "        gfF.vec[:] = 0\n",
    "        for el in QF.Elements():\n",
    "            if ba_y[el.nr]:\n",
    "                for dof in el.dofs:\n",
    "                    gfF.vec[dof] += 1\n",
    "        ba_F_y = BitArray(QF.ndof)\n",
    "        ba_F_y.Clear()\n",
    "        for i in range(QF.ndof):\n",
    "            if gfF.vec[i] > 1.5:\n",
    "                ba_F_y[i] = True\n",
    "        \n",
    "        Qx = Compress(Q, active_dofs=ba_x)\n",
    "        Qy = Compress(Q, active_dofs=ba_y)\n",
    "        QFx = Compress(QF, active_dofs=ba_F_x)\n",
    "        QFy = Compress(QF, active_dofs=ba_F_y)\n",
    "        \n",
    "        F = FacetFESpace(mesh, order=order, dirichlet=\".*\")\n",
    "        fes = FESpace([V, Qx, Qy, F, QFx, QFy])\n",
    "\n",
    "        (us, px, py, uhat, uhatx, uhaty), (vs, qx, qy, vhat, vhatx, vhaty) = fes.TnT()\n",
    "        \n",
    "        #coeff=exact\n",
    "        p = (coeff_x * px) + (coeff_y * py) \n",
    "        q = (coeff_x * qx) + (coeff_y * qy)\n",
    "\n",
    "        u = us + p\n",
    "        v = vs + q\n",
    "        \n",
    "        vhat = vhat + vhatx * coeff_x + vhaty * coeff_y\n",
    "        uhat = uhat + uhatx * coeff_x + uhaty * coeff_y\n",
    "        \n",
    "        jump_u = u-uhat\n",
    "        jump_v = v-vhat\n",
    "        \n",
    "        grad_u = grad(us) \\\n",
    "        + CoefficientFunction((coeff_x.Diff(x), coeff_x.Diff(y))) * px \\\n",
    "        + CoefficientFunction((coeff_y.Diff(x), coeff_y.Diff(y))) * py \\\n",
    "        + coeff_x * grad(px) + coeff_y * grad(py)\n",
    "        \n",
    "        grad_v = grad(vs) \\\n",
    "        + CoefficientFunction((coeff_x.Diff(x), coeff_x.Diff(y))) * qx \\\n",
    "        + CoefficientFunction((coeff_y.Diff(x), coeff_y.Diff(y))) * qy \\\n",
    "        + coeff_x * grad(qx) + coeff_y * grad(qy)\n",
    "        \n",
    "        #condense = True\n",
    "        \n",
    "        h = specialcf.mesh_size\n",
    "        n = specialcf.normal(mesh.dim)\n",
    "        dS = dx(element_boundary=True, bonus_intorder=val)\n",
    "                \n",
    "        diffusion = grad_u * grad_v *dx(bonus_intorder=val) + \\\n",
    "            alpha * order**2/h*jump_u*jump_v*dS + \\\n",
    "            (-grad_u *n*jump_v - grad_v *n*jump_u)*dS\n",
    "        \n",
    "        b = CoefficientFunction((beta[0],beta[1]))\n",
    "        uup = IfPos(b * n, u, uhat)\n",
    "        convection = -b * u * grad_v *dx(bonus_intorder=val) + b * n * uup * jump_v * dS\n",
    "\n",
    "        acd = BilinearForm(fes)\n",
    "        acd += eps * diffusion + convection\n",
    "        \n",
    "        with TaskManager():\n",
    "            acd.Assemble()\n",
    "\n",
    "        f = LinearForm(fes)\n",
    "        f += SymbolicLFI(coeff*v,bonus_intorder=val)\n",
    "        \n",
    "        with TaskManager():\n",
    "            f.Assemble()\n",
    "\n",
    "        gfu = GridFunction(fes)\n",
    "        gfu.vec.data = acd.mat.Inverse(freedofs=fes.FreeDofs(),inverse=\"umfpack\") * f.vec\n",
    "        u2 = gfu.components[0] + gfu.components[1] * coeff_x + gfu.components[2] * coeff_y\n",
    "        \n",
    "        error = sqrt (Integrate ((u2 - exact)*(u2- exact), mesh, order=15))\n",
    "        ehdg.loc[len(ehdg)] = [order, size, error] \n",
    "        \n",
    "        Draw(u2,mesh,\"u\",sd=5)\n",
    "        netgen.gui.Snapshot(w=800,h=500, filename='Images/' + \"ehdg-h_\"+str(size)+\"-k_\"+str(order)+\".png\")\n",
    "        \n",
    "        print('Order:', order, ' Mesh Size:', size , \"L2 Error:\", error)\n",
    "    print('.......................................................................')\n",
    "\n",
    "%store ehdg    "
   ]
  }
 ],
 "metadata": {
  "kernelspec": {
   "display_name": "Python 3",
   "language": "python",
   "name": "python3"
  },
  "language_info": {
   "codemirror_mode": {
    "name": "ipython",
    "version": 3
   },
   "file_extension": ".py",
   "mimetype": "text/x-python",
   "name": "python",
   "nbconvert_exporter": "python",
   "pygments_lexer": "ipython3",
   "version": "3.7.6"
  },
  "notify_time": "5",
  "toc": {
   "base_numbering": 1,
   "nav_menu": {},
   "number_sections": true,
   "sideBar": true,
   "skip_h1_title": true,
   "title_cell": "Table of Contents",
   "title_sidebar": "Contents",
   "toc_cell": true,
   "toc_position": {},
   "toc_section_display": true,
   "toc_window_display": true
  },
  "varInspector": {
   "cols": {
    "lenName": 16,
    "lenType": 16,
    "lenVar": 40
   },
   "kernels_config": {
    "python": {
     "delete_cmd_postfix": "",
     "delete_cmd_prefix": "del ",
     "library": "var_list.py",
     "varRefreshCmd": "print(var_dic_list())"
    },
    "r": {
     "delete_cmd_postfix": ") ",
     "delete_cmd_prefix": "rm(",
     "library": "var_list.r",
     "varRefreshCmd": "cat(var_dic_list()) "
    }
   },
   "oldHeight": 122,
   "position": {
    "height": "801px",
    "left": "1652px",
    "right": "20px",
    "top": "116px",
    "width": "256px"
   },
   "types_to_exclude": [
    "module",
    "function",
    "builtin_function_or_method",
    "instance",
    "_Feature"
   ],
   "varInspector_section_display": "block",
   "window_display": true
  }
 },
 "nbformat": 4,
 "nbformat_minor": 4
}
