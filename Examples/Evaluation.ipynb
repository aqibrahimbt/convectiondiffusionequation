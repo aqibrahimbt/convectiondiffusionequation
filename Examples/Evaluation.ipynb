{
 "cells": [
  {
   "cell_type": "markdown",
   "metadata": {},
   "source": [
    "### Dependencies"
   ]
  },
  {
   "cell_type": "code",
   "execution_count": 1,
   "metadata": {
    "tags": []
   },
   "outputs": [
    {
     "output_type": "stream",
     "name": "stdout",
     "text": "importing Jupyter notebook from Refactor.ipynb\n"
    }
   ],
   "source": [
    "from netgen.geom2d import unit_square\n",
    "from ngsolve import *\n",
    "from ngsolve import grad as ngsolvegrad\n",
    "from ngsolve.comp import ProxyFunction\n",
    "from ngsolve.webgui import Draw\n",
    "#import netgen.gui\n",
    "import numpy\n",
    "import pandas as pd\n",
    "import import_ipynb ### Allows importing the functions in the Refactor notebook\n",
    "import Refactor ### Notebook that contains functions"
   ]
  },
  {
   "cell_type": "markdown",
   "metadata": {},
   "source": [
    "### EDG and EHDG without correction"
   ]
  },
  {
   "cell_type": "code",
   "execution_count": 2,
   "metadata": {
    "tags": []
   },
   "outputs": [],
   "source": [
    "config = Refactor.new_config\n",
    "config['correction'] = False\n",
    "CT = Refactor.Convection_Diffusion(config)\n",
    "edg_table_no = CT._solveDG()\n",
    "ehdg_table_no = CT._solveHDG()"
   ]
  },
  {
   "cell_type": "code",
   "execution_count": 3,
   "metadata": {},
   "outputs": [],
   "source": [
    "edg_table_no.to_csv(\"edg_table_no.csv\")\n",
    "ehdg_table_no.to_csv(\"ehdg_table_no.csv\")"
   ]
  },
  {
   "cell_type": "markdown",
   "metadata": {},
   "source": [
    "### EDG and EHDG with correction"
   ]
  },
  {
   "cell_type": "code",
   "execution_count": 4,
   "metadata": {},
   "outputs": [],
   "source": [
    "config = Refactor.new_config\n",
    "config['correction'] = True\n",
    "CT = Refactor.Convection_Diffusion(config)\n",
    "edg_table_yes = CT._solveDG()\n",
    "ehdg_table_yes = CT._solveHDG()"
   ]
  },
  {
   "cell_type": "code",
   "execution_count": 5,
   "metadata": {},
   "outputs": [],
   "source": [
    "edg_table_yes.to_csv(\"edg_table_yes.csv\")\n",
    "ehdg_table_yes.to_csv(\"ehdg_table_yes.csv\")"
   ]
  },
  {
   "source": [
    "### Visualization"
   ],
   "cell_type": "markdown",
   "metadata": {}
  },
  {
   "cell_type": "code",
   "execution_count": 10,
   "metadata": {},
   "outputs": [],
   "source": [
    "%matplotlib inline\n",
    "import matplotlib.pyplot as plt\n",
    "plt.style.use('seaborn-white')\n",
    "import pandas as pd\n",
    "from functools import reduce\n",
    "from IPython.display import Image, display\n",
    "import matplotlib.image as mpimg"
   ]
  },
  {
   "cell_type": "code",
   "execution_count": null,
   "metadata": {},
   "outputs": [],
   "source": [
    "def plot_error(table):\n",
    "    order_1 = table[table.Order.eq(1.0) ]\n",
    "    order_2 = table[table.Order.eq(2.0)]\n",
    "    order_3 = table[table.Order.eq(3.0)]\n",
    "    order_4 = table[table.Order.eq(4.0)]\n",
    "\n",
    "    fig, (ax1, ax2, ax3, ax4) = plt.subplots(1, 4, figsize=(20,5))\n",
    "\n",
    "    order_1.plot(x='Mesh Size', y='Error', ax=ax1, legend=True, title='k = 1', style='.-', loglog=True)\n",
    "    order_2.plot(x='Mesh Size', y='Error', ax=ax2, legend=True, title='k = 2', style='.-', loglog=True)\n",
    "    order_3.plot(x='Mesh Size', y='Error', ax=ax3, legend=True, title='k = 3', style='.-', loglog=True)\n",
    "    order_4.plot(x='Mesh Size', y='Error', ax=ax4, legend=True, title='k = 4', style='.-', loglog=True)"
   ]
  },
  {
   "cell_type": "code",
   "execution_count": 14,
   "metadata": {},
   "outputs": [],
   "source": [
    "def error_plot(table, bonus_int, alpha):\n",
    "    orders =[1, 2, 3, 4]\n",
    "    mesh_size = [1.0,0.5,0.25,0.125,0.0625,0.0313]\n",
    "\n",
    "    count=1\n",
    "    nrows = len(orders)\n",
    "    ncols = len(mesh_size)\n",
    "    plt.figure(figsize=(20,10))\n",
    "            \n",
    "    for order in orders:\n",
    "        for size in mesh_size:\n",
    "            df = table[table.Order.eq(order) & table['Mesh Size'].eq(size) & table['Alpha'].eq(alpha) & table['Bonus Int'].eq(bonus_int)]\n",
    "            ax = plt.subplot(nrows, ncols, count)\n",
    "            df.plot(x='Bonus Int', y='Error', legend=True, ax=ax, title='k = ' + str(order) + ', h =' + str(size), loglog=True)\n",
    "            ax.set_ylabel('L2 Error')\n",
    "            count = count + 1\n",
    "            \n",
    "    plt.tight_layout()              "
   ]
  },
  {
   "cell_type": "code",
   "execution_count": null,
   "metadata": {},
   "outputs": [],
   "source": []
  }
 ],
 "metadata": {
  "kernelspec": {
   "display_name": "Python 3",
   "language": "python",
   "name": "python3"
  },
  "language_info": {
   "codemirror_mode": {
    "name": "ipython",
    "version": 3
   },
   "file_extension": ".py",
   "mimetype": "text/x-python",
   "name": "python",
   "nbconvert_exporter": "python",
   "pygments_lexer": "ipython3",
   "version": "3.8.5-final"
  }
 },
 "nbformat": 4,
 "nbformat_minor": 2
}