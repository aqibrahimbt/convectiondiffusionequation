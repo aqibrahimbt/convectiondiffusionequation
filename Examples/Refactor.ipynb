{
 "cells": [
  {
   "cell_type": "code",
   "execution_count": 123,
   "metadata": {
    "ExecuteTime": {
     "end_time": "2020-06-14T02:34:11.777812Z",
     "start_time": "2020-06-14T02:34:09.994838Z"
    }
   },
   "outputs": [],
   "source": [
    "from netgen.geom2d import unit_square\n",
    "from ngsolve import *\n",
    "import pandas as pd\n",
    "from ngsolve import grad as ngsolvegrad\n",
    "from ngsolve.comp import ProxyFunction\n",
    "from ngsolve.webgui import Draw"
   ]
  },
  {
   "cell_type": "markdown",
   "metadata": {},
   "source": [
    "#### Configuration Setup"
   ]
  },
  {
   "cell_type": "code",
   "execution_count": 124,
   "metadata": {
    "ExecuteTime": {
     "end_time": "2020-06-14T02:34:11.793484Z",
     "start_time": "2020-06-14T02:34:11.780749Z"
    }
   },
   "outputs": [],
   "source": [
    "beta = (2,0.001)\n",
    "eps = 0.01\n",
    "\n",
    "p = lambda x: x + (exp(beta[0]*(x-1)/eps)-exp(-beta[0]/eps))/(exp(-beta[0]/eps)-1)\n",
    "q = lambda y: y + (exp(beta[1]*(y-1)/eps)-exp(-beta[1]/eps))/(exp(-beta[1]/eps)-1)\n",
    "\n",
    "exact = p(x) * q(y)\n",
    "coeff =  beta[1] * p(x) +  beta[0] * q(y)\n",
    "\n",
    "\n",
    "new_config = {\n",
    "    'order': [1, 2, 3, 4],\n",
    "    'beta': (2,0.001),\n",
    "    'mesh_size': [1.0, 0.5, 0.25, 0.1250, 0.0625, 0.0313],\n",
    "    'epsilon': 0.01,\n",
    "    'exact': exact,\n",
    "    'coeff': coeff,\n",
    "    'alpha': 20, \n",
    "    'enrich_functions':[p(x), q(y)],\n",
    "    'enrich_domain_ind':[lambda x,y,h: x > 1 - h/2, lambda x,y,h: y > 1 - h/2]\n",
    "}\n",
    "\n",
    "\n",
    "columns = ['Order', 'Mesh Size', 'Error']\n",
    "error_table = pd.DataFrame(columns=columns)"
   ]
  },
  {
   "cell_type": "markdown",
   "metadata": {},
   "source": [
    "#### Enrichment Proxy Functions for the DG method"
   ]
  },
  {
   "cell_type": "code",
   "execution_count": 125,
   "metadata": {
    "ExecuteTime": {
     "end_time": "2020-06-14T02:34:11.812758Z",
     "start_time": "2020-06-14T02:34:11.795640Z"
    }
   },
   "outputs": [],
   "source": [
    "class EnrichmentProxy(CoefficientFunction):\n",
    "    \"\"\"\n",
    "    Provide wrappers for grad/Other and multiplication of enrichment lists for the DG Method.\n",
    "    \"\"\"\n",
    "    def __init__(self, func, enr_list):\n",
    "        self.func = func\n",
    "        self.enr_list = enr_list\n",
    "        self.grad_list = [CoefficientFunction((coeff.Diff(x), coeff.Diff(y))) for coeff in self.enr_list ]\n",
    "\n",
    "    def __call__(self):\n",
    "        return self.func[0] + sum([self.func[i]*self.enr_list[i-1] for i in range(1,len(self.enr_list)+1)])\n",
    "\n",
    "    def __mul__(self, other):\n",
    "        if type(other) == EnrichmentProxy:\n",
    "            return self() * other()\n",
    "        else:\n",
    "            return self() * other\n",
    "    \n",
    "    def __rmul__(self,other):\n",
    "        return self.__mul__(other)    \n",
    "    \n",
    "    def __add__(self, other):\n",
    "        if type(other) == EnrichmentProxy:\n",
    "            return self() + other()\n",
    "        else:\n",
    "            return self() + other\n",
    "    \n",
    "    def __radd__(self,other):\n",
    "        return self.__add__(other)\n",
    "    \n",
    "    def __sub__(self, other):\n",
    "        if type(other) == EnrichmentProxy:\n",
    "            return self() - other()\n",
    "        else:\n",
    "            return self() - other\n",
    "    \n",
    "    def __rsub__(self,other):\n",
    "        return self.__sub__(other)\n",
    "    \n",
    "    #gradient of newly enriched approximation spaces\n",
    "    def grad(self):\n",
    "        mygrad = ngsolvegrad(self.func[0])\n",
    "        for i in range(1,len(self.enr_list)):\n",
    "            mygrad += self.func[i] * self.grad_list[i-1]\n",
    "            mygrad += ngsolvegrad(self.func[i])*self.enr_list[i-1]\n",
    "        return mygrad \n",
    "    \n",
    "    \n",
    "    '''define proxy functions for Other'''\n",
    "    def Other(self):\n",
    "        return EnrichmentProxy([f.Other() for f in self.func],self.enr_list)"
   ]
  },
  {
   "cell_type": "markdown",
   "metadata": {},
   "source": [
    "#### Enrichment Proxy Functions for the HDG method"
   ]
  },
  {
   "cell_type": "code",
   "execution_count": 126,
   "metadata": {
    "ExecuteTime": {
     "end_time": "2020-06-14T02:34:11.828575Z",
     "start_time": "2020-06-14T02:34:11.815715Z"
    }
   },
   "outputs": [],
   "source": [
    "class EnrichmentProxy_VOL(CoefficientFunction):\n",
    "    \"\"\"\n",
    "    Provide wrappers for grad/Other and multiplication of enrichment lists for the HDG method.\n",
    "    \"\"\"\n",
    "    def __init__(self, func, enr_list):\n",
    "        self.func = func\n",
    "        self.enr_list = enr_list\n",
    "        self.grad_list = [CoefficientFunction((coeff.Diff(x), coeff.Diff(y))) for coeff in self.enr_list ]\n",
    "    \n",
    "    def __call__(self):\n",
    "        return self.func[0] + sum([self.func[2 + 2* i] * self.enr_list[i] for i in range(0,len(self.enr_list))])\n",
    "\n",
    "    def __mul__(self, other):\n",
    "        if type(other) == EnrichmentProxy_VOL:\n",
    "            return self() * other()\n",
    "        else:\n",
    "            return self() * other\n",
    "    \n",
    "    def __rmul__(self, other):\n",
    "        return self.__mul__(other)    \n",
    "    \n",
    "    def __add__(self, other):\n",
    "        if type(other) == EnrichmentProxy_VOL:\n",
    "            return self() + other()\n",
    "        else:\n",
    "            return self() + other\n",
    "    \n",
    "    def __radd__(self,other):\n",
    "        return self.__add__(other)\n",
    "    \n",
    "    def __sub__(self, other):\n",
    "        if type(other) == EnrichmentProxy_VOL:\n",
    "            return self() - other()\n",
    "        else:\n",
    "            return self() - other\n",
    "    \n",
    "    def __rsub__(self,other):\n",
    "        return self.__sub__(other)\n",
    "    \n",
    "    \n",
    "    '''gradient of newly enriched approximation spaces'''\n",
    "    def grad(self):\n",
    "        mygrad = ngsolvegrad(self.func[0])\n",
    "        for i in range(len(self.enr_list)):\n",
    "            mygrad += self.func[2+2*i] * self.grad_list[i]\n",
    "            mygrad += ngsolvegrad(self.func[2+2*i])* self.enr_list[i]\n",
    "        return mygrad\n",
    "\n",
    "def grad(q):\n",
    "    if type(q) == ProxyFunction:\n",
    "        return ngsolvegrad(q)\n",
    "    else:\n",
    "        return q.grad()\n"
   ]
  },
  {
   "cell_type": "code",
   "execution_count": 127,
   "metadata": {
    "ExecuteTime": {
     "end_time": "2020-06-14T02:34:11.840991Z",
     "start_time": "2020-06-14T02:34:11.830837Z"
    }
   },
   "outputs": [],
   "source": [
    "class EnrichmentProxy_FAC(CoefficientFunction):\n",
    "    \"\"\"\n",
    "    Provide wrappers for the facets.\n",
    "    \"\"\"\n",
    "    def __init__(self, func, enr_list):\n",
    "        self.func = func\n",
    "        self.enr_list = enr_list\n",
    "        self.grad_list = [CoefficientFunction((coeff.Diff(x), coeff.Diff(y))) for coeff in self.enr_list ]\n",
    "    \n",
    "    \n",
    "    def __call__(self):\n",
    "        return self.func[1] + sum([self.func[3 + 2*i]*self.enr_list[i] for i in range(0,len(self.enr_list))])\n",
    "\n",
    "    def __mul__(self, other):\n",
    "        if type(other) == EnrichmentProxy_FAC:\n",
    "            return self() * other()\n",
    "        else:\n",
    "            return self() * other\n",
    "    \n",
    "    def __rmul__(self,other):\n",
    "        return self.__mul__(other)    \n",
    "    \n",
    "    def __add__(self, other):\n",
    "        if type(other) == EnrichmentProxy_FAC:\n",
    "            return self() + other()\n",
    "        else:\n",
    "            return self() + other\n",
    "    \n",
    "    def __radd__(self,other):\n",
    "        return self.__add__(other)\n",
    "    \n",
    "    def __sub__(self, other):\n",
    "        if type(other) == EnrichmentProxy_FAC:\n",
    "            return self() - other()\n",
    "        else:\n",
    "            return self() - other\n",
    "    \n",
    "    def __rsub__(self,other):\n",
    "        return self.__sub__(other)\n"
   ]
  },
  {
   "cell_type": "markdown",
   "metadata": {},
   "source": [
    "#### Functions to mark/select elements to be enriched"
   ]
  },
  {
   "cell_type": "code",
   "execution_count": 128,
   "metadata": {
    "ExecuteTime": {
     "end_time": "2020-06-14T02:34:11.854884Z",
     "start_time": "2020-06-14T02:34:11.843009Z"
    }
   },
   "outputs": [],
   "source": [
    "'''Mark elements in the mesh to be enriched'''\n",
    "def mark_element(Q, mesh, enr_indicator, mesh_size):\n",
    "    ba = BitArray(Q.ndof)        \n",
    "    ba.Clear()\n",
    "    for el in Q.Elements():\n",
    "        mark = False\n",
    "        for v in el.vertices:\n",
    "            if (enr_indicator(mesh[v].point[0],mesh[v].point[1],mesh_size)):\n",
    "                mark = True\n",
    "        for dof in el.dofs:\n",
    "            ba[dof] = mark\n",
    "        Qx = Compress(Q, active_dofs=ba)     \n",
    "    return Qx\n",
    "\n",
    "\n",
    "'''Mark elements boundaries (facets) in the mesh to be enriched'''\n",
    "def mark_element_bnd(Q, QF, mesh, enr_indicator, mesh_size):\n",
    "    ba = BitArray(Q.ndof)        \n",
    "    ba.Clear()\n",
    "    for el in Q.Elements():\n",
    "        mark = False\n",
    "        for v in el.vertices:\n",
    "            if (enr_indicator(mesh[v].point[0],mesh[v].point[1],mesh_size)):\n",
    "                mark = True\n",
    "        for dof in el.dofs:\n",
    "            ba[dof] = mark\n",
    "\n",
    "    gfF = GridFunction(QF)     \n",
    "    gfF.vec[:] = 0\n",
    "    for el in QF.Elements():\n",
    "        if ba[el.nr]:\n",
    "            for dof in el.dofs:\n",
    "                gfF.vec[dof] += 1\n",
    "    ba_F = BitArray(QF.ndof)\n",
    "    ba_F.Clear()\n",
    "    for i in range(QF.ndof):\n",
    "        if gfF.vec[i] > 0.5:\n",
    "            ba_F[i] = True\n",
    "    QFx = Compress(QF, active_dofs=ba_F) \n",
    "    return QFx"
   ]
  },
  {
   "cell_type": "code",
   "execution_count": 129,
   "metadata": {
    "ExecuteTime": {
     "end_time": "2020-06-14T02:34:11.894396Z",
     "start_time": "2020-06-14T02:34:11.859132Z"
    }
   },
   "outputs": [],
   "source": [
    "\"\"\"\n",
    "(Hybrid) Discontinuous Galerkin Method with Upwinding\n",
    "\"\"\"\n",
    "\n",
    "class Convection_Diffusion():\n",
    "    \n",
    "    '''Specify default parameters if necessary (ANY?)'''\n",
    "    config = {\n",
    "    }\n",
    "    \n",
    "    def __init__(self, new_config={}):\n",
    "        self.config.update(new_config) #Updates the configuration parameters with the user input        \n",
    "    \n",
    "    '''Solves the convection-diffusion equations by the DG methods using upwinding'''\n",
    "    def _solveDG(self):\n",
    "        for order in self.config['order']:\n",
    "            for size in self.config['mesh_size']:\n",
    "                mesh = Mesh(unit_square.GenerateMesh(maxh=size))\n",
    "                V = L2(mesh, order=order, dgjumps=True)        \n",
    "                Vlist = [V]\n",
    "                Q = L2(mesh, order=0)\n",
    "                    \n",
    "                for enr_indicator in self.config['enrich_domain_ind']:\n",
    "                    Vlist.append(mark_element(Q,mesh,enr_indicator,size))\n",
    "                fes = FESpace(Vlist, dgjumps = True)\n",
    "                u = EnrichmentProxy(fes.TrialFunction(), self.config['enrich_functions'])\n",
    "                v = EnrichmentProxy(fes.TestFunction(), self.config['enrich_functions'])\n",
    "\n",
    "                jump_u = u-u.Other()\n",
    "                jump_v = v-v.Other()\n",
    "\n",
    "                n = specialcf.normal(2)\n",
    "                mean_dudn = 0.5 * n * (grad(u) + grad(u.Other()))\n",
    "                mean_dvdn = 0.5 * n * (grad(v) + grad(v.Other()))\n",
    "\n",
    "                h = specialcf.mesh_size\n",
    "                dX = dx(skeleton=True, bonus_intorder=15)\n",
    "                dS = ds(skeleton=True, bonus_intorder=15)\n",
    "\n",
    "                # diffusion equation\n",
    "                diffusion = grad(u) * grad(v) * dX \\\n",
    "                    +self.config['alpha'] * order ** 2/ h * jump_u * jump_v * dX \\\n",
    "                    +(-mean_dudn * jump_v - mean_dvdn * jump_u) * dX \\\n",
    "                    +self.config['alpha'] * order ** 2/h * u * v * dS \\\n",
    "                    + (-n * grad(u) * v -n * grad(v) * u) * dS\n",
    "\n",
    "                # convection equation\n",
    "                b = CoefficientFunction((self.config['beta'][0], self.config['beta'][1]))\n",
    "                uup = IfPos(b * n, u(), u.Other()())\n",
    "                convection = -b * u * grad(v) * dX + b * n * uup * jump_v * dX\n",
    "\n",
    "                acd = BilinearForm(fes)\n",
    "                acd += self.config['epsilon'] * diffusion + convection\n",
    "                with TaskManager():\n",
    "                    acd.Assemble()\n",
    "\n",
    "                # rhs\n",
    "                f = LinearForm(fes)\n",
    "                f += SymbolicLFI(self.config['coeff'] * v, bonus_intorder = 15)\n",
    "                with TaskManager():\n",
    "                    f.Assemble()\n",
    "\n",
    "                gfu = GridFunction(fes, name=\"uDG\")\n",
    "                gfu.vec.data = acd.mat.Inverse(freedofs=fes.FreeDofs(),inverse=\"umfpack\") * f.vec\n",
    "                gfu = gfu.components[0] + sum([gfu.components[i+1]*self.config['enrich_functions'][i] for i in range(len(self.config['enrich_functions']))])\n",
    "\n",
    "                Draw(gfu,mesh,\"u\")\n",
    "\n",
    "                error = sqrt (Integrate ((gfu-self.config['exact'])*(gfu-self.config['exact']), mesh))\n",
    "                error_table.loc[len(error_table)] = [order, size, error]\n",
    "\n",
    "                print ('Order:', order, 'Mesh Size:', size , \"L2-error:\", error)\n",
    "\n",
    "        return error_table\n",
    "    \n",
    "    \n",
    "    '''Solves the convection-diffusion equations by the HDG \n",
    "    methods with the options to either enrich or not'''\n",
    "    def _solveHDG(self):\n",
    "        for order in self.config['order']:\n",
    "            for size in self.config['mesh_size']:\n",
    "                mesh = Mesh(unit_square.GenerateMesh(maxh=size))\n",
    "                condense = True\n",
    "                h = specialcf.mesh_size\n",
    "                n = specialcf.normal(mesh.dim)\n",
    "                dS = dx(element_boundary=True, bonus_intorder=15)\n",
    "                dX = dx(bonus_intorder=15)\n",
    "                V = L2(mesh, order=order)\n",
    "                F = FacetFESpace(mesh, order=order, dirichlet=\".*\")\n",
    "                Q = L2(mesh, order=0)\n",
    "                QF = FacetFESpace(mesh, order=0, dirichlet=\".*\")\n",
    "\n",
    "                Vlist = [V]\n",
    "                Vlist.append(F)\n",
    "                for enr_indicator in self.config['enrich_domain_ind']:\n",
    "                    Vlist.append(mark_element(Q,mesh,enr_indicator,size))\n",
    "                    Vlist.append(mark_element_bnd(Q, QF, mesh,enr_indicator, size))\n",
    "                        \n",
    "                fes = FESpace(Vlist) # [V, F, Qx, QFx, Qy, QFy])\n",
    "                \n",
    "                u = EnrichmentProxy_VOL(fes.TrialFunction(),self.config['enrich_functions'])\n",
    "                v = EnrichmentProxy_VOL(fes.TestFunction(), self.config['enrich_functions'])\n",
    "\n",
    "                uhat = EnrichmentProxy_FAC(fes.TrialFunction(),self.config['enrich_functions'])       \n",
    "                vhat = EnrichmentProxy_FAC(fes.TestFunction(), self.config['enrich_functions'])\n",
    "                              \n",
    "                jump_u = u-uhat()\n",
    "                jump_v = v-vhat()\n",
    "                \n",
    "                # diffusion\n",
    "                diffusion = grad(u) * grad(v) * dX \\\n",
    "                  + self.config['alpha'] * order ** 2/h * jump_u * jump_v * dS \\\n",
    "                  + (-grad(u) * n * jump_v - grad(v) * n * jump_u) * dS\n",
    "                \n",
    "                # convection            \n",
    "                b = CoefficientFunction((self.config['beta'][0], self.config['beta'][1]))\n",
    "                uup = IfPos(b * n, u(), uhat())\n",
    "                \n",
    "                convection = -b * u * grad(v) * dX + b * n * uup * v * dS + IfPos( b * n, (uhat()-u)*vhat(), 0) * dS\n",
    "\n",
    "                acd = BilinearForm(fes,symmetric=False)\n",
    "                acd += self.config['epsilon'] *  diffusion + convection\n",
    "\n",
    "                with TaskManager():\n",
    "                    acd.Assemble()\n",
    "\n",
    "                #rhs\n",
    "                f = LinearForm(fes)\n",
    "                f += self.config['coeff'] * v * dX\n",
    "                \n",
    "                with TaskManager():\n",
    "                    f.Assemble()\n",
    "            \n",
    "                gfu = GridFunction(fes)\n",
    "                \n",
    "                gfu.vec.data = acd.mat.Inverse(freedofs=fes.FreeDofs(),inverse=\"umfpack\") * f.vec\n",
    "                    \n",
    "                gfu = gfu.components[0] + sum([gfu.components[2*i+2] * self.config['enrich_functions'][i] for i in range(len(self.config['enrich_functions']))])\n",
    "            \n",
    "                #Draw(gfu,mesh,\"u\")\n",
    "                \n",
    "                error = sqrt (Integrate ((gfu-self.config['exact'])*(gfu-self.config['exact']), mesh, order=15))\n",
    "                error_table.loc[len(error_table)] = [order, size, error]\n",
    "\n",
    "                #print ('Order:', order, 'Mesh Size:', size , \"L2-error:\", error)\n",
    "                \n",
    "        return error_table"
   ]
  },
  {
   "cell_type": "markdown",
   "metadata": {},
   "source": [
    "#### Setup and solve the convection diffusion problem"
   ]
  },
  {
   "cell_type": "code",
   "execution_count": 130,
   "metadata": {
    "ExecuteTime": {
     "end_time": "2020-06-14T02:34:15.280787Z",
     "start_time": "2020-06-14T02:34:11.897355Z"
    }
   },
   "outputs": [
    {
     "output_type": "stream",
     "name": "stdout",
     "text": "Order  Mesh Size         Error\n0     1.0     1.0000  1.020478e-03\n1     1.0     0.5000  6.820825e-04\n2     1.0     0.2500  9.141833e-03\n3     1.0     0.1250  1.155209e+13\n4     1.0     0.0625  1.332942e+12\n5     1.0     0.0313  1.319098e-05\n6     2.0     1.0000  3.428883e-03\n7     2.0     0.5000  3.202243e-03\n8     2.0     0.2500  2.347865e-04\n9     2.0     0.1250  7.276941e-05\n10    2.0     0.0625  1.882166e-05\n11    2.0     0.0313  3.982916e-06\n12    3.0     1.0000  2.245785e-03\n13    3.0     0.5000  7.964137e-04\n14    3.0     0.2500  1.584816e+22\n15    3.0     0.1250  4.774839e-05\n16    3.0     0.0625  1.909144e-04\n17    3.0     0.0313  2.425081e-06\n18    4.0     1.0000  1.248942e-02\n19    4.0     0.5000  6.316935e-04\n20    4.0     0.2500  1.518153e-04\n21    4.0     0.1250  3.128349e-05\n22    4.0     0.0625  4.448160e-06\n23    4.0     0.0313  2.950493e+04\n"
    }
   ],
   "source": [
    "\n",
    "CT = Convection_Diffusion(new_config)\n",
    "table = CT._solveHDG()\n",
    "print(table)"
   ]
  },
  {
   "cell_type": "markdown",
   "metadata": {},
   "source": [
    "#### Error Visualizations"
   ]
  },
  {
   "cell_type": "code",
   "execution_count": 131,
   "metadata": {},
   "outputs": [
    {
     "output_type": "execute_result",
     "data": {
      "text/plain": "<matplotlib.axes._subplots.AxesSubplot at 0x1286853d0>"
     },
     "metadata": {},
     "execution_count": 131
    },
    {
     "output_type": "display_data",
     "data": {
      "text/plain": "<Figure size 1440x360 with 4 Axes>",
      "image/svg+xml": "<?xml version=\"1.0\" encoding=\"utf-8\" standalone=\"no\"?>\n<!DOCTYPE svg PUBLIC \"-//W3C//DTD SVG 1.1//EN\"\n  \"http://www.w3.org/Graphics/SVG/1.1/DTD/svg11.dtd\">\n<!-- Created with matplotlib (https://matplotlib.org/) -->\n<svg height=\"329.734687pt\" version=\"1.1\" viewBox=\"0 0 1161.55 329.734687\" width=\"1161.55pt\" xmlns=\"http://www.w3.org/2000/svg\" xmlns:xlink=\"http://www.w3.org/1999/xlink\">\n <defs>\n  <style type=\"text/css\">\n*{stroke-linecap:butt;stroke-linejoin:round;}\n  </style>\n </defs>\n <g id=\"figure_1\">\n  <g id=\"patch_1\">\n   <path d=\"M 0 329.734687 \nL 1161.55 329.734687 \nL 1161.55 0 \nL 0 0 \nz\n\" style=\"fill:#ffffff;\"/>\n  </g>\n  <g id=\"axes_1\">\n   <g id=\"patch_2\">\n    <path d=\"M 30.5 293.589375 \nL 273.108696 293.589375 \nL 273.108696 21.789375 \nL 30.5 21.789375 \nz\n\" style=\"fill:#ffffff;\"/>\n   </g>\n   <g id=\"matplotlib.axis_1\">\n    <g id=\"xtick_1\">\n     <g id=\"line2d_1\"/>\n     <g id=\"text_1\">\n      <!-- $\\mathdefault{10^{-1}}$ -->\n      <defs>\n       <path d=\"M 37.25 0 \nL 28.46875 0 \nL 28.46875 56 \nQ 25.296875 52.984375 20.140625 49.953125 \nQ 14.984375 46.921875 10.890625 45.40625 \nL 10.890625 53.90625 \nQ 18.265625 57.375 23.78125 62.296875 \nQ 29.296875 67.234375 31.59375 71.875 \nL 37.25 71.875 \nz\n\" id=\"ArialMT-49\"/>\n       <path d=\"M 4.15625 35.296875 \nQ 4.15625 48 6.765625 55.734375 \nQ 9.375 63.484375 14.515625 67.671875 \nQ 19.671875 71.875 27.484375 71.875 \nQ 33.25 71.875 37.59375 69.546875 \nQ 41.9375 67.234375 44.765625 62.859375 \nQ 47.609375 58.5 49.21875 52.21875 \nQ 50.828125 45.953125 50.828125 35.296875 \nQ 50.828125 22.703125 48.234375 14.96875 \nQ 45.65625 7.234375 40.5 3 \nQ 35.359375 -1.21875 27.484375 -1.21875 \nQ 17.140625 -1.21875 11.234375 6.203125 \nQ 4.15625 15.140625 4.15625 35.296875 \nz\nM 13.1875 35.296875 \nQ 13.1875 17.671875 17.3125 11.828125 \nQ 21.4375 6 27.484375 6 \nQ 33.546875 6 37.671875 11.859375 \nQ 41.796875 17.71875 41.796875 35.296875 \nQ 41.796875 52.984375 37.671875 58.78125 \nQ 33.546875 64.59375 27.390625 64.59375 \nQ 21.34375 64.59375 17.71875 59.46875 \nQ 13.1875 52.9375 13.1875 35.296875 \nz\n\" id=\"ArialMT-48\"/>\n       <path d=\"M 52.828125 31.203125 \nL 5.5625 31.203125 \nL 5.5625 39.40625 \nL 52.828125 39.40625 \nz\n\" id=\"ArialMT-8722\"/>\n      </defs>\n      <g style=\"fill:#262626;\" transform=\"translate(101.948579 307.401875)scale(0.1 -0.1)\">\n       <use transform=\"translate(0 0.99375)\" xlink:href=\"#ArialMT-49\"/>\n       <use transform=\"translate(55.615234 0.99375)\" xlink:href=\"#ArialMT-48\"/>\n       <use transform=\"translate(112.972813 70.6875)scale(0.7)\" xlink:href=\"#ArialMT-8722\"/>\n       <use transform=\"translate(153.851719 70.6875)scale(0.7)\" xlink:href=\"#ArialMT-49\"/>\n      </g>\n     </g>\n    </g>\n    <g id=\"xtick_2\">\n     <g id=\"line2d_2\"/>\n     <g id=\"text_2\">\n      <!-- $\\mathdefault{10^{0}}$ -->\n      <g style=\"fill:#262626;\" transform=\"translate(265.258696 307.401875)scale(0.1 -0.1)\">\n       <use transform=\"translate(0 0.99375)\" xlink:href=\"#ArialMT-49\"/>\n       <use transform=\"translate(55.615234 0.99375)\" xlink:href=\"#ArialMT-48\"/>\n       <use transform=\"translate(112.972813 70.6875)scale(0.7)\" xlink:href=\"#ArialMT-48\"/>\n      </g>\n     </g>\n    </g>\n    <g id=\"xtick_3\">\n     <g id=\"line2d_3\"/>\n    </g>\n    <g id=\"xtick_4\">\n     <g id=\"line2d_4\"/>\n    </g>\n    <g id=\"xtick_5\">\n     <g id=\"line2d_5\"/>\n    </g>\n    <g id=\"xtick_6\">\n     <g id=\"line2d_6\"/>\n    </g>\n    <g id=\"xtick_7\">\n     <g id=\"line2d_7\"/>\n    </g>\n    <g id=\"xtick_8\">\n     <g id=\"line2d_8\"/>\n    </g>\n    <g id=\"xtick_9\">\n     <g id=\"line2d_9\"/>\n    </g>\n    <g id=\"xtick_10\">\n     <g id=\"line2d_10\"/>\n    </g>\n    <g id=\"xtick_11\">\n     <g id=\"line2d_11\"/>\n    </g>\n    <g id=\"xtick_12\">\n     <g id=\"line2d_12\"/>\n    </g>\n    <g id=\"xtick_13\">\n     <g id=\"line2d_13\"/>\n    </g>\n    <g id=\"xtick_14\">\n     <g id=\"line2d_14\"/>\n    </g>\n    <g id=\"xtick_15\">\n     <g id=\"line2d_15\"/>\n    </g>\n    <g id=\"xtick_16\">\n     <g id=\"line2d_16\"/>\n    </g>\n    <g id=\"text_3\">\n     <!-- Mesh Size -->\n     <defs>\n      <path d=\"M 7.421875 0 \nL 7.421875 71.578125 \nL 21.6875 71.578125 \nL 38.625 20.90625 \nQ 40.96875 13.8125 42.046875 10.296875 \nQ 43.265625 14.203125 45.84375 21.78125 \nL 62.984375 71.578125 \nL 75.734375 71.578125 \nL 75.734375 0 \nL 66.609375 0 \nL 66.609375 59.90625 \nL 45.796875 0 \nL 37.25 0 \nL 16.546875 60.9375 \nL 16.546875 0 \nz\n\" id=\"ArialMT-77\"/>\n      <path d=\"M 42.09375 16.703125 \nL 51.171875 15.578125 \nQ 49.03125 7.625 43.21875 3.21875 \nQ 37.40625 -1.171875 28.375 -1.171875 \nQ 17 -1.171875 10.328125 5.828125 \nQ 3.65625 12.84375 3.65625 25.484375 \nQ 3.65625 38.578125 10.390625 45.796875 \nQ 17.140625 53.03125 27.875 53.03125 \nQ 38.28125 53.03125 44.875 45.953125 \nQ 51.46875 38.875 51.46875 26.03125 \nQ 51.46875 25.25 51.421875 23.6875 \nL 12.75 23.6875 \nQ 13.234375 15.140625 17.578125 10.59375 \nQ 21.921875 6.0625 28.421875 6.0625 \nQ 33.25 6.0625 36.671875 8.59375 \nQ 40.09375 11.140625 42.09375 16.703125 \nz\nM 13.234375 30.90625 \nL 42.1875 30.90625 \nQ 41.609375 37.453125 38.875 40.71875 \nQ 34.671875 45.796875 27.984375 45.796875 \nQ 21.921875 45.796875 17.796875 41.75 \nQ 13.671875 37.703125 13.234375 30.90625 \nz\n\" id=\"ArialMT-101\"/>\n      <path d=\"M 3.078125 15.484375 \nL 11.765625 16.84375 \nQ 12.5 11.625 15.84375 8.84375 \nQ 19.1875 6.0625 25.203125 6.0625 \nQ 31.25 6.0625 34.171875 8.515625 \nQ 37.109375 10.984375 37.109375 14.3125 \nQ 37.109375 17.28125 34.515625 19 \nQ 32.71875 20.171875 25.53125 21.96875 \nQ 15.875 24.421875 12.140625 26.203125 \nQ 8.40625 27.984375 6.46875 31.125 \nQ 4.546875 34.28125 4.546875 38.09375 \nQ 4.546875 41.546875 6.125 44.5 \nQ 7.71875 47.46875 10.453125 49.421875 \nQ 12.5 50.921875 16.03125 51.96875 \nQ 19.578125 53.03125 23.640625 53.03125 \nQ 29.734375 53.03125 34.34375 51.265625 \nQ 38.96875 49.515625 41.15625 46.5 \nQ 43.359375 43.5 44.1875 38.484375 \nL 35.59375 37.3125 \nQ 35.015625 41.3125 32.203125 43.546875 \nQ 29.390625 45.796875 24.265625 45.796875 \nQ 18.21875 45.796875 15.625 43.796875 \nQ 13.03125 41.796875 13.03125 39.109375 \nQ 13.03125 37.40625 14.109375 36.03125 \nQ 15.1875 34.625 17.484375 33.6875 \nQ 18.796875 33.203125 25.25 31.453125 \nQ 34.578125 28.953125 38.25 27.359375 \nQ 41.9375 25.78125 44.03125 22.75 \nQ 46.140625 19.734375 46.140625 15.234375 \nQ 46.140625 10.84375 43.578125 6.953125 \nQ 41.015625 3.078125 36.171875 0.953125 \nQ 31.34375 -1.171875 25.25 -1.171875 \nQ 15.140625 -1.171875 9.84375 3.03125 \nQ 4.546875 7.234375 3.078125 15.484375 \nz\n\" id=\"ArialMT-115\"/>\n      <path d=\"M 6.59375 0 \nL 6.59375 71.578125 \nL 15.375 71.578125 \nL 15.375 45.90625 \nQ 21.53125 53.03125 30.90625 53.03125 \nQ 36.671875 53.03125 40.921875 50.75 \nQ 45.171875 48.484375 47 44.484375 \nQ 48.828125 40.484375 48.828125 32.859375 \nL 48.828125 0 \nL 40.046875 0 \nL 40.046875 32.859375 \nQ 40.046875 39.453125 37.1875 42.453125 \nQ 34.328125 45.453125 29.109375 45.453125 \nQ 25.203125 45.453125 21.75 43.421875 \nQ 18.3125 41.40625 16.84375 37.9375 \nQ 15.375 34.46875 15.375 28.375 \nL 15.375 0 \nz\n\" id=\"ArialMT-104\"/>\n      <path id=\"ArialMT-32\"/>\n      <path d=\"M 4.5 23 \nL 13.421875 23.78125 \nQ 14.0625 18.40625 16.375 14.96875 \nQ 18.703125 11.53125 23.578125 9.40625 \nQ 28.46875 7.28125 34.578125 7.28125 \nQ 39.984375 7.28125 44.140625 8.890625 \nQ 48.296875 10.5 50.3125 13.296875 \nQ 52.34375 16.109375 52.34375 19.4375 \nQ 52.34375 22.796875 50.390625 25.3125 \nQ 48.4375 27.828125 43.953125 29.546875 \nQ 41.0625 30.671875 31.203125 33.03125 \nQ 21.34375 35.40625 17.390625 37.5 \nQ 12.25 40.1875 9.734375 44.15625 \nQ 7.234375 48.140625 7.234375 53.078125 \nQ 7.234375 58.5 10.296875 63.203125 \nQ 13.375 67.921875 19.28125 70.359375 \nQ 25.203125 72.796875 32.421875 72.796875 \nQ 40.375 72.796875 46.453125 70.234375 \nQ 52.546875 67.671875 55.8125 62.6875 \nQ 59.078125 57.71875 59.328125 51.421875 \nL 50.25 50.734375 \nQ 49.515625 57.515625 45.28125 60.984375 \nQ 41.0625 64.453125 32.8125 64.453125 \nQ 24.21875 64.453125 20.28125 61.296875 \nQ 16.359375 58.15625 16.359375 53.71875 \nQ 16.359375 49.859375 19.140625 47.359375 \nQ 21.875 44.875 33.421875 42.265625 \nQ 44.96875 39.65625 49.265625 37.703125 \nQ 55.515625 34.8125 58.484375 30.390625 \nQ 61.46875 25.984375 61.46875 20.21875 \nQ 61.46875 14.5 58.203125 9.4375 \nQ 54.9375 4.390625 48.796875 1.578125 \nQ 42.671875 -1.21875 35.015625 -1.21875 \nQ 25.296875 -1.21875 18.71875 1.609375 \nQ 12.15625 4.4375 8.421875 10.125 \nQ 4.6875 15.828125 4.5 23 \nz\n\" id=\"ArialMT-83\"/>\n      <path d=\"M 6.640625 61.46875 \nL 6.640625 71.578125 \nL 15.4375 71.578125 \nL 15.4375 61.46875 \nz\nM 6.640625 0 \nL 6.640625 51.859375 \nL 15.4375 51.859375 \nL 15.4375 0 \nz\n\" id=\"ArialMT-105\"/>\n      <path d=\"M 1.953125 0 \nL 1.953125 7.125 \nL 34.96875 45.015625 \nQ 29.34375 44.734375 25.046875 44.734375 \nL 3.90625 44.734375 \nL 3.90625 51.859375 \nL 46.296875 51.859375 \nL 46.296875 46.046875 \nL 18.21875 13.140625 \nL 12.796875 7.125 \nQ 18.703125 7.5625 23.875 7.5625 \nL 47.859375 7.5625 \nL 47.859375 0 \nz\n\" id=\"ArialMT-122\"/>\n     </defs>\n     <g style=\"fill:#262626;\" transform=\"translate(128.462942 320.547187)scale(0.1 -0.1)\">\n      <use xlink:href=\"#ArialMT-77\"/>\n      <use x=\"83.300781\" xlink:href=\"#ArialMT-101\"/>\n      <use x=\"138.916016\" xlink:href=\"#ArialMT-115\"/>\n      <use x=\"188.916016\" xlink:href=\"#ArialMT-104\"/>\n      <use x=\"244.53125\" xlink:href=\"#ArialMT-32\"/>\n      <use x=\"272.314453\" xlink:href=\"#ArialMT-83\"/>\n      <use x=\"339.013672\" xlink:href=\"#ArialMT-105\"/>\n      <use x=\"361.230469\" xlink:href=\"#ArialMT-122\"/>\n      <use x=\"411.230469\" xlink:href=\"#ArialMT-101\"/>\n     </g>\n    </g>\n   </g>\n   <g id=\"matplotlib.axis_2\">\n    <g id=\"ytick_1\">\n     <g id=\"line2d_17\"/>\n     <g id=\"text_4\">\n      <!-- $\\mathdefault{10^{-3}}$ -->\n      <defs>\n       <path d=\"M 4.203125 18.890625 \nL 12.984375 20.0625 \nQ 14.5 12.59375 18.140625 9.296875 \nQ 21.78125 6 27 6 \nQ 33.203125 6 37.46875 10.296875 \nQ 41.75 14.59375 41.75 20.953125 \nQ 41.75 27 37.796875 30.921875 \nQ 33.84375 34.859375 27.734375 34.859375 \nQ 25.25 34.859375 21.53125 33.890625 \nL 22.515625 41.609375 \nQ 23.390625 41.5 23.921875 41.5 \nQ 29.546875 41.5 34.03125 44.421875 \nQ 38.53125 47.359375 38.53125 53.46875 \nQ 38.53125 58.296875 35.25 61.46875 \nQ 31.984375 64.65625 26.8125 64.65625 \nQ 21.6875 64.65625 18.265625 61.421875 \nQ 14.84375 58.203125 13.875 51.765625 \nL 5.078125 53.328125 \nQ 6.6875 62.15625 12.390625 67.015625 \nQ 18.109375 71.875 26.609375 71.875 \nQ 32.46875 71.875 37.390625 69.359375 \nQ 42.328125 66.84375 44.9375 62.5 \nQ 47.5625 58.15625 47.5625 53.265625 \nQ 47.5625 48.640625 45.0625 44.828125 \nQ 42.578125 41.015625 37.703125 38.765625 \nQ 44.046875 37.3125 47.5625 32.6875 \nQ 51.078125 28.078125 51.078125 21.140625 \nQ 51.078125 11.765625 44.234375 5.25 \nQ 37.40625 -1.265625 26.953125 -1.265625 \nQ 17.53125 -1.265625 11.296875 4.34375 \nQ 5.078125 9.96875 4.203125 18.890625 \nz\n\" id=\"ArialMT-51\"/>\n      </defs>\n      <g style=\"fill:#262626;\" transform=\"translate(7.2 260.504749)scale(0.1 -0.1)\">\n       <use transform=\"translate(0 0.99375)\" xlink:href=\"#ArialMT-49\"/>\n       <use transform=\"translate(55.615234 0.99375)\" xlink:href=\"#ArialMT-48\"/>\n       <use transform=\"translate(112.972813 70.6875)scale(0.7)\" xlink:href=\"#ArialMT-8722\"/>\n       <use transform=\"translate(153.851719 70.6875)scale(0.7)\" xlink:href=\"#ArialMT-51\"/>\n      </g>\n     </g>\n    </g>\n    <g id=\"ytick_2\">\n     <g id=\"line2d_18\"/>\n     <g id=\"text_5\">\n      <!-- $\\mathdefault{10^{0}}$ -->\n      <g style=\"fill:#262626;\" transform=\"translate(11.3 219.190689)scale(0.1 -0.1)\">\n       <use transform=\"translate(0 0.99375)\" xlink:href=\"#ArialMT-49\"/>\n       <use transform=\"translate(55.615234 0.99375)\" xlink:href=\"#ArialMT-48\"/>\n       <use transform=\"translate(112.972813 70.6875)scale(0.7)\" xlink:href=\"#ArialMT-48\"/>\n      </g>\n     </g>\n    </g>\n    <g id=\"ytick_3\">\n     <g id=\"line2d_19\"/>\n     <g id=\"text_6\">\n      <!-- $\\mathdefault{10^{3}}$ -->\n      <g style=\"fill:#262626;\" transform=\"translate(11.3 177.876628)scale(0.1 -0.1)\">\n       <use transform=\"translate(0 0.99375)\" xlink:href=\"#ArialMT-49\"/>\n       <use transform=\"translate(55.615234 0.99375)\" xlink:href=\"#ArialMT-48\"/>\n       <use transform=\"translate(112.972813 70.6875)scale(0.7)\" xlink:href=\"#ArialMT-51\"/>\n      </g>\n     </g>\n    </g>\n    <g id=\"ytick_4\">\n     <g id=\"line2d_20\"/>\n     <g id=\"text_7\">\n      <!-- $\\mathdefault{10^{6}}$ -->\n      <defs>\n       <path d=\"M 49.75 54.046875 \nL 41.015625 53.375 \nQ 39.84375 58.546875 37.703125 60.890625 \nQ 34.125 64.65625 28.90625 64.65625 \nQ 24.703125 64.65625 21.53125 62.3125 \nQ 17.390625 59.28125 14.984375 53.46875 \nQ 12.59375 47.65625 12.5 36.921875 \nQ 15.671875 41.75 20.265625 44.09375 \nQ 24.859375 46.4375 29.890625 46.4375 \nQ 38.671875 46.4375 44.84375 39.96875 \nQ 51.03125 33.5 51.03125 23.25 \nQ 51.03125 16.5 48.125 10.71875 \nQ 45.21875 4.9375 40.140625 1.859375 \nQ 35.0625 -1.21875 28.609375 -1.21875 \nQ 17.625 -1.21875 10.6875 6.859375 \nQ 3.765625 14.9375 3.765625 33.5 \nQ 3.765625 54.25 11.421875 63.671875 \nQ 18.109375 71.875 29.4375 71.875 \nQ 37.890625 71.875 43.28125 67.140625 \nQ 48.6875 62.40625 49.75 54.046875 \nz\nM 13.875 23.1875 \nQ 13.875 18.65625 15.796875 14.5 \nQ 17.71875 10.359375 21.1875 8.171875 \nQ 24.65625 6 28.46875 6 \nQ 34.03125 6 38.03125 10.484375 \nQ 42.046875 14.984375 42.046875 22.703125 \nQ 42.046875 30.125 38.078125 34.390625 \nQ 34.125 38.671875 28.125 38.671875 \nQ 22.171875 38.671875 18.015625 34.390625 \nQ 13.875 30.125 13.875 23.1875 \nz\n\" id=\"ArialMT-54\"/>\n      </defs>\n      <g style=\"fill:#262626;\" transform=\"translate(11.3 136.562568)scale(0.1 -0.1)\">\n       <use transform=\"translate(0 0.99375)\" xlink:href=\"#ArialMT-49\"/>\n       <use transform=\"translate(55.615234 0.99375)\" xlink:href=\"#ArialMT-48\"/>\n       <use transform=\"translate(112.972813 70.6875)scale(0.7)\" xlink:href=\"#ArialMT-54\"/>\n      </g>\n     </g>\n    </g>\n    <g id=\"ytick_5\">\n     <g id=\"line2d_21\"/>\n     <g id=\"text_8\">\n      <!-- $\\mathdefault{10^{9}}$ -->\n      <defs>\n       <path d=\"M 5.46875 16.546875 \nL 13.921875 17.328125 \nQ 14.984375 11.375 18.015625 8.6875 \nQ 21.046875 6 25.78125 6 \nQ 29.828125 6 32.875 7.859375 \nQ 35.9375 9.71875 37.890625 12.8125 \nQ 39.84375 15.921875 41.15625 21.1875 \nQ 42.484375 26.46875 42.484375 31.9375 \nQ 42.484375 32.515625 42.4375 33.6875 \nQ 39.796875 29.5 35.234375 26.875 \nQ 30.671875 24.265625 25.34375 24.265625 \nQ 16.453125 24.265625 10.296875 30.703125 \nQ 4.15625 37.15625 4.15625 47.703125 \nQ 4.15625 58.59375 10.578125 65.234375 \nQ 17 71.875 26.65625 71.875 \nQ 33.640625 71.875 39.421875 68.109375 \nQ 45.21875 64.359375 48.21875 57.390625 \nQ 51.21875 50.4375 51.21875 37.25 \nQ 51.21875 23.53125 48.234375 15.40625 \nQ 45.265625 7.28125 39.375 3.03125 \nQ 33.5 -1.21875 25.59375 -1.21875 \nQ 17.1875 -1.21875 11.859375 3.4375 \nQ 6.546875 8.109375 5.46875 16.546875 \nz\nM 41.453125 48.140625 \nQ 41.453125 55.71875 37.421875 60.15625 \nQ 33.40625 64.59375 27.734375 64.59375 \nQ 21.875 64.59375 17.53125 59.8125 \nQ 13.1875 55.03125 13.1875 47.40625 \nQ 13.1875 40.578125 17.3125 36.296875 \nQ 21.4375 32.03125 27.484375 32.03125 \nQ 33.59375 32.03125 37.515625 36.296875 \nQ 41.453125 40.578125 41.453125 48.140625 \nz\n\" id=\"ArialMT-57\"/>\n      </defs>\n      <g style=\"fill:#262626;\" transform=\"translate(11.3 95.248507)scale(0.1 -0.1)\">\n       <use transform=\"translate(0 0.99375)\" xlink:href=\"#ArialMT-49\"/>\n       <use transform=\"translate(55.615234 0.99375)\" xlink:href=\"#ArialMT-48\"/>\n       <use transform=\"translate(112.972813 70.6875)scale(0.7)\" xlink:href=\"#ArialMT-57\"/>\n      </g>\n     </g>\n    </g>\n    <g id=\"ytick_6\">\n     <g id=\"line2d_22\"/>\n     <g id=\"text_9\">\n      <!-- $\\mathdefault{10^{12}}$ -->\n      <defs>\n       <path d=\"M 50.34375 8.453125 \nL 50.34375 0 \nL 3.03125 0 \nQ 2.9375 3.171875 4.046875 6.109375 \nQ 5.859375 10.9375 9.828125 15.625 \nQ 13.8125 20.3125 21.34375 26.46875 \nQ 33.015625 36.03125 37.109375 41.625 \nQ 41.21875 47.21875 41.21875 52.203125 \nQ 41.21875 57.421875 37.46875 61 \nQ 33.734375 64.59375 27.734375 64.59375 \nQ 21.390625 64.59375 17.578125 60.78125 \nQ 13.765625 56.984375 13.71875 50.25 \nL 4.6875 51.171875 \nQ 5.609375 61.28125 11.65625 66.578125 \nQ 17.71875 71.875 27.9375 71.875 \nQ 38.234375 71.875 44.234375 66.15625 \nQ 50.25 60.453125 50.25 52 \nQ 50.25 47.703125 48.484375 43.546875 \nQ 46.734375 39.40625 42.65625 34.8125 \nQ 38.578125 30.21875 29.109375 22.21875 \nQ 21.1875 15.578125 18.9375 13.203125 \nQ 16.703125 10.84375 15.234375 8.453125 \nz\n\" id=\"ArialMT-50\"/>\n      </defs>\n      <g style=\"fill:#262626;\" transform=\"translate(7.4 53.934447)scale(0.1 -0.1)\">\n       <use transform=\"translate(0 0.99375)\" xlink:href=\"#ArialMT-49\"/>\n       <use transform=\"translate(55.615234 0.99375)\" xlink:href=\"#ArialMT-48\"/>\n       <use transform=\"translate(112.972813 70.6875)scale(0.7)\" xlink:href=\"#ArialMT-49\"/>\n       <use transform=\"translate(151.903477 70.6875)scale(0.7)\" xlink:href=\"#ArialMT-50\"/>\n      </g>\n     </g>\n    </g>\n   </g>\n   <g id=\"line2d_23\">\n    <path clip-path=\"url(#p0add1af9f3)\" d=\"M 273.108696 255.227259 \nL 224.564563 257.636789 \nL 176.020431 242.11377 \nL 127.476299 34.14392 \nL 78.932167 47.059377 \nL 30.5 281.23483 \n\" style=\"fill:none;stroke:#1f77b4;stroke-linecap:round;stroke-width:1.5;\"/>\n    <defs>\n     <path d=\"M 0 1.5 \nC 0.397805 1.5 0.77937 1.341951 1.06066 1.06066 \nC 1.341951 0.77937 1.5 0.397805 1.5 0 \nC 1.5 -0.397805 1.341951 -0.77937 1.06066 -1.06066 \nC 0.77937 -1.341951 0.397805 -1.5 0 -1.5 \nC -0.397805 -1.5 -0.77937 -1.341951 -1.06066 -1.06066 \nC -1.341951 -0.77937 -1.5 -0.397805 -1.5 0 \nC -1.5 0.397805 -1.341951 0.77937 -1.06066 1.06066 \nC -0.77937 1.341951 -0.397805 1.5 0 1.5 \nz\n\" id=\"m40654095c3\" style=\"stroke:#1f77b4;\"/>\n    </defs>\n    <g clip-path=\"url(#p0add1af9f3)\">\n     <use style=\"fill:#1f77b4;stroke:#1f77b4;\" x=\"273.108696\" xlink:href=\"#m40654095c3\" y=\"255.227259\"/>\n     <use style=\"fill:#1f77b4;stroke:#1f77b4;\" x=\"224.564563\" xlink:href=\"#m40654095c3\" y=\"257.636789\"/>\n     <use style=\"fill:#1f77b4;stroke:#1f77b4;\" x=\"176.020431\" xlink:href=\"#m40654095c3\" y=\"242.11377\"/>\n     <use style=\"fill:#1f77b4;stroke:#1f77b4;\" x=\"127.476299\" xlink:href=\"#m40654095c3\" y=\"34.14392\"/>\n     <use style=\"fill:#1f77b4;stroke:#1f77b4;\" x=\"78.932167\" xlink:href=\"#m40654095c3\" y=\"47.059377\"/>\n     <use style=\"fill:#1f77b4;stroke:#1f77b4;\" x=\"30.5\" xlink:href=\"#m40654095c3\" y=\"281.23483\"/>\n    </g>\n   </g>\n   <g id=\"patch_3\">\n    <path d=\"M 30.5 293.589375 \nL 30.5 21.789375 \n\" style=\"fill:none;stroke:#262626;stroke-linecap:square;stroke-linejoin:miter;stroke-width:1.25;\"/>\n   </g>\n   <g id=\"patch_4\">\n    <path d=\"M 273.108696 293.589375 \nL 273.108696 21.789375 \n\" style=\"fill:none;stroke:#262626;stroke-linecap:square;stroke-linejoin:miter;stroke-width:1.25;\"/>\n   </g>\n   <g id=\"patch_5\">\n    <path d=\"M 30.5 293.589375 \nL 273.108696 293.589375 \n\" style=\"fill:none;stroke:#262626;stroke-linecap:square;stroke-linejoin:miter;stroke-width:1.25;\"/>\n   </g>\n   <g id=\"patch_6\">\n    <path d=\"M 30.5 21.789375 \nL 273.108696 21.789375 \n\" style=\"fill:none;stroke:#262626;stroke-linecap:square;stroke-linejoin:miter;stroke-width:1.25;\"/>\n   </g>\n   <g id=\"text_10\">\n    <!-- k = 1 -->\n    <defs>\n     <path d=\"M 6.640625 0 \nL 6.640625 71.578125 \nL 15.4375 71.578125 \nL 15.4375 30.765625 \nL 36.234375 51.859375 \nL 47.609375 51.859375 \nL 27.78125 32.625 \nL 49.609375 0 \nL 38.765625 0 \nL 21.625 26.515625 \nL 15.4375 20.5625 \nL 15.4375 0 \nz\n\" id=\"ArialMT-107\"/>\n     <path d=\"M 52.828125 42.09375 \nL 5.5625 42.09375 \nL 5.5625 50.296875 \nL 52.828125 50.296875 \nz\nM 52.828125 20.359375 \nL 5.5625 20.359375 \nL 5.5625 28.5625 \nL 52.828125 28.5625 \nz\n\" id=\"ArialMT-61\"/>\n    </defs>\n    <g style=\"fill:#262626;\" transform=\"translate(138.62966 15.789375)scale(0.12 -0.12)\">\n     <use xlink:href=\"#ArialMT-107\"/>\n     <use x=\"50\" xlink:href=\"#ArialMT-32\"/>\n     <use x=\"77.783203\" xlink:href=\"#ArialMT-61\"/>\n     <use x=\"136.181641\" xlink:href=\"#ArialMT-32\"/>\n     <use x=\"163.964844\" xlink:href=\"#ArialMT-49\"/>\n    </g>\n   </g>\n   <g id=\"legend_1\">\n    <g id=\"line2d_24\">\n     <path d=\"M 213.888383 34.447187 \nL 233.888383 34.447187 \n\" style=\"fill:none;stroke:#1f77b4;stroke-linecap:round;stroke-width:1.5;\"/>\n    </g>\n    <g id=\"line2d_25\">\n     <g>\n      <use style=\"fill:#1f77b4;stroke:#1f77b4;\" x=\"223.888383\" xlink:href=\"#m40654095c3\" y=\"34.447187\"/>\n     </g>\n    </g>\n    <g id=\"text_11\">\n     <!-- Error -->\n     <defs>\n      <path d=\"M 7.90625 0 \nL 7.90625 71.578125 \nL 59.671875 71.578125 \nL 59.671875 63.140625 \nL 17.390625 63.140625 \nL 17.390625 41.21875 \nL 56.984375 41.21875 \nL 56.984375 32.8125 \nL 17.390625 32.8125 \nL 17.390625 8.453125 \nL 61.328125 8.453125 \nL 61.328125 0 \nz\n\" id=\"ArialMT-69\"/>\n      <path d=\"M 6.5 0 \nL 6.5 51.859375 \nL 14.40625 51.859375 \nL 14.40625 44 \nQ 17.4375 49.515625 20 51.265625 \nQ 22.5625 53.03125 25.640625 53.03125 \nQ 30.078125 53.03125 34.671875 50.203125 \nL 31.640625 42.046875 \nQ 28.421875 43.953125 25.203125 43.953125 \nQ 22.3125 43.953125 20.015625 42.21875 \nQ 17.71875 40.484375 16.75 37.40625 \nQ 15.28125 32.71875 15.28125 27.15625 \nL 15.28125 0 \nz\n\" id=\"ArialMT-114\"/>\n      <path d=\"M 3.328125 25.921875 \nQ 3.328125 40.328125 11.328125 47.265625 \nQ 18.015625 53.03125 27.640625 53.03125 \nQ 38.328125 53.03125 45.109375 46.015625 \nQ 51.90625 39.015625 51.90625 26.65625 \nQ 51.90625 16.65625 48.90625 10.90625 \nQ 45.90625 5.171875 40.15625 2 \nQ 34.421875 -1.171875 27.640625 -1.171875 \nQ 16.75 -1.171875 10.03125 5.8125 \nQ 3.328125 12.796875 3.328125 25.921875 \nz\nM 12.359375 25.921875 \nQ 12.359375 15.96875 16.703125 11.015625 \nQ 21.046875 6.0625 27.640625 6.0625 \nQ 34.1875 6.0625 38.53125 11.03125 \nQ 42.875 16.015625 42.875 26.21875 \nQ 42.875 35.84375 38.5 40.796875 \nQ 34.125 45.75 27.640625 45.75 \nQ 21.046875 45.75 16.703125 40.8125 \nQ 12.359375 35.890625 12.359375 25.921875 \nz\n\" id=\"ArialMT-111\"/>\n     </defs>\n     <g style=\"fill:#262626;\" transform=\"translate(241.888383 37.947187)scale(0.1 -0.1)\">\n      <use xlink:href=\"#ArialMT-69\"/>\n      <use x=\"66.699219\" xlink:href=\"#ArialMT-114\"/>\n      <use x=\"100\" xlink:href=\"#ArialMT-114\"/>\n      <use x=\"133.300781\" xlink:href=\"#ArialMT-111\"/>\n      <use x=\"188.916016\" xlink:href=\"#ArialMT-114\"/>\n     </g>\n    </g>\n   </g>\n  </g>\n  <g id=\"axes_2\">\n   <g id=\"patch_7\">\n    <path d=\"M 321.630435 293.589375 \nL 564.23913 293.589375 \nL 564.23913 21.789375 \nL 321.630435 21.789375 \nz\n\" style=\"fill:#ffffff;\"/>\n   </g>\n   <g id=\"matplotlib.axis_3\">\n    <g id=\"xtick_17\">\n     <g id=\"line2d_26\"/>\n     <g id=\"text_12\">\n      <!-- $\\mathdefault{10^{-1}}$ -->\n      <g style=\"fill:#262626;\" transform=\"translate(393.079014 307.401875)scale(0.1 -0.1)\">\n       <use transform=\"translate(0 0.99375)\" xlink:href=\"#ArialMT-49\"/>\n       <use transform=\"translate(55.615234 0.99375)\" xlink:href=\"#ArialMT-48\"/>\n       <use transform=\"translate(112.972813 70.6875)scale(0.7)\" xlink:href=\"#ArialMT-8722\"/>\n       <use transform=\"translate(153.851719 70.6875)scale(0.7)\" xlink:href=\"#ArialMT-49\"/>\n      </g>\n     </g>\n    </g>\n    <g id=\"xtick_18\">\n     <g id=\"line2d_27\"/>\n     <g id=\"text_13\">\n      <!-- $\\mathdefault{10^{0}}$ -->\n      <g style=\"fill:#262626;\" transform=\"translate(556.38913 307.401875)scale(0.1 -0.1)\">\n       <use transform=\"translate(0 0.99375)\" xlink:href=\"#ArialMT-49\"/>\n       <use transform=\"translate(55.615234 0.99375)\" xlink:href=\"#ArialMT-48\"/>\n       <use transform=\"translate(112.972813 70.6875)scale(0.7)\" xlink:href=\"#ArialMT-48\"/>\n      </g>\n     </g>\n    </g>\n    <g id=\"xtick_19\">\n     <g id=\"line2d_28\"/>\n    </g>\n    <g id=\"xtick_20\">\n     <g id=\"line2d_29\"/>\n    </g>\n    <g id=\"xtick_21\">\n     <g id=\"line2d_30\"/>\n    </g>\n    <g id=\"xtick_22\">\n     <g id=\"line2d_31\"/>\n    </g>\n    <g id=\"xtick_23\">\n     <g id=\"line2d_32\"/>\n    </g>\n    <g id=\"xtick_24\">\n     <g id=\"line2d_33\"/>\n    </g>\n    <g id=\"xtick_25\">\n     <g id=\"line2d_34\"/>\n    </g>\n    <g id=\"xtick_26\">\n     <g id=\"line2d_35\"/>\n    </g>\n    <g id=\"xtick_27\">\n     <g id=\"line2d_36\"/>\n    </g>\n    <g id=\"xtick_28\">\n     <g id=\"line2d_37\"/>\n    </g>\n    <g id=\"xtick_29\">\n     <g id=\"line2d_38\"/>\n    </g>\n    <g id=\"xtick_30\">\n     <g id=\"line2d_39\"/>\n    </g>\n    <g id=\"xtick_31\">\n     <g id=\"line2d_40\"/>\n    </g>\n    <g id=\"xtick_32\">\n     <g id=\"line2d_41\"/>\n    </g>\n    <g id=\"text_14\">\n     <!-- Mesh Size -->\n     <g style=\"fill:#262626;\" transform=\"translate(419.593376 320.547187)scale(0.1 -0.1)\">\n      <use xlink:href=\"#ArialMT-77\"/>\n      <use x=\"83.300781\" xlink:href=\"#ArialMT-101\"/>\n      <use x=\"138.916016\" xlink:href=\"#ArialMT-115\"/>\n      <use x=\"188.916016\" xlink:href=\"#ArialMT-104\"/>\n      <use x=\"244.53125\" xlink:href=\"#ArialMT-32\"/>\n      <use x=\"272.314453\" xlink:href=\"#ArialMT-83\"/>\n      <use x=\"339.013672\" xlink:href=\"#ArialMT-105\"/>\n      <use x=\"361.230469\" xlink:href=\"#ArialMT-122\"/>\n      <use x=\"411.230469\" xlink:href=\"#ArialMT-101\"/>\n     </g>\n    </g>\n   </g>\n   <g id=\"matplotlib.axis_4\">\n    <g id=\"ytick_7\">\n     <g id=\"line2d_42\"/>\n     <g id=\"text_15\">\n      <!-- $\\mathdefault{10^{-5}}$ -->\n      <defs>\n       <path d=\"M 4.15625 18.75 \nL 13.375 19.53125 \nQ 14.40625 12.796875 18.140625 9.390625 \nQ 21.875 6 27.15625 6 \nQ 33.5 6 37.890625 10.78125 \nQ 42.28125 15.578125 42.28125 23.484375 \nQ 42.28125 31 38.0625 35.34375 \nQ 33.84375 39.703125 27 39.703125 \nQ 22.75 39.703125 19.328125 37.765625 \nQ 15.921875 35.84375 13.96875 32.765625 \nL 5.71875 33.84375 \nL 12.640625 70.609375 \nL 48.25 70.609375 \nL 48.25 62.203125 \nL 19.671875 62.203125 \nL 15.828125 42.96875 \nQ 22.265625 47.46875 29.34375 47.46875 \nQ 38.71875 47.46875 45.15625 40.96875 \nQ 51.609375 34.46875 51.609375 24.265625 \nQ 51.609375 14.546875 45.953125 7.46875 \nQ 39.0625 -1.21875 27.15625 -1.21875 \nQ 17.390625 -1.21875 11.203125 4.25 \nQ 5.03125 9.71875 4.15625 18.75 \nz\n\" id=\"ArialMT-53\"/>\n      </defs>\n      <g style=\"fill:#262626;\" transform=\"translate(298.330435 252.682374)scale(0.1 -0.1)\">\n       <use transform=\"translate(0 0.879688)\" xlink:href=\"#ArialMT-49\"/>\n       <use transform=\"translate(55.615234 0.879688)\" xlink:href=\"#ArialMT-48\"/>\n       <use transform=\"translate(112.972813 70.573438)scale(0.7)\" xlink:href=\"#ArialMT-8722\"/>\n       <use transform=\"translate(153.851719 70.573438)scale(0.7)\" xlink:href=\"#ArialMT-53\"/>\n      </g>\n     </g>\n    </g>\n    <g id=\"ytick_8\">\n     <g id=\"line2d_43\"/>\n     <g id=\"text_16\">\n      <!-- $\\mathdefault{10^{-4}}$ -->\n      <defs>\n       <path d=\"M 32.328125 0 \nL 32.328125 17.140625 \nL 1.265625 17.140625 \nL 1.265625 25.203125 \nL 33.9375 71.578125 \nL 41.109375 71.578125 \nL 41.109375 25.203125 \nL 50.78125 25.203125 \nL 50.78125 17.140625 \nL 41.109375 17.140625 \nL 41.109375 0 \nz\nM 32.328125 25.203125 \nL 32.328125 57.46875 \nL 9.90625 25.203125 \nz\n\" id=\"ArialMT-52\"/>\n      </defs>\n      <g style=\"fill:#262626;\" transform=\"translate(298.330435 168.493282)scale(0.1 -0.1)\">\n       <use transform=\"translate(0 0.201563)\" xlink:href=\"#ArialMT-49\"/>\n       <use transform=\"translate(55.615234 0.201563)\" xlink:href=\"#ArialMT-48\"/>\n       <use transform=\"translate(112.972813 69.895313)scale(0.7)\" xlink:href=\"#ArialMT-8722\"/>\n       <use transform=\"translate(153.851719 69.895313)scale(0.7)\" xlink:href=\"#ArialMT-52\"/>\n      </g>\n     </g>\n    </g>\n    <g id=\"ytick_9\">\n     <g id=\"line2d_44\"/>\n     <g id=\"text_17\">\n      <!-- $\\mathdefault{10^{-3}}$ -->\n      <g style=\"fill:#262626;\" transform=\"translate(298.330435 84.354191)scale(0.1 -0.1)\">\n       <use transform=\"translate(0 0.99375)\" xlink:href=\"#ArialMT-49\"/>\n       <use transform=\"translate(55.615234 0.99375)\" xlink:href=\"#ArialMT-48\"/>\n       <use transform=\"translate(112.972813 70.6875)scale(0.7)\" xlink:href=\"#ArialMT-8722\"/>\n       <use transform=\"translate(153.851719 70.6875)scale(0.7)\" xlink:href=\"#ArialMT-51\"/>\n      </g>\n     </g>\n    </g>\n    <g id=\"ytick_10\">\n     <g id=\"line2d_45\"/>\n    </g>\n    <g id=\"ytick_11\">\n     <g id=\"line2d_46\"/>\n    </g>\n    <g id=\"ytick_12\">\n     <g id=\"line2d_47\"/>\n    </g>\n    <g id=\"ytick_13\">\n     <g id=\"line2d_48\"/>\n    </g>\n    <g id=\"ytick_14\">\n     <g id=\"line2d_49\"/>\n    </g>\n    <g id=\"ytick_15\">\n     <g id=\"line2d_50\"/>\n    </g>\n    <g id=\"ytick_16\">\n     <g id=\"line2d_51\"/>\n    </g>\n    <g id=\"ytick_17\">\n     <g id=\"line2d_52\"/>\n    </g>\n    <g id=\"ytick_18\">\n     <g id=\"line2d_53\"/>\n    </g>\n    <g id=\"ytick_19\">\n     <g id=\"line2d_54\"/>\n    </g>\n    <g id=\"ytick_20\">\n     <g id=\"line2d_55\"/>\n    </g>\n    <g id=\"ytick_21\">\n     <g id=\"line2d_56\"/>\n    </g>\n    <g id=\"ytick_22\">\n     <g id=\"line2d_57\"/>\n    </g>\n    <g id=\"ytick_23\">\n     <g id=\"line2d_58\"/>\n    </g>\n    <g id=\"ytick_24\">\n     <g id=\"line2d_59\"/>\n    </g>\n    <g id=\"ytick_25\">\n     <g id=\"line2d_60\"/>\n    </g>\n    <g id=\"ytick_26\">\n     <g id=\"line2d_61\"/>\n    </g>\n    <g id=\"ytick_27\">\n     <g id=\"line2d_62\"/>\n    </g>\n    <g id=\"ytick_28\">\n     <g id=\"line2d_63\"/>\n    </g>\n    <g id=\"ytick_29\">\n     <g id=\"line2d_64\"/>\n    </g>\n    <g id=\"ytick_30\">\n     <g id=\"line2d_65\"/>\n    </g>\n    <g id=\"ytick_31\">\n     <g id=\"line2d_66\"/>\n    </g>\n    <g id=\"ytick_32\">\n     <g id=\"line2d_67\"/>\n    </g>\n    <g id=\"ytick_33\">\n     <g id=\"line2d_68\"/>\n    </g>\n    <g id=\"ytick_34\">\n     <g id=\"line2d_69\"/>\n    </g>\n    <g id=\"ytick_35\">\n     <g id=\"line2d_70\"/>\n    </g>\n   </g>\n   <g id=\"line2d_71\">\n    <path clip-path=\"url(#p2100a2eae7)\" d=\"M 564.23913 34.14392 \nL 515.694998 36.644204 \nL 467.150866 132.180393 \nL 418.606734 175.009433 \nL 370.062602 224.452929 \nL 321.630435 281.23483 \n\" style=\"fill:none;stroke:#1f77b4;stroke-linecap:round;stroke-width:1.5;\"/>\n    <g clip-path=\"url(#p2100a2eae7)\">\n     <use style=\"fill:#1f77b4;stroke:#1f77b4;\" x=\"564.23913\" xlink:href=\"#m40654095c3\" y=\"34.14392\"/>\n     <use style=\"fill:#1f77b4;stroke:#1f77b4;\" x=\"515.694998\" xlink:href=\"#m40654095c3\" y=\"36.644204\"/>\n     <use style=\"fill:#1f77b4;stroke:#1f77b4;\" x=\"467.150866\" xlink:href=\"#m40654095c3\" y=\"132.180393\"/>\n     <use style=\"fill:#1f77b4;stroke:#1f77b4;\" x=\"418.606734\" xlink:href=\"#m40654095c3\" y=\"175.009433\"/>\n     <use style=\"fill:#1f77b4;stroke:#1f77b4;\" x=\"370.062602\" xlink:href=\"#m40654095c3\" y=\"224.452929\"/>\n     <use style=\"fill:#1f77b4;stroke:#1f77b4;\" x=\"321.630435\" xlink:href=\"#m40654095c3\" y=\"281.23483\"/>\n    </g>\n   </g>\n   <g id=\"patch_8\">\n    <path d=\"M 321.630435 293.589375 \nL 321.630435 21.789375 \n\" style=\"fill:none;stroke:#262626;stroke-linecap:square;stroke-linejoin:miter;stroke-width:1.25;\"/>\n   </g>\n   <g id=\"patch_9\">\n    <path d=\"M 564.23913 293.589375 \nL 564.23913 21.789375 \n\" style=\"fill:none;stroke:#262626;stroke-linecap:square;stroke-linejoin:miter;stroke-width:1.25;\"/>\n   </g>\n   <g id=\"patch_10\">\n    <path d=\"M 321.630435 293.589375 \nL 564.23913 293.589375 \n\" style=\"fill:none;stroke:#262626;stroke-linecap:square;stroke-linejoin:miter;stroke-width:1.25;\"/>\n   </g>\n   <g id=\"patch_11\">\n    <path d=\"M 321.630435 21.789375 \nL 564.23913 21.789375 \n\" style=\"fill:none;stroke:#262626;stroke-linecap:square;stroke-linejoin:miter;stroke-width:1.25;\"/>\n   </g>\n   <g id=\"text_18\">\n    <!-- k = 2 -->\n    <g style=\"fill:#262626;\" transform=\"translate(429.760095 15.789375)scale(0.12 -0.12)\">\n     <use xlink:href=\"#ArialMT-107\"/>\n     <use x=\"50\" xlink:href=\"#ArialMT-32\"/>\n     <use x=\"77.783203\" xlink:href=\"#ArialMT-61\"/>\n     <use x=\"136.181641\" xlink:href=\"#ArialMT-32\"/>\n     <use x=\"163.964844\" xlink:href=\"#ArialMT-50\"/>\n    </g>\n   </g>\n   <g id=\"legend_2\">\n    <g id=\"line2d_72\">\n     <path d=\"M 330.630435 34.447187 \nL 350.630435 34.447187 \n\" style=\"fill:none;stroke:#1f77b4;stroke-linecap:round;stroke-width:1.5;\"/>\n    </g>\n    <g id=\"line2d_73\">\n     <g>\n      <use style=\"fill:#1f77b4;stroke:#1f77b4;\" x=\"340.630435\" xlink:href=\"#m40654095c3\" y=\"34.447187\"/>\n     </g>\n    </g>\n    <g id=\"text_19\">\n     <!-- Error -->\n     <g style=\"fill:#262626;\" transform=\"translate(358.630435 37.947187)scale(0.1 -0.1)\">\n      <use xlink:href=\"#ArialMT-69\"/>\n      <use x=\"66.699219\" xlink:href=\"#ArialMT-114\"/>\n      <use x=\"100\" xlink:href=\"#ArialMT-114\"/>\n      <use x=\"133.300781\" xlink:href=\"#ArialMT-111\"/>\n      <use x=\"188.916016\" xlink:href=\"#ArialMT-114\"/>\n     </g>\n    </g>\n   </g>\n  </g>\n  <g id=\"axes_3\">\n   <g id=\"patch_12\">\n    <path d=\"M 612.76087 293.589375 \nL 855.369565 293.589375 \nL 855.369565 21.789375 \nL 612.76087 21.789375 \nz\n\" style=\"fill:#ffffff;\"/>\n   </g>\n   <g id=\"matplotlib.axis_5\">\n    <g id=\"xtick_33\">\n     <g id=\"line2d_74\"/>\n     <g id=\"text_20\">\n      <!-- $\\mathdefault{10^{-1}}$ -->\n      <g style=\"fill:#262626;\" transform=\"translate(684.209449 307.401875)scale(0.1 -0.1)\">\n       <use transform=\"translate(0 0.99375)\" xlink:href=\"#ArialMT-49\"/>\n       <use transform=\"translate(55.615234 0.99375)\" xlink:href=\"#ArialMT-48\"/>\n       <use transform=\"translate(112.972813 70.6875)scale(0.7)\" xlink:href=\"#ArialMT-8722\"/>\n       <use transform=\"translate(153.851719 70.6875)scale(0.7)\" xlink:href=\"#ArialMT-49\"/>\n      </g>\n     </g>\n    </g>\n    <g id=\"xtick_34\">\n     <g id=\"line2d_75\"/>\n     <g id=\"text_21\">\n      <!-- $\\mathdefault{10^{0}}$ -->\n      <g style=\"fill:#262626;\" transform=\"translate(847.519565 307.401875)scale(0.1 -0.1)\">\n       <use transform=\"translate(0 0.99375)\" xlink:href=\"#ArialMT-49\"/>\n       <use transform=\"translate(55.615234 0.99375)\" xlink:href=\"#ArialMT-48\"/>\n       <use transform=\"translate(112.972813 70.6875)scale(0.7)\" xlink:href=\"#ArialMT-48\"/>\n      </g>\n     </g>\n    </g>\n    <g id=\"xtick_35\">\n     <g id=\"line2d_76\"/>\n    </g>\n    <g id=\"xtick_36\">\n     <g id=\"line2d_77\"/>\n    </g>\n    <g id=\"xtick_37\">\n     <g id=\"line2d_78\"/>\n    </g>\n    <g id=\"xtick_38\">\n     <g id=\"line2d_79\"/>\n    </g>\n    <g id=\"xtick_39\">\n     <g id=\"line2d_80\"/>\n    </g>\n    <g id=\"xtick_40\">\n     <g id=\"line2d_81\"/>\n    </g>\n    <g id=\"xtick_41\">\n     <g id=\"line2d_82\"/>\n    </g>\n    <g id=\"xtick_42\">\n     <g id=\"line2d_83\"/>\n    </g>\n    <g id=\"xtick_43\">\n     <g id=\"line2d_84\"/>\n    </g>\n    <g id=\"xtick_44\">\n     <g id=\"line2d_85\"/>\n    </g>\n    <g id=\"xtick_45\">\n     <g id=\"line2d_86\"/>\n    </g>\n    <g id=\"xtick_46\">\n     <g id=\"line2d_87\"/>\n    </g>\n    <g id=\"xtick_47\">\n     <g id=\"line2d_88\"/>\n    </g>\n    <g id=\"xtick_48\">\n     <g id=\"line2d_89\"/>\n    </g>\n    <g id=\"text_22\">\n     <!-- Mesh Size -->\n     <g style=\"fill:#262626;\" transform=\"translate(710.723811 320.547187)scale(0.1 -0.1)\">\n      <use xlink:href=\"#ArialMT-77\"/>\n      <use x=\"83.300781\" xlink:href=\"#ArialMT-101\"/>\n      <use x=\"138.916016\" xlink:href=\"#ArialMT-115\"/>\n      <use x=\"188.916016\" xlink:href=\"#ArialMT-104\"/>\n      <use x=\"244.53125\" xlink:href=\"#ArialMT-32\"/>\n      <use x=\"272.314453\" xlink:href=\"#ArialMT-83\"/>\n      <use x=\"339.013672\" xlink:href=\"#ArialMT-105\"/>\n      <use x=\"361.230469\" xlink:href=\"#ArialMT-122\"/>\n      <use x=\"411.230469\" xlink:href=\"#ArialMT-101\"/>\n     </g>\n    </g>\n   </g>\n   <g id=\"matplotlib.axis_6\">\n    <g id=\"ytick_36\">\n     <g id=\"line2d_90\"/>\n     <g id=\"text_23\">\n      <!-- $\\mathdefault{10^{-4}}$ -->\n      <g style=\"fill:#262626;\" transform=\"translate(589.46087 271.992137)scale(0.1 -0.1)\">\n       <use transform=\"translate(0 0.201563)\" xlink:href=\"#ArialMT-49\"/>\n       <use transform=\"translate(55.615234 0.201563)\" xlink:href=\"#ArialMT-48\"/>\n       <use transform=\"translate(112.972813 69.895313)scale(0.7)\" xlink:href=\"#ArialMT-8722\"/>\n       <use transform=\"translate(153.851719 69.895313)scale(0.7)\" xlink:href=\"#ArialMT-52\"/>\n      </g>\n     </g>\n    </g>\n    <g id=\"ytick_37\">\n     <g id=\"line2d_91\"/>\n     <g id=\"text_24\">\n      <!-- $\\mathdefault{10^{0}}$ -->\n      <g style=\"fill:#262626;\" transform=\"translate(593.56087 236.508983)scale(0.1 -0.1)\">\n       <use transform=\"translate(0 0.99375)\" xlink:href=\"#ArialMT-49\"/>\n       <use transform=\"translate(55.615234 0.99375)\" xlink:href=\"#ArialMT-48\"/>\n       <use transform=\"translate(112.972813 70.6875)scale(0.7)\" xlink:href=\"#ArialMT-48\"/>\n      </g>\n     </g>\n    </g>\n    <g id=\"ytick_38\">\n     <g id=\"line2d_92\"/>\n     <g id=\"text_25\">\n      <!-- $\\mathdefault{10^{4}}$ -->\n      <g style=\"fill:#262626;\" transform=\"translate(593.56087 200.92583)scale(0.1 -0.1)\">\n       <use transform=\"translate(0 0.201563)\" xlink:href=\"#ArialMT-49\"/>\n       <use transform=\"translate(55.615234 0.201563)\" xlink:href=\"#ArialMT-48\"/>\n       <use transform=\"translate(112.972813 69.895313)scale(0.7)\" xlink:href=\"#ArialMT-52\"/>\n      </g>\n     </g>\n    </g>\n    <g id=\"ytick_39\">\n     <g id=\"line2d_93\"/>\n     <g id=\"text_26\">\n      <!-- $\\mathdefault{10^{8}}$ -->\n      <defs>\n       <path d=\"M 17.671875 38.8125 \nQ 12.203125 40.828125 9.5625 44.53125 \nQ 6.9375 48.25 6.9375 53.421875 \nQ 6.9375 61.234375 12.546875 66.546875 \nQ 18.171875 71.875 27.484375 71.875 \nQ 36.859375 71.875 42.578125 66.421875 \nQ 48.296875 60.984375 48.296875 53.171875 \nQ 48.296875 48.1875 45.671875 44.5 \nQ 43.0625 40.828125 37.75 38.8125 \nQ 44.34375 36.671875 47.78125 31.875 \nQ 51.21875 27.09375 51.21875 20.453125 \nQ 51.21875 11.28125 44.71875 5.03125 \nQ 38.234375 -1.21875 27.640625 -1.21875 \nQ 17.046875 -1.21875 10.546875 5.046875 \nQ 4.046875 11.328125 4.046875 20.703125 \nQ 4.046875 27.6875 7.59375 32.390625 \nQ 11.140625 37.109375 17.671875 38.8125 \nz\nM 15.921875 53.71875 \nQ 15.921875 48.640625 19.1875 45.40625 \nQ 22.46875 42.1875 27.6875 42.1875 \nQ 32.765625 42.1875 36.015625 45.375 \nQ 39.265625 48.578125 39.265625 53.21875 \nQ 39.265625 58.0625 35.90625 61.359375 \nQ 32.5625 64.65625 27.59375 64.65625 \nQ 22.5625 64.65625 19.234375 61.421875 \nQ 15.921875 58.203125 15.921875 53.71875 \nz\nM 13.09375 20.65625 \nQ 13.09375 16.890625 14.875 13.375 \nQ 16.65625 9.859375 20.171875 7.921875 \nQ 23.6875 6 27.734375 6 \nQ 34.03125 6 38.125 10.046875 \nQ 42.234375 14.109375 42.234375 20.359375 \nQ 42.234375 26.703125 38.015625 30.859375 \nQ 33.796875 35.015625 27.4375 35.015625 \nQ 21.234375 35.015625 17.15625 30.90625 \nQ 13.09375 26.8125 13.09375 20.65625 \nz\n\" id=\"ArialMT-56\"/>\n      </defs>\n      <g style=\"fill:#262626;\" transform=\"translate(593.56087 165.442677)scale(0.1 -0.1)\">\n       <use transform=\"translate(0 0.99375)\" xlink:href=\"#ArialMT-49\"/>\n       <use transform=\"translate(55.615234 0.99375)\" xlink:href=\"#ArialMT-48\"/>\n       <use transform=\"translate(112.972813 70.6875)scale(0.7)\" xlink:href=\"#ArialMT-56\"/>\n      </g>\n     </g>\n    </g>\n    <g id=\"ytick_40\">\n     <g id=\"line2d_94\"/>\n     <g id=\"text_27\">\n      <!-- $\\mathdefault{10^{12}}$ -->\n      <g style=\"fill:#262626;\" transform=\"translate(589.66087 129.909524)scale(0.1 -0.1)\">\n       <use transform=\"translate(0 0.99375)\" xlink:href=\"#ArialMT-49\"/>\n       <use transform=\"translate(55.615234 0.99375)\" xlink:href=\"#ArialMT-48\"/>\n       <use transform=\"translate(112.972813 70.6875)scale(0.7)\" xlink:href=\"#ArialMT-49\"/>\n       <use transform=\"translate(151.903477 70.6875)scale(0.7)\" xlink:href=\"#ArialMT-50\"/>\n      </g>\n     </g>\n    </g>\n    <g id=\"ytick_41\">\n     <g id=\"line2d_95\"/>\n     <g id=\"text_28\">\n      <!-- $\\mathdefault{10^{16}}$ -->\n      <g style=\"fill:#262626;\" transform=\"translate(589.66087 94.376371)scale(0.1 -0.1)\">\n       <use transform=\"translate(0 0.99375)\" xlink:href=\"#ArialMT-49\"/>\n       <use transform=\"translate(55.615234 0.99375)\" xlink:href=\"#ArialMT-48\"/>\n       <use transform=\"translate(112.972813 70.6875)scale(0.7)\" xlink:href=\"#ArialMT-49\"/>\n       <use transform=\"translate(151.903477 70.6875)scale(0.7)\" xlink:href=\"#ArialMT-54\"/>\n      </g>\n     </g>\n    </g>\n    <g id=\"ytick_42\">\n     <g id=\"line2d_96\"/>\n     <g id=\"text_29\">\n      <!-- $\\mathdefault{10^{20}}$ -->\n      <g style=\"fill:#262626;\" transform=\"translate(589.66087 58.843218)scale(0.1 -0.1)\">\n       <use transform=\"translate(0 0.99375)\" xlink:href=\"#ArialMT-49\"/>\n       <use transform=\"translate(55.615234 0.99375)\" xlink:href=\"#ArialMT-48\"/>\n       <use transform=\"translate(112.972813 70.6875)scale(0.7)\" xlink:href=\"#ArialMT-50\"/>\n       <use transform=\"translate(151.903477 70.6875)scale(0.7)\" xlink:href=\"#ArialMT-48\"/>\n      </g>\n     </g>\n    </g>\n   </g>\n   <g id=\"line2d_97\">\n    <path clip-path=\"url(#pbd07777a89)\" d=\"M 855.369565 254.881293 \nL 806.825433 258.880811 \nL 758.281301 34.14392 \nL 709.737169 269.737789 \nL 661.193036 264.391115 \nL 612.76087 281.23483 \n\" style=\"fill:none;stroke:#1f77b4;stroke-linecap:round;stroke-width:1.5;\"/>\n    <g clip-path=\"url(#pbd07777a89)\">\n     <use style=\"fill:#1f77b4;stroke:#1f77b4;\" x=\"855.369565\" xlink:href=\"#m40654095c3\" y=\"254.881293\"/>\n     <use style=\"fill:#1f77b4;stroke:#1f77b4;\" x=\"806.825433\" xlink:href=\"#m40654095c3\" y=\"258.880811\"/>\n     <use style=\"fill:#1f77b4;stroke:#1f77b4;\" x=\"758.281301\" xlink:href=\"#m40654095c3\" y=\"34.14392\"/>\n     <use style=\"fill:#1f77b4;stroke:#1f77b4;\" x=\"709.737169\" xlink:href=\"#m40654095c3\" y=\"269.737789\"/>\n     <use style=\"fill:#1f77b4;stroke:#1f77b4;\" x=\"661.193036\" xlink:href=\"#m40654095c3\" y=\"264.391115\"/>\n     <use style=\"fill:#1f77b4;stroke:#1f77b4;\" x=\"612.76087\" xlink:href=\"#m40654095c3\" y=\"281.23483\"/>\n    </g>\n   </g>\n   <g id=\"patch_13\">\n    <path d=\"M 612.76087 293.589375 \nL 612.76087 21.789375 \n\" style=\"fill:none;stroke:#262626;stroke-linecap:square;stroke-linejoin:miter;stroke-width:1.25;\"/>\n   </g>\n   <g id=\"patch_14\">\n    <path d=\"M 855.369565 293.589375 \nL 855.369565 21.789375 \n\" style=\"fill:none;stroke:#262626;stroke-linecap:square;stroke-linejoin:miter;stroke-width:1.25;\"/>\n   </g>\n   <g id=\"patch_15\">\n    <path d=\"M 612.76087 293.589375 \nL 855.369565 293.589375 \n\" style=\"fill:none;stroke:#262626;stroke-linecap:square;stroke-linejoin:miter;stroke-width:1.25;\"/>\n   </g>\n   <g id=\"patch_16\">\n    <path d=\"M 612.76087 21.789375 \nL 855.369565 21.789375 \n\" style=\"fill:none;stroke:#262626;stroke-linecap:square;stroke-linejoin:miter;stroke-width:1.25;\"/>\n   </g>\n   <g id=\"text_30\">\n    <!-- k = 3 -->\n    <g style=\"fill:#262626;\" transform=\"translate(720.89053 15.789375)scale(0.12 -0.12)\">\n     <use xlink:href=\"#ArialMT-107\"/>\n     <use x=\"50\" xlink:href=\"#ArialMT-32\"/>\n     <use x=\"77.783203\" xlink:href=\"#ArialMT-61\"/>\n     <use x=\"136.181641\" xlink:href=\"#ArialMT-32\"/>\n     <use x=\"163.964844\" xlink:href=\"#ArialMT-51\"/>\n    </g>\n   </g>\n   <g id=\"legend_3\">\n    <g id=\"line2d_98\">\n     <path d=\"M 796.149253 34.447187 \nL 816.149253 34.447187 \n\" style=\"fill:none;stroke:#1f77b4;stroke-linecap:round;stroke-width:1.5;\"/>\n    </g>\n    <g id=\"line2d_99\">\n     <g>\n      <use style=\"fill:#1f77b4;stroke:#1f77b4;\" x=\"806.149253\" xlink:href=\"#m40654095c3\" y=\"34.447187\"/>\n     </g>\n    </g>\n    <g id=\"text_31\">\n     <!-- Error -->\n     <g style=\"fill:#262626;\" transform=\"translate(824.149253 37.947187)scale(0.1 -0.1)\">\n      <use xlink:href=\"#ArialMT-69\"/>\n      <use x=\"66.699219\" xlink:href=\"#ArialMT-114\"/>\n      <use x=\"100\" xlink:href=\"#ArialMT-114\"/>\n      <use x=\"133.300781\" xlink:href=\"#ArialMT-111\"/>\n      <use x=\"188.916016\" xlink:href=\"#ArialMT-114\"/>\n     </g>\n    </g>\n   </g>\n  </g>\n  <g id=\"axes_4\">\n   <g id=\"patch_17\">\n    <path d=\"M 903.891304 293.589375 \nL 1146.5 293.589375 \nL 1146.5 21.789375 \nL 903.891304 21.789375 \nz\n\" style=\"fill:#ffffff;\"/>\n   </g>\n   <g id=\"matplotlib.axis_7\">\n    <g id=\"xtick_49\">\n     <g id=\"line2d_100\"/>\n     <g id=\"text_32\">\n      <!-- $\\mathdefault{10^{-1}}$ -->\n      <g style=\"fill:#262626;\" transform=\"translate(975.339883 307.401875)scale(0.1 -0.1)\">\n       <use transform=\"translate(0 0.99375)\" xlink:href=\"#ArialMT-49\"/>\n       <use transform=\"translate(55.615234 0.99375)\" xlink:href=\"#ArialMT-48\"/>\n       <use transform=\"translate(112.972813 70.6875)scale(0.7)\" xlink:href=\"#ArialMT-8722\"/>\n       <use transform=\"translate(153.851719 70.6875)scale(0.7)\" xlink:href=\"#ArialMT-49\"/>\n      </g>\n     </g>\n    </g>\n    <g id=\"xtick_50\">\n     <g id=\"line2d_101\"/>\n     <g id=\"text_33\">\n      <!-- $\\mathdefault{10^{0}}$ -->\n      <g style=\"fill:#262626;\" transform=\"translate(1138.65 307.401875)scale(0.1 -0.1)\">\n       <use transform=\"translate(0 0.99375)\" xlink:href=\"#ArialMT-49\"/>\n       <use transform=\"translate(55.615234 0.99375)\" xlink:href=\"#ArialMT-48\"/>\n       <use transform=\"translate(112.972813 70.6875)scale(0.7)\" xlink:href=\"#ArialMT-48\"/>\n      </g>\n     </g>\n    </g>\n    <g id=\"xtick_51\">\n     <g id=\"line2d_102\"/>\n    </g>\n    <g id=\"xtick_52\">\n     <g id=\"line2d_103\"/>\n    </g>\n    <g id=\"xtick_53\">\n     <g id=\"line2d_104\"/>\n    </g>\n    <g id=\"xtick_54\">\n     <g id=\"line2d_105\"/>\n    </g>\n    <g id=\"xtick_55\">\n     <g id=\"line2d_106\"/>\n    </g>\n    <g id=\"xtick_56\">\n     <g id=\"line2d_107\"/>\n    </g>\n    <g id=\"xtick_57\">\n     <g id=\"line2d_108\"/>\n    </g>\n    <g id=\"xtick_58\">\n     <g id=\"line2d_109\"/>\n    </g>\n    <g id=\"xtick_59\">\n     <g id=\"line2d_110\"/>\n    </g>\n    <g id=\"xtick_60\">\n     <g id=\"line2d_111\"/>\n    </g>\n    <g id=\"xtick_61\">\n     <g id=\"line2d_112\"/>\n    </g>\n    <g id=\"xtick_62\">\n     <g id=\"line2d_113\"/>\n    </g>\n    <g id=\"xtick_63\">\n     <g id=\"line2d_114\"/>\n    </g>\n    <g id=\"xtick_64\">\n     <g id=\"line2d_115\"/>\n    </g>\n    <g id=\"text_34\">\n     <!-- Mesh Size -->\n     <g style=\"fill:#262626;\" transform=\"translate(1001.854246 320.547187)scale(0.1 -0.1)\">\n      <use xlink:href=\"#ArialMT-77\"/>\n      <use x=\"83.300781\" xlink:href=\"#ArialMT-101\"/>\n      <use x=\"138.916016\" xlink:href=\"#ArialMT-115\"/>\n      <use x=\"188.916016\" xlink:href=\"#ArialMT-104\"/>\n      <use x=\"244.53125\" xlink:href=\"#ArialMT-32\"/>\n      <use x=\"272.314453\" xlink:href=\"#ArialMT-83\"/>\n      <use x=\"339.013672\" xlink:href=\"#ArialMT-105\"/>\n      <use x=\"361.230469\" xlink:href=\"#ArialMT-122\"/>\n      <use x=\"411.230469\" xlink:href=\"#ArialMT-101\"/>\n     </g>\n    </g>\n   </g>\n   <g id=\"matplotlib.axis_8\">\n    <g id=\"ytick_43\">\n     <g id=\"line2d_116\"/>\n     <g id=\"text_35\">\n      <!-- $\\mathdefault{10^{-4}}$ -->\n      <g style=\"fill:#262626;\" transform=\"translate(880.591304 252.332523)scale(0.1 -0.1)\">\n       <use transform=\"translate(0 0.201563)\" xlink:href=\"#ArialMT-49\"/>\n       <use transform=\"translate(55.615234 0.201563)\" xlink:href=\"#ArialMT-48\"/>\n       <use transform=\"translate(112.972813 69.895313)scale(0.7)\" xlink:href=\"#ArialMT-8722\"/>\n       <use transform=\"translate(153.851719 69.895313)scale(0.7)\" xlink:href=\"#ArialMT-52\"/>\n      </g>\n     </g>\n    </g>\n    <g id=\"ytick_44\">\n     <g id=\"line2d_117\"/>\n     <g id=\"text_36\">\n      <!-- $\\mathdefault{10^{-2}}$ -->\n      <g style=\"fill:#262626;\" transform=\"translate(880.591304 202.067291)scale(0.1 -0.1)\">\n       <use transform=\"translate(0 0.99375)\" xlink:href=\"#ArialMT-49\"/>\n       <use transform=\"translate(55.615234 0.99375)\" xlink:href=\"#ArialMT-48\"/>\n       <use transform=\"translate(112.972813 70.6875)scale(0.7)\" xlink:href=\"#ArialMT-8722\"/>\n       <use transform=\"translate(153.851719 70.6875)scale(0.7)\" xlink:href=\"#ArialMT-50\"/>\n      </g>\n     </g>\n    </g>\n    <g id=\"ytick_45\">\n     <g id=\"line2d_118\"/>\n     <g id=\"text_37\">\n      <!-- $\\mathdefault{10^{0}}$ -->\n      <g style=\"fill:#262626;\" transform=\"translate(884.691304 151.75206)scale(0.1 -0.1)\">\n       <use transform=\"translate(0 0.99375)\" xlink:href=\"#ArialMT-49\"/>\n       <use transform=\"translate(55.615234 0.99375)\" xlink:href=\"#ArialMT-48\"/>\n       <use transform=\"translate(112.972813 70.6875)scale(0.7)\" xlink:href=\"#ArialMT-48\"/>\n      </g>\n     </g>\n    </g>\n    <g id=\"ytick_46\">\n     <g id=\"line2d_119\"/>\n     <g id=\"text_38\">\n      <!-- $\\mathdefault{10^{2}}$ -->\n      <g style=\"fill:#262626;\" transform=\"translate(884.691304 101.436829)scale(0.1 -0.1)\">\n       <use transform=\"translate(0 0.99375)\" xlink:href=\"#ArialMT-49\"/>\n       <use transform=\"translate(55.615234 0.99375)\" xlink:href=\"#ArialMT-48\"/>\n       <use transform=\"translate(112.972813 70.6875)scale(0.7)\" xlink:href=\"#ArialMT-50\"/>\n      </g>\n     </g>\n    </g>\n    <g id=\"ytick_47\">\n     <g id=\"line2d_120\"/>\n     <g id=\"text_39\">\n      <!-- $\\mathdefault{10^{4}}$ -->\n      <g style=\"fill:#262626;\" transform=\"translate(884.691304 51.071598)scale(0.1 -0.1)\">\n       <use transform=\"translate(0 0.201563)\" xlink:href=\"#ArialMT-49\"/>\n       <use transform=\"translate(55.615234 0.201563)\" xlink:href=\"#ArialMT-48\"/>\n       <use transform=\"translate(112.972813 69.895313)scale(0.7)\" xlink:href=\"#ArialMT-52\"/>\n      </g>\n     </g>\n    </g>\n   </g>\n   <g id=\"line2d_121\">\n    <path clip-path=\"url(#p984365809f)\" d=\"M 1146.5 194.482265 \nL 1097.955868 227.08744 \nL 1049.411736 242.664804 \nL 1000.867603 259.922937 \nL 952.323471 281.23483 \nL 903.891304 34.14392 \n\" style=\"fill:none;stroke:#1f77b4;stroke-linecap:round;stroke-width:1.5;\"/>\n    <g clip-path=\"url(#p984365809f)\">\n     <use style=\"fill:#1f77b4;stroke:#1f77b4;\" x=\"1146.5\" xlink:href=\"#m40654095c3\" y=\"194.482265\"/>\n     <use style=\"fill:#1f77b4;stroke:#1f77b4;\" x=\"1097.955868\" xlink:href=\"#m40654095c3\" y=\"227.08744\"/>\n     <use style=\"fill:#1f77b4;stroke:#1f77b4;\" x=\"1049.411736\" xlink:href=\"#m40654095c3\" y=\"242.664804\"/>\n     <use style=\"fill:#1f77b4;stroke:#1f77b4;\" x=\"1000.867603\" xlink:href=\"#m40654095c3\" y=\"259.922937\"/>\n     <use style=\"fill:#1f77b4;stroke:#1f77b4;\" x=\"952.323471\" xlink:href=\"#m40654095c3\" y=\"281.23483\"/>\n     <use style=\"fill:#1f77b4;stroke:#1f77b4;\" x=\"903.891304\" xlink:href=\"#m40654095c3\" y=\"34.14392\"/>\n    </g>\n   </g>\n   <g id=\"patch_18\">\n    <path d=\"M 903.891304 293.589375 \nL 903.891304 21.789375 \n\" style=\"fill:none;stroke:#262626;stroke-linecap:square;stroke-linejoin:miter;stroke-width:1.25;\"/>\n   </g>\n   <g id=\"patch_19\">\n    <path d=\"M 1146.5 293.589375 \nL 1146.5 21.789375 \n\" style=\"fill:none;stroke:#262626;stroke-linecap:square;stroke-linejoin:miter;stroke-width:1.25;\"/>\n   </g>\n   <g id=\"patch_20\">\n    <path d=\"M 903.891304 293.589375 \nL 1146.5 293.589375 \n\" style=\"fill:none;stroke:#262626;stroke-linecap:square;stroke-linejoin:miter;stroke-width:1.25;\"/>\n   </g>\n   <g id=\"patch_21\">\n    <path d=\"M 903.891304 21.789375 \nL 1146.5 21.789375 \n\" style=\"fill:none;stroke:#262626;stroke-linecap:square;stroke-linejoin:miter;stroke-width:1.25;\"/>\n   </g>\n   <g id=\"text_40\">\n    <!-- k = 4 -->\n    <g style=\"fill:#262626;\" transform=\"translate(1012.020965 15.789375)scale(0.12 -0.12)\">\n     <use xlink:href=\"#ArialMT-107\"/>\n     <use x=\"50\" xlink:href=\"#ArialMT-32\"/>\n     <use x=\"77.783203\" xlink:href=\"#ArialMT-61\"/>\n     <use x=\"136.181641\" xlink:href=\"#ArialMT-32\"/>\n     <use x=\"163.964844\" xlink:href=\"#ArialMT-52\"/>\n    </g>\n   </g>\n   <g id=\"legend_4\">\n    <g id=\"line2d_122\">\n     <path d=\"M 1087.279688 34.447187 \nL 1107.279688 34.447187 \n\" style=\"fill:none;stroke:#1f77b4;stroke-linecap:round;stroke-width:1.5;\"/>\n    </g>\n    <g id=\"line2d_123\">\n     <g>\n      <use style=\"fill:#1f77b4;stroke:#1f77b4;\" x=\"1097.279688\" xlink:href=\"#m40654095c3\" y=\"34.447187\"/>\n     </g>\n    </g>\n    <g id=\"text_41\">\n     <!-- Error -->\n     <g style=\"fill:#262626;\" transform=\"translate(1115.279688 37.947187)scale(0.1 -0.1)\">\n      <use xlink:href=\"#ArialMT-69\"/>\n      <use x=\"66.699219\" xlink:href=\"#ArialMT-114\"/>\n      <use x=\"100\" xlink:href=\"#ArialMT-114\"/>\n      <use x=\"133.300781\" xlink:href=\"#ArialMT-111\"/>\n      <use x=\"188.916016\" xlink:href=\"#ArialMT-114\"/>\n     </g>\n    </g>\n   </g>\n  </g>\n </g>\n <defs>\n  <clipPath id=\"p0add1af9f3\">\n   <rect height=\"271.8\" width=\"242.608696\" x=\"30.5\" y=\"21.789375\"/>\n  </clipPath>\n  <clipPath id=\"p2100a2eae7\">\n   <rect height=\"271.8\" width=\"242.608696\" x=\"321.630435\" y=\"21.789375\"/>\n  </clipPath>\n  <clipPath id=\"pbd07777a89\">\n   <rect height=\"271.8\" width=\"242.608696\" x=\"612.76087\" y=\"21.789375\"/>\n  </clipPath>\n  <clipPath id=\"p984365809f\">\n   <rect height=\"271.8\" width=\"242.608696\" x=\"903.891304\" y=\"21.789375\"/>\n  </clipPath>\n </defs>\n</svg>\n",
      "image/png": "[encoded data removed]"
     },
     "metadata": {}
    }
   ],
   "source": [
    "%matplotlib inline\n",
    "import matplotlib.pyplot as plt\n",
    "plt.style.use('seaborn-white')\n",
    "import pandas as pd\n",
    "from functools import reduce\n",
    "from IPython.display import Image, display\n",
    "import matplotlib.image as mpimg\n",
    "\n",
    "\n",
    "order_1 = table[table.Order.eq(1.0)]\n",
    "order_2 = table[table.Order.eq(2.0)]\n",
    "order_3 = table[table.Order.eq(3.0)]\n",
    "order_4 = table[table.Order.eq(4.0)]\n",
    "\n",
    "fig, (ax1, ax2, ax3, ax4) = plt.subplots(1, 4, figsize=(20,5))\n",
    "\n",
    "order_1.plot(x='Mesh Size', y='Error', ax=ax1, legend=True, title='k = 1', style='.-', loglog=True)\n",
    "order_2.plot(x='Mesh Size', y='Error', ax=ax2, legend=True, title='k = 2', style='.-', loglog=True)\n",
    "order_3.plot(x='Mesh Size', y='Error', ax=ax3, legend=True, title='k = 3', style='.-', loglog=True)\n",
    "order_4.plot(x='Mesh Size', y='Error', ax=ax4, legend=True, title='k = 4', style='.-', loglog=True)\n",
    "\n",
    "\n",
    "\n"
   ]
  },
  {
   "cell_type": "code",
   "execution_count": null,
   "metadata": {},
   "outputs": [],
   "source": []
  }
 ],
 "metadata": {
  "kernelspec": {
   "display_name": "Python 3",
   "language": "python",
   "name": "python3"
  },
  "language_info": {
   "codemirror_mode": {
    "name": "ipython",
    "version": 3
   },
   "file_extension": ".py",
   "mimetype": "text/x-python",
   "name": "python",
   "nbconvert_exporter": "python",
   "pygments_lexer": "ipython3",
   "version": "3.7.6-final"
  },
  "toc": {
   "base_numbering": 1,
   "nav_menu": {},
   "number_sections": true,
   "sideBar": true,
   "skip_h1_title": false,
   "title_cell": "Table of Contents",
   "title_sidebar": "Contents",
   "toc_cell": false,
   "toc_position": {},
   "toc_section_display": true,
   "toc_window_display": false
  },
  "varInspector": {
   "cols": {
    "lenName": 16,
    "lenType": 16,
    "lenVar": 40
   },
   "kernels_config": {
    "python": {
     "delete_cmd_postfix": "",
     "delete_cmd_prefix": "del ",
     "library": "var_list.py",
     "varRefreshCmd": "print(var_dic_list())"
    },
    "r": {
     "delete_cmd_postfix": ") ",
     "delete_cmd_prefix": "rm(",
     "library": "var_list.r",
     "varRefreshCmd": "cat(var_dic_list()) "
    }
   },
   "types_to_exclude": [
    "module",
    "function",
    "builtin_function_or_method",
    "instance",
    "_Feature"
   ],
   "window_display": true
  }
 },
 "nbformat": 4,
 "nbformat_minor": 2
}