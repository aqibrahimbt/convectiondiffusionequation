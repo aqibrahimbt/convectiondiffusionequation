{
 "cells": [
  {
   "cell_type": "code",
   "execution_count": 1,
   "metadata": {},
   "outputs": [],
   "source": [
    "import netgen.gui\n",
    "from netgen.geom2d import *\n",
    "from ngsolve import *"
   ]
  },
  {
   "cell_type": "code",
   "execution_count": 14,
   "metadata": {},
   "outputs": [
    {
     "name": "stdout",
     "output_type": "stream",
     "text": [
      "4\n",
      "0: 0111\n",
      "V0 (0.0, 0.0)\n",
      "V1 (1.0, 0.0)\n",
      "V2 (1.0, 1.0)\n",
      "V3 (0.0, 1.0)\n",
      "V4 (0.5, 0.5000000007631067)\n",
      "<class 'ngsolve.comp.Ngs_Element'>\n",
      "vertices:  (V0, V1, V4)\n",
      "edges:  (E2, E4, E0)\n",
      "<class 'ngsolve.comp.Ngs_Element'>\n",
      "vertices:  (V1, V2, V4)\n",
      "edges:  (E4, E6, E3)\n",
      "<class 'ngsolve.comp.Ngs_Element'>\n",
      "vertices:  (V2, V3, V4)\n",
      "edges:  (E6, E7, E5)\n",
      "<class 'ngsolve.comp.Ngs_Element'>\n",
      "vertices:  (V0, V4, V3)\n",
      "edges:  (E1, E7, E2)\n"
     ]
    }
   ],
   "source": [
    "mesh = Mesh(unit_square.GenerateMesh(maxh=0.8))\n",
    "Q = L2(mesh, order=0)\n",
    "ba = BitArray(mesh.ne)\n",
    "print(mesh.ne)\n",
    "ba.Set()\n",
    "ba[0] = False\n",
    "print(ba)\n",
    "\n",
    "for v in mesh.vertices:\n",
    "    print (v, v.point)\n",
    "\n",
    "for el in mesh.Elements(VOL):\n",
    "    print(type(el))\n",
    "    print (\"vertices: \", el.vertices)   # get vertices of an element\n",
    "    print (\"edges: \", el.edges)  \n",
    "#ba.Set()\n",
    "#ba[0] = False\n",
    "#print(ba)\n",
    "#Q = Compress(Q, active_dofs=ba)"
   ]
  },
  {
   "cell_type": "code",
   "execution_count": 4,
   "metadata": {},
   "outputs": [
    {
     "ename": "NameError",
     "evalue": "name 'LevelSetMeshAdaptation' is not defined",
     "output_type": "error",
     "traceback": [
      "\u001b[0;31m---------------------------------------------------------------------------\u001b[0m",
      "\u001b[0;31mNameError\u001b[0m                                 Traceback (most recent call last)",
      "\u001b[0;32m<ipython-input-4-c79d3c82c2a1>\u001b[0m in \u001b[0;36m<module>\u001b[0;34m\u001b[0m\n\u001b[1;32m     19\u001b[0m \u001b[0mVh\u001b[0m \u001b[0;34m=\u001b[0m \u001b[0mH1\u001b[0m\u001b[0;34m(\u001b[0m\u001b[0mmesh\u001b[0m\u001b[0;34m,\u001b[0m \u001b[0morder\u001b[0m \u001b[0;34m=\u001b[0m \u001b[0;36m1\u001b[0m\u001b[0;34m)\u001b[0m\u001b[0;34m\u001b[0m\u001b[0;34m\u001b[0m\u001b[0m\n\u001b[1;32m     20\u001b[0m \u001b[0;34m\u001b[0m\u001b[0m\n\u001b[0;32m---> 21\u001b[0;31m \u001b[0mlsetmeshadap\u001b[0m \u001b[0;34m=\u001b[0m \u001b[0mLevelSetMeshAdaptation\u001b[0m\u001b[0;34m(\u001b[0m\u001b[0mmesh\u001b[0m\u001b[0;34m,\u001b[0m \u001b[0morder\u001b[0m\u001b[0;34m=\u001b[0m\u001b[0;36m1\u001b[0m\u001b[0;34m,\u001b[0m \u001b[0mthreshold\u001b[0m\u001b[0;34m=\u001b[0m\u001b[0;36m0.1\u001b[0m\u001b[0;34m,\u001b[0m \u001b[0mdiscontinuous_qn\u001b[0m\u001b[0;34m=\u001b[0m\u001b[0;32mTrue\u001b[0m\u001b[0;34m)\u001b[0m\u001b[0;34m\u001b[0m\u001b[0;34m\u001b[0m\u001b[0m\n\u001b[0m\u001b[1;32m     22\u001b[0m \u001b[0mdeformation\u001b[0m \u001b[0;34m=\u001b[0m \u001b[0mlsetmeshadap\u001b[0m\u001b[0;34m.\u001b[0m\u001b[0mCalcDeformation\u001b[0m\u001b[0;34m(\u001b[0m\u001b[0mlevelset\u001b[0m\u001b[0;34m)\u001b[0m\u001b[0;34m\u001b[0m\u001b[0;34m\u001b[0m\u001b[0m\n\u001b[1;32m     23\u001b[0m \u001b[0mlsetp1\u001b[0m \u001b[0;34m=\u001b[0m \u001b[0mlsetmeshadap\u001b[0m\u001b[0;34m.\u001b[0m\u001b[0mlset_p1\u001b[0m\u001b[0;34m\u001b[0m\u001b[0;34m\u001b[0m\u001b[0m\n",
      "\u001b[0;31mNameError\u001b[0m: name 'LevelSetMeshAdaptation' is not defined"
     ]
    }
   ],
   "source": [
    "from netgen.geom2d import SplineGeometry\n",
    "from netgen.meshing import MeshingParameters\n",
    "from ngsolve import *                               \n",
    "#from xfem import *\n",
    "#from xfem.lsetcurv import *\n",
    "\n",
    "# Geometry \n",
    "square = SplineGeometry()\n",
    "square.AddRectangle([-1.5,-1.5],[1.5,1.5],bc=1)\n",
    "\n",
    "#quad version:\n",
    "ngmesh = square.GenerateMesh(maxh=0.15, quad_dominated=True)\n",
    "mesh = Mesh (ngmesh)\n",
    "\n",
    "#Boundary with Level set method\n",
    "R=1.#Circle's  radious\n",
    "levelset = sqrt(x*x+y*y) - R\n",
    "\n",
    "Vh = H1(mesh, order = 1)  \n",
    "\n",
    "lsetmeshadap = LevelSetMeshAdaptation(mesh, order=1, threshold=0.1, discontinuous_qn=True)\n",
    "deformation = lsetmeshadap.CalcDeformation(levelset)\n",
    "lsetp1 = lsetmeshadap.lset_p1\n",
    "\n",
    "lset_neg = { \"levelset\" : lsetp1, \"domain_type\" : NEG, \"subdivlvl\" : 0}\n",
    "lset_IF = { \"levelset\" : lsetp1, \"domain_type\" : IF, \"subdivlvl\" : 0}\n",
    "\n",
    "ci = CutInfo(mesh,lsetp1)\n",
    "hasneg = BitArray(ci.GetElementsOfType(NEG,VOL))\n",
    "hasif = BitArray(ci.GetElementsOfType(IF,VOL))#VOL or BND#\n",
    "\n",
    "#active_dofs = GetDofsOfElements(Vh,hasneg)\n",
    "#active_dofs &= Vh.FreeDofs()\n",
    "\n",
    "NEGMesh=BitArrayCF(hasneg)\n",
    "IFMesh=BitArrayCF(hasif)\n",
    "\n",
    "Draw(NEGMesh,mesh,\"NEG\")\n",
    "input(\"continue\")\n",
    "Draw(IFMesh,mesh,\"IF\")\n",
    "input(\"continue\")\n",
    "test = ci.GetElementsOfType(IF,VOL)\n",
    "for i in range(2):#for i in range(5):\n",
    "    a0 = GetFacetsWithNeighborTypes(mesh,a=hasneg,b=test,\n",
    "                                   bnd_val_a=True,bnd_val_b=True,\n",
    "                                   use_and=True)\n",
    "    test = GetElementsWithNeighborFacets(mesh,a0)\n",
    "    Draw(BitArrayCF(test),mesh,\"marked\")\n",
    "    print(test)\n",
    "    Redraw()\n",
    "    input(\"continue\")\n",
    "\n",
    "           \n",
    "a = BilinearForm(Vh,symmetric=False)       \n",
    "u,v = Vh.TrialFunction(), Vh.TestFunction()\n",
    " \n",
    "# Diffusion term\n",
    "print(\"type(IF)=\",type(IF),\"\\n\")               # <class 'xfem.ngsxfem_py.DOMAIN_TYPE'> \n",
    "print(\"type(lset_IF)=\",type(lset_IF),\"\\n\")     # <class 'dict'> \n",
    "print(\"type(test)=\",type(test),\"\\n\")           # <class 'ngsolve.ngstd.BitArray'>\n",
    "#lset_IF = { \"levelset\" : lsetp1, \"domain_type\" : IF, \"subdivlvl\" : 0} #it works\n",
    "#a += SymbolicBFI(lset_IF,form = u*v)                                  #it works\n",
    "lset_test = { \"levelset\" : lsetp1, \"domain_type\" : test, \"subdivlvl\" : 0} #It does not give any error\n",
    "print(\"type(lset_test)=\",type(lset_test),\"\\n\") #<class 'dict'> \n",
    "a += SymbolicBFI(lset_test,form = u*v)  "
   ]
  },
  {
   "cell_type": "code",
   "execution_count": null,
   "metadata": {},
   "outputs": [],
   "source": []
  }
 ],
 "metadata": {
  "kernelspec": {
   "display_name": "Python 3",
   "language": "python",
   "name": "python3"
  },
  "language_info": {
   "codemirror_mode": {
    "name": "ipython",
    "version": 3
   },
   "file_extension": ".py",
   "mimetype": "text/x-python",
   "name": "python",
   "nbconvert_exporter": "python",
   "pygments_lexer": "ipython3",
   "version": "3.7.5"
  }
 },
 "nbformat": 4,
 "nbformat_minor": 2
}
