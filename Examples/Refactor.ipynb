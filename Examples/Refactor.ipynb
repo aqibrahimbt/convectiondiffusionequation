{
 "cells": [
  {
   "cell_type": "code",
   "execution_count": 1,
   "metadata": {
    "ExecuteTime": {
     "end_time": "2020-03-17T05:02:02.814730Z",
     "start_time": "2020-03-17T05:02:01.808334Z"
    }
   },
   "outputs": [],
   "source": [
    "import netgen.gui\n",
    "from netgen.geom2d import unit_square\n",
    "from ngsolve import *\n",
    "import pandas as pd\n",
    "from ngsolve import grad as oldgrad"
   ]
  },
  {
   "cell_type": "code",
   "execution_count": 7,
   "metadata": {
    "ExecuteTime": {
     "end_time": "2020-03-17T05:03:11.815541Z",
     "start_time": "2020-03-17T05:03:11.806811Z"
    }
   },
   "outputs": [],
   "source": [
    "beta = (2,0.001)\n",
    "eps = 0.01\n",
    "\n",
    "p = lambda x: x + (exp(beta[0]*(x-1)/eps)-exp(-beta[0]/eps))/(exp(-beta[0]/eps)-1)\n",
    "q = lambda y: y + (exp(beta[1]*(y-1)/eps)-exp(-beta[1]/eps))/(exp(-beta[1]/eps)-1)\n",
    "\n",
    "exact = p(x) * q(y)\n",
    "\n",
    "coeff =  beta[1] * p(x) +  beta[0] * q(y)\n",
    "\n",
    "coeff_x = p(x)\n",
    "coeff_y = q(y)\n",
    "\n",
    "\n",
    "new_config = {\n",
    "    'method': 'dg', #options are dg, hdg\n",
    "    'order': [1, 2, 3],\n",
    "    'beta': (2,0.001),\n",
    "    'mesh_size': [1.0, 0.5, 0.25, 0.1250, 0.0625, 0.0313],\n",
    "    'epsilon': 0.01,\n",
    "    'exact': exact,\n",
    "    'coeff': coeff,\n",
    "    'coeff_x': coeff_x,\n",
    "    'coeff_y': coeff_y,\n",
    "    'alpha': 20, \n",
    "    'enrich': True, \n",
    "}\n"
   ]
  },
  {
   "cell_type": "code",
   "execution_count": 8,
   "metadata": {
    "ExecuteTime": {
     "end_time": "2020-03-17T05:03:13.222539Z",
     "start_time": "2020-03-17T05:03:13.205110Z"
    }
   },
   "outputs": [],
   "source": [
    "class EnrichmentProxy(CoefficientFunction):\n",
    "    \"\"\"\n",
    "    Provide wrappers for grad/Other and multiplication of enrichment lists.\n",
    "    \"\"\"\n",
    "    def __init__(self, func, enr_list):\n",
    "        self.func = func\n",
    "        self.enr_list = enr_list\n",
    "        self.grad_list = [CoefficientFunction((coeff.Diff(x), coeff.Diff(y))) for coeff in self.enr_list ]\n",
    "    def __call__(self):\n",
    "        return self.func[0] + sum([self.func[i]*self.enr_list[i-1] for i in range(1,len(self.enr_list)+1)])\n",
    "    def __mul__(self, other):\n",
    "        if type(other) == EnrichmentProxy:\n",
    "            return self() * other()\n",
    "        else:\n",
    "            return self() * other\n",
    "    def __rmul__(self,other):\n",
    "        return self.__mul__(other)    \n",
    "    \n",
    "    def __add__(self, other):\n",
    "        if type(other) == EnrichmentProxy:\n",
    "            return self() + other()\n",
    "        else:\n",
    "            return self() + other\n",
    "    def __radd__(self,other):\n",
    "        return self.__add__(other)\n",
    "    \n",
    "    def __sub__(self, other):\n",
    "        if type(other) == EnrichmentProxy:\n",
    "            return self() - other()\n",
    "        else:\n",
    "            return self() - other\n",
    "    def __rsub__(self,other):\n",
    "        return self.__sub__(other)\n",
    "    \n",
    "    def grad(self):\n",
    "        mygrad = oldgrad(self.func[0])\n",
    "        for i in range(1,len(self.enr_list)):\n",
    "            mygrad += self.func[i] * self.grad_list[i-1]\n",
    "            mygrad += oldgrad(self.func[i])*self.enr_list[i-1]\n",
    "        return mygrad\n",
    "    \n",
    "    def Other(self):\n",
    "        return EnrichmentProxy([f.Other() for f in self.func],self.enr_list)\n",
    "    \n",
    "def grad(q):\n",
    "    if type(q) == EnrichmentProxy:\n",
    "        return q.grad()\n",
    "    else:\n",
    "        return oldgrad(q)\n",
    "\n",
    "    \n",
    "'''Mark elements in the mesh to be enriched'''\n",
    "def mark_element(Q, mesh, axes, mesh_size):\n",
    "    ba = BitArray(Q.ndof)        \n",
    "    ba.Clear()\n",
    "    for el in Q.Elements():\n",
    "        mark = False\n",
    "        for v in el.vertices:\n",
    "            if (mesh[v].point[axes] > 1-(0.001 * mesh_size)):\n",
    "                mark = True\n",
    "        for dof in el.dofs:\n",
    "            ba[dof] = mark\n",
    "        Qx = Compress(Q, active_dofs=ba)     \n",
    "    return Qx"
   ]
  },
  {
   "cell_type": "code",
   "execution_count": 9,
   "metadata": {
    "ExecuteTime": {
     "end_time": "2020-03-17T05:03:13.988515Z",
     "start_time": "2020-03-17T05:03:13.956676Z"
    }
   },
   "outputs": [],
   "source": [
    "\"\"\"\n",
    "(Hybrid) Discontinuous Galerkin Method with Upwinding\n",
    "\"\"\"\n",
    "\n",
    "class Convection_Diffusion():\n",
    "    \n",
    "    config = {\n",
    "    }\n",
    "    \n",
    "    def __init__(self, new_config={}):\n",
    "        self.config.update(new_config)        \n",
    "    \n",
    "    def _solveDG(self):\n",
    "        for order in self.config['order']:\n",
    "            for size in self.config['mesh_size']:\n",
    "                mesh = Mesh(unit_square.GenerateMesh(maxh=size))\n",
    "                V = L2(mesh, order=order, dgjumps=True)        \n",
    "\n",
    "                if self.config['enrich'] == True:\n",
    "                    print('Running DG enrichment option')\n",
    "                    Q = L2(mesh, order=0) \n",
    "                    axes = (0, 1)\n",
    "                    Qx = mark_element(Q, mesh, axes[0], size)\n",
    "                    Qy = mark_element(Q, mesh, axes[1], size)\n",
    "\n",
    "                    fes = FESpace([V, Qx, Qy], dgjumps = True)\n",
    "\n",
    "                    u = EnrichmentProxy(fes.TrialFunction(),[self.config['coeff_x'], self.config['coeff_y']])\n",
    "                    v = EnrichmentProxy(fes.TestFunction(), [self.config['coeff_x'], self.config['coeff_y']])\n",
    "\n",
    "                else:\n",
    "                    fes = V\n",
    "                    u, v = fes.TnT()\n",
    "\n",
    "                jump_u = u-u.Other()\n",
    "                jump_v = v-v.Other()\n",
    "                n = specialcf.normal(2)\n",
    "                mean_dudn = 0.5 * n * (grad(u) + grad(u.Other()))\n",
    "                mean_dvdn = 0.5 * n * (grad(v) + grad(v.Other()))\n",
    "\n",
    "                h = specialcf.mesh_size\n",
    "\n",
    "                # diffusion\n",
    "                diffusion = grad(u) * grad(v) * dx \\\n",
    "                    +self.config['alpha'] * order ** 2/ h * jump_u * jump_v * dx(skeleton=True) \\\n",
    "                    +(-mean_dudn * jump_v - mean_dvdn * jump_u) * dx(skeleton=True) \\\n",
    "                    +self.config['alpha'] * order ** 2/h * u * v * ds(skeleton=True) \\\n",
    "                    + (-n * grad(u) * v -n * grad(v) * u) * ds(skeleton=True)\n",
    "\n",
    "                # convection\n",
    "                b = CoefficientFunction((self.config['beta'][0], self.config['beta'][1]))\n",
    "\n",
    "                if self.config['enrich'] == True:\n",
    "                    uup = IfPos(b * n, u(), u.Other()())\n",
    "                else:\n",
    "                    uup = IfPos(b * n, u, u.Other())\n",
    "\n",
    "                convection = -b * u * grad(v) * dx + b * n * uup * jump_v * dx(skeleton=True)\n",
    "\n",
    "                acd = BilinearForm(fes)\n",
    "                acd += self.config['epsilon'] * diffusion + convection\n",
    "                acd.Assemble()\n",
    "\n",
    "                # rhs\n",
    "                f = LinearForm(fes)\n",
    "                f += SymbolicLFI(self.config['coeff'] * v)\n",
    "                f.Assemble()\n",
    "\n",
    "                gfu = GridFunction(fes, name=\"uDG\")        \n",
    "                gfu.vec.data = acd.mat.Inverse(freedofs=fes.FreeDofs(),inverse=\"umfpack\") * f.vec\n",
    "\n",
    "                error = sqrt (Integrate ((gfu-self.config['exact'])*(gfu-self.config['exact']), mesh))\n",
    "                print ('Order:', order, 'Mesh Size:', size , \"L2-error:\", error)\n",
    "\n",
    "        return error\n",
    "    \n",
    "    \n",
    "    def _solveHDG(self):\n",
    "        mesh = Mesh(unit_square.GenerateMesh(maxh=size))\n",
    "        \n",
    "        if self.config['enrich'] == True:    \n",
    "            V = L2(mesh, order=order)\n",
    "            F = FacetFESpace(mesh, order=order, dirichlet=\"bottom|left|right|top\")\n",
    "            fes = FESpace([V,F])\n",
    "            u,uhat = fes.TrialFunction()\n",
    "            v,vhat = fes.TestFunction()\n",
    "\n",
    "            jump_u = u-uhat\n",
    "            jump_v = v-vhat\n",
    "\n",
    "            condense = True\n",
    "            h = specialcf.mesh_size\n",
    "            n = specialcf.normal(mesh.dim)\n",
    "\n",
    "            dS = dx(element_boundary=True)\n",
    "\n",
    "            # diffusion\n",
    "            diffusion = grad(u) * grad(v) * dx + \\\n",
    "                alpha * order ** 2/h * jump_u * jump_v * dS + \\\n",
    "                (-grad(u) * n * jump_v - grad(v) * n * jump_u) * dS\n",
    "\n",
    "            # convection            \n",
    "            b = CoefficientFunction((beta[0],beta[1])) \n",
    "            uup = IfPos(b * n, u, uhat)\n",
    "            convection = -b * u * grad(v) * dx + b * n * uup * jump_v * dS\n",
    "\n",
    "            acd = BilinearForm(fes, condense=condense)\n",
    "            acd += eps * diffusion + convection\n",
    "            acd.Assemble()\n",
    "\n",
    "            #rhs\n",
    "            f = LinearForm(fes)\n",
    "            f += SymbolicLFI(coeff * v)\n",
    "            f.Assemble()\n",
    "\n",
    "            gfu = GridFunction(fes)    \n",
    "            if not condense:\n",
    "                inv = acd.mat.Inverse(fes.FreeDofs(), \"umfpack\")\n",
    "                gfu.vec.data = inv * f.vec\n",
    "            else:\n",
    "                f.vec.data += acd.harmonic_extension_trans * f.vec\n",
    "\n",
    "                inv = acd.mat.Inverse(fes.FreeDofs(True), \"umfpack\")\n",
    "                gfu.vec.data = inv * f.vec\n",
    "\n",
    "                gfu.vec.data += acd.harmonic_extension * gfu.vec\n",
    "                gfu.vec.data += acd.inner_solve * f.vec\n",
    "\n",
    "        return gfu   "
   ]
  },
  {
   "cell_type": "code",
   "execution_count": 10,
   "metadata": {
    "ExecuteTime": {
     "end_time": "2020-03-17T05:03:15.947598Z",
     "start_time": "2020-03-17T05:03:15.779249Z"
    }
   },
   "outputs": [
    {
     "name": "stdout",
     "output_type": "stream",
     "text": [
      "running enrichment option\n"
     ]
    },
    {
     "ename": "NgException",
     "evalue": "don't know my dimension, space is CompoundFESpace",
     "output_type": "error",
     "traceback": [
      "\u001b[0;31m---------------------------------------------------------------------------\u001b[0m",
      "\u001b[0;31mNgException\u001b[0m                               Traceback (most recent call last)",
      "\u001b[0;32m<ipython-input-10-57b10843cffc>\u001b[0m in \u001b[0;36m<module>\u001b[0;34m\u001b[0m\n\u001b[1;32m      1\u001b[0m \u001b[0mCT\u001b[0m \u001b[0;34m=\u001b[0m \u001b[0mConvection_Diffusion\u001b[0m\u001b[0;34m(\u001b[0m\u001b[0mnew_config\u001b[0m\u001b[0;34m)\u001b[0m\u001b[0;34m\u001b[0m\u001b[0;34m\u001b[0m\u001b[0m\n\u001b[0;32m----> 2\u001b[0;31m \u001b[0mCT\u001b[0m\u001b[0;34m.\u001b[0m\u001b[0m_solveDG\u001b[0m\u001b[0;34m(\u001b[0m\u001b[0;34m)\u001b[0m\u001b[0;34m\u001b[0m\u001b[0;34m\u001b[0m\u001b[0m\n\u001b[0m",
      "\u001b[0;32m<ipython-input-9-ef6baee2346d>\u001b[0m in \u001b[0;36m_solveDG\u001b[0;34m(self)\u001b[0m\n\u001b[1;32m     70\u001b[0m                 \u001b[0mgfu\u001b[0m\u001b[0;34m.\u001b[0m\u001b[0mvec\u001b[0m\u001b[0;34m.\u001b[0m\u001b[0mdata\u001b[0m \u001b[0;34m=\u001b[0m \u001b[0macd\u001b[0m\u001b[0;34m.\u001b[0m\u001b[0mmat\u001b[0m\u001b[0;34m.\u001b[0m\u001b[0mInverse\u001b[0m\u001b[0;34m(\u001b[0m\u001b[0mfreedofs\u001b[0m\u001b[0;34m=\u001b[0m\u001b[0mfes\u001b[0m\u001b[0;34m.\u001b[0m\u001b[0mFreeDofs\u001b[0m\u001b[0;34m(\u001b[0m\u001b[0;34m)\u001b[0m\u001b[0;34m,\u001b[0m\u001b[0minverse\u001b[0m\u001b[0;34m=\u001b[0m\u001b[0;34m\"umfpack\"\u001b[0m\u001b[0;34m)\u001b[0m \u001b[0;34m*\u001b[0m \u001b[0mf\u001b[0m\u001b[0;34m.\u001b[0m\u001b[0mvec\u001b[0m\u001b[0;34m\u001b[0m\u001b[0;34m\u001b[0m\u001b[0m\n\u001b[1;32m     71\u001b[0m \u001b[0;34m\u001b[0m\u001b[0m\n\u001b[0;32m---> 72\u001b[0;31m                 \u001b[0merror\u001b[0m \u001b[0;34m=\u001b[0m \u001b[0msqrt\u001b[0m \u001b[0;34m(\u001b[0m\u001b[0mIntegrate\u001b[0m \u001b[0;34m(\u001b[0m\u001b[0;34m(\u001b[0m\u001b[0mgfu\u001b[0m\u001b[0;34m-\u001b[0m\u001b[0mself\u001b[0m\u001b[0;34m.\u001b[0m\u001b[0mconfig\u001b[0m\u001b[0;34m[\u001b[0m\u001b[0;34m'exact'\u001b[0m\u001b[0;34m]\u001b[0m\u001b[0;34m)\u001b[0m\u001b[0;34m*\u001b[0m\u001b[0;34m(\u001b[0m\u001b[0mgfu\u001b[0m\u001b[0;34m-\u001b[0m\u001b[0mself\u001b[0m\u001b[0;34m.\u001b[0m\u001b[0mconfig\u001b[0m\u001b[0;34m[\u001b[0m\u001b[0;34m'exact'\u001b[0m\u001b[0;34m]\u001b[0m\u001b[0;34m)\u001b[0m\u001b[0;34m,\u001b[0m \u001b[0mmesh\u001b[0m\u001b[0;34m)\u001b[0m\u001b[0;34m)\u001b[0m\u001b[0;34m\u001b[0m\u001b[0;34m\u001b[0m\u001b[0m\n\u001b[0m\u001b[1;32m     73\u001b[0m                 \u001b[0mprint\u001b[0m \u001b[0;34m(\u001b[0m\u001b[0;34m'Order:'\u001b[0m\u001b[0;34m,\u001b[0m \u001b[0morder\u001b[0m\u001b[0;34m,\u001b[0m \u001b[0;34m'Mesh Size:'\u001b[0m\u001b[0;34m,\u001b[0m \u001b[0msize\u001b[0m \u001b[0;34m,\u001b[0m \u001b[0;34m\"L2-error:\"\u001b[0m\u001b[0;34m,\u001b[0m \u001b[0merror\u001b[0m\u001b[0;34m)\u001b[0m\u001b[0;34m\u001b[0m\u001b[0;34m\u001b[0m\u001b[0m\n\u001b[1;32m     74\u001b[0m \u001b[0;34m\u001b[0m\u001b[0m\n",
      "\u001b[0;31mNgException\u001b[0m: don't know my dimension, space is CompoundFESpace"
     ]
    }
   ],
   "source": [
    "CT = Convection_Diffusion(new_config)\n",
    "CT._solveDG()"
   ]
  },
  {
   "cell_type": "code",
   "execution_count": null,
   "metadata": {},
   "outputs": [],
   "source": []
  }
 ],
 "metadata": {
  "kernelspec": {
   "display_name": "Python 3",
   "language": "python",
   "name": "python3"
  },
  "language_info": {
   "codemirror_mode": {
    "name": "ipython",
    "version": 3
   },
   "file_extension": ".py",
   "mimetype": "text/x-python",
   "name": "python",
   "nbconvert_exporter": "python",
   "pygments_lexer": "ipython3",
   "version": "3.7.6"
  },
  "toc": {
   "base_numbering": 1,
   "nav_menu": {},
   "number_sections": true,
   "sideBar": true,
   "skip_h1_title": false,
   "title_cell": "Table of Contents",
   "title_sidebar": "Contents",
   "toc_cell": false,
   "toc_position": {},
   "toc_section_display": true,
   "toc_window_display": false
  },
  "varInspector": {
   "cols": {
    "lenName": 16,
    "lenType": 16,
    "lenVar": 40
   },
   "kernels_config": {
    "python": {
     "delete_cmd_postfix": "",
     "delete_cmd_prefix": "del ",
     "library": "var_list.py",
     "varRefreshCmd": "print(var_dic_list())"
    },
    "r": {
     "delete_cmd_postfix": ") ",
     "delete_cmd_prefix": "rm(",
     "library": "var_list.r",
     "varRefreshCmd": "cat(var_dic_list()) "
    }
   },
   "types_to_exclude": [
    "module",
    "function",
    "builtin_function_or_method",
    "instance",
    "_Feature"
   ],
   "window_display": false
  }
 },
 "nbformat": 4,
 "nbformat_minor": 2
}
