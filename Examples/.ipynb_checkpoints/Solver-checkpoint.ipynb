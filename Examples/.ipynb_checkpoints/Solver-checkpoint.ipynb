{
 "cells": [
  {
   "cell_type": "code",
   "execution_count": 1,
   "metadata": {
    "slideshow": {
     "slide_type": "slide"
    }
   },
   "outputs": [],
   "source": [
    "import netgen.gui\n",
    "from netgen.geom2d import unit_square\n",
    "from ngsolve import *"
   ]
  },
  {
   "cell_type": "markdown",
   "metadata": {},
   "source": [
    "### Initializations"
   ]
  },
  {
   "cell_type": "code",
   "execution_count": 20,
   "metadata": {},
   "outputs": [],
   "source": [
    "#epsilon = 0.01\n",
    "# h = uniformly refined mesh\n",
    "# order = k"
   ]
  },
  {
   "cell_type": "code",
   "execution_count": 23,
   "metadata": {},
   "outputs": [],
   "source": [
    "## Parameter setup\n",
    "orders = [1, 2, 3]\n",
    "beta = (2,1)\n",
    "mesh_size = [1.0, 0.5, 0.25, 0.1250, 0.0625, 0.0313]\n",
    "eps = 0.01\n",
    "\n",
    "# Exact Solution\n",
    "p = lambda x: x + (exp(beta[0]*x/eps)-1)/(1-exp(beta[0]/eps))\n",
    "q = lambda y: y + (exp(beta[1]*y/eps)-1)/(1-exp(beta[1]/eps))\n",
    "exact = p(x) * q(y)\n",
    "\n",
    "coeff = beta[1]*p(x) + beta[0]*q(y)\n",
    "\n",
    "alpha = 100"
   ]
  },
  {
   "cell_type": "markdown",
   "metadata": {},
   "source": [
    "### Exact Solution for Convection-Diffusion Equation"
   ]
  },
  {
   "cell_type": "code",
   "execution_count": 21,
   "metadata": {},
   "outputs": [],
   "source": [
    "orders = 1\n",
    "mesh_size = 0.05\n",
    "mesh = Mesh(unit_square.GenerateMesh(maxh=mesh_size))\n",
    "fes = L2(mesh, order=orders, dirichlet=\"bottom|right|left|top\")\n",
    "gfu = GridFunction(fes)\n",
    "Draw(exact, mesh, 'exact')"
   ]
  },
  {
   "cell_type": "markdown",
   "metadata": {},
   "source": [
    "### Discontinuous Galerkin for Convection-Diffusion with upwind"
   ]
  },
  {
   "cell_type": "code",
   "execution_count": 24,
   "metadata": {},
   "outputs": [
    {
     "name": "stdout",
     "output_type": "stream",
     "text": [
      "Order: 1 Mesh Size: 1.0 L2-error: 0.18858271771985755\n",
      "Order: 1 Mesh Size: 0.5 L2-error: 0.15900789149842628\n",
      "Order: 1 Mesh Size: 0.25 L2-error: 0.13979275416656903\n",
      "Order: 1 Mesh Size: 0.125 L2-error: 0.12036257425598847\n",
      "Order: 1 Mesh Size: 0.0625 L2-error: 0.07566263907754531\n",
      "Order: 1 Mesh Size: 0.0313 L2-error: 0.03458493405768635\n",
      "......................................................................\n",
      "Order: 2 Mesh Size: 1.0 L2-error: 0.5012289412744237\n",
      "Order: 2 Mesh Size: 0.5 L2-error: 0.2385774927812544\n",
      "Order: 2 Mesh Size: 0.25 L2-error: 0.14208099659653617\n",
      "Order: 2 Mesh Size: 0.125 L2-error: 0.07413411487242062\n",
      "Order: 2 Mesh Size: 0.0625 L2-error: 0.03068731046845547\n",
      "Order: 2 Mesh Size: 0.0313 L2-error: 0.009577962690863473\n",
      "......................................................................\n",
      "Order: 3 Mesh Size: 1.0 L2-error: 0.37269916618461196\n",
      "Order: 3 Mesh Size: 0.5 L2-error: 0.22402708987183748\n",
      "Order: 3 Mesh Size: 0.25 L2-error: 0.10116813716439363\n",
      "Order: 3 Mesh Size: 0.125 L2-error: 0.04395469053114783\n",
      "Order: 3 Mesh Size: 0.0625 L2-error: 0.013032334596740662\n",
      "Order: 3 Mesh Size: 0.0313 L2-error: 0.0024364684676830483\n",
      "......................................................................\n"
     ]
    }
   ],
   "source": [
    "for order in orders:\n",
    "    for size in mesh_size:\n",
    "        mesh = Mesh(unit_square.GenerateMesh(maxh=size))\n",
    "        fes = L2(mesh, order=order, dgjumps=True)\n",
    "        u, v = fes.TnT()\n",
    "\n",
    "\n",
    "        jump_u = u-u.Other()\n",
    "        jump_v = v-v.Other()\n",
    "        n = specialcf.normal(2)\n",
    "        mean_dudn = eps * 0.5*n * (grad(u) + grad(u.Other()))\n",
    "        mean_dvdn = eps * 0.5*n * (grad(v) + grad(v.Other()))\n",
    "\n",
    "\n",
    "\n",
    "        h = specialcf.mesh_size\n",
    "        a = BilinearForm(fes)\n",
    "\n",
    "        diffusion = eps * grad(u) * grad(v) * dx \\\n",
    "            +alpha * eps * order ** 2/ h * jump_u * jump_v * dx(skeleton=True) \\\n",
    "            +(-mean_dudn * jump_v-mean_dvdn * jump_u) * dx(skeleton=True) \\\n",
    "            +alpha * eps * order ** 2/h * u * v * ds(skeleton=True) \\\n",
    "            + eps * (-n * grad(u) * v -n * grad(v) * u) * ds(skeleton=True)\n",
    "\n",
    "        a += diffusion\n",
    "        a.Assemble()\n",
    "\n",
    " \n",
    "        f = LinearForm(fes)\n",
    "        f += SymbolicLFI(coeff * v )\n",
    "        f.Assemble()\n",
    "\n",
    "\n",
    "        gfu = GridFunction(fes, name=\"uDG\")\n",
    "        gfu.vec.data = a.mat.Inverse() * f.vec\n",
    "        Draw (gfu)\n",
    "        \n",
    "        b = CoefficientFunction((beta[0],beta[1]) )\n",
    "\n",
    "        uup = IfPos(b*n, u, u.Other())\n",
    "\n",
    "        convection = -b * u * grad(v) * dx + b * n * uup * jump_v * dx(skeleton=True)+ IfPos(b*n,b*n,0)*u*v*ds(skeleton=True)\n",
    "\n",
    "        acd = BilinearForm(fes)\n",
    "        acd += diffusion + convection\n",
    "\n",
    "        acd.Assemble()\n",
    "\n",
    "        gfu = GridFunction(fes)\n",
    "        gfu.vec.data = acd.mat.Inverse(freedofs=fes.FreeDofs(),inverse=\"umfpack\") * f.vec\n",
    "        \n",
    "        print ('Order:', order, 'Mesh Size:', size , \"L2-error:\", sqrt (Integrate ((gfu-exact)*(gfu-exact), mesh)))\n",
    "        #Draw(exact,mesh,\"u\")\n",
    "        #Draw(gfu,mesh,\"uh\")\n",
    "    print('......................................................................')\n",
    "    \n",
    "    "
   ]
  },
  {
   "cell_type": "raw",
   "metadata": {},
   "source": [
    "orders = [1]\n",
    "mesh_size = [1.0]"
   ]
  },
  {
   "cell_type": "markdown",
   "metadata": {},
   "source": [
    "### Hybrid Discontinuous Galerkin Convection-Diffusion with upwind"
   ]
  },
  {
   "cell_type": "code",
   "execution_count": 25,
   "metadata": {},
   "outputs": [
    {
     "name": "stdout",
     "output_type": "stream",
     "text": [
      "Order: 1 Mesh Size: 1.0 L2-error: 0.19071450801268824\n",
      "Order: 1 Mesh Size: 0.5 L2-error: 0.1560975788582526\n",
      "Order: 1 Mesh Size: 0.25 L2-error: 0.12523467925975507\n",
      "Order: 1 Mesh Size: 0.125 L2-error: 0.10361254552408605\n",
      "Order: 1 Mesh Size: 0.0625 L2-error: 0.06835496957049685\n",
      "Order: 1 Mesh Size: 0.0313 L2-error: 0.03275266369323318\n",
      "......................................................................\n",
      "Order: 2 Mesh Size: 1.0 L2-error: 0.47926937524537844\n",
      "Order: 2 Mesh Size: 0.5 L2-error: 0.1844554339990846\n",
      "Order: 2 Mesh Size: 0.25 L2-error: 0.12559045299673152\n",
      "Order: 2 Mesh Size: 0.125 L2-error: 0.07046735288047248\n",
      "Order: 2 Mesh Size: 0.0625 L2-error: 0.02993459876813486\n",
      "Order: 2 Mesh Size: 0.0313 L2-error: 0.009412773713045755\n",
      "......................................................................\n",
      "Order: 3 Mesh Size: 1.0 L2-error: 0.37233642334277706\n",
      "Order: 3 Mesh Size: 0.5 L2-error: 0.19922746993006343\n",
      "Order: 3 Mesh Size: 0.25 L2-error: 0.09830238800473401\n",
      "Order: 3 Mesh Size: 0.125 L2-error: 0.04338062751268058\n",
      "Order: 3 Mesh Size: 0.0625 L2-error: 0.01290819872919127\n",
      "Order: 3 Mesh Size: 0.0313 L2-error: 0.00241094796854419\n",
      "......................................................................\n"
     ]
    }
   ],
   "source": [
    "for order in orders:\n",
    "    for size in mesh_size:\n",
    "        mesh = Mesh(unit_square.GenerateMesh(maxh=size))\n",
    "        V = L2(mesh, order=order)\n",
    "        F = FacetFESpace(mesh, order=order, dirichlet=\"bottom|left|right|top\")\n",
    "\n",
    "        fes = FESpace([V,F])\n",
    "        u, uhat = fes.TrialFunction()\n",
    "        v,vhat = fes.TestFunction()\n",
    "\n",
    "        jump_u = u-uhat\n",
    "        jump_v = v-vhat\n",
    "\n",
    "        condense = True\n",
    "        h = specialcf.mesh_size\n",
    "        n = specialcf.normal(mesh.dim)\n",
    "\n",
    "        a = BilinearForm(fes, condense=condense)\n",
    "        dS = dx(element_boundary=True)\n",
    "\n",
    "        diffusion = eps * grad(u) * grad(v) * dx + \\\n",
    "            alpha * eps * order ** 2/h * jump_u * jump_v * dS + \\\n",
    "            eps * (-grad(u) * n * jump_v - grad(v) * n * jump_u) * dS\n",
    "\n",
    "                     \n",
    "        b = CoefficientFunction((beta[0],beta[1])) \n",
    "\n",
    "        uup = IfPos(b * n, u, uhat)\n",
    "              \n",
    "        convection = -b * u * grad(v) * dx + b * n * uup * jump_v * dS\n",
    "\n",
    "        a += convection + diffusion\n",
    "        \n",
    "        a.Assemble()\n",
    "                \n",
    "        f = LinearForm(fes)\n",
    "        f += SymbolicLFI(coeff * v)\n",
    "        f.Assemble()\n",
    "\n",
    "        gfu = GridFunction(fes)\n",
    "        \n",
    "        if not condense:\n",
    "            inv = a.mat.Inverse(fes.FreeDofs(), \"umfpack\")\n",
    "            gfu.vec.data = inv * f.vec\n",
    "        else:\n",
    "            f.vec.data += a.harmonic_extension_trans * f.vec\n",
    "\n",
    "            inv = a.mat.Inverse(fes.FreeDofs(True), \"umfpack\")\n",
    "            gfu.vec.data = inv * f.vec\n",
    "\n",
    "            gfu.vec.data += a.harmonic_extension * gfu.vec\n",
    "            gfu.vec.data += a.inner_solve * f.vec\n",
    "            \n",
    "        print('Order:', order, 'Mesh Size:', size , \"L2-error:\", sqrt (Integrate ((gfu.components[0] - exact)*(gfu.components[0]- exact), mesh)))\n",
    "                            \n",
    "    print('......................................................................')"
   ]
  },
  {
   "cell_type": "markdown",
   "metadata": {},
   "source": [
    "### Solving Mass Matrix problem"
   ]
  },
  {
   "cell_type": "code",
   "execution_count": 26,
   "metadata": {},
   "outputs": [
    {
     "name": "stdout",
     "output_type": "stream",
     "text": [
      "Order: 1 Mesh Size: 1.0 L2 Error: 0.8551041032257676\n",
      "Order: 1 Mesh Size: 0.5 L2 Error: 2.930126258157547\n",
      "Order: 1 Mesh Size: 0.25 L2 Error: 1.7976126329027853\n",
      "Order: 1 Mesh Size: 0.125 L2 Error: 1.3843012728860409\n",
      "Order: 1 Mesh Size: 0.0625 L2 Error: 1.322609837525558\n",
      "Order: 1 Mesh Size: 0.0313 L2 Error: 1.3131797044528166\n",
      "......................................................................\n",
      "Order: 2 Mesh Size: 1.0 L2 Error: 54.22381397395486\n",
      "Order: 2 Mesh Size: 0.5 L2 Error: 3.815941049147384\n",
      "Order: 2 Mesh Size: 0.25 L2 Error: 1.5368200780323733\n",
      "Order: 2 Mesh Size: 0.125 L2 Error: 1.5992470376608572\n",
      "Order: 2 Mesh Size: 0.0625 L2 Error: 1.7650217421709522\n",
      "Order: 2 Mesh Size: 0.0313 L2 Error: 1.3069457957628945\n",
      "......................................................................\n",
      "Order: 3 Mesh Size: 1.0 L2 Error: 1.413889367120495\n",
      "Order: 3 Mesh Size: 0.5 L2 Error: 1.450927263830939\n",
      "Order: 3 Mesh Size: 0.25 L2 Error: 1.306849919496648\n",
      "Order: 3 Mesh Size: 0.125 L2 Error: 1.2873748738308344\n",
      "Order: 3 Mesh Size: 0.0625 L2 Error: 1.2934659666508042\n",
      "Order: 3 Mesh Size: 0.0313 L2 Error: 1.308606137673973\n",
      "......................................................................\n",
      "Order: 4 Mesh Size: 1.0 L2 Error: 2.7658399199394923\n",
      "Order: 4 Mesh Size: 0.5 L2 Error: 2.8810853024499443\n",
      "Order: 4 Mesh Size: 0.25 L2 Error: 18.05879371217241\n",
      "Order: 4 Mesh Size: 0.125 L2 Error: 1.147132414929806\n",
      "Order: 4 Mesh Size: 0.0625 L2 Error: 1.2877274681614275\n",
      "Order: 4 Mesh Size: 0.0313 L2 Error: 1.30877807472301\n",
      "......................................................................\n"
     ]
    }
   ],
   "source": [
    "orders = [1, 2, 3, 4]\n",
    "mesh_size = [1.0, 0.5, 0.25, 0.1250, 0.0625, 0.0313]\n",
    "for order in orders:\n",
    "    for size in mesh_size:\n",
    "        mesh = Mesh(unit_square.GenerateMesh(maxh=size))\n",
    "        fes = L2(mesh, order=order, dirichlet=\"bottom|right|left|top\")\n",
    "        u, v = fes.TnT()\n",
    "        \n",
    "        b = CoefficientFunction((beta[0],beta[1]))        \n",
    "        \n",
    "        a = BilinearForm(fes, symmetric=False)\n",
    "        a += SymbolicBFI((eps *  grad(u) * grad(v)) + (b * grad(u) * v))\n",
    "        a.Assemble()\n",
    "        \n",
    "        m = BilinearForm(fes, symmetric=False)\n",
    "        m += u * v * dx\n",
    "        m.Assemble()\n",
    "        \n",
    "        f = LinearForm(fes)\n",
    "        f += SymbolicLFI(coeff * v)\n",
    "        f.Assemble()\n",
    "        \n",
    "        mstar = m.mat.CreateMatrix()\n",
    "        mstar.AsVector().data = m.mat.AsVector() + a.mat.AsVector()\n",
    "        invmstar = mstar.Inverse(freedofs=fes.FreeDofs())\n",
    "        \n",
    "                \n",
    "        gfu = GridFunction(fes)\n",
    "        res = gfu.vec.CreateVector()\n",
    "        \n",
    "        res.data = f.vec  - a.mat * gfu.vec\n",
    "        gfu.vec.data = invmstar * res\n",
    "        #Draw(gfu, mesh, 'test')\n",
    "\n",
    "        print('Order:', order, 'Mesh Size:', size , \"L2 Error:\", sqrt (Integrate ((gfu - exact)*(gfu- exact), mesh)))\n",
    "            \n",
    "    print('......................................................................')"
   ]
  },
  {
   "cell_type": "markdown",
   "metadata": {},
   "source": [
    "### Enrichment"
   ]
  },
  {
   "cell_type": "markdown",
   "metadata": {},
   "source": [
    "#### Wall function Enrichment with Mass Matrix"
   ]
  },
  {
   "cell_type": "code",
   "execution_count": 20,
   "metadata": {},
   "outputs": [
    {
     "name": "stdout",
     "output_type": "stream",
     "text": [
      "Order: 1  Mesh Size: 1.0 L2 Error: 0.8551041032257672\n",
      "Order: 1  Mesh Size: 0.5 L2 Error: 3.2699571696735714\n",
      "Order: 1  Mesh Size: 0.25 L2 Error: 3.724517695190019\n",
      "Order: 1  Mesh Size: 0.125 L2 Error: 1.5005144839181277\n",
      "Order: 1  Mesh Size: 0.0625 L2 Error: 7.415612914875263\n",
      "Order: 1  Mesh Size: 0.0313 L2 Error: 1.4195764128277457\n",
      "...........................................................\n",
      "Order: 2  Mesh Size: 1.0 L2 Error: 54.22381397395486\n",
      "Order: 2  Mesh Size: 0.5 L2 Error: 1.9740121624938607\n",
      "Order: 2  Mesh Size: 0.25 L2 Error: 1.3871067300370616\n",
      "Order: 2  Mesh Size: 0.125 L2 Error: 1.3025167605082633\n",
      "Order: 2  Mesh Size: 0.0625 L2 Error: 1.2975596255620612\n",
      "Order: 2  Mesh Size: 0.0313 L2 Error: 6.659791211953927\n",
      "...........................................................\n",
      "Order: 3  Mesh Size: 1.0 L2 Error: 1.413889367120495\n",
      "Order: 3  Mesh Size: 0.5 L2 Error: 4.084001614307023\n",
      "Order: 3  Mesh Size: 0.25 L2 Error: 1.3017827208790902\n",
      "Order: 3  Mesh Size: 0.125 L2 Error: 1.572908745206595\n",
      "Order: 3  Mesh Size: 0.0625 L2 Error: 1.3395524638790226\n",
      "Order: 3  Mesh Size: 0.0313 L2 Error: 1.3091656047295654\n",
      "...........................................................\n",
      "Order: 4  Mesh Size: 1.0 L2 Error: 2.765839919944263\n",
      "Order: 4  Mesh Size: 0.5 L2 Error: 1.6462381348663322\n",
      "Order: 4  Mesh Size: 0.25 L2 Error: 1.4461155192717448\n",
      "Order: 4  Mesh Size: 0.125 L2 Error: 1.3084463731048326\n",
      "Order: 4  Mesh Size: 0.0625 L2 Error: 1.399654068602709\n",
      "Order: 4  Mesh Size: 0.0313 L2 Error: 1.396328986256792\n",
      "...........................................................\n"
     ]
    }
   ],
   "source": [
    "orders = [1, 2, 3, 4]\n",
    "#orders = [4]\n",
    "mesh_size = [1.0, 0.5, 0.25, 0.1250, 0.0625, 0.0313]\n",
    "# mesh_size = [0.25]\n",
    "for order in orders:\n",
    "    for size in mesh_size:\n",
    "        mesh = Mesh(unit_square.GenerateMesh(maxh=size))\n",
    "        V = L2(mesh, order=order, dirichlet=\"bottom|right|left|top\")\n",
    "\n",
    "        Q = L2(mesh, order=0)\n",
    "        ba = BitArray(mesh.ne)\n",
    "        ba.Set()\n",
    "        ba[1] = False\n",
    "        ba[0] = False\n",
    "        \n",
    "        Q = Compress(Q, active_dofs=ba)\n",
    "\n",
    "        fes = FESpace([V, Q])\n",
    "\n",
    "        #gfu = GridFunction(fes)\n",
    "\n",
    "        (u, p), (v, q) = fes.TnT()\n",
    "\n",
    "        p = coeff * p\n",
    "        q = coeff * q\n",
    "\n",
    "        grad_u = grad(u) + CoefficientFunction((coeff.Diff(x), coeff.Diff(y))) * p\n",
    "        grad_v = grad(v) + CoefficientFunction((coeff.Diff(x), coeff.Diff(y))) * q\n",
    "        \n",
    "        u = u + p\n",
    "        v = v + q\n",
    "\n",
    "        b = CoefficientFunction((beta[0],beta[1]))        \n",
    "\n",
    "        a = BilinearForm(fes, symmetric=False)\n",
    "        a += SymbolicBFI((eps *  grad_u * grad_v) + (b * grad_u * v))\n",
    "        a.Assemble()\n",
    "\n",
    "        m = BilinearForm(fes, symmetric=False)\n",
    "        m += u * v * dx\n",
    "        m.Assemble()\n",
    "\n",
    "        f = LinearForm(fes)\n",
    "        f += SymbolicLFI(coeff * v)\n",
    "        f.Assemble()\n",
    "\n",
    "        mstar = m.mat.CreateMatrix()\n",
    "        mstar.AsVector().data = m.mat.AsVector() + a.mat.AsVector()\n",
    "        invmstar = mstar.Inverse(freedofs=fes.FreeDofs())\n",
    "\n",
    "        gfu = GridFunction(fes)\n",
    "        res = gfu.vec.CreateVector()\n",
    "\n",
    "        res.data = f.vec  - a.mat * gfu.vec\n",
    "        gfu.vec.data = invmstar * res\n",
    "        u2 = gfu.components[0] + gfu.components[1] * coeff\n",
    "        #Draw(u2, mesh, 'test')\n",
    "\n",
    "        print('Order:', order, ' Mesh Size:', size , \"L2 Error:\", sqrt (Integrate ((u2 - exact)*(u2- exact), mesh)))\n",
    "    print('...........................................................')"
   ]
  },
  {
   "cell_type": "markdown",
   "metadata": {
    "heading_collapsed": true
   },
   "source": [
    "#### Wall function Enrichment with DG"
   ]
  },
  {
   "cell_type": "code",
   "execution_count": 6,
   "metadata": {
    "hidden": true
   },
   "outputs": [],
   "source": [
    "size = 0.25\n",
    "order = 4\n",
    "mesh = Mesh(unit_square.GenerateMesh(maxh=size))\n",
    "V = L2(mesh, order=order, dirichlet=\"bottom|right|left|top\")\n",
    "\n",
    "Q = L2(mesh, order=0)\n",
    "ba = BitArray(mesh.ne)\n",
    "ba.Set()\n",
    "ba[0] = False\n",
    "        \n",
    "Q = Compress(Q, active_dofs=ba)\n",
    "\n",
    "fes = FESpace([V, Q])\n",
    "\n",
    "gfu = GridFunction(fes)\n",
    "        \n",
    "\n",
    "(u, p), (v, q) = fes.TnT()\n",
    "\n",
    "p = coeff * p\n",
    "q = coeff * q\n",
    "\n",
    "grad_u = grad(u) + CoefficientFunction((coeff.Diff(x), coeff.Diff(y))) * p\n",
    "grad_v = grad(v) + CoefficientFunction((coeff.Diff(x), coeff.Diff(y))) * q\n",
    "\n",
    "grad_u_Other = grad(u.Other()) + CoefficientFunction((coeff.Diff(x), coeff.Diff(y))) * p\n",
    "grad_v_Other = grad(v.Other()) + CoefficientFunction((coeff.Diff(x), coeff.Diff(y))) * q\n",
    "\n",
    "b = CoefficientFunction((beta[0],beta[1]))  \n",
    "\n",
    "jump_u = u - u.Other()\n",
    "jump_v = v - v.Other()\n",
    "n = specialcf.normal(2)\n",
    "\n",
    "mean_dudn = eps * 0.5 * n * (grad_u + grad_u_Other)\n",
    "mean_dvdn = eps * 0.5 * n * (grad_v + grad_v_Other)"
   ]
  },
  {
   "cell_type": "code",
   "execution_count": 7,
   "metadata": {
    "hidden": true
   },
   "outputs": [
    {
     "ename": "NgException",
     "evalue": "SparseMatrixTM::AddElementMatrix: illegal dnumsin Assemble BilinearForm 'biform_from_py'\n",
     "output_type": "error",
     "traceback": [
      "\u001b[0;31m---------------------------------------------------------------------------\u001b[0m",
      "\u001b[0;31mNgException\u001b[0m                               Traceback (most recent call last)",
      "\u001b[0;32m<ipython-input-7-e20890fc8e7a>\u001b[0m in \u001b[0;36m<module>\u001b[0;34m\u001b[0m\n\u001b[1;32m      9\u001b[0m \u001b[0;34m\u001b[0m\u001b[0m\n\u001b[1;32m     10\u001b[0m \u001b[0ma\u001b[0m \u001b[0;34m+=\u001b[0m \u001b[0mdiffusion\u001b[0m\u001b[0;34m\u001b[0m\u001b[0;34m\u001b[0m\u001b[0m\n\u001b[0;32m---> 11\u001b[0;31m \u001b[0ma\u001b[0m\u001b[0;34m.\u001b[0m\u001b[0mAssemble\u001b[0m\u001b[0;34m(\u001b[0m\u001b[0;34m)\u001b[0m\u001b[0;34m\u001b[0m\u001b[0;34m\u001b[0m\u001b[0m\n\u001b[0m",
      "\u001b[0;31mNgException\u001b[0m: SparseMatrixTM::AddElementMatrix: illegal dnumsin Assemble BilinearForm 'biform_from_py'\n"
     ]
    }
   ],
   "source": [
    "h = specialcf.mesh_size\n",
    "a = BilinearForm(fes)\n",
    "\n",
    "diffusion = grad_u*grad_v * dx \\\n",
    "    +alpha*order**2/h*jump_u*jump_v * dx(skeleton=True) \\\n",
    "    +(-mean_dudn*jump_v-mean_dvdn*jump_u) * dx(skeleton=True) \\\n",
    "    +alpha*order**2/h*u*v * ds(skeleton=True) \\\n",
    "    +(-n*grad_u*v-n*grad_v*u)* ds(skeleton=True)\n",
    "\n",
    "a += diffusion\n",
    "a.Assemble()\n"
   ]
  },
  {
   "cell_type": "markdown",
   "metadata": {},
   "source": [
    "#### Wall function Enrichment with HDG"
   ]
  },
  {
   "cell_type": "code",
   "execution_count": null,
   "metadata": {},
   "outputs": [],
   "source": []
  }
 ],
 "metadata": {
  "kernelspec": {
   "display_name": "Python 3",
   "language": "python",
   "name": "python3"
  },
  "language_info": {
   "codemirror_mode": {
    "name": "ipython",
    "version": 3
   },
   "file_extension": ".py",
   "mimetype": "text/x-python",
   "name": "python",
   "nbconvert_exporter": "python",
   "pygments_lexer": "ipython3",
   "version": "3.7.5"
  }
 },
 "nbformat": 4,
 "nbformat_minor": 4
}
