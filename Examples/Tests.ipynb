{
 "cells": [
  {
   "source": [
    "### Dependencies"
   ],
   "cell_type": "markdown",
   "metadata": {}
  },
  {
   "cell_type": "code",
   "execution_count": 15,
   "metadata": {
    "tags": []
   },
   "outputs": [],
   "source": [
    "from netgen.geom2d import unit_square\n",
    "from ngsolve import *\n",
    "from ngsolve import grad as ngsolvegrad\n",
    "from ngsolve.comp import ProxyFunction\n",
    "from ngsolve.webgui import Draw\n",
    "#import netgen.gui\n",
    "import numpy\n",
    "import pandas as pd\n",
    "import import_ipynb ### Allows importing the functions in the Refactor notebook\n",
    "import Refactor ### Notebook that contains functions"
   ]
  },
  {
   "source": [
    "### Initialize Parameters"
   ],
   "cell_type": "markdown",
   "metadata": {}
  },
  {
   "cell_type": "code",
   "execution_count": 16,
   "metadata": {},
   "outputs": [],
   "source": [
    "beta = (2,0.001)\n",
    "eps = 0.01\n",
    "\n",
    "p = lambda x: x + (exp(beta[0]*(x-1)/eps)-exp(-beta[0]/eps))/(exp(-beta[0]/eps)-1)\n",
    "q = lambda y: y + (exp(beta[1]*(y-1)/eps)-exp(-beta[1]/eps))/(exp(-beta[1]/eps)-1)\n",
    "\n",
    "exact = p(x) * q(y)\n",
    "coeff =  beta[1] * p(x) +  beta[0] * q(y)\n",
    "\n",
    "\n",
    "new_config = {\n",
    "    'order': [1, 2, 3, 4],\n",
    "    'beta': (2,0.001),\n",
    "    'mesh_size': [1.0, 0.5, 0.25, 0.1250, 0.0625, 0.0313],\n",
    "    'epsilon': 0.01,\n",
    "    'exact': exact,\n",
    "    'coeff': coeff,\n",
    "    'alpha': 20, \n",
    "    'bonus_int_order' : 15,\n",
    "    'enrich_functions':[p(x), q(y)],\n",
    "    'enrich_domain_ind':[lambda x,y,h: x > 1 - h/2, lambda x,y,h: y > 1 - h/2]\n",
    "}\n",
    "\n",
    "\n",
    "columns = ['Order', 'Mesh Size', 'Error']\n",
    "error_table = pd.DataFrame(columns=columns)"
   ]
  },
  {
   "source": [
    "### Runing with Default Configurations (DG and HDG)"
   ],
   "cell_type": "markdown",
   "metadata": {}
  },
  {
   "cell_type": "code",
   "execution_count": 17,
   "metadata": {
    "tags": []
   },
   "outputs": [
    {
     "output_type": "stream",
     "name": "stdout",
     "text": "Order: 1 Mesh Size: 1.0 L2-error: 0.015452299743365752\nOrder: 1 Mesh Size: 0.5 L2-error: 0.015269426971591536\nOrder: 1 Mesh Size: 0.25 L2-error: 0.06433004718296803\nOrder: 1 Mesh Size: 0.125 L2-error: 0.005710531237683754\nOrder: 1 Mesh Size: 0.0625 L2-error: 0.010397119571167414\nOrder: 1 Mesh Size: 0.0313 L2-error: 0.005201427627914986\nOrder: 2 Mesh Size: 1.0 L2-error: 0.009340485018869549\nOrder: 2 Mesh Size: 0.5 L2-error: 0.052477083039094576\nOrder: 2 Mesh Size: 0.25 L2-error: 0.011303218453568752\nOrder: 2 Mesh Size: 0.125 L2-error: 0.006970298934170294\nOrder: 2 Mesh Size: 0.0625 L2-error: 0.27675155142271796\nOrder: 2 Mesh Size: 0.0313 L2-error: 0.005071988372457872\nOrder: 3 Mesh Size: 1.0 L2-error: 0.8087709064243017\nOrder: 3 Mesh Size: 0.5 L2-error: 3.5454056261611524\nOrder: 3 Mesh Size: 0.25 L2-error: 0.019158588407700714\nOrder: 3 Mesh Size: 0.125 L2-error: 5.566038176259427\nOrder: 3 Mesh Size: 0.0625 L2-error: 0.009027498729533867\nOrder: 3 Mesh Size: 0.0313 L2-error: 0.005009503158764442\nOrder: 4 Mesh Size: 1.0 L2-error: 1.7151194455661212\nOrder: 4 Mesh Size: 0.5 L2-error: 70.05851064397913\nOrder: 4 Mesh Size: 0.25 L2-error: 0.14499895947743388\nOrder: 4 Mesh Size: 0.125 L2-error: 0.042132681320647125\nOrder: 4 Mesh Size: 0.0625 L2-error: 0.008964240678056401\nOrder: 4 Mesh Size: 0.0313 L2-error: 0.005812755651946618\n     Order  Mesh Size      Error\n0      1.0     1.0000   0.015452\n1      1.0     0.5000   0.015269\n2      1.0     0.2500   0.064330\n3      1.0     0.1250   0.005711\n4      1.0     0.0625   0.010397\n..     ...        ...        ...\n120    4.0     0.5000  70.058511\n121    4.0     0.2500   0.144999\n122    4.0     0.1250   0.042133\n123    4.0     0.0625   0.008964\n124    4.0     0.0313   0.005813\n\n[125 rows x 3 columns]\n"
    },
    {
     "output_type": "error",
     "ename": "NameError",
     "evalue": "name 'plot_error' is not defined",
     "traceback": [
      "\u001b[0;31m---------------------------------------------------------------------------\u001b[0m",
      "\u001b[0;31mNameError\u001b[0m                                 Traceback (most recent call last)",
      "\u001b[0;32m<ipython-input-17-441c0df4ffdb>\u001b[0m in \u001b[0;36m<module>\u001b[0;34m\u001b[0m\n\u001b[1;32m      2\u001b[0m \u001b[0mtable\u001b[0m \u001b[0;34m=\u001b[0m \u001b[0mCT\u001b[0m\u001b[0;34m.\u001b[0m\u001b[0m_solveDG\u001b[0m\u001b[0;34m(\u001b[0m\u001b[0;34m)\u001b[0m\u001b[0;34m\u001b[0m\u001b[0;34m\u001b[0m\u001b[0m\n\u001b[1;32m      3\u001b[0m \u001b[0mprint\u001b[0m\u001b[0;34m(\u001b[0m\u001b[0mtable\u001b[0m\u001b[0;34m)\u001b[0m\u001b[0;34m\u001b[0m\u001b[0;34m\u001b[0m\u001b[0m\n\u001b[0;32m----> 4\u001b[0;31m \u001b[0mplot_error\u001b[0m\u001b[0;34m(\u001b[0m\u001b[0mtable\u001b[0m\u001b[0;34m)\u001b[0m\u001b[0;34m\u001b[0m\u001b[0;34m\u001b[0m\u001b[0m\n\u001b[0m",
      "\u001b[0;31mNameError\u001b[0m: name 'plot_error' is not defined"
     ]
    }
   ],
   "source": [
    "CT = Refactor.Convection_Diffusion(new_config)\n",
    "table = CT._solveDG()\n",
    "print(table)\n",
    "Refactor.plot_error(table)"
   ]
  },
  {
   "source": [
    "### Testing effect of Integration Order (DG and HDG)"
   ],
   "cell_type": "markdown",
   "metadata": {}
  },
  {
   "cell_type": "code",
   "execution_count": 18,
   "metadata": {
    "tags": []
   },
   "outputs": [
    {
     "output_type": "stream",
     "name": "stdout",
     "text": "Bonus integration order....  10\nOrder: 1 Mesh Size: 1.0 L2-error: 0.013783091565632052\nOrder: 1 Mesh Size: 0.5 L2-error: 0.014959112829732077\nOrder: 1 Mesh Size: 0.25 L2-error: 0.0645611269985746\nOrder: 1 Mesh Size: 0.125 L2-error: 0.005711679390879266\nOrder: 1 Mesh Size: 0.0625 L2-error: 0.01039711111882299\nOrder: 1 Mesh Size: 0.0313 L2-error: 0.005201427604735378\nOrder: 2 Mesh Size: 1.0 L2-error: 0.009557383288389659\nOrder: 2 Mesh Size: 0.5 L2-error: 0.11598054739046604\nOrder: 2 Mesh Size: 0.25 L2-error: 0.011332500203599069\nOrder: 2 Mesh Size: 0.125 L2-error: 0.006970375019944945\nOrder: 2 Mesh Size: 0.0625 L2-error: 0.27675153108548883\nOrder: 2 Mesh Size: 0.0313 L2-error: 0.005071988380231542\nOrder: 3 Mesh Size: 1.0 L2-error: 0.8084370826648578\nOrder: 3 Mesh Size: 0.5 L2-error: 3.0547658784935\nOrder: 3 Mesh Size: 0.25 L2-error: 0.01915694337751933\nOrder: 3 Mesh Size: 0.125 L2-error: 5.565982879242357\nOrder: 3 Mesh Size: 0.0625 L2-error: 0.009027498902742254\nOrder: 3 Mesh Size: 0.0313 L2-error: 0.005009503158714954\nOrder: 4 Mesh Size: 1.0 L2-error: 1.7195043694939993\nOrder: 4 Mesh Size: 0.5 L2-error: 72.89222698131628\nOrder: 4 Mesh Size: 0.25 L2-error: 0.14501036045241547\nOrder: 4 Mesh Size: 0.125 L2-error: 0.042135713486596345\nOrder: 4 Mesh Size: 0.0625 L2-error: 0.008964240771264103\nOrder: 4 Mesh Size: 0.0313 L2-error: 0.005812755651932499\n     Order  Mesh Size      Error\n0      1.0     1.0000   0.015452\n1      1.0     0.5000   0.015269\n2      1.0     0.2500   0.064330\n3      1.0     0.1250   0.005711\n4      1.0     0.0625   0.010397\n..     ...        ...        ...\n144    4.0     0.5000  72.892227\n145    4.0     0.2500   0.145010\n146    4.0     0.1250   0.042136\n147    4.0     0.0625   0.008964\n148    4.0     0.0313   0.005813\n\n[149 rows x 3 columns]\n"
    },
    {
     "output_type": "error",
     "ename": "NameError",
     "evalue": "name 'plot_error' is not defined",
     "traceback": [
      "\u001b[0;31m---------------------------------------------------------------------------\u001b[0m",
      "\u001b[0;31mNameError\u001b[0m                                 Traceback (most recent call last)",
      "\u001b[0;32m<ipython-input-18-7a00ff5edd67>\u001b[0m in \u001b[0;36m<module>\u001b[0;34m\u001b[0m\n\u001b[1;32m      6\u001b[0m     \u001b[0mtable\u001b[0m \u001b[0;34m=\u001b[0m \u001b[0mCT\u001b[0m\u001b[0;34m.\u001b[0m\u001b[0m_solveDG\u001b[0m\u001b[0;34m(\u001b[0m\u001b[0;34m)\u001b[0m\u001b[0;34m\u001b[0m\u001b[0;34m\u001b[0m\u001b[0m\n\u001b[1;32m      7\u001b[0m     \u001b[0mprint\u001b[0m\u001b[0;34m(\u001b[0m\u001b[0mtable\u001b[0m\u001b[0;34m)\u001b[0m\u001b[0;34m\u001b[0m\u001b[0;34m\u001b[0m\u001b[0m\n\u001b[0;32m----> 8\u001b[0;31m     \u001b[0mplot_error\u001b[0m\u001b[0;34m(\u001b[0m\u001b[0mtable\u001b[0m\u001b[0;34m)\u001b[0m\u001b[0;34m\u001b[0m\u001b[0;34m\u001b[0m\u001b[0m\n\u001b[0m\u001b[1;32m      9\u001b[0m     \u001b[0mprint\u001b[0m\u001b[0;34m(\u001b[0m\u001b[0;34m\"....................................\"\u001b[0m\u001b[0;34m)\u001b[0m\u001b[0;34m\u001b[0m\u001b[0;34m\u001b[0m\u001b[0m\n",
      "\u001b[0;31mNameError\u001b[0m: name 'plot_error' is not defined"
     ]
    }
   ],
   "source": [
    "int_orders = [10, 15, 20]\n",
    "for val in int_orders:\n",
    "    print(\"Bonus integration order.... \", val)\n",
    "    new_config['bonus_int_order'] = val\n",
    "    CT = Refactor.Convection_Diffusion(new_config)\n",
    "    table = CT._solveDG()\n",
    "    print(table)\n",
    "    Refactor.plot_error(table)\n",
    "    print(\"....................................\")"
   ]
  },
  {
   "source": [
    "### Testing effect of alpha (HD and HDG)"
   ],
   "cell_type": "markdown",
   "metadata": {}
  },
  {
   "cell_type": "code",
   "execution_count": 19,
   "metadata": {
    "tags": []
   },
   "outputs": [
    {
     "output_type": "stream",
     "name": "stdout",
     "text": "alpha ....  10\nOrder: 1 Mesh Size: 1.0 L2-error: 0.04614274594639335\nOrder: 1 Mesh Size: 0.5 L2-error: 0.1628782758307364\nOrder: 1 Mesh Size: 0.25 L2-error: 0.005678917191963805\nOrder: 1 Mesh Size: 0.125 L2-error: 0.005177169625118316\nOrder: 1 Mesh Size: 0.0625 L2-error: 0.013374197562596904\nOrder: 1 Mesh Size: 0.0313 L2-error: 0.006149129918412081\nOrder: 2 Mesh Size: 1.0 L2-error: 0.016084341829111126\nOrder: 2 Mesh Size: 0.5 L2-error: 0.005563815703536957\nOrder: 2 Mesh Size: 0.25 L2-error: 0.02912379030834038\nOrder: 2 Mesh Size: 0.125 L2-error: 0.015289714397611176\nOrder: 2 Mesh Size: 0.0625 L2-error: 6.375435792634095\nOrder: 2 Mesh Size: 0.0313 L2-error: 0.005140880312400109\nOrder: 3 Mesh Size: 1.0 L2-error: 0.4033885527477719\nOrder: 3 Mesh Size: 0.5 L2-error: 3.1742072028580073\nOrder: 3 Mesh Size: 0.25 L2-error: 0.013311897556394788\nOrder: 3 Mesh Size: 0.125 L2-error: 38.1929839802923\nOrder: 3 Mesh Size: 0.0625 L2-error: 30036.462627336554\nOrder: 3 Mesh Size: 0.0313 L2-error: 0.0049091553257794365\nOrder: 4 Mesh Size: 1.0 L2-error: 0.9314720706381848\nOrder: 4 Mesh Size: 0.5 L2-error: 63.04810681298286\nOrder: 4 Mesh Size: 0.25 L2-error: 0.08974367069781597\nOrder: 4 Mesh Size: 0.125 L2-error: 1.3765536950884183\nOrder: 4 Mesh Size: 0.0625 L2-error: 0.0070829749703312656\nOrder: 4 Mesh Size: 0.0313 L2-error: 0.005344417921964651\n     Order  Mesh Size      Error\n0      1.0     1.0000   0.015452\n1      1.0     0.5000   0.015269\n2      1.0     0.2500   0.064330\n3      1.0     0.1250   0.005711\n4      1.0     0.0625   0.010397\n..     ...        ...        ...\n168    4.0     0.5000  63.048107\n169    4.0     0.2500   0.089744\n170    4.0     0.1250   1.376554\n171    4.0     0.0625   0.007083\n172    4.0     0.0313   0.005344\n\n[173 rows x 3 columns]\n"
    },
    {
     "output_type": "error",
     "ename": "NameError",
     "evalue": "name 'plot_error' is not defined",
     "traceback": [
      "\u001b[0;31m---------------------------------------------------------------------------\u001b[0m",
      "\u001b[0;31mNameError\u001b[0m                                 Traceback (most recent call last)",
      "\u001b[0;32m<ipython-input-19-87c4c129c403>\u001b[0m in \u001b[0;36m<module>\u001b[0;34m\u001b[0m\n\u001b[1;32m      6\u001b[0m     \u001b[0mtable\u001b[0m \u001b[0;34m=\u001b[0m \u001b[0mCT\u001b[0m\u001b[0;34m.\u001b[0m\u001b[0m_solveDG\u001b[0m\u001b[0;34m(\u001b[0m\u001b[0;34m)\u001b[0m\u001b[0;34m\u001b[0m\u001b[0;34m\u001b[0m\u001b[0m\n\u001b[1;32m      7\u001b[0m     \u001b[0mprint\u001b[0m\u001b[0;34m(\u001b[0m\u001b[0mtable\u001b[0m\u001b[0;34m)\u001b[0m\u001b[0;34m\u001b[0m\u001b[0;34m\u001b[0m\u001b[0m\n\u001b[0;32m----> 8\u001b[0;31m     \u001b[0mplot_error\u001b[0m\u001b[0;34m(\u001b[0m\u001b[0mtable\u001b[0m\u001b[0;34m)\u001b[0m\u001b[0;34m\u001b[0m\u001b[0;34m\u001b[0m\u001b[0m\n\u001b[0m\u001b[1;32m      9\u001b[0m     \u001b[0mprint\u001b[0m\u001b[0;34m(\u001b[0m\u001b[0;34m\"....................................\"\u001b[0m\u001b[0;34m)\u001b[0m\u001b[0;34m\u001b[0m\u001b[0;34m\u001b[0m\u001b[0m\n",
      "\u001b[0;31mNameError\u001b[0m: name 'plot_error' is not defined"
     ]
    }
   ],
   "source": [
    "alphas = [10, 15, 20, 30, 40]\n",
    "for alpha in alphas:\n",
    "    print(\"alpha .... \", alpha)\n",
    "    new_config['alpha'] = alpha\n",
    "    CT = Refactor.Convection_Diffusion(new_config)\n",
    "    table = CT._solveDG()\n",
    "    print(table)\n",
    "    Refactor.plot_error(table)\n",
    "    print(\"....................................\")"
   ]
  }
 ],
 "metadata": {
  "language_info": {
   "codemirror_mode": {
    "name": "ipython",
    "version": 3
   },
   "file_extension": ".py",
   "mimetype": "text/x-python",
   "name": "python",
   "nbconvert_exporter": "python",
   "pygments_lexer": "ipython3",
   "version": 3
  },
  "orig_nbformat": 2,
  "kernelspec": {
   "name": "python_defaultSpec_1600106443874",
   "display_name": "Python 3.8.5 64-bit"
  }
 },
 "nbformat": 4,
 "nbformat_minor": 2
}