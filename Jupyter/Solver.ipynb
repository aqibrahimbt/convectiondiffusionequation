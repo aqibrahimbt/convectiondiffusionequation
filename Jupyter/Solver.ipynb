{
 "cells": [
  {
   "cell_type": "markdown",
   "metadata": {
    "toc": true
   },
   "source": [
    "<h1>Table of Contents<span class=\"tocSkip\"></span></h1>\n",
    "<div class=\"toc\"><ul class=\"toc-item\"><li><span><a href=\"#Initializations\" data-toc-modified-id=\"Initializations-1\"><span class=\"toc-item-num\">1&nbsp;&nbsp;</span>Initializations</a></span></li><li><span><a href=\"#Exact-Solution-for-Convection-Diffusion-Equation\" data-toc-modified-id=\"Exact-Solution-for-Convection-Diffusion-Equation-2\"><span class=\"toc-item-num\">2&nbsp;&nbsp;</span>Exact Solution for Convection-Diffusion Equation</a></span></li><li><span><a href=\"#Discontinuous-Galerkin-Convection-Diffusion-with-upwind\" data-toc-modified-id=\"Discontinuous-Galerkin-Convection-Diffusion-with-upwind-3\"><span class=\"toc-item-num\">3&nbsp;&nbsp;</span>Discontinuous Galerkin Convection-Diffusion with upwind</a></span></li><li><span><a href=\"#Hybrid-Discontinuous-Galerkin-Convection-Diffusion-with-upwind\" data-toc-modified-id=\"Hybrid-Discontinuous-Galerkin-Convection-Diffusion-with-upwind-4\"><span class=\"toc-item-num\">4&nbsp;&nbsp;</span>Hybrid Discontinuous Galerkin Convection-Diffusion with upwind</a></span></li><li><span><a href=\"#Solving-Mass-Matrix-problem\" data-toc-modified-id=\"Solving-Mass-Matrix-problem-5\"><span class=\"toc-item-num\">5&nbsp;&nbsp;</span>Solving Mass Matrix problem</a></span></li><li><span><a href=\"#Enrichment\" data-toc-modified-id=\"Enrichment-6\"><span class=\"toc-item-num\">6&nbsp;&nbsp;</span>Enrichment</a></span><ul class=\"toc-item\"><li><span><a href=\"#Enrichment-for-Mass-Matrix\" data-toc-modified-id=\"Enrichment-for-Mass-Matrix-6.1\"><span class=\"toc-item-num\">6.1&nbsp;&nbsp;</span>Enrichment for Mass Matrix</a></span><ul class=\"toc-item\"><li><ul class=\"toc-item\"><li><span><a href=\"#Enrichment-for-Mass-Matrix-(enrich-x-axis)\" data-toc-modified-id=\"Enrichment-for-Mass-Matrix-(enrich-x-axis)-6.1.0.1\"><span class=\"toc-item-num\">6.1.0.1&nbsp;&nbsp;</span>Enrichment for Mass Matrix (enrich x-axis)</a></span></li><li><span><a href=\"#Enrichment-for-Mass-Matrix-(enrich-y-axis)\" data-toc-modified-id=\"Enrichment-for-Mass-Matrix-(enrich-y-axis)-6.1.0.2\"><span class=\"toc-item-num\">6.1.0.2&nbsp;&nbsp;</span>Enrichment for Mass Matrix (enrich y-axis)</a></span></li><li><span><a href=\"#Enrichment-for-Mass-Matrix-(enrich-both-xy-axis)\" data-toc-modified-id=\"Enrichment-for-Mass-Matrix-(enrich-both-xy-axis)-6.1.0.3\"><span class=\"toc-item-num\">6.1.0.3&nbsp;&nbsp;</span>Enrichment for Mass Matrix (enrich both xy-axis)</a></span></li></ul></li></ul></li><li><span><a href=\"#Enrichment-with-DG\" data-toc-modified-id=\"Enrichment-with-DG-6.2\"><span class=\"toc-item-num\">6.2&nbsp;&nbsp;</span>Enrichment with DG</a></span></li><li><span><a href=\"#Enrichment-with-HDG\" data-toc-modified-id=\"Enrichment-with-HDG-6.3\"><span class=\"toc-item-num\">6.3&nbsp;&nbsp;</span>Enrichment with HDG</a></span></li></ul></li></ul></div>"
   ]
  },
  {
   "cell_type": "code",
   "execution_count": 2,
   "metadata": {
    "ExecuteTime": {
     "end_time": "2020-03-17T04:04:25.804133Z",
     "start_time": "2020-03-17T04:04:25.801117Z"
    },
    "slideshow": {
     "slide_type": "slide"
    }
   },
   "outputs": [
    {
     "output_type": "error",
     "ename": "ModuleNotFoundError",
     "evalue": "No module named 'netgen'",
     "traceback": [
      "\u001b[0;31m---------------------------------------------------------------------------\u001b[0m",
      "\u001b[0;31mModuleNotFoundError\u001b[0m                       Traceback (most recent call last)",
      "\u001b[0;32m<ipython-input-2-a3bff757f456>\u001b[0m in \u001b[0;36m<module>\u001b[0;34m\u001b[0m\n\u001b[0;32m----> 1\u001b[0;31m \u001b[0;32mimport\u001b[0m \u001b[0mnetgen\u001b[0m\u001b[0;34m.\u001b[0m\u001b[0mgui\u001b[0m\u001b[0;34m\u001b[0m\u001b[0;34m\u001b[0m\u001b[0m\n\u001b[0m\u001b[1;32m      2\u001b[0m \u001b[0;32mfrom\u001b[0m \u001b[0mnetgen\u001b[0m\u001b[0;34m.\u001b[0m\u001b[0mgeom2d\u001b[0m \u001b[0;32mimport\u001b[0m \u001b[0munit_square\u001b[0m\u001b[0;34m\u001b[0m\u001b[0;34m\u001b[0m\u001b[0m\n\u001b[1;32m      3\u001b[0m \u001b[0;32mfrom\u001b[0m \u001b[0mngsolve\u001b[0m \u001b[0;32mimport\u001b[0m \u001b[0;34m*\u001b[0m\u001b[0;34m\u001b[0m\u001b[0;34m\u001b[0m\u001b[0m\n\u001b[1;32m      4\u001b[0m \u001b[0;32mimport\u001b[0m \u001b[0mpandas\u001b[0m \u001b[0;32mas\u001b[0m \u001b[0mpd\u001b[0m\u001b[0;34m\u001b[0m\u001b[0;34m\u001b[0m\u001b[0m\n\u001b[1;32m      5\u001b[0m \u001b[0;32mfrom\u001b[0m \u001b[0mngsolve\u001b[0m \u001b[0;32mimport\u001b[0m \u001b[0mgrad\u001b[0m \u001b[0;32mas\u001b[0m \u001b[0moldgrad\u001b[0m\u001b[0;34m\u001b[0m\u001b[0;34m\u001b[0m\u001b[0m\n",
      "\u001b[0;31mModuleNotFoundError\u001b[0m: No module named 'netgen'"
     ]
    }
   ],
   "source": [
    "import netgen.gui\n",
    "from netgen.geom2d import unit_square\n",
    "from ngsolve import *\n",
    "import pandas as pd\n",
    "from ngsolve import grad as oldgrad"
   ]
  },
  {
   "cell_type": "markdown",
   "metadata": {},
   "source": [
    "### Initializations"
   ]
  },
  {
   "cell_type": "code",
   "execution_count": 10,
   "metadata": {
    "ExecuteTime": {
     "end_time": "2020-03-17T01:49:00.109967Z",
     "start_time": "2020-03-17T01:49:00.095492Z"
    }
   },
   "outputs": [],
   "source": [
    "## Parameter setup\n",
    "orders = [1, 2, 3, 4]\n",
    "beta = (2,0.001)\n",
    "mesh_size = [1.0, 0.5, 0.25, 0.1250, 0.0625]\n",
    "#mesh_size = [0.0313]\n",
    "eps = 0.01\n",
    "\n",
    "# Exact Solution\n",
    "#p = lambda x: x + (exp(beta[0]*x/eps)-1)/(1-exp(beta[0]/eps))\n",
    "#q = lambda y: y + (exp(beta[1]*y/eps)-1)/(1-exp(beta[1]/eps))\n",
    "\n",
    "p = lambda x: x + (exp(beta[0]*(x-1)/eps)-exp(-beta[0]/eps))/(exp(-beta[0]/eps)-1)\n",
    "q = lambda y: y + (exp(beta[1]*(y-1)/eps)-exp(-beta[1]/eps))/(exp(-beta[1]/eps)-1)\n",
    "\n",
    "exact = p(x) * q(y)\n",
    "\n",
    "coeff =  beta[1] * p(x) +  beta[0] * q(y)\n",
    "\n",
    "coeff_x = p(x)\n",
    "coeff_y = q(y)\n",
    "\n",
    "alpha = 10\n",
    "\n",
    "## Dataframes\n",
    "columns = ['Order', 'Mesh Size', 'Error', 'Type']"
   ]
  },
  {
   "cell_type": "markdown",
   "metadata": {},
   "source": [
    "### Exact Solution for Convection-Diffusion Equation"
   ]
  },
  {
   "cell_type": "code",
   "execution_count": 7,
   "metadata": {
    "ExecuteTime": {
     "start_time": "2020-01-30T15:19:39.772Z"
    }
   },
   "outputs": [],
   "source": [
    "orders = 2\n",
    "mesh_size = 0.05\n",
    "mesh = Mesh(unit_square.GenerateMesh(maxh=mesh_size))\n",
    "fes = L2(mesh, order=orders, dirichlet=\"bottom|right|left|top\")\n",
    "gfu = GridFunction(fes)\n",
    "Draw(exact, mesh, 'exact')"
   ]
  },
  {
   "cell_type": "markdown",
   "metadata": {},
   "source": [
    "### Discontinuous Galerkin Convection-Diffusion with upwind"
   ]
  },
  {
   "cell_type": "code",
   "execution_count": 31,
   "metadata": {
    "ExecuteTime": {
     "end_time": "2020-02-11T11:12:46.482001Z",
     "start_time": "2020-02-11T11:12:39.039384Z"
    },
    "tags": []
   },
   "outputs": [
    {
     "output_type": "stream",
     "name": "stdout",
     "text": [
      "Order: 1 Mesh Size: 1.0 L2-error: 0.006911642598847232\n",
      "Order: 1 Mesh Size: 0.5 L2-error: 0.0018000469060358841\n",
      "Order: 1 Mesh Size: 0.25 L2-error: 0.0006006000261945398\n",
      "Order: 1 Mesh Size: 0.125 L2-error: 0.0009348420395054455\n",
      "Order: 1 Mesh Size: 0.0625 L2-error: 0.0007738620274815043\n",
      "......................................................................\n",
      "Order: 2 Mesh Size: 1.0 L2-error: 0.0011926844012539468\n",
      "Order: 2 Mesh Size: 0.5 L2-error: 0.001852028920520184\n",
      "Order: 2 Mesh Size: 0.25 L2-error: 0.0015347676901403063\n",
      "Order: 2 Mesh Size: 0.125 L2-error: 0.0008975232720150499\n",
      "Order: 2 Mesh Size: 0.0625 L2-error: 0.00040365292237378385\n",
      "......................................................................\n",
      "Order: 3 Mesh Size: 1.0 L2-error: 0.002620446386549098\n",
      "Order: 3 Mesh Size: 0.5 L2-error: 0.0031986518942105783\n",
      "Order: 3 Mesh Size: 0.25 L2-error: 0.0012262237821181066\n",
      "Order: 3 Mesh Size: 0.125 L2-error: 0.0005640031203681907\n",
      "Order: 3 Mesh Size: 0.0625 L2-error: 0.00017996006639744728\n",
      "......................................................................\n",
      "Order: 4 Mesh Size: 1.0 L2-error: 0.00255482370783353\n",
      "Order: 4 Mesh Size: 0.5 L2-error: 0.0025230469119422306\n",
      "Order: 4 Mesh Size: 0.25 L2-error: 0.0006274191087251021\n",
      "Order: 4 Mesh Size: 0.125 L2-error: 0.00026414781552971337\n",
      "Order: 4 Mesh Size: 0.0625 L2-error: 7.033449168954241e-05\n",
      "......................................................................\n"
     ]
    }
   ],
   "source": [
    "dg = pd.DataFrame(columns=columns)\n",
    "for order in orders:\n",
    "    for size in mesh_size:\n",
    "        mesh = Mesh(unit_square.GenerateMesh(maxh=size))\n",
    "        fes = L2(mesh, order=order, dgjumps=True)\n",
    "        u, v = fes.TnT()\n",
    "\n",
    "        jump_u = u-u.Other()\n",
    "        jump_v = v-v.Other()\n",
    "        n = specialcf.normal(2)\n",
    "        mean_dudn = 0.5 * n * (grad(u) + grad(u.Other()))\n",
    "        mean_dvdn = 0.5 * n * (grad(v) + grad(v.Other()))\n",
    "\n",
    "        h = specialcf.mesh_size\n",
    "\n",
    "        # diffusion\n",
    "        diffusion = grad(u) * grad(v) * dx \\\n",
    "            +alpha * order ** 2/ h * jump_u * jump_v * dx(skeleton=True) \\\n",
    "            +(-mean_dudn * jump_v - mean_dvdn * jump_u) * dx(skeleton=True) \\\n",
    "            +alpha * order ** 2/h * u * v * ds(skeleton=True) \\\n",
    "            + (-n * grad(u) * v -n * grad(v) * u) * ds(skeleton=True)\n",
    "\n",
    "        # convection\n",
    "        b = CoefficientFunction((beta[0],beta[1]) )\n",
    "        uup = IfPos(b * n, u, u.Other())\n",
    "        convection = -b * u * grad(v) * dx + b * n * uup * jump_v * dx(skeleton=True)\n",
    "        \n",
    "        acd = BilinearForm(fes)\n",
    "        acd += eps * diffusion + convection\n",
    "        acd.Assemble()\n",
    "        \n",
    "        # rhs\n",
    "        f = LinearForm(fes)\n",
    "        f += SymbolicLFI(coeff * v)\n",
    "        f.Assemble()\n",
    "\n",
    "        gfu = GridFunction(fes, name=\"uDG\")  \n",
    "        gfu.vec.data = acd.mat.Inverse(freedofs=fes.FreeDofs(),inverse=\"umfpack\") * f.vec\n",
    "        \n",
    "        error = sqrt (Integrate ((gfu-exact)*(gfu-exact), mesh))\n",
    "        dg.loc[len(dg)] = [order, size, error, 'dg']\n",
    "        \n",
    "        #Draw(gfu, mesh,\"u\",sd=5)\n",
    "        #netgen.gui.Snapshot(w=800,h=500, filename='Images/' +\"dg-h_\"+str(size)+\"-k_\"+str(order)+\".png\")\n",
    "        \n",
    "        print ('Order:', order, 'Mesh Size:', size , \"L2-error:\", error)\n",
    "    print('......................................................................')\n",
    "    \n",
    "#%store dg"
   ]
  },
  {
   "cell_type": "code",
   "execution_count": 4,
   "metadata": {},
   "outputs": [],
   "source": [
    "%matplotlib inline\n",
    "import matplotlib.pyplot as plt\n",
    "plt.style.use('seaborn-white')\n",
    "import pandas as pd\n",
    "from functools import reduce\n",
    "from IPython.display import Image, display\n",
    "import matplotlib.image as mpimg\n",
    "\n",
    "\n",
    "def plot_error(table):\n",
    "    order_1 = table[table.Order.eq(1.0)]\n",
    "    order_2 = table[table.Order.eq(2.0)]\n",
    "    order_3 = table[table.Order.eq(3.0)]\n",
    "    order_4 = table[table.Order.eq(4.0)]\n",
    "\n",
    "    fig, (ax1, ax2, ax3, ax4) = plt.subplots(1, 4, figsize=(20,5))\n",
    "\n",
    "    order_1.plot(x='Mesh Size', y='Error', ax=ax1, legend=True, title='k = 1', style='.-', loglog=True)\n",
    "    order_2.plot(x='Mesh Size', y='Error', ax=ax2, legend=True, title='k = 2', style='.-', loglog=True)\n",
    "    order_3.plot(x='Mesh Size', y='Error', ax=ax3, legend=True, title='k = 3', style='.-', loglog=True)\n",
    "    order_4.plot(x='Mesh Size', y='Error', ax=ax4, legend=True, title='k = 4', style='.-', loglog=True)\n",
    "\n",
    "#plot_error(dg)"
   ]
  },
  {
   "cell_type": "code",
   "execution_count": 33,
   "metadata": {},
   "outputs": [],
   "source": [
    "dg.to_csv('dg_60.csv')"
   ]
  },
  {
   "cell_type": "markdown",
   "metadata": {},
   "source": [
    "### Hybrid Discontinuous Galerkin Convection-Diffusion with upwind"
   ]
  },
  {
   "cell_type": "code",
   "execution_count": 11,
   "metadata": {
    "ExecuteTime": {
     "end_time": "2020-02-11T11:13:01.911078Z",
     "start_time": "2020-02-11T11:12:55.480165Z"
    }
   },
   "outputs": [
    {
     "output_type": "stream",
     "name": "stdout",
     "text": [
      "Order: 1 Mesh Size: 1.0 L2-error: 0.0021388692850139966\n",
      "Order: 1 Mesh Size: 0.5 L2-error: 0.0015448207320687085\n",
      "Order: 1 Mesh Size: 0.25 L2-error: 0.000306667868916133\n",
      "Order: 1 Mesh Size: 0.125 L2-error: 0.0002664203802452599\n",
      "Order: 1 Mesh Size: 0.0625 L2-error: 0.00025697510865131673\n",
      "......................................................................\n",
      "Order: 2 Mesh Size: 1.0 L2-error: 0.0009453965788588372\n",
      "Order: 2 Mesh Size: 0.5 L2-error: 0.0006825357593877055\n",
      "Order: 2 Mesh Size: 0.25 L2-error: 0.0005863220096288398\n",
      "Order: 2 Mesh Size: 0.125 L2-error: 0.0004040910540926051\n",
      "Order: 2 Mesh Size: 0.0625 L2-error: 0.00022932110159325754\n",
      "......................................................................\n",
      "Order: 3 Mesh Size: 1.0 L2-error: 0.0008425809719983904\n",
      "Order: 3 Mesh Size: 0.5 L2-error: 0.0008665829734104698\n",
      "Order: 3 Mesh Size: 0.25 L2-error: 0.0006963995342044203\n",
      "Order: 3 Mesh Size: 0.125 L2-error: 0.0003878141679165358\n",
      "Order: 3 Mesh Size: 0.0625 L2-error: 0.00013626089196429228\n",
      "......................................................................\n",
      "Order: 4 Mesh Size: 1.0 L2-error: 0.0007833491385151446\n",
      "Order: 4 Mesh Size: 0.5 L2-error: 0.0007004216324463689\n",
      "Order: 4 Mesh Size: 0.25 L2-error: 0.00043976539995901876\n",
      "Order: 4 Mesh Size: 0.125 L2-error: 0.00021303877595288444\n",
      "Order: 4 Mesh Size: 0.0625 L2-error: 6.018784449992589e-05\n",
      "......................................................................\n",
      "Stored 'hdg' (DataFrame)\n"
     ]
    }
   ],
   "source": [
    "hdg = pd.DataFrame(columns=columns)\n",
    "for order in orders:\n",
    "    for size in mesh_size:\n",
    "        mesh = Mesh(unit_square.GenerateMesh(maxh=size))\n",
    "        V = L2(mesh, order=order)\n",
    "        F = FacetFESpace(mesh, order=order, dirichlet=\"bottom|left|right|top\")\n",
    "\n",
    "        fes = FESpace([V,F])\n",
    "        u,uhat = fes.TrialFunction()\n",
    "        v,vhat = fes.TestFunction()\n",
    "\n",
    "        jump_u = u-uhat\n",
    "        jump_v = v-vhat\n",
    "\n",
    "        condense = True\n",
    "        h = specialcf.mesh_size\n",
    "        n = specialcf.normal(mesh.dim)\n",
    "\n",
    "        dS = dx(element_boundary=True)\n",
    "\n",
    "        # diffusion\n",
    "        diffusion = grad(u) * grad(v) * dx + \\\n",
    "            alpha * order ** 2/h * jump_u * jump_v * dS + \\\n",
    "            (-grad(u) * n * jump_v - grad(v) * n * jump_u) * dS\n",
    "\n",
    "        # convection            \n",
    "        b = CoefficientFunction((beta[0],beta[1])) \n",
    "        uup = IfPos(b * n, u, uhat)\n",
    "        convection = -b * u * grad(v) * dx + b * n * uup * jump_v * dS\n",
    "\n",
    "        acd = BilinearForm(fes, condense=condense)\n",
    "        acd += eps * diffusion + convection\n",
    "        acd.Assemble()\n",
    "        \n",
    "        #rhs\n",
    "        f = LinearForm(fes)\n",
    "        f += SymbolicLFI(coeff * v)\n",
    "        f.Assemble()\n",
    "\n",
    "        gfu = GridFunction(fes)    \n",
    "        if not condense:\n",
    "            inv = acd.mat.Inverse(fes.FreeDofs(), \"umfpack\")\n",
    "            gfu.vec.data = inv * f.vec\n",
    "        else:\n",
    "            f.vec.data += acd.harmonic_extension_trans * f.vec\n",
    "\n",
    "            inv = acd.mat.Inverse(fes.FreeDofs(True), \"umfpack\")\n",
    "            gfu.vec.data = inv * f.vec\n",
    "\n",
    "            gfu.vec.data += acd.harmonic_extension * gfu.vec\n",
    "            gfu.vec.data += acd.inner_solve * f.vec\n",
    "            \n",
    "        error = sqrt (Integrate ((gfu.components[0] - exact)*(gfu.components[0]- exact), mesh))\n",
    "        hdg.loc[len(hdg)] = [order, size, error, 'hdg']\n",
    "        \n",
    "        # Draw(gfu.components[0], mesh,\"u\",sd=5)\n",
    "        # netgen.gui.Snapshot(w=800,h=500, filename='Images/' + \"hdg-h_\"+str(size)+\"-k_\"+str(order)+\".png\")\n",
    "        \n",
    "        print ('Order:', order, 'Mesh Size:', size , \"L2-error:\", error)                            \n",
    "    print('......................................................................')\n",
    "\n",
    "%store hdg"
   ]
  },
  {
   "cell_type": "code",
   "execution_count": 12,
   "metadata": {},
   "outputs": [
    {
     "output_type": "display_data",
     "data": {
      "text/plain": "<Figure size 1440x360 with 4 Axes>",
      "image/svg+xml": "<?xml version=\"1.0\" encoding=\"utf-8\" standalone=\"no\"?>\n<!DOCTYPE svg PUBLIC \"-//W3C//DTD SVG 1.1//EN\"\n  \"http://www.w3.org/Graphics/SVG/1.1/DTD/svg11.dtd\">\n<!-- Created with matplotlib (https://matplotlib.org/) -->\n<svg height=\"329.734687pt\" version=\"1.1\" viewBox=\"0 0 1153.7 329.734687\" width=\"1153.7pt\" xmlns=\"http://www.w3.org/2000/svg\" xmlns:xlink=\"http://www.w3.org/1999/xlink\">\n <metadata>\n  <rdf:RDF xmlns:cc=\"http://creativecommons.org/ns#\" xmlns:dc=\"http://purl.org/dc/elements/1.1/\" xmlns:rdf=\"http://www.w3.org/1999/02/22-rdf-syntax-ns#\">\n   <cc:Work>\n    <dc:type rdf:resource=\"http://purl.org/dc/dcmitype/StillImage\"/>\n    <dc:date>2020-11-07T03:42:41.992743</dc:date>\n    <dc:format>image/svg+xml</dc:format>\n    <dc:creator>\n     <cc:Agent>\n      <dc:title>Matplotlib v3.3.1, https://matplotlib.org/</dc:title>\n     </cc:Agent>\n    </dc:creator>\n   </cc:Work>\n  </rdf:RDF>\n </metadata>\n <defs>\n  <style type=\"text/css\">*{stroke-linecap:butt;stroke-linejoin:round;}</style>\n </defs>\n <g id=\"figure_1\">\n  <g id=\"patch_1\">\n   <path d=\"M 0 329.734687 \nL 1153.7 329.734687 \nL 1153.7 0 \nL 0 0 \nz\n\" style=\"fill:#ffffff;\"/>\n  </g>\n  <g id=\"axes_1\">\n   <g id=\"patch_2\">\n    <path d=\"M 30.5 293.589375 \nL 273.108696 293.589375 \nL 273.108696 21.789375 \nL 30.5 21.789375 \nz\n\" style=\"fill:#ffffff;\"/>\n   </g>\n   <g id=\"matplotlib.axis_1\">\n    <g id=\"xtick_1\">\n     <g id=\"line2d_1\"/>\n     <g id=\"text_1\">\n      <!-- $\\mathdefault{10^{-1}}$ -->\n      <g style=\"fill:#262626;\" transform=\"translate(69.015427 307.401875)scale(0.1 -0.1)\">\n       <defs>\n        <path d=\"M 37.25 0 \nL 28.46875 0 \nL 28.46875 56 \nQ 25.296875 52.984375 20.140625 49.953125 \nQ 14.984375 46.921875 10.890625 45.40625 \nL 10.890625 53.90625 \nQ 18.265625 57.375 23.78125 62.296875 \nQ 29.296875 67.234375 31.59375 71.875 \nL 37.25 71.875 \nz\n\" id=\"ArialMT-49\"/>\n        <path d=\"M 4.15625 35.296875 \nQ 4.15625 48 6.765625 55.734375 \nQ 9.375 63.484375 14.515625 67.671875 \nQ 19.671875 71.875 27.484375 71.875 \nQ 33.25 71.875 37.59375 69.546875 \nQ 41.9375 67.234375 44.765625 62.859375 \nQ 47.609375 58.5 49.21875 52.21875 \nQ 50.828125 45.953125 50.828125 35.296875 \nQ 50.828125 22.703125 48.234375 14.96875 \nQ 45.65625 7.234375 40.5 3 \nQ 35.359375 -1.21875 27.484375 -1.21875 \nQ 17.140625 -1.21875 11.234375 6.203125 \nQ 4.15625 15.140625 4.15625 35.296875 \nz\nM 13.1875 35.296875 \nQ 13.1875 17.671875 17.3125 11.828125 \nQ 21.4375 6 27.484375 6 \nQ 33.546875 6 37.671875 11.859375 \nQ 41.796875 17.71875 41.796875 35.296875 \nQ 41.796875 52.984375 37.671875 58.78125 \nQ 33.546875 64.59375 27.390625 64.59375 \nQ 21.34375 64.59375 17.71875 59.46875 \nQ 13.1875 52.9375 13.1875 35.296875 \nz\n\" id=\"ArialMT-48\"/>\n        <path d=\"M 52.828125 31.203125 \nL 5.5625 31.203125 \nL 5.5625 39.40625 \nL 52.828125 39.40625 \nz\n\" id=\"ArialMT-8722\"/>\n       </defs>\n       <use transform=\"translate(0 0.99375)\" xlink:href=\"#ArialMT-49\"/>\n       <use transform=\"translate(55.615234 0.99375)\" xlink:href=\"#ArialMT-48\"/>\n       <use transform=\"translate(112.972813 70.6875)scale(0.7)\" xlink:href=\"#ArialMT-8722\"/>\n       <use transform=\"translate(153.851719 70.6875)scale(0.7)\" xlink:href=\"#ArialMT-49\"/>\n      </g>\n     </g>\n    </g>\n    <g id=\"xtick_2\">\n     <g id=\"line2d_2\"/>\n     <g id=\"text_2\">\n      <!-- $\\mathdefault{10^{0}}$ -->\n      <g style=\"fill:#262626;\" transform=\"translate(254.231028 307.401875)scale(0.1 -0.1)\">\n       <use transform=\"translate(0 0.99375)\" xlink:href=\"#ArialMT-49\"/>\n       <use transform=\"translate(55.615234 0.99375)\" xlink:href=\"#ArialMT-48\"/>\n       <use transform=\"translate(112.972813 70.6875)scale(0.7)\" xlink:href=\"#ArialMT-48\"/>\n      </g>\n     </g>\n    </g>\n    <g id=\"xtick_3\">\n     <g id=\"line2d_3\"/>\n    </g>\n    <g id=\"xtick_4\">\n     <g id=\"line2d_4\"/>\n    </g>\n    <g id=\"xtick_5\">\n     <g id=\"line2d_5\"/>\n    </g>\n    <g id=\"xtick_6\">\n     <g id=\"line2d_6\"/>\n    </g>\n    <g id=\"xtick_7\">\n     <g id=\"line2d_7\"/>\n    </g>\n    <g id=\"xtick_8\">\n     <g id=\"line2d_8\"/>\n    </g>\n    <g id=\"xtick_9\">\n     <g id=\"line2d_9\"/>\n    </g>\n    <g id=\"xtick_10\">\n     <g id=\"line2d_10\"/>\n    </g>\n    <g id=\"xtick_11\">\n     <g id=\"line2d_11\"/>\n    </g>\n    <g id=\"xtick_12\">\n     <g id=\"line2d_12\"/>\n    </g>\n    <g id=\"xtick_13\">\n     <g id=\"line2d_13\"/>\n    </g>\n    <g id=\"xtick_14\">\n     <g id=\"line2d_14\"/>\n    </g>\n    <g id=\"text_3\">\n     <!-- Mesh Size -->\n     <g style=\"fill:#262626;\" transform=\"translate(128.462942 320.547187)scale(0.1 -0.1)\">\n      <defs>\n       <path d=\"M 7.421875 0 \nL 7.421875 71.578125 \nL 21.6875 71.578125 \nL 38.625 20.90625 \nQ 40.96875 13.8125 42.046875 10.296875 \nQ 43.265625 14.203125 45.84375 21.78125 \nL 62.984375 71.578125 \nL 75.734375 71.578125 \nL 75.734375 0 \nL 66.609375 0 \nL 66.609375 59.90625 \nL 45.796875 0 \nL 37.25 0 \nL 16.546875 60.9375 \nL 16.546875 0 \nz\n\" id=\"ArialMT-77\"/>\n       <path d=\"M 42.09375 16.703125 \nL 51.171875 15.578125 \nQ 49.03125 7.625 43.21875 3.21875 \nQ 37.40625 -1.171875 28.375 -1.171875 \nQ 17 -1.171875 10.328125 5.828125 \nQ 3.65625 12.84375 3.65625 25.484375 \nQ 3.65625 38.578125 10.390625 45.796875 \nQ 17.140625 53.03125 27.875 53.03125 \nQ 38.28125 53.03125 44.875 45.953125 \nQ 51.46875 38.875 51.46875 26.03125 \nQ 51.46875 25.25 51.421875 23.6875 \nL 12.75 23.6875 \nQ 13.234375 15.140625 17.578125 10.59375 \nQ 21.921875 6.0625 28.421875 6.0625 \nQ 33.25 6.0625 36.671875 8.59375 \nQ 40.09375 11.140625 42.09375 16.703125 \nz\nM 13.234375 30.90625 \nL 42.1875 30.90625 \nQ 41.609375 37.453125 38.875 40.71875 \nQ 34.671875 45.796875 27.984375 45.796875 \nQ 21.921875 45.796875 17.796875 41.75 \nQ 13.671875 37.703125 13.234375 30.90625 \nz\n\" id=\"ArialMT-101\"/>\n       <path d=\"M 3.078125 15.484375 \nL 11.765625 16.84375 \nQ 12.5 11.625 15.84375 8.84375 \nQ 19.1875 6.0625 25.203125 6.0625 \nQ 31.25 6.0625 34.171875 8.515625 \nQ 37.109375 10.984375 37.109375 14.3125 \nQ 37.109375 17.28125 34.515625 19 \nQ 32.71875 20.171875 25.53125 21.96875 \nQ 15.875 24.421875 12.140625 26.203125 \nQ 8.40625 27.984375 6.46875 31.125 \nQ 4.546875 34.28125 4.546875 38.09375 \nQ 4.546875 41.546875 6.125 44.5 \nQ 7.71875 47.46875 10.453125 49.421875 \nQ 12.5 50.921875 16.03125 51.96875 \nQ 19.578125 53.03125 23.640625 53.03125 \nQ 29.734375 53.03125 34.34375 51.265625 \nQ 38.96875 49.515625 41.15625 46.5 \nQ 43.359375 43.5 44.1875 38.484375 \nL 35.59375 37.3125 \nQ 35.015625 41.3125 32.203125 43.546875 \nQ 29.390625 45.796875 24.265625 45.796875 \nQ 18.21875 45.796875 15.625 43.796875 \nQ 13.03125 41.796875 13.03125 39.109375 \nQ 13.03125 37.40625 14.109375 36.03125 \nQ 15.1875 34.625 17.484375 33.6875 \nQ 18.796875 33.203125 25.25 31.453125 \nQ 34.578125 28.953125 38.25 27.359375 \nQ 41.9375 25.78125 44.03125 22.75 \nQ 46.140625 19.734375 46.140625 15.234375 \nQ 46.140625 10.84375 43.578125 6.953125 \nQ 41.015625 3.078125 36.171875 0.953125 \nQ 31.34375 -1.171875 25.25 -1.171875 \nQ 15.140625 -1.171875 9.84375 3.03125 \nQ 4.546875 7.234375 3.078125 15.484375 \nz\n\" id=\"ArialMT-115\"/>\n       <path d=\"M 6.59375 0 \nL 6.59375 71.578125 \nL 15.375 71.578125 \nL 15.375 45.90625 \nQ 21.53125 53.03125 30.90625 53.03125 \nQ 36.671875 53.03125 40.921875 50.75 \nQ 45.171875 48.484375 47 44.484375 \nQ 48.828125 40.484375 48.828125 32.859375 \nL 48.828125 0 \nL 40.046875 0 \nL 40.046875 32.859375 \nQ 40.046875 39.453125 37.1875 42.453125 \nQ 34.328125 45.453125 29.109375 45.453125 \nQ 25.203125 45.453125 21.75 43.421875 \nQ 18.3125 41.40625 16.84375 37.9375 \nQ 15.375 34.46875 15.375 28.375 \nL 15.375 0 \nz\n\" id=\"ArialMT-104\"/>\n       <path id=\"ArialMT-32\"/>\n       <path d=\"M 4.5 23 \nL 13.421875 23.78125 \nQ 14.0625 18.40625 16.375 14.96875 \nQ 18.703125 11.53125 23.578125 9.40625 \nQ 28.46875 7.28125 34.578125 7.28125 \nQ 39.984375 7.28125 44.140625 8.890625 \nQ 48.296875 10.5 50.3125 13.296875 \nQ 52.34375 16.109375 52.34375 19.4375 \nQ 52.34375 22.796875 50.390625 25.3125 \nQ 48.4375 27.828125 43.953125 29.546875 \nQ 41.0625 30.671875 31.203125 33.03125 \nQ 21.34375 35.40625 17.390625 37.5 \nQ 12.25 40.1875 9.734375 44.15625 \nQ 7.234375 48.140625 7.234375 53.078125 \nQ 7.234375 58.5 10.296875 63.203125 \nQ 13.375 67.921875 19.28125 70.359375 \nQ 25.203125 72.796875 32.421875 72.796875 \nQ 40.375 72.796875 46.453125 70.234375 \nQ 52.546875 67.671875 55.8125 62.6875 \nQ 59.078125 57.71875 59.328125 51.421875 \nL 50.25 50.734375 \nQ 49.515625 57.515625 45.28125 60.984375 \nQ 41.0625 64.453125 32.8125 64.453125 \nQ 24.21875 64.453125 20.28125 61.296875 \nQ 16.359375 58.15625 16.359375 53.71875 \nQ 16.359375 49.859375 19.140625 47.359375 \nQ 21.875 44.875 33.421875 42.265625 \nQ 44.96875 39.65625 49.265625 37.703125 \nQ 55.515625 34.8125 58.484375 30.390625 \nQ 61.46875 25.984375 61.46875 20.21875 \nQ 61.46875 14.5 58.203125 9.4375 \nQ 54.9375 4.390625 48.796875 1.578125 \nQ 42.671875 -1.21875 35.015625 -1.21875 \nQ 25.296875 -1.21875 18.71875 1.609375 \nQ 12.15625 4.4375 8.421875 10.125 \nQ 4.6875 15.828125 4.5 23 \nz\n\" id=\"ArialMT-83\"/>\n       <path d=\"M 6.640625 61.46875 \nL 6.640625 71.578125 \nL 15.4375 71.578125 \nL 15.4375 61.46875 \nz\nM 6.640625 0 \nL 6.640625 51.859375 \nL 15.4375 51.859375 \nL 15.4375 0 \nz\n\" id=\"ArialMT-105\"/>\n       <path d=\"M 1.953125 0 \nL 1.953125 7.125 \nL 34.96875 45.015625 \nQ 29.34375 44.734375 25.046875 44.734375 \nL 3.90625 44.734375 \nL 3.90625 51.859375 \nL 46.296875 51.859375 \nL 46.296875 46.046875 \nL 18.21875 13.140625 \nL 12.796875 7.125 \nQ 18.703125 7.5625 23.875 7.5625 \nL 47.859375 7.5625 \nL 47.859375 0 \nz\n\" id=\"ArialMT-122\"/>\n      </defs>\n      <use xlink:href=\"#ArialMT-77\"/>\n      <use x=\"83.300781\" xlink:href=\"#ArialMT-101\"/>\n      <use x=\"138.916016\" xlink:href=\"#ArialMT-115\"/>\n      <use x=\"188.916016\" xlink:href=\"#ArialMT-104\"/>\n      <use x=\"244.53125\" xlink:href=\"#ArialMT-32\"/>\n      <use x=\"272.314453\" xlink:href=\"#ArialMT-83\"/>\n      <use x=\"339.013672\" xlink:href=\"#ArialMT-105\"/>\n      <use x=\"361.230469\" xlink:href=\"#ArialMT-122\"/>\n      <use x=\"411.230469\" xlink:href=\"#ArialMT-101\"/>\n     </g>\n    </g>\n   </g>\n   <g id=\"matplotlib.axis_2\">\n    <g id=\"ytick_1\">\n     <g id=\"line2d_15\"/>\n     <g id=\"text_4\">\n      <!-- $\\mathdefault{10^{-3}}$ -->\n      <g style=\"fill:#262626;\" transform=\"translate(7.2 127.951837)scale(0.1 -0.1)\">\n       <defs>\n        <path d=\"M 4.203125 18.890625 \nL 12.984375 20.0625 \nQ 14.5 12.59375 18.140625 9.296875 \nQ 21.78125 6 27 6 \nQ 33.203125 6 37.46875 10.296875 \nQ 41.75 14.59375 41.75 20.953125 \nQ 41.75 27 37.796875 30.921875 \nQ 33.84375 34.859375 27.734375 34.859375 \nQ 25.25 34.859375 21.53125 33.890625 \nL 22.515625 41.609375 \nQ 23.390625 41.5 23.921875 41.5 \nQ 29.546875 41.5 34.03125 44.421875 \nQ 38.53125 47.359375 38.53125 53.46875 \nQ 38.53125 58.296875 35.25 61.46875 \nQ 31.984375 64.65625 26.8125 64.65625 \nQ 21.6875 64.65625 18.265625 61.421875 \nQ 14.84375 58.203125 13.875 51.765625 \nL 5.078125 53.328125 \nQ 6.6875 62.15625 12.390625 67.015625 \nQ 18.109375 71.875 26.609375 71.875 \nQ 32.46875 71.875 37.390625 69.359375 \nQ 42.328125 66.84375 44.9375 62.5 \nQ 47.5625 58.15625 47.5625 53.265625 \nQ 47.5625 48.640625 45.0625 44.828125 \nQ 42.578125 41.015625 37.703125 38.765625 \nQ 44.046875 37.3125 47.5625 32.6875 \nQ 51.078125 28.078125 51.078125 21.140625 \nQ 51.078125 11.765625 44.234375 5.25 \nQ 37.40625 -1.265625 26.953125 -1.265625 \nQ 17.53125 -1.265625 11.296875 4.34375 \nQ 5.078125 9.96875 4.203125 18.890625 \nz\n\" id=\"ArialMT-51\"/>\n       </defs>\n       <use transform=\"translate(0 0.99375)\" xlink:href=\"#ArialMT-49\"/>\n       <use transform=\"translate(55.615234 0.99375)\" xlink:href=\"#ArialMT-48\"/>\n       <use transform=\"translate(112.972813 70.6875)scale(0.7)\" xlink:href=\"#ArialMT-8722\"/>\n       <use transform=\"translate(153.851719 70.6875)scale(0.7)\" xlink:href=\"#ArialMT-51\"/>\n      </g>\n     </g>\n    </g>\n    <g id=\"ytick_2\">\n     <g id=\"line2d_16\"/>\n    </g>\n    <g id=\"ytick_3\">\n     <g id=\"line2d_17\"/>\n    </g>\n    <g id=\"ytick_4\">\n     <g id=\"line2d_18\"/>\n    </g>\n    <g id=\"ytick_5\">\n     <g id=\"line2d_19\"/>\n    </g>\n    <g id=\"ytick_6\">\n     <g id=\"line2d_20\"/>\n    </g>\n    <g id=\"ytick_7\">\n     <g id=\"line2d_21\"/>\n    </g>\n    <g id=\"ytick_8\">\n     <g id=\"line2d_22\"/>\n    </g>\n    <g id=\"ytick_9\">\n     <g id=\"line2d_23\"/>\n    </g>\n   </g>\n   <g id=\"line2d_24\">\n    <path clip-path=\"url(#p2f87841cf8)\" d=\"M 262.081028 34.14392 \nL 206.942688 72.083424 \nL 151.804348 260.620798 \nL 96.666008 277.025853 \nL 41.527668 281.23483 \n\" style=\"fill:none;stroke:#1f77b4;stroke-linecap:round;stroke-width:1.5;\"/>\n    <defs>\n     <path d=\"M 0 1.5 \nC 0.397805 1.5 0.77937 1.341951 1.06066 1.06066 \nC 1.341951 0.77937 1.5 0.397805 1.5 0 \nC 1.5 -0.397805 1.341951 -0.77937 1.06066 -1.06066 \nC 0.77937 -1.341951 0.397805 -1.5 0 -1.5 \nC -0.397805 -1.5 -0.77937 -1.341951 -1.06066 -1.06066 \nC -1.341951 -0.77937 -1.5 -0.397805 -1.5 0 \nC -1.5 0.397805 -1.341951 0.77937 -1.06066 1.06066 \nC -0.77937 1.341951 -0.397805 1.5 0 1.5 \nz\n\" id=\"m5ec991f14c\" style=\"stroke:#1f77b4;\"/>\n    </defs>\n    <g clip-path=\"url(#p2f87841cf8)\">\n     <use style=\"fill:#1f77b4;stroke:#1f77b4;\" x=\"262.081028\" xlink:href=\"#m5ec991f14c\" y=\"34.14392\"/>\n     <use style=\"fill:#1f77b4;stroke:#1f77b4;\" x=\"206.942688\" xlink:href=\"#m5ec991f14c\" y=\"72.083424\"/>\n     <use style=\"fill:#1f77b4;stroke:#1f77b4;\" x=\"151.804348\" xlink:href=\"#m5ec991f14c\" y=\"260.620798\"/>\n     <use style=\"fill:#1f77b4;stroke:#1f77b4;\" x=\"96.666008\" xlink:href=\"#m5ec991f14c\" y=\"277.025853\"/>\n     <use style=\"fill:#1f77b4;stroke:#1f77b4;\" x=\"41.527668\" xlink:href=\"#m5ec991f14c\" y=\"281.23483\"/>\n    </g>\n   </g>\n   <g id=\"patch_3\">\n    <path d=\"M 30.5 293.589375 \nL 30.5 21.789375 \n\" style=\"fill:none;stroke:#262626;stroke-linecap:square;stroke-linejoin:miter;stroke-width:1.25;\"/>\n   </g>\n   <g id=\"patch_4\">\n    <path d=\"M 273.108696 293.589375 \nL 273.108696 21.789375 \n\" style=\"fill:none;stroke:#262626;stroke-linecap:square;stroke-linejoin:miter;stroke-width:1.25;\"/>\n   </g>\n   <g id=\"patch_5\">\n    <path d=\"M 30.5 293.589375 \nL 273.108696 293.589375 \n\" style=\"fill:none;stroke:#262626;stroke-linecap:square;stroke-linejoin:miter;stroke-width:1.25;\"/>\n   </g>\n   <g id=\"patch_6\">\n    <path d=\"M 30.5 21.789375 \nL 273.108696 21.789375 \n\" style=\"fill:none;stroke:#262626;stroke-linecap:square;stroke-linejoin:miter;stroke-width:1.25;\"/>\n   </g>\n   <g id=\"text_5\">\n    <!-- k = 1 -->\n    <g style=\"fill:#262626;\" transform=\"translate(138.62966 15.789375)scale(0.12 -0.12)\">\n     <defs>\n      <path d=\"M 6.640625 0 \nL 6.640625 71.578125 \nL 15.4375 71.578125 \nL 15.4375 30.765625 \nL 36.234375 51.859375 \nL 47.609375 51.859375 \nL 27.78125 32.625 \nL 49.609375 0 \nL 38.765625 0 \nL 21.625 26.515625 \nL 15.4375 20.5625 \nL 15.4375 0 \nz\n\" id=\"ArialMT-107\"/>\n      <path d=\"M 52.828125 42.09375 \nL 5.5625 42.09375 \nL 5.5625 50.296875 \nL 52.828125 50.296875 \nz\nM 52.828125 20.359375 \nL 5.5625 20.359375 \nL 5.5625 28.5625 \nL 52.828125 28.5625 \nz\n\" id=\"ArialMT-61\"/>\n     </defs>\n     <use xlink:href=\"#ArialMT-107\"/>\n     <use x=\"50\" xlink:href=\"#ArialMT-32\"/>\n     <use x=\"77.783203\" xlink:href=\"#ArialMT-61\"/>\n     <use x=\"136.181641\" xlink:href=\"#ArialMT-32\"/>\n     <use x=\"163.964844\" xlink:href=\"#ArialMT-49\"/>\n    </g>\n   </g>\n   <g id=\"legend_1\">\n    <g id=\"line2d_25\">\n     <path d=\"M 39.5 34.447187 \nL 59.5 34.447187 \n\" style=\"fill:none;stroke:#1f77b4;stroke-linecap:round;stroke-width:1.5;\"/>\n    </g>\n    <g id=\"line2d_26\">\n     <g>\n      <use style=\"fill:#1f77b4;stroke:#1f77b4;\" x=\"49.5\" xlink:href=\"#m5ec991f14c\" y=\"34.447187\"/>\n     </g>\n    </g>\n    <g id=\"text_6\">\n     <!-- Error -->\n     <g style=\"fill:#262626;\" transform=\"translate(67.5 37.947187)scale(0.1 -0.1)\">\n      <defs>\n       <path d=\"M 7.90625 0 \nL 7.90625 71.578125 \nL 59.671875 71.578125 \nL 59.671875 63.140625 \nL 17.390625 63.140625 \nL 17.390625 41.21875 \nL 56.984375 41.21875 \nL 56.984375 32.8125 \nL 17.390625 32.8125 \nL 17.390625 8.453125 \nL 61.328125 8.453125 \nL 61.328125 0 \nz\n\" id=\"ArialMT-69\"/>\n       <path d=\"M 6.5 0 \nL 6.5 51.859375 \nL 14.40625 51.859375 \nL 14.40625 44 \nQ 17.4375 49.515625 20 51.265625 \nQ 22.5625 53.03125 25.640625 53.03125 \nQ 30.078125 53.03125 34.671875 50.203125 \nL 31.640625 42.046875 \nQ 28.421875 43.953125 25.203125 43.953125 \nQ 22.3125 43.953125 20.015625 42.21875 \nQ 17.71875 40.484375 16.75 37.40625 \nQ 15.28125 32.71875 15.28125 27.15625 \nL 15.28125 0 \nz\n\" id=\"ArialMT-114\"/>\n       <path d=\"M 3.328125 25.921875 \nQ 3.328125 40.328125 11.328125 47.265625 \nQ 18.015625 53.03125 27.640625 53.03125 \nQ 38.328125 53.03125 45.109375 46.015625 \nQ 51.90625 39.015625 51.90625 26.65625 \nQ 51.90625 16.65625 48.90625 10.90625 \nQ 45.90625 5.171875 40.15625 2 \nQ 34.421875 -1.171875 27.640625 -1.171875 \nQ 16.75 -1.171875 10.03125 5.8125 \nQ 3.328125 12.796875 3.328125 25.921875 \nz\nM 12.359375 25.921875 \nQ 12.359375 15.96875 16.703125 11.015625 \nQ 21.046875 6.0625 27.640625 6.0625 \nQ 34.1875 6.0625 38.53125 11.03125 \nQ 42.875 16.015625 42.875 26.21875 \nQ 42.875 35.84375 38.5 40.796875 \nQ 34.125 45.75 27.640625 45.75 \nQ 21.046875 45.75 16.703125 40.8125 \nQ 12.359375 35.890625 12.359375 25.921875 \nz\n\" id=\"ArialMT-111\"/>\n      </defs>\n      <use xlink:href=\"#ArialMT-69\"/>\n      <use x=\"66.699219\" xlink:href=\"#ArialMT-114\"/>\n      <use x=\"100\" xlink:href=\"#ArialMT-114\"/>\n      <use x=\"133.300781\" xlink:href=\"#ArialMT-111\"/>\n      <use x=\"188.916016\" xlink:href=\"#ArialMT-114\"/>\n     </g>\n    </g>\n   </g>\n  </g>\n  <g id=\"axes_2\">\n   <g id=\"patch_7\">\n    <path d=\"M 321.630435 293.589375 \nL 564.23913 293.589375 \nL 564.23913 21.789375 \nL 321.630435 21.789375 \nz\n\" style=\"fill:#ffffff;\"/>\n   </g>\n   <g id=\"matplotlib.axis_3\">\n    <g id=\"xtick_15\">\n     <g id=\"line2d_27\"/>\n     <g id=\"text_7\">\n      <!-- $\\mathdefault{10^{-1}}$ -->\n      <g style=\"fill:#262626;\" transform=\"translate(360.145862 307.401875)scale(0.1 -0.1)\">\n       <use transform=\"translate(0 0.99375)\" xlink:href=\"#ArialMT-49\"/>\n       <use transform=\"translate(55.615234 0.99375)\" xlink:href=\"#ArialMT-48\"/>\n       <use transform=\"translate(112.972813 70.6875)scale(0.7)\" xlink:href=\"#ArialMT-8722\"/>\n       <use transform=\"translate(153.851719 70.6875)scale(0.7)\" xlink:href=\"#ArialMT-49\"/>\n      </g>\n     </g>\n    </g>\n    <g id=\"xtick_16\">\n     <g id=\"line2d_28\"/>\n     <g id=\"text_8\">\n      <!-- $\\mathdefault{10^{0}}$ -->\n      <g style=\"fill:#262626;\" transform=\"translate(545.361462 307.401875)scale(0.1 -0.1)\">\n       <use transform=\"translate(0 0.99375)\" xlink:href=\"#ArialMT-49\"/>\n       <use transform=\"translate(55.615234 0.99375)\" xlink:href=\"#ArialMT-48\"/>\n       <use transform=\"translate(112.972813 70.6875)scale(0.7)\" xlink:href=\"#ArialMT-48\"/>\n      </g>\n     </g>\n    </g>\n    <g id=\"xtick_17\">\n     <g id=\"line2d_29\"/>\n    </g>\n    <g id=\"xtick_18\">\n     <g id=\"line2d_30\"/>\n    </g>\n    <g id=\"xtick_19\">\n     <g id=\"line2d_31\"/>\n    </g>\n    <g id=\"xtick_20\">\n     <g id=\"line2d_32\"/>\n    </g>\n    <g id=\"xtick_21\">\n     <g id=\"line2d_33\"/>\n    </g>\n    <g id=\"xtick_22\">\n     <g id=\"line2d_34\"/>\n    </g>\n    <g id=\"xtick_23\">\n     <g id=\"line2d_35\"/>\n    </g>\n    <g id=\"xtick_24\">\n     <g id=\"line2d_36\"/>\n    </g>\n    <g id=\"xtick_25\">\n     <g id=\"line2d_37\"/>\n    </g>\n    <g id=\"xtick_26\">\n     <g id=\"line2d_38\"/>\n    </g>\n    <g id=\"xtick_27\">\n     <g id=\"line2d_39\"/>\n    </g>\n    <g id=\"xtick_28\">\n     <g id=\"line2d_40\"/>\n    </g>\n    <g id=\"text_9\">\n     <!-- Mesh Size -->\n     <g style=\"fill:#262626;\" transform=\"translate(419.593376 320.547187)scale(0.1 -0.1)\">\n      <use xlink:href=\"#ArialMT-77\"/>\n      <use x=\"83.300781\" xlink:href=\"#ArialMT-101\"/>\n      <use x=\"138.916016\" xlink:href=\"#ArialMT-115\"/>\n      <use x=\"188.916016\" xlink:href=\"#ArialMT-104\"/>\n      <use x=\"244.53125\" xlink:href=\"#ArialMT-32\"/>\n      <use x=\"272.314453\" xlink:href=\"#ArialMT-83\"/>\n      <use x=\"339.013672\" xlink:href=\"#ArialMT-105\"/>\n      <use x=\"361.230469\" xlink:href=\"#ArialMT-122\"/>\n      <use x=\"411.230469\" xlink:href=\"#ArialMT-101\"/>\n     </g>\n    </g>\n   </g>\n   <g id=\"matplotlib.axis_4\">\n    <g id=\"ytick_10\">\n     <g id=\"line2d_41\"/>\n     <g id=\"text_10\">\n      <!-- $\\mathdefault{10^{-3}}$ -->\n      <g style=\"fill:#262626;\" transform=\"translate(298.330435 29.505232)scale(0.1 -0.1)\">\n       <use transform=\"translate(0 0.99375)\" xlink:href=\"#ArialMT-49\"/>\n       <use transform=\"translate(55.615234 0.99375)\" xlink:href=\"#ArialMT-48\"/>\n       <use transform=\"translate(112.972813 70.6875)scale(0.7)\" xlink:href=\"#ArialMT-8722\"/>\n       <use transform=\"translate(153.851719 70.6875)scale(0.7)\" xlink:href=\"#ArialMT-51\"/>\n      </g>\n     </g>\n    </g>\n    <g id=\"ytick_11\">\n     <g id=\"line2d_42\"/>\n     <g id=\"text_11\">\n      <!-- $\\mathdefault{3\\times10^{-4}}$ -->\n      <g style=\"fill:#262626;\" transform=\"translate(283.630435 239.476174)scale(0.1 -0.1)\">\n       <defs>\n        <path d=\"M 7.859375 19.96875 \nL 23.25 35.359375 \nL 7.90625 50.6875 \nL 13.875 56.640625 \nL 29.203125 41.3125 \nL 44.484375 56.59375 \nL 50.34375 50.6875 \nL 35.109375 35.40625 \nL 50.4375 20.0625 \nL 44.484375 14.109375 \nL 29.15625 29.4375 \nL 13.765625 14.0625 \nz\n\" id=\"ArialMT-215\"/>\n        <path d=\"M 32.328125 0 \nL 32.328125 17.140625 \nL 1.265625 17.140625 \nL 1.265625 25.203125 \nL 33.9375 71.578125 \nL 41.109375 71.578125 \nL 41.109375 25.203125 \nL 50.78125 25.203125 \nL 50.78125 17.140625 \nL 41.109375 17.140625 \nL 41.109375 0 \nz\nM 32.328125 25.203125 \nL 32.328125 57.46875 \nL 9.90625 25.203125 \nz\n\" id=\"ArialMT-52\"/>\n       </defs>\n       <use transform=\"translate(0 0.201563)\" xlink:href=\"#ArialMT-51\"/>\n       <use transform=\"translate(72.275391 0.201563)\" xlink:href=\"#ArialMT-215\"/>\n       <use transform=\"translate(147.333984 0.201563)\" xlink:href=\"#ArialMT-49\"/>\n       <use transform=\"translate(202.949219 0.201563)\" xlink:href=\"#ArialMT-48\"/>\n       <use transform=\"translate(260.306797 69.895313)scale(0.7)\" xlink:href=\"#ArialMT-8722\"/>\n       <use transform=\"translate(301.185703 69.895313)scale(0.7)\" xlink:href=\"#ArialMT-52\"/>\n      </g>\n     </g>\n    </g>\n    <g id=\"ytick_12\">\n     <g id=\"line2d_43\"/>\n     <g id=\"text_12\">\n      <!-- $\\mathdefault{4\\times10^{-4}}$ -->\n      <g style=\"fill:#262626;\" transform=\"translate(283.630435 189.292931)scale(0.1 -0.1)\">\n       <use transform=\"translate(0 0.201563)\" xlink:href=\"#ArialMT-52\"/>\n       <use transform=\"translate(72.275391 0.201563)\" xlink:href=\"#ArialMT-215\"/>\n       <use transform=\"translate(147.333984 0.201563)\" xlink:href=\"#ArialMT-49\"/>\n       <use transform=\"translate(202.949219 0.201563)\" xlink:href=\"#ArialMT-48\"/>\n       <use transform=\"translate(260.306797 69.895313)scale(0.7)\" xlink:href=\"#ArialMT-8722\"/>\n       <use transform=\"translate(301.185703 69.895313)scale(0.7)\" xlink:href=\"#ArialMT-52\"/>\n      </g>\n     </g>\n    </g>\n    <g id=\"ytick_13\">\n     <g id=\"line2d_44\"/>\n    </g>\n    <g id=\"ytick_14\">\n     <g id=\"line2d_45\"/>\n     <g id=\"text_13\">\n      <!-- $\\mathdefault{6\\times10^{-4}}$ -->\n      <g style=\"fill:#262626;\" transform=\"translate(283.630435 118.563622)scale(0.1 -0.1)\">\n       <defs>\n        <path d=\"M 49.75 54.046875 \nL 41.015625 53.375 \nQ 39.84375 58.546875 37.703125 60.890625 \nQ 34.125 64.65625 28.90625 64.65625 \nQ 24.703125 64.65625 21.53125 62.3125 \nQ 17.390625 59.28125 14.984375 53.46875 \nQ 12.59375 47.65625 12.5 36.921875 \nQ 15.671875 41.75 20.265625 44.09375 \nQ 24.859375 46.4375 29.890625 46.4375 \nQ 38.671875 46.4375 44.84375 39.96875 \nQ 51.03125 33.5 51.03125 23.25 \nQ 51.03125 16.5 48.125 10.71875 \nQ 45.21875 4.9375 40.140625 1.859375 \nQ 35.0625 -1.21875 28.609375 -1.21875 \nQ 17.625 -1.21875 10.6875 6.859375 \nQ 3.765625 14.9375 3.765625 33.5 \nQ 3.765625 54.25 11.421875 63.671875 \nQ 18.109375 71.875 29.4375 71.875 \nQ 37.890625 71.875 43.28125 67.140625 \nQ 48.6875 62.40625 49.75 54.046875 \nz\nM 13.875 23.1875 \nQ 13.875 18.65625 15.796875 14.5 \nQ 17.71875 10.359375 21.1875 8.171875 \nQ 24.65625 6 28.46875 6 \nQ 34.03125 6 38.03125 10.484375 \nQ 42.046875 14.984375 42.046875 22.703125 \nQ 42.046875 30.125 38.078125 34.390625 \nQ 34.125 38.671875 28.125 38.671875 \nQ 22.171875 38.671875 18.015625 34.390625 \nQ 13.875 30.125 13.875 23.1875 \nz\n\" id=\"ArialMT-54\"/>\n       </defs>\n       <use transform=\"translate(0 0.201563)\" xlink:href=\"#ArialMT-54\"/>\n       <use transform=\"translate(72.275391 0.201563)\" xlink:href=\"#ArialMT-215\"/>\n       <use transform=\"translate(147.333984 0.201563)\" xlink:href=\"#ArialMT-49\"/>\n       <use transform=\"translate(202.949219 0.201563)\" xlink:href=\"#ArialMT-48\"/>\n       <use transform=\"translate(260.306797 69.895313)scale(0.7)\" xlink:href=\"#ArialMT-8722\"/>\n       <use transform=\"translate(301.185703 69.895313)scale(0.7)\" xlink:href=\"#ArialMT-52\"/>\n      </g>\n     </g>\n    </g>\n    <g id=\"ytick_15\">\n     <g id=\"line2d_46\"/>\n    </g>\n    <g id=\"ytick_16\">\n     <g id=\"line2d_47\"/>\n    </g>\n    <g id=\"ytick_17\">\n     <g id=\"line2d_48\"/>\n    </g>\n   </g>\n   <g id=\"line2d_49\">\n    <path clip-path=\"url(#pde74e6b36c)\" d=\"M 553.211462 34.14392 \nL 498.073123 90.974635 \nL 442.934783 117.480047 \nL 387.796443 182.411635 \nL 332.658103 281.23483 \n\" style=\"fill:none;stroke:#1f77b4;stroke-linecap:round;stroke-width:1.5;\"/>\n    <g clip-path=\"url(#pde74e6b36c)\">\n     <use style=\"fill:#1f77b4;stroke:#1f77b4;\" x=\"553.211462\" xlink:href=\"#m5ec991f14c\" y=\"34.14392\"/>\n     <use style=\"fill:#1f77b4;stroke:#1f77b4;\" x=\"498.073123\" xlink:href=\"#m5ec991f14c\" y=\"90.974635\"/>\n     <use style=\"fill:#1f77b4;stroke:#1f77b4;\" x=\"442.934783\" xlink:href=\"#m5ec991f14c\" y=\"117.480047\"/>\n     <use style=\"fill:#1f77b4;stroke:#1f77b4;\" x=\"387.796443\" xlink:href=\"#m5ec991f14c\" y=\"182.411635\"/>\n     <use style=\"fill:#1f77b4;stroke:#1f77b4;\" x=\"332.658103\" xlink:href=\"#m5ec991f14c\" y=\"281.23483\"/>\n    </g>\n   </g>\n   <g id=\"patch_8\">\n    <path d=\"M 321.630435 293.589375 \nL 321.630435 21.789375 \n\" style=\"fill:none;stroke:#262626;stroke-linecap:square;stroke-linejoin:miter;stroke-width:1.25;\"/>\n   </g>\n   <g id=\"patch_9\">\n    <path d=\"M 564.23913 293.589375 \nL 564.23913 21.789375 \n\" style=\"fill:none;stroke:#262626;stroke-linecap:square;stroke-linejoin:miter;stroke-width:1.25;\"/>\n   </g>\n   <g id=\"patch_10\">\n    <path d=\"M 321.630435 293.589375 \nL 564.23913 293.589375 \n\" style=\"fill:none;stroke:#262626;stroke-linecap:square;stroke-linejoin:miter;stroke-width:1.25;\"/>\n   </g>\n   <g id=\"patch_11\">\n    <path d=\"M 321.630435 21.789375 \nL 564.23913 21.789375 \n\" style=\"fill:none;stroke:#262626;stroke-linecap:square;stroke-linejoin:miter;stroke-width:1.25;\"/>\n   </g>\n   <g id=\"text_14\">\n    <!-- k = 2 -->\n    <g style=\"fill:#262626;\" transform=\"translate(429.760095 15.789375)scale(0.12 -0.12)\">\n     <defs>\n      <path d=\"M 50.34375 8.453125 \nL 50.34375 0 \nL 3.03125 0 \nQ 2.9375 3.171875 4.046875 6.109375 \nQ 5.859375 10.9375 9.828125 15.625 \nQ 13.8125 20.3125 21.34375 26.46875 \nQ 33.015625 36.03125 37.109375 41.625 \nQ 41.21875 47.21875 41.21875 52.203125 \nQ 41.21875 57.421875 37.46875 61 \nQ 33.734375 64.59375 27.734375 64.59375 \nQ 21.390625 64.59375 17.578125 60.78125 \nQ 13.765625 56.984375 13.71875 50.25 \nL 4.6875 51.171875 \nQ 5.609375 61.28125 11.65625 66.578125 \nQ 17.71875 71.875 27.9375 71.875 \nQ 38.234375 71.875 44.234375 66.15625 \nQ 50.25 60.453125 50.25 52 \nQ 50.25 47.703125 48.484375 43.546875 \nQ 46.734375 39.40625 42.65625 34.8125 \nQ 38.578125 30.21875 29.109375 22.21875 \nQ 21.1875 15.578125 18.9375 13.203125 \nQ 16.703125 10.84375 15.234375 8.453125 \nz\n\" id=\"ArialMT-50\"/>\n     </defs>\n     <use xlink:href=\"#ArialMT-107\"/>\n     <use x=\"50\" xlink:href=\"#ArialMT-32\"/>\n     <use x=\"77.783203\" xlink:href=\"#ArialMT-61\"/>\n     <use x=\"136.181641\" xlink:href=\"#ArialMT-32\"/>\n     <use x=\"163.964844\" xlink:href=\"#ArialMT-50\"/>\n    </g>\n   </g>\n   <g id=\"legend_2\">\n    <g id=\"line2d_50\">\n     <path d=\"M 330.630435 34.447187 \nL 350.630435 34.447187 \n\" style=\"fill:none;stroke:#1f77b4;stroke-linecap:round;stroke-width:1.5;\"/>\n    </g>\n    <g id=\"line2d_51\">\n     <g>\n      <use style=\"fill:#1f77b4;stroke:#1f77b4;\" x=\"340.630435\" xlink:href=\"#m5ec991f14c\" y=\"34.447187\"/>\n     </g>\n    </g>\n    <g id=\"text_15\">\n     <!-- Error -->\n     <g style=\"fill:#262626;\" transform=\"translate(358.630435 37.947187)scale(0.1 -0.1)\">\n      <use xlink:href=\"#ArialMT-69\"/>\n      <use x=\"66.699219\" xlink:href=\"#ArialMT-114\"/>\n      <use x=\"100\" xlink:href=\"#ArialMT-114\"/>\n      <use x=\"133.300781\" xlink:href=\"#ArialMT-111\"/>\n      <use x=\"188.916016\" xlink:href=\"#ArialMT-114\"/>\n     </g>\n    </g>\n   </g>\n  </g>\n  <g id=\"axes_3\">\n   <g id=\"patch_12\">\n    <path d=\"M 612.76087 293.589375 \nL 855.369565 293.589375 \nL 855.369565 21.789375 \nL 612.76087 21.789375 \nz\n\" style=\"fill:#ffffff;\"/>\n   </g>\n   <g id=\"matplotlib.axis_5\">\n    <g id=\"xtick_29\">\n     <g id=\"line2d_52\"/>\n     <g id=\"text_16\">\n      <!-- $\\mathdefault{10^{-1}}$ -->\n      <g style=\"fill:#262626;\" transform=\"translate(651.276297 307.401875)scale(0.1 -0.1)\">\n       <use transform=\"translate(0 0.99375)\" xlink:href=\"#ArialMT-49\"/>\n       <use transform=\"translate(55.615234 0.99375)\" xlink:href=\"#ArialMT-48\"/>\n       <use transform=\"translate(112.972813 70.6875)scale(0.7)\" xlink:href=\"#ArialMT-8722\"/>\n       <use transform=\"translate(153.851719 70.6875)scale(0.7)\" xlink:href=\"#ArialMT-49\"/>\n      </g>\n     </g>\n    </g>\n    <g id=\"xtick_30\">\n     <g id=\"line2d_53\"/>\n     <g id=\"text_17\">\n      <!-- $\\mathdefault{10^{0}}$ -->\n      <g style=\"fill:#262626;\" transform=\"translate(836.491897 307.401875)scale(0.1 -0.1)\">\n       <use transform=\"translate(0 0.99375)\" xlink:href=\"#ArialMT-49\"/>\n       <use transform=\"translate(55.615234 0.99375)\" xlink:href=\"#ArialMT-48\"/>\n       <use transform=\"translate(112.972813 70.6875)scale(0.7)\" xlink:href=\"#ArialMT-48\"/>\n      </g>\n     </g>\n    </g>\n    <g id=\"xtick_31\">\n     <g id=\"line2d_54\"/>\n    </g>\n    <g id=\"xtick_32\">\n     <g id=\"line2d_55\"/>\n    </g>\n    <g id=\"xtick_33\">\n     <g id=\"line2d_56\"/>\n    </g>\n    <g id=\"xtick_34\">\n     <g id=\"line2d_57\"/>\n    </g>\n    <g id=\"xtick_35\">\n     <g id=\"line2d_58\"/>\n    </g>\n    <g id=\"xtick_36\">\n     <g id=\"line2d_59\"/>\n    </g>\n    <g id=\"xtick_37\">\n     <g id=\"line2d_60\"/>\n    </g>\n    <g id=\"xtick_38\">\n     <g id=\"line2d_61\"/>\n    </g>\n    <g id=\"xtick_39\">\n     <g id=\"line2d_62\"/>\n    </g>\n    <g id=\"xtick_40\">\n     <g id=\"line2d_63\"/>\n    </g>\n    <g id=\"xtick_41\">\n     <g id=\"line2d_64\"/>\n    </g>\n    <g id=\"xtick_42\">\n     <g id=\"line2d_65\"/>\n    </g>\n    <g id=\"text_18\">\n     <!-- Mesh Size -->\n     <g style=\"fill:#262626;\" transform=\"translate(710.723811 320.547187)scale(0.1 -0.1)\">\n      <use xlink:href=\"#ArialMT-77\"/>\n      <use x=\"83.300781\" xlink:href=\"#ArialMT-101\"/>\n      <use x=\"138.916016\" xlink:href=\"#ArialMT-115\"/>\n      <use x=\"188.916016\" xlink:href=\"#ArialMT-104\"/>\n      <use x=\"244.53125\" xlink:href=\"#ArialMT-32\"/>\n      <use x=\"272.314453\" xlink:href=\"#ArialMT-83\"/>\n      <use x=\"339.013672\" xlink:href=\"#ArialMT-105\"/>\n      <use x=\"361.230469\" xlink:href=\"#ArialMT-122\"/>\n      <use x=\"411.230469\" xlink:href=\"#ArialMT-101\"/>\n     </g>\n    </g>\n   </g>\n   <g id=\"matplotlib.axis_6\">\n    <g id=\"ytick_18\">\n     <g id=\"line2d_66\"/>\n     <g id=\"text_19\">\n      <!-- $\\mathdefault{2\\times10^{-4}}$ -->\n      <g style=\"fill:#262626;\" transform=\"translate(574.76087 235.086572)scale(0.1 -0.1)\">\n       <use transform=\"translate(0 0.201563)\" xlink:href=\"#ArialMT-50\"/>\n       <use transform=\"translate(72.275391 0.201563)\" xlink:href=\"#ArialMT-215\"/>\n       <use transform=\"translate(147.333984 0.201563)\" xlink:href=\"#ArialMT-49\"/>\n       <use transform=\"translate(202.949219 0.201563)\" xlink:href=\"#ArialMT-48\"/>\n       <use transform=\"translate(260.306797 69.895313)scale(0.7)\" xlink:href=\"#ArialMT-8722\"/>\n       <use transform=\"translate(301.185703 69.895313)scale(0.7)\" xlink:href=\"#ArialMT-52\"/>\n      </g>\n     </g>\n    </g>\n    <g id=\"ytick_19\">\n     <g id=\"line2d_67\"/>\n     <g id=\"text_20\">\n      <!-- $\\mathdefault{3\\times10^{-4}}$ -->\n      <g style=\"fill:#262626;\" transform=\"translate(574.76087 180.931181)scale(0.1 -0.1)\">\n       <use transform=\"translate(0 0.201563)\" xlink:href=\"#ArialMT-51\"/>\n       <use transform=\"translate(72.275391 0.201563)\" xlink:href=\"#ArialMT-215\"/>\n       <use transform=\"translate(147.333984 0.201563)\" xlink:href=\"#ArialMT-49\"/>\n       <use transform=\"translate(202.949219 0.201563)\" xlink:href=\"#ArialMT-48\"/>\n       <use transform=\"translate(260.306797 69.895313)scale(0.7)\" xlink:href=\"#ArialMT-8722\"/>\n       <use transform=\"translate(301.185703 69.895313)scale(0.7)\" xlink:href=\"#ArialMT-52\"/>\n      </g>\n     </g>\n    </g>\n    <g id=\"ytick_20\">\n     <g id=\"line2d_68\"/>\n     <g id=\"text_21\">\n      <!-- $\\mathdefault{4\\times10^{-4}}$ -->\n      <g style=\"fill:#262626;\" transform=\"translate(574.76087 142.507319)scale(0.1 -0.1)\">\n       <use transform=\"translate(0 0.201563)\" xlink:href=\"#ArialMT-52\"/>\n       <use transform=\"translate(72.275391 0.201563)\" xlink:href=\"#ArialMT-215\"/>\n       <use transform=\"translate(147.333984 0.201563)\" xlink:href=\"#ArialMT-49\"/>\n       <use transform=\"translate(202.949219 0.201563)\" xlink:href=\"#ArialMT-48\"/>\n       <use transform=\"translate(260.306797 69.895313)scale(0.7)\" xlink:href=\"#ArialMT-8722\"/>\n       <use transform=\"translate(301.185703 69.895313)scale(0.7)\" xlink:href=\"#ArialMT-52\"/>\n      </g>\n     </g>\n    </g>\n    <g id=\"ytick_21\">\n     <g id=\"line2d_69\"/>\n    </g>\n    <g id=\"ytick_22\">\n     <g id=\"line2d_70\"/>\n     <g id=\"text_22\">\n      <!-- $\\mathdefault{6\\times10^{-4}}$ -->\n      <g style=\"fill:#262626;\" transform=\"translate(574.76087 88.351928)scale(0.1 -0.1)\">\n       <use transform=\"translate(0 0.201563)\" xlink:href=\"#ArialMT-54\"/>\n       <use transform=\"translate(72.275391 0.201563)\" xlink:href=\"#ArialMT-215\"/>\n       <use transform=\"translate(147.333984 0.201563)\" xlink:href=\"#ArialMT-49\"/>\n       <use transform=\"translate(202.949219 0.201563)\" xlink:href=\"#ArialMT-48\"/>\n       <use transform=\"translate(260.306797 69.895313)scale(0.7)\" xlink:href=\"#ArialMT-8722\"/>\n       <use transform=\"translate(301.185703 69.895313)scale(0.7)\" xlink:href=\"#ArialMT-52\"/>\n      </g>\n     </g>\n    </g>\n    <g id=\"ytick_23\">\n     <g id=\"line2d_71\"/>\n    </g>\n    <g id=\"ytick_24\">\n     <g id=\"line2d_72\"/>\n    </g>\n    <g id=\"ytick_25\">\n     <g id=\"line2d_73\"/>\n    </g>\n   </g>\n   <g id=\"line2d_74\">\n    <path clip-path=\"url(#pe8d0034ce1)\" d=\"M 844.341897 37.895468 \nL 789.203557 34.14392 \nL 734.065217 63.345514 \nL 678.926877 141.533297 \nL 623.788538 281.23483 \n\" style=\"fill:none;stroke:#1f77b4;stroke-linecap:round;stroke-width:1.5;\"/>\n    <g clip-path=\"url(#pe8d0034ce1)\">\n     <use style=\"fill:#1f77b4;stroke:#1f77b4;\" x=\"844.341897\" xlink:href=\"#m5ec991f14c\" y=\"37.895468\"/>\n     <use style=\"fill:#1f77b4;stroke:#1f77b4;\" x=\"789.203557\" xlink:href=\"#m5ec991f14c\" y=\"34.14392\"/>\n     <use style=\"fill:#1f77b4;stroke:#1f77b4;\" x=\"734.065217\" xlink:href=\"#m5ec991f14c\" y=\"63.345514\"/>\n     <use style=\"fill:#1f77b4;stroke:#1f77b4;\" x=\"678.926877\" xlink:href=\"#m5ec991f14c\" y=\"141.533297\"/>\n     <use style=\"fill:#1f77b4;stroke:#1f77b4;\" x=\"623.788538\" xlink:href=\"#m5ec991f14c\" y=\"281.23483\"/>\n    </g>\n   </g>\n   <g id=\"patch_13\">\n    <path d=\"M 612.76087 293.589375 \nL 612.76087 21.789375 \n\" style=\"fill:none;stroke:#262626;stroke-linecap:square;stroke-linejoin:miter;stroke-width:1.25;\"/>\n   </g>\n   <g id=\"patch_14\">\n    <path d=\"M 855.369565 293.589375 \nL 855.369565 21.789375 \n\" style=\"fill:none;stroke:#262626;stroke-linecap:square;stroke-linejoin:miter;stroke-width:1.25;\"/>\n   </g>\n   <g id=\"patch_15\">\n    <path d=\"M 612.76087 293.589375 \nL 855.369565 293.589375 \n\" style=\"fill:none;stroke:#262626;stroke-linecap:square;stroke-linejoin:miter;stroke-width:1.25;\"/>\n   </g>\n   <g id=\"patch_16\">\n    <path d=\"M 612.76087 21.789375 \nL 855.369565 21.789375 \n\" style=\"fill:none;stroke:#262626;stroke-linecap:square;stroke-linejoin:miter;stroke-width:1.25;\"/>\n   </g>\n   <g id=\"text_23\">\n    <!-- k = 3 -->\n    <g style=\"fill:#262626;\" transform=\"translate(720.89053 15.789375)scale(0.12 -0.12)\">\n     <use xlink:href=\"#ArialMT-107\"/>\n     <use x=\"50\" xlink:href=\"#ArialMT-32\"/>\n     <use x=\"77.783203\" xlink:href=\"#ArialMT-61\"/>\n     <use x=\"136.181641\" xlink:href=\"#ArialMT-32\"/>\n     <use x=\"163.964844\" xlink:href=\"#ArialMT-51\"/>\n    </g>\n   </g>\n   <g id=\"legend_3\">\n    <g id=\"line2d_75\">\n     <path d=\"M 621.76087 34.447187 \nL 641.76087 34.447187 \n\" style=\"fill:none;stroke:#1f77b4;stroke-linecap:round;stroke-width:1.5;\"/>\n    </g>\n    <g id=\"line2d_76\">\n     <g>\n      <use style=\"fill:#1f77b4;stroke:#1f77b4;\" x=\"631.76087\" xlink:href=\"#m5ec991f14c\" y=\"34.447187\"/>\n     </g>\n    </g>\n    <g id=\"text_24\">\n     <!-- Error -->\n     <g style=\"fill:#262626;\" transform=\"translate(649.76087 37.947187)scale(0.1 -0.1)\">\n      <use xlink:href=\"#ArialMT-69\"/>\n      <use x=\"66.699219\" xlink:href=\"#ArialMT-114\"/>\n      <use x=\"100\" xlink:href=\"#ArialMT-114\"/>\n      <use x=\"133.300781\" xlink:href=\"#ArialMT-111\"/>\n      <use x=\"188.916016\" xlink:href=\"#ArialMT-114\"/>\n     </g>\n    </g>\n   </g>\n  </g>\n  <g id=\"axes_4\">\n   <g id=\"patch_17\">\n    <path d=\"M 903.891304 293.589375 \nL 1146.5 293.589375 \nL 1146.5 21.789375 \nL 903.891304 21.789375 \nz\n\" style=\"fill:#ffffff;\"/>\n   </g>\n   <g id=\"matplotlib.axis_7\">\n    <g id=\"xtick_43\">\n     <g id=\"line2d_77\"/>\n     <g id=\"text_25\">\n      <!-- $\\mathdefault{10^{-1}}$ -->\n      <g style=\"fill:#262626;\" transform=\"translate(942.406732 307.401875)scale(0.1 -0.1)\">\n       <use transform=\"translate(0 0.99375)\" xlink:href=\"#ArialMT-49\"/>\n       <use transform=\"translate(55.615234 0.99375)\" xlink:href=\"#ArialMT-48\"/>\n       <use transform=\"translate(112.972813 70.6875)scale(0.7)\" xlink:href=\"#ArialMT-8722\"/>\n       <use transform=\"translate(153.851719 70.6875)scale(0.7)\" xlink:href=\"#ArialMT-49\"/>\n      </g>\n     </g>\n    </g>\n    <g id=\"xtick_44\">\n     <g id=\"line2d_78\"/>\n     <g id=\"text_26\">\n      <!-- $\\mathdefault{10^{0}}$ -->\n      <g style=\"fill:#262626;\" transform=\"translate(1127.622332 307.401875)scale(0.1 -0.1)\">\n       <use transform=\"translate(0 0.99375)\" xlink:href=\"#ArialMT-49\"/>\n       <use transform=\"translate(55.615234 0.99375)\" xlink:href=\"#ArialMT-48\"/>\n       <use transform=\"translate(112.972813 70.6875)scale(0.7)\" xlink:href=\"#ArialMT-48\"/>\n      </g>\n     </g>\n    </g>\n    <g id=\"xtick_45\">\n     <g id=\"line2d_79\"/>\n    </g>\n    <g id=\"xtick_46\">\n     <g id=\"line2d_80\"/>\n    </g>\n    <g id=\"xtick_47\">\n     <g id=\"line2d_81\"/>\n    </g>\n    <g id=\"xtick_48\">\n     <g id=\"line2d_82\"/>\n    </g>\n    <g id=\"xtick_49\">\n     <g id=\"line2d_83\"/>\n    </g>\n    <g id=\"xtick_50\">\n     <g id=\"line2d_84\"/>\n    </g>\n    <g id=\"xtick_51\">\n     <g id=\"line2d_85\"/>\n    </g>\n    <g id=\"xtick_52\">\n     <g id=\"line2d_86\"/>\n    </g>\n    <g id=\"xtick_53\">\n     <g id=\"line2d_87\"/>\n    </g>\n    <g id=\"xtick_54\">\n     <g id=\"line2d_88\"/>\n    </g>\n    <g id=\"xtick_55\">\n     <g id=\"line2d_89\"/>\n    </g>\n    <g id=\"xtick_56\">\n     <g id=\"line2d_90\"/>\n    </g>\n    <g id=\"text_27\">\n     <!-- Mesh Size -->\n     <g style=\"fill:#262626;\" transform=\"translate(1001.854246 320.547187)scale(0.1 -0.1)\">\n      <use xlink:href=\"#ArialMT-77\"/>\n      <use x=\"83.300781\" xlink:href=\"#ArialMT-101\"/>\n      <use x=\"138.916016\" xlink:href=\"#ArialMT-115\"/>\n      <use x=\"188.916016\" xlink:href=\"#ArialMT-104\"/>\n      <use x=\"244.53125\" xlink:href=\"#ArialMT-32\"/>\n      <use x=\"272.314453\" xlink:href=\"#ArialMT-83\"/>\n      <use x=\"339.013672\" xlink:href=\"#ArialMT-105\"/>\n      <use x=\"361.230469\" xlink:href=\"#ArialMT-122\"/>\n      <use x=\"411.230469\" xlink:href=\"#ArialMT-101\"/>\n     </g>\n    </g>\n   </g>\n   <g id=\"matplotlib.axis_8\">\n    <g id=\"ytick_26\">\n     <g id=\"line2d_91\"/>\n     <g id=\"text_28\">\n      <!-- $\\mathdefault{10^{-4}}$ -->\n      <g style=\"fill:#262626;\" transform=\"translate(880.591304 237.454597)scale(0.1 -0.1)\">\n       <use transform=\"translate(0 0.201563)\" xlink:href=\"#ArialMT-49\"/>\n       <use transform=\"translate(55.615234 0.201563)\" xlink:href=\"#ArialMT-48\"/>\n       <use transform=\"translate(112.972813 69.895313)scale(0.7)\" xlink:href=\"#ArialMT-8722\"/>\n       <use transform=\"translate(153.851719 69.895313)scale(0.7)\" xlink:href=\"#ArialMT-52\"/>\n      </g>\n     </g>\n    </g>\n    <g id=\"ytick_27\">\n     <g id=\"line2d_92\"/>\n    </g>\n    <g id=\"ytick_28\">\n     <g id=\"line2d_93\"/>\n    </g>\n    <g id=\"ytick_29\">\n     <g id=\"line2d_94\"/>\n    </g>\n    <g id=\"ytick_30\">\n     <g id=\"line2d_95\"/>\n    </g>\n    <g id=\"ytick_31\">\n     <g id=\"line2d_96\"/>\n    </g>\n    <g id=\"ytick_32\">\n     <g id=\"line2d_97\"/>\n    </g>\n    <g id=\"ytick_33\">\n     <g id=\"line2d_98\"/>\n    </g>\n    <g id=\"ytick_34\">\n     <g id=\"line2d_99\"/>\n    </g>\n    <g id=\"ytick_35\">\n     <g id=\"line2d_100\"/>\n    </g>\n    <g id=\"ytick_36\">\n     <g id=\"line2d_101\"/>\n    </g>\n    <g id=\"ytick_37\">\n     <g id=\"line2d_102\"/>\n    </g>\n   </g>\n   <g id=\"line2d_103\">\n    <path clip-path=\"url(#p0da2c81ca1)\" d=\"M 1135.472332 34.14392 \nL 1080.333992 44.918403 \nL 1025.195652 89.73579 \nL 970.057312 159.523727 \nL 914.918972 281.23483 \n\" style=\"fill:none;stroke:#1f77b4;stroke-linecap:round;stroke-width:1.5;\"/>\n    <g clip-path=\"url(#p0da2c81ca1)\">\n     <use style=\"fill:#1f77b4;stroke:#1f77b4;\" x=\"1135.472332\" xlink:href=\"#m5ec991f14c\" y=\"34.14392\"/>\n     <use style=\"fill:#1f77b4;stroke:#1f77b4;\" x=\"1080.333992\" xlink:href=\"#m5ec991f14c\" y=\"44.918403\"/>\n     <use style=\"fill:#1f77b4;stroke:#1f77b4;\" x=\"1025.195652\" xlink:href=\"#m5ec991f14c\" y=\"89.73579\"/>\n     <use style=\"fill:#1f77b4;stroke:#1f77b4;\" x=\"970.057312\" xlink:href=\"#m5ec991f14c\" y=\"159.523727\"/>\n     <use style=\"fill:#1f77b4;stroke:#1f77b4;\" x=\"914.918972\" xlink:href=\"#m5ec991f14c\" y=\"281.23483\"/>\n    </g>\n   </g>\n   <g id=\"patch_18\">\n    <path d=\"M 903.891304 293.589375 \nL 903.891304 21.789375 \n\" style=\"fill:none;stroke:#262626;stroke-linecap:square;stroke-linejoin:miter;stroke-width:1.25;\"/>\n   </g>\n   <g id=\"patch_19\">\n    <path d=\"M 1146.5 293.589375 \nL 1146.5 21.789375 \n\" style=\"fill:none;stroke:#262626;stroke-linecap:square;stroke-linejoin:miter;stroke-width:1.25;\"/>\n   </g>\n   <g id=\"patch_20\">\n    <path d=\"M 903.891304 293.589375 \nL 1146.5 293.589375 \n\" style=\"fill:none;stroke:#262626;stroke-linecap:square;stroke-linejoin:miter;stroke-width:1.25;\"/>\n   </g>\n   <g id=\"patch_21\">\n    <path d=\"M 903.891304 21.789375 \nL 1146.5 21.789375 \n\" style=\"fill:none;stroke:#262626;stroke-linecap:square;stroke-linejoin:miter;stroke-width:1.25;\"/>\n   </g>\n   <g id=\"text_29\">\n    <!-- k = 4 -->\n    <g style=\"fill:#262626;\" transform=\"translate(1012.020965 15.789375)scale(0.12 -0.12)\">\n     <use xlink:href=\"#ArialMT-107\"/>\n     <use x=\"50\" xlink:href=\"#ArialMT-32\"/>\n     <use x=\"77.783203\" xlink:href=\"#ArialMT-61\"/>\n     <use x=\"136.181641\" xlink:href=\"#ArialMT-32\"/>\n     <use x=\"163.964844\" xlink:href=\"#ArialMT-52\"/>\n    </g>\n   </g>\n   <g id=\"legend_4\">\n    <g id=\"line2d_104\">\n     <path d=\"M 912.891304 34.447187 \nL 932.891304 34.447187 \n\" style=\"fill:none;stroke:#1f77b4;stroke-linecap:round;stroke-width:1.5;\"/>\n    </g>\n    <g id=\"line2d_105\">\n     <g>\n      <use style=\"fill:#1f77b4;stroke:#1f77b4;\" x=\"922.891304\" xlink:href=\"#m5ec991f14c\" y=\"34.447187\"/>\n     </g>\n    </g>\n    <g id=\"text_30\">\n     <!-- Error -->\n     <g style=\"fill:#262626;\" transform=\"translate(940.891304 37.947187)scale(0.1 -0.1)\">\n      <use xlink:href=\"#ArialMT-69\"/>\n      <use x=\"66.699219\" xlink:href=\"#ArialMT-114\"/>\n      <use x=\"100\" xlink:href=\"#ArialMT-114\"/>\n      <use x=\"133.300781\" xlink:href=\"#ArialMT-111\"/>\n      <use x=\"188.916016\" xlink:href=\"#ArialMT-114\"/>\n     </g>\n    </g>\n   </g>\n  </g>\n </g>\n <defs>\n  <clipPath id=\"p2f87841cf8\">\n   <rect height=\"271.8\" width=\"242.608696\" x=\"30.5\" y=\"21.789375\"/>\n  </clipPath>\n  <clipPath id=\"pde74e6b36c\">\n   <rect height=\"271.8\" width=\"242.608696\" x=\"321.630435\" y=\"21.789375\"/>\n  </clipPath>\n  <clipPath id=\"pe8d0034ce1\">\n   <rect height=\"271.8\" width=\"242.608696\" x=\"612.76087\" y=\"21.789375\"/>\n  </clipPath>\n  <clipPath id=\"p0da2c81ca1\">\n   <rect height=\"271.8\" width=\"242.608696\" x=\"903.891304\" y=\"21.789375\"/>\n  </clipPath>\n </defs>\n</svg>\n",
      "image/png": "[encoded data removed]"
     },
     "metadata": {}
    }
   ],
   "source": [
    "plot_error(hdg)\n",
    "hdg.to_csv('hdg_5.csv')"
   ]
  },
  {
   "cell_type": "markdown",
   "metadata": {},
   "source": [
    "### Solving Mass Matrix problem"
   ]
  },
  {
   "cell_type": "code",
   "execution_count": 18,
   "metadata": {
    "ExecuteTime": {
     "end_time": "2020-01-30T14:25:05.341968Z",
     "start_time": "2020-01-30T14:24:59.957982Z"
    }
   },
   "outputs": [
    {
     "name": "stdout",
     "output_type": "stream",
     "text": [
      "Order: 1 Mesh Size: 1.0 L2-error: 0.004459175075878796\n",
      "Order: 1 Mesh Size: 0.5 L2-error: 0.00276080549360834\n",
      "Order: 1 Mesh Size: 0.25 L2-error: 0.0015611084025224855\n",
      "Order: 1 Mesh Size: 0.125 L2-error: 0.0009505531270130825\n",
      "Order: 1 Mesh Size: 0.0625 L2-error: 0.0005425383964925907\n",
      "Order: 1 Mesh Size: 0.0313 L2-error: 0.0002718806091670007\n",
      "......................................................................\n",
      "Order: 2 Mesh Size: 1.0 L2-error: 0.000520829059102421\n",
      "Order: 2 Mesh Size: 0.5 L2-error: 0.00011315394599981354\n",
      "Order: 2 Mesh Size: 0.25 L2-error: 0.00012161280758327406\n",
      "Order: 2 Mesh Size: 0.125 L2-error: 0.00018388342675309724\n",
      "Order: 2 Mesh Size: 0.0625 L2-error: 0.00013790607359845654\n",
      "Order: 2 Mesh Size: 0.0313 L2-error: 5.835771499725604e-05\n",
      "......................................................................\n",
      "Order: 3 Mesh Size: 1.0 L2-error: 1.4432766278165542e-06\n",
      "Order: 3 Mesh Size: 0.5 L2-error: 1.6053585394211418e-06\n",
      "Order: 3 Mesh Size: 0.25 L2-error: 1.7700643967471053e-05\n",
      "Order: 3 Mesh Size: 0.125 L2-error: 3.116410381222672e-05\n",
      "Order: 3 Mesh Size: 0.0625 L2-error: 2.3574445960244415e-05\n",
      "Order: 3 Mesh Size: 0.0313 L2-error: 7.047308392974724e-06\n",
      "......................................................................\n",
      "Stored 'mm' (DataFrame)\n"
     ]
    }
   ],
   "source": [
    "mm = pd.DataFrame(columns=columns)\n",
    "for order in orders:\n",
    "    for size in mesh_size:\n",
    "        mesh = Mesh(unit_square.GenerateMesh(maxh=size))\n",
    "        fes = L2(mesh, order=order, dirichlet=\"bottom|right|left|top\")\n",
    "        u, v = fes.TnT()\n",
    "             \n",
    "        m = BilinearForm(fes, symmetric=False)\n",
    "        m += u * v * dx\n",
    "        m.Assemble()\n",
    "        \n",
    "        f = LinearForm(fes)\n",
    "        f += SymbolicLFI(exact * v)\n",
    "        f.Assemble()\n",
    "        \n",
    "        invmstar = m.mat.Inverse(inverse=\"umfpack\")\n",
    "        \n",
    "        gfu = GridFunction(fes)        \n",
    "        gfu.vec.data = invmstar * f.vec\n",
    "        \n",
    "        error = sqrt (Integrate ((gfu-exact)*(gfu-exact), mesh))\n",
    "        mm.loc[len(mm)] = [order, size, error] \n",
    "        \n",
    "        Draw(gfu, mesh,\"u\",sd=5)\n",
    "        netgen.gui.Snapshot(w=800,h=500, filename='Images/' + \"mm-h_\"+str(size)+\"-k_\"+str(order)+\".png\")\n",
    "        \n",
    "        print ('Order:', order, 'Mesh Size:', size , \"L2-error:\", error)            \n",
    "    print('......................................................................')\n",
    "\n",
    "%store mm"
   ]
  },
  {
   "cell_type": "markdown",
   "metadata": {},
   "source": [
    "### Enrichment"
   ]
  },
  {
   "cell_type": "markdown",
   "metadata": {},
   "source": [
    "#### Enrichment for Mass Matrix"
   ]
  },
  {
   "cell_type": "markdown",
   "metadata": {
    "heading_collapsed": true
   },
   "source": [
    "###### Enrichment for Mass Matrix (enrich x-axis)"
   ]
  },
  {
   "cell_type": "code",
   "execution_count": 22,
   "metadata": {
    "ExecuteTime": {
     "end_time": "2020-01-30T14:29:55.630225Z",
     "start_time": "2020-01-30T14:29:49.698239Z"
    },
    "hidden": true
   },
   "outputs": [
    {
     "name": "stdout",
     "output_type": "stream",
     "text": [
      "Order: 1  Mesh Size: 1.0 L2 Error: 0.002952636918040936\n",
      "Order: 1  Mesh Size: 0.5 L2 Error: 0.0009501798785034101\n",
      "Order: 1  Mesh Size: 0.25 L2 Error: 0.00043207219306410017\n",
      "Order: 1  Mesh Size: 0.125 L2 Error: 0.00016864186418859539\n",
      "Order: 1  Mesh Size: 0.0625 L2 Error: 0.00016128397515625427\n",
      "Order: 1  Mesh Size: 0.0313 L2 Error: 6.772025556227388e-05\n",
      "...........................................................\n",
      "Order: 2  Mesh Size: 1.0 L2 Error: 0.001118191394806087\n",
      "Order: 2  Mesh Size: 0.5 L2 Error: 0.00026975255465462193\n",
      "Order: 2  Mesh Size: 0.25 L2 Error: 5.1198173308916446e-05\n",
      "Order: 2  Mesh Size: 0.125 L2 Error: 2.7204401671671377e-05\n",
      "Order: 2  Mesh Size: 0.0625 L2 Error: 1.1572495937445686e-05\n",
      "Order: 2  Mesh Size: 0.0313 L2 Error: 2.210127347266843e-06\n",
      "...........................................................\n",
      "Order: 3  Mesh Size: 1.0 L2 Error: 0.0005307327802862197\n",
      "Order: 3  Mesh Size: 0.5 L2 Error: 7.076022323416959e-05\n",
      "Order: 3  Mesh Size: 0.25 L2 Error: 6.15217373476984e-05\n",
      "Order: 3  Mesh Size: 0.125 L2 Error: 1.59931719508471e-05\n",
      "Order: 3  Mesh Size: 0.0625 L2 Error: 2.392741838521294e-06\n",
      "Order: 3  Mesh Size: 0.0313 L2 Error: 2.4243564639775495e-07\n",
      "...........................................................\n",
      "Stored 'emm_x' (DataFrame)\n"
     ]
    }
   ],
   "source": [
    "emm_x = pd.DataFrame(columns=columns)\n",
    "for order in orders:\n",
    "    for size in mesh_size:\n",
    "        eps_size = size\n",
    "        #eps = 1e-8\n",
    "        mesh = Mesh(unit_square.GenerateMesh(maxh=size))\n",
    "        V = L2(mesh, order=order, dirichlet=\"bottom|right|left|top\")\n",
    "        Q = L2(mesh, order=0)\n",
    "        \n",
    "        ba_x = BitArray(Q.ndof)        \n",
    "        ba_x.Clear()\n",
    "        for el in Q.Elements():\n",
    "            mark = False\n",
    "            for v in el.vertices:\n",
    "                if (mesh[v].point[0] > 1-eps_size):\n",
    "                    mark = True\n",
    "            for dof in el.dofs:\n",
    "                ba_x[dof] = mark\n",
    "        \n",
    "        Qx = Compress(Q, active_dofs=ba_x)\n",
    "        fes = FESpace([V, Qx])\n",
    "        (us, px), (vs, qx) = fes.TnT()\n",
    "        \n",
    "        p = coeff_x * px\n",
    "        q = coeff_x * qx\n",
    "\n",
    "        u = us + p\n",
    "        v = vs + q\n",
    "\n",
    "        m = BilinearForm(fes, symmetric=False)\n",
    "        m += SymbolicBFI(u * v).SetIntegrationRule(TRIG,IntegrationRule(TRIG,10*order))\n",
    "        m.Assemble()\n",
    "\n",
    "        f = LinearForm(fes)\n",
    "        f += SymbolicLFI(exact * v).SetIntegrationRule(TRIG,IntegrationRule(TRIG,4*order))\n",
    "        f.Assemble()\n",
    "\n",
    "        invmstar = m.mat.Inverse(inverse=\"sparsecholesky\")\n",
    "        \n",
    "        gfu = GridFunction(fes)\n",
    "        gfu.vec.data = invmstar * f.vec\n",
    "        \n",
    "        u2 = gfu.components[0] + gfu.components[1] * coeff_x\n",
    "        \n",
    "        error = sqrt (Integrate ((u2 - exact)*(u2- exact), mesh))\n",
    "        emm_x.loc[len(emm_x)] = [order, size, error] \n",
    "        \n",
    "        Draw(u2, mesh,\"u\",sd=5)\n",
    "        netgen.gui.Snapshot(w=800,h=500, filename='Images/' + \"mmx-h_\"+str(size)+\"-k_\"+str(order)+\".png\")\n",
    "        \n",
    "        print('Order:', order, ' Mesh Size:', size , \"L2 Error:\", error)\n",
    "    print('...........................................................')\n",
    "    \n",
    "\n",
    "%store emm_x"
   ]
  },
  {
   "cell_type": "markdown",
   "metadata": {
    "heading_collapsed": true
   },
   "source": [
    "###### Enrichment for Mass Matrix (enrich y-axis)"
   ]
  },
  {
   "cell_type": "code",
   "execution_count": 23,
   "metadata": {
    "ExecuteTime": {
     "end_time": "2020-01-30T14:30:03.607222Z",
     "start_time": "2020-01-30T14:29:57.710179Z"
    },
    "hidden": true
   },
   "outputs": [
    {
     "name": "stdout",
     "output_type": "stream",
     "text": [
      "Order: 1  Mesh Size: 1.0 L2 Error: 0.0008768977915884472\n",
      "Order: 1  Mesh Size: 0.5 L2 Error: 0.0002833798014764053\n",
      "Order: 1  Mesh Size: 0.25 L2 Error: 0.0001587711632443963\n",
      "Order: 1  Mesh Size: 0.125 L2 Error: 0.00022733105121315887\n",
      "Order: 1  Mesh Size: 0.0625 L2 Error: 0.00023019651366120643\n",
      "Order: 1  Mesh Size: 0.0313 L2 Error: 0.00015173522664498626\n",
      "...........................................................\n",
      "Order: 2  Mesh Size: 1.0 L2 Error: 0.0003436446994244419\n",
      "Order: 2  Mesh Size: 0.5 L2 Error: 0.00012668855441226573\n",
      "Order: 2  Mesh Size: 0.25 L2 Error: 0.00013551816372671095\n",
      "Order: 2  Mesh Size: 0.125 L2 Error: 0.00011937240345172871\n",
      "Order: 2  Mesh Size: 0.0625 L2 Error: 0.00010532969884170173\n",
      "Order: 2  Mesh Size: 0.0313 L2 Error: 5.157608314558916e-05\n",
      "...........................................................\n",
      "Order: 3  Mesh Size: 1.0 L2 Error: 2.067290006840831e-05\n",
      "Order: 3  Mesh Size: 0.5 L2 Error: 0.0001780025296640239\n",
      "Order: 3  Mesh Size: 0.25 L2 Error: 0.00021423934446983335\n",
      "Order: 3  Mesh Size: 0.125 L2 Error: 0.0001148850954425434\n",
      "Order: 3  Mesh Size: 0.0625 L2 Error: 3.9274089675545164e-05\n",
      "Order: 3  Mesh Size: 0.0313 L2 Error: 8.324700755268098e-06\n",
      "...........................................................\n",
      "Stored 'emm_y' (DataFrame)\n"
     ]
    }
   ],
   "source": [
    "emm_y = pd.DataFrame(columns=columns)\n",
    "for order in orders:\n",
    "    for size in mesh_size:\n",
    "        eps_size = size\n",
    "        #eps = 1e-8\n",
    "        mesh = Mesh(unit_square.GenerateMesh(maxh=size))\n",
    "        V = L2(mesh, order=order, dirichlet=\"bottom|right|left|top\")\n",
    "        Q = L2(mesh, order=0)\n",
    "        \n",
    "        ba_y = BitArray(Q.ndof)        \n",
    "        ba_y.Clear()\n",
    "        for el in Q.Elements():\n",
    "            mark = False\n",
    "            for v in el.vertices:\n",
    "                if (mesh[v].point[1] > 1-eps_size):\n",
    "                    mark = True\n",
    "            for dof in el.dofs:\n",
    "                ba_y[dof] = mark\n",
    "        \n",
    "        Qy = Compress(Q, active_dofs=ba_y)\n",
    "        fes = FESpace([V, Qy])\n",
    "        (us, py), (vs, qy) = fes.TnT()\n",
    "        \n",
    "        p = coeff_y * py\n",
    "        q = coeff_y * qy\n",
    "\n",
    "        u = us + p\n",
    "        v = vs + q\n",
    "\n",
    "        m = BilinearForm(fes, symmetric=False)\n",
    "        m += SymbolicBFI(u * v).SetIntegrationRule(TRIG,IntegrationRule(TRIG,10*order))\n",
    "        m.Assemble()\n",
    "\n",
    "        f = LinearForm(fes)\n",
    "        f += SymbolicLFI(exact * v).SetIntegrationRule(TRIG,IntegrationRule(TRIG,4*order))\n",
    "        f.Assemble()\n",
    "\n",
    "        invmstar = m.mat.Inverse(inverse=\"sparsecholesky\")\n",
    "        \n",
    "        gfu = GridFunction(fes)\n",
    "        gfu.vec.data = invmstar * f.vec\n",
    "        \n",
    "        u2 = gfu.components[0] + gfu.components[1] * coeff_y\n",
    "        \n",
    "        error = sqrt (Integrate ((u2 - exact)*(u2- exact), mesh))\n",
    "        emm_y.loc[len(emm_y)] = [order, size, error] \n",
    "        \n",
    "        Draw(u2, mesh,\"u\",sd=5)\n",
    "        netgen.gui.Snapshot(w=800,h=500, filename='Images/' + \"mmy-h_\"+str(size)+\"-k_\"+str(order)+\".png\")\n",
    "        \n",
    "        print('Order:', order, ' Mesh Size:', size , \"L2 Error:\", error)\n",
    "    print('...........................................................')\n",
    "    \n",
    "%store emm_y"
   ]
  },
  {
   "cell_type": "markdown",
   "metadata": {
    "heading_collapsed": true
   },
   "source": [
    "###### Enrichment for Mass Matrix (enrich both xy-axis)"
   ]
  },
  {
   "cell_type": "code",
   "execution_count": 21,
   "metadata": {
    "ExecuteTime": {
     "end_time": "2020-01-30T14:26:47.684170Z",
     "start_time": "2020-01-30T14:26:41.169190Z"
    },
    "hidden": true
   },
   "outputs": [
    {
     "name": "stdout",
     "output_type": "stream",
     "text": [
      "Order: 1  Mesh Size: 1.0 L2 Error: 0.0024882388345344526\n",
      "Order: 1  Mesh Size: 0.5 L2 Error: nan\n",
      "Order: 1  Mesh Size: 0.25 L2 Error: 0.0004317936237340082\n",
      "Order: 1  Mesh Size: 0.125 L2 Error: 0.00016869467161744953\n",
      "Order: 1  Mesh Size: 0.0625 L2 Error: 0.00016123919512957377\n",
      "Order: 1  Mesh Size: 0.0313 L2 Error: 6.77108905719306e-05\n",
      "...........................................................\n",
      "Order: 2  Mesh Size: 1.0 L2 Error: 0.0010660990044307854\n",
      "Order: 2  Mesh Size: 0.5 L2 Error: 0.00027173411064722016\n",
      "Order: 2  Mesh Size: 0.25 L2 Error: 5.168195966095573e-05\n",
      "Order: 2  Mesh Size: 0.125 L2 Error: 2.719436874514838e-05\n",
      "Order: 2  Mesh Size: 0.0625 L2 Error: 1.1523078251078182e-05\n",
      "Order: 2  Mesh Size: 0.0313 L2 Error: 2.184692199963132e-06\n",
      "...........................................................\n",
      "Order: 3  Mesh Size: 1.0 L2 Error: 0.000535077074655014\n",
      "Order: 3  Mesh Size: 0.5 L2 Error: 7.11747459566518e-05\n",
      "Order: 3  Mesh Size: 0.25 L2 Error: 6.190525038952954e-05\n",
      "Order: 3  Mesh Size: 0.125 L2 Error: 1.6266120533193754e-05\n",
      "Order: 3  Mesh Size: 0.0625 L2 Error: 2.3916956721839987e-06\n",
      "Order: 3  Mesh Size: 0.0313 L2 Error: 2.4243232508837174e-07\n",
      "...........................................................\n",
      "Stored 'emm_xy' (DataFrame)\n"
     ]
    }
   ],
   "source": [
    "emm_xy = pd.DataFrame(columns=columns)\n",
    "for order in orders:\n",
    "    for size in mesh_size:\n",
    "        eps_size = size\n",
    "        #eps = 1e-8\n",
    "        mesh = Mesh(unit_square.GenerateMesh(maxh=size))\n",
    "        V = L2(mesh, order=order, dirichlet=\"bottom|right|left|top\")\n",
    "        Q = L2(mesh, order=0)\n",
    "        \n",
    "        ba_x = BitArray(Q.ndof)        \n",
    "        ba_x.Clear()\n",
    "        for el in Q.Elements():\n",
    "            mark = False\n",
    "            for v in el.vertices:\n",
    "                if (mesh[v].point[0] > 1-eps_size):\n",
    "                    mark = True\n",
    "            for dof in el.dofs:\n",
    "                ba_x[dof] = mark\n",
    "        \n",
    "        ba_y = BitArray(Q.ndof)        \n",
    "        ba_y.Clear()\n",
    "        for el in Q.Elements():\n",
    "            mark = False\n",
    "            for v in el.vertices:\n",
    "                if (mesh[v].point[1] > 1-eps_size):\n",
    "                    mark = True\n",
    "            for dof in el.dofs:\n",
    "                ba_y[dof] = mark\n",
    "        \n",
    "        Qx = Compress(Q, active_dofs=ba_x)\n",
    "        Qy = Compress(Q, active_dofs=ba_y)\n",
    "        \n",
    "        fes = FESpace([V, Qx, Qy])\n",
    "\n",
    "        (us, px, py), (vs, qx, qy) = fes.TnT()\n",
    "        \n",
    "        #coeff=exact\n",
    "        p = coeff_x * px + coeff_y * py\n",
    "        q = coeff_x * qx + coeff_y * qy\n",
    "\n",
    "        u = us + p\n",
    "        v = vs + q\n",
    "\n",
    "        m = BilinearForm(fes, symmetric=False)\n",
    "        m += SymbolicBFI(u * v).SetIntegrationRule(TRIG,IntegrationRule(TRIG,10*order))\n",
    "        m.Assemble()\n",
    "\n",
    "        f = LinearForm(fes)\n",
    "        f += SymbolicLFI(exact * v).SetIntegrationRule(TRIG,IntegrationRule(TRIG,4*order))\n",
    "        f.Assemble()\n",
    "\n",
    "        invmstar = m.mat.Inverse(inverse=\"sparsecholesky\")\n",
    "        \n",
    "        gfu = GridFunction(fes)\n",
    "        gfu.vec.data = invmstar * f.vec\n",
    "        \n",
    "        u2 = gfu.components[0] + gfu.components[1] * coeff_x + gfu.components[2] * coeff_y\n",
    "        #Draw(u2-exact,mesh, 'error')\n",
    "        #Draw(gfu.components[0], mesh, 'testa')\n",
    "        #Draw(gfu.components[1], mesh, 'testb')\n",
    "        #Draw(gfu.components[1] * coeff, mesh, 'testc')\n",
    "        error = sqrt (Integrate ((u2 - exact)*(u2- exact), mesh))\n",
    "        emm_xy.loc[len(emm_xy)] = [order, size, error] \n",
    "        \n",
    "        Draw(u2, mesh,\"u\",sd=5)\n",
    "        netgen.gui.Snapshot(w=800,h=500, filename='Images/' + \"mmxy-h_\"+str(size)+\"-k_\"+str(order)+\".png\")\n",
    "        \n",
    "        print('Order:', order, ' Mesh Size:', size , \"L2 Error:\", error)\n",
    "    print('...........................................................')\n",
    "    \n",
    "Draw(u2, mesh, 'test')\n",
    "%store emm_xy"
   ]
  },
  {
   "cell_type": "code",
   "execution_count": 47,
   "metadata": {
    "ExecuteTime": {
     "end_time": "2020-01-28T11:59:07.653136Z",
     "start_time": "2020-01-28T11:59:07.650539Z"
    },
    "hidden": true
   },
   "outputs": [],
   "source": [
    "## Observations\n",
    "# Emriching the y axis has a better convergence rate then enriching both x and y\n",
    "# umfpack fails for this problem"
   ]
  },
  {
   "cell_type": "markdown",
   "metadata": {
    "heading_collapsed": true
   },
   "source": [
    "#### Enrichment with DG"
   ]
  },
  {
   "cell_type": "code",
   "execution_count": 9,
   "metadata": {
    "ExecuteTime": {
     "end_time": "2020-02-11T11:14:02.633016Z",
     "start_time": "2020-02-11T11:13:30.198516Z"
    },
    "hidden": true
   },
   "outputs": [
    {
     "name": "stdout",
     "output_type": "stream",
     "text": [
      "Order: 1  Mesh Size: 0.0313 L2 Error: 0.08120156881207805\n",
      ".......................................................................\n",
      "Stored 'edg' (DataFrame)\n"
     ]
    }
   ],
   "source": [
    "edg = pd.DataFrame(columns=columns)\n",
    "val = 15 # bonusintorder\n",
    "for order in orders:\n",
    "    for size in mesh_size:\n",
    "        eps_size = size / 2\n",
    "        #eps = 1e-8\n",
    "        mesh = Mesh(unit_square.GenerateMesh(maxh=size))\n",
    "        V = L2(mesh, order=order, dgjumps=True)\n",
    "        Q = L2(mesh, order=0)\n",
    "        \n",
    "        ba_x = BitArray(Q.ndof)        \n",
    "        ba_x.Clear()\n",
    "        \n",
    "        for el in Q.Elements():\n",
    "            mark = False\n",
    "            for v in el.vertices:\n",
    "                if (mesh[v].point[0] > 1- eps_size):\n",
    "                    mark = True\n",
    "            for dof in el.dofs:\n",
    "                ba_x[dof] = mark\n",
    "        \n",
    "        ba_y = BitArray(Q.ndof)\n",
    "        ba_y.Clear()\n",
    "        \n",
    "        \n",
    "        for el in Q.Elements():\n",
    "            mark = False\n",
    "            for v in el.vertices:\n",
    "                if (mesh[v].point[1] > 1-eps_size):\n",
    "                    mark = True\n",
    "            for dof in el.dofs:\n",
    "                ba_y[dof] = mark\n",
    "        \n",
    "        Qx = Compress(Q, active_dofs=ba_x)\n",
    "        Qy = Compress(Q, active_dofs=ba_y)\n",
    "        \n",
    "        fes = FESpace([V, Qx, Qy], dgjumps = True)\n",
    "\n",
    "        (us, px, py), (vs, qx, qy) = fes.TnT()\n",
    "        \n",
    "        #coeff=exact\n",
    "        ## Enrichment\n",
    "        p = (coeff_x * px) + (coeff_y * py)\n",
    "        q = (coeff_x * qx) + (coeff_y * qy)\n",
    "\n",
    "        u = us + p\n",
    "        v = vs + q\n",
    "        \n",
    "        u_Other = us.Other() + coeff_x * px.Other() + coeff_y * py.Other()\n",
    "        v_Other = vs.Other() + coeff_x * qx.Other() + coeff_y * qy.Other()\n",
    "        \n",
    "        jump_u = u - u_Other\n",
    "        jump_v = v - v_Other\n",
    "        \n",
    "        n = specialcf.normal(2)\n",
    "        \n",
    "        grad_u = grad(us) \\\n",
    "        + CoefficientFunction((coeff_x.Diff(x), coeff_x.Diff(y))) * px \\\n",
    "        + CoefficientFunction((coeff_y.Diff(x), coeff_y.Diff(y))) * py \\\n",
    "        + coeff_x * grad(px) + coeff_y * grad(py)\n",
    "        \n",
    "        grad_v = grad(vs) \\\n",
    "        + CoefficientFunction((coeff_x.Diff(x), coeff_x.Diff(y))) * qx \\\n",
    "        + CoefficientFunction((coeff_y.Diff(x), coeff_y.Diff(y))) * qy \\\n",
    "        + coeff_x * grad(qx) + coeff_y * grad(qy)\n",
    "        \n",
    "        grad_uOther = grad(us.Other()) \\\n",
    "        + CoefficientFunction((coeff_x.Diff(x), coeff_x.Diff(y))) * px.Other() \\\n",
    "        + CoefficientFunction((coeff_y.Diff(x), coeff_y.Diff(y))) * py.Other() \\\n",
    "        + coeff_x * grad(px.Other()) + coeff_y * grad(py.Other())\n",
    "        \n",
    "        grad_vOther = grad(vs.Other()) \\\n",
    "        + CoefficientFunction((coeff_x.Diff(x), coeff_x.Diff(y))) * qx.Other() \\\n",
    "        + CoefficientFunction((coeff_y.Diff(x), coeff_y.Diff(y))) * qy.Other() \\\n",
    "        + coeff_x * grad(qx.Other()) + coeff_y * grad(qy.Other())\n",
    "                \n",
    "            \n",
    "        mean_dudn = 0.5 * n * (grad_u + grad_uOther)\n",
    "        mean_dvdn = 0.5 * n * (grad_v + grad_vOther)\n",
    "        \n",
    "        h = specialcf.mesh_size\n",
    "        \n",
    "        # diffusion\n",
    "        diffusion = grad_u * grad_v * dx(bonus_intorder = val) \\\n",
    "        + alpha * order**2/h * jump_u * jump_v * dx(skeleton=True, bonus_intorder = val) \\\n",
    "        + (-mean_dudn* jump_v - mean_dvdn * jump_u) * dx(skeleton=True, bonus_intorder = val) \\\n",
    "        + alpha * order**2/h * u * v * ds(skeleton=True, bonus_intorder = val) \\\n",
    "        + (-n * grad_u * v - n * grad_v * u) * ds(skeleton=True, bonus_intorder = val)\n",
    "                \n",
    "        # convection\n",
    "        b = CoefficientFunction((beta[0],beta[1]) )\n",
    "        uup = IfPos(b*n, u, u_Other)\n",
    "        convection = -b * u * grad_v * dx(bonus_intorder = val) + b * n * uup * jump_v * dx(skeleton=True, bonus_intorder = val)\n",
    "        convection = -b * u * grad_v * dx(bonus_intorder = val) + b * n * uup * v * dx(element_boundary=True, bonus_intorder = val)\n",
    "       \n",
    "        acd = BilinearForm(fes)\n",
    "        acd += eps * diffusion #+ convection\n",
    "        #acd += convection\n",
    "        \n",
    "        with TaskManager():\n",
    "            acd.Assemble()\n",
    "\n",
    "        # rhs\n",
    "        f = LinearForm(fes)\n",
    "        f += SymbolicLFI(coeff * v, bonus_intorder = val)\n",
    "        \n",
    "        with TaskManager():\n",
    "            f.Assemble()\n",
    "\n",
    "        gfu = GridFunction(fes)\n",
    "        gfu.vec.data = acd.mat.Inverse(inverse=\"umfpack\") * f.vec\n",
    "    \n",
    "        u2 = gfu.components[0] + gfu.components[1] * coeff_x + gfu.components[2] * coeff_y\n",
    "        \n",
    "        error = sqrt (Integrate ((u2 - exact)*(u2- exact), mesh))\n",
    "        edg.loc[len(edg)] = [order, size, error]\n",
    "        \n",
    "        Draw(u2,mesh,\"u\",sd=5)\n",
    "        #netgen.gui.Snapshot(w=800,h=500, filename='Images/' + \"edg-h_\"+str(size)+\"-k_\"+str(order)+\".png\")\n",
    "        \n",
    "        print('Order:', order, ' Mesh Size:', size , \"L2 Error:\", error)\n",
    "    print('.......................................................................')\n",
    "        \n",
    "%store edg"
   ]
  },
  {
   "cell_type": "markdown",
   "metadata": {},
   "source": [
    "#### Enrichment with HDG"
   ]
  },
  {
   "cell_type": "code",
   "execution_count": 4,
   "metadata": {
    "ExecuteTime": {
     "end_time": "2020-02-11T11:14:25.890249Z",
     "start_time": "2020-02-11T11:14:12.434178Z"
    }
   },
   "outputs": [
    {
     "name": "stdout",
     "output_type": "stream",
     "text": [
      "Order: 1  Mesh Size: 1.0 L2 Error: 0.0010603215665766072\n",
      "Order: 1  Mesh Size: 0.5 L2 Error: 0.0004311254252274262\n",
      "Order: 1  Mesh Size: 0.25 L2 Error: 0.00016563984009721885\n",
      "Order: 1  Mesh Size: 0.125 L2 Error: 6.383975239122373e-05\n",
      "Order: 1  Mesh Size: 0.0625 L2 Error: 2.392633110794041e-05\n",
      "Order: 1  Mesh Size: 0.0313 L2 Error: 8.03240600944079e-06\n",
      ".......................................................................\n",
      "Stored 'ehdg' (DataFrame)\n"
     ]
    }
   ],
   "source": [
    "ehdg = pd.DataFrame(columns=columns)\n",
    "val = 15\n",
    "for order in orders:\n",
    "    for size in mesh_size:        \n",
    "        mesh = Mesh(unit_square.GenerateMesh(maxh=size))\n",
    "        V = L2(mesh, order=order)\n",
    "        Q = L2(mesh, order=0)\n",
    "        QF = FacetFESpace(mesh, order=0)\n",
    "        \n",
    "        eps_size = 0.0001*size\n",
    "        \n",
    "        ba_x = BitArray(Q.ndof)        \n",
    "        ba_x.Clear()\n",
    "        \n",
    "        for el in Q.Elements():\n",
    "            mark = False\n",
    "            for v in el.vertices:\n",
    "                if (mesh[v].point[0] > 1-eps_size):\n",
    "                    mark = True\n",
    "            for dof in el.dofs:\n",
    "                ba_x[dof] = mark\n",
    "        \n",
    "        ba_y = BitArray(Q.ndof)\n",
    "        ba_y.Clear()\n",
    "        \n",
    "        for el in Q.Elements():\n",
    "            mark = False\n",
    "            for v in el.vertices:\n",
    "                if (mesh[v].point[1] > 1-eps_size):\n",
    "                    mark = True\n",
    "            for dof in el.dofs:\n",
    "                ba_y[dof] = mark\n",
    "        \n",
    "        \n",
    "        gfF = GridFunction(QF)\n",
    "        \n",
    "        gfF.vec[:] = 0\n",
    "        for el in QF.Elements():\n",
    "            if ba_x[el.nr]:\n",
    "                for dof in el.dofs:\n",
    "                    gfF.vec[dof] += 1\n",
    "        ba_F_x = BitArray(QF.ndof)\n",
    "        ba_F_x.Clear()\n",
    "        for i in range(QF.ndof):\n",
    "            if gfF.vec[i] > 1.5:\n",
    "                ba_F_x[i] = True\n",
    "\n",
    "        gfF.vec[:] = 0\n",
    "        for el in QF.Elements():\n",
    "            if ba_y[el.nr]:\n",
    "                for dof in el.dofs:\n",
    "                    gfF.vec[dof] += 1\n",
    "        ba_F_y = BitArray(QF.ndof)\n",
    "        ba_F_y.Clear()\n",
    "        for i in range(QF.ndof):\n",
    "            if gfF.vec[i] > 1.5:\n",
    "                ba_F_y[i] = True\n",
    "        \n",
    "        Qx = Compress(Q, active_dofs=ba_x)\n",
    "        Qy = Compress(Q, active_dofs=ba_y)\n",
    "        QFx = Compress(QF, active_dofs=ba_F_x)\n",
    "        QFy = Compress(QF, active_dofs=ba_F_y)\n",
    "        \n",
    "        F = FacetFESpace(mesh, order=order, dirichlet=\".*\")\n",
    "        fes = FESpace([V, Qx, Qy, F, QFx, QFy])\n",
    "\n",
    "        (us, px, py, uhat, uhatx, uhaty), (vs, qx, qy, vhat, vhatx, vhaty) = fes.TnT()\n",
    "        \n",
    "        #coeff=exact\n",
    "        p = (coeff_x * px) + (coeff_y * py) \n",
    "        q = (coeff_x * qx) + (coeff_y * qy)\n",
    "\n",
    "        u = us + p\n",
    "        v = vs + q\n",
    "        \n",
    "        vhat = vhat + vhatx * coeff_x + vhaty * coeff_y\n",
    "        uhat = uhat + uhatx * coeff_x + uhaty * coeff_y\n",
    "        \n",
    "        jump_u = u-uhat\n",
    "        jump_v = v-vhat\n",
    "        \n",
    "        grad_u = grad(us) \\\n",
    "        + CoefficientFunction((coeff_x.Diff(x), coeff_x.Diff(y))) * px \\\n",
    "        + CoefficientFunction((coeff_y.Diff(x), coeff_y.Diff(y))) * py \\\n",
    "        + coeff_x * grad(px) + coeff_y * grad(py)\n",
    "        \n",
    "        grad_v = grad(vs) \\\n",
    "        + CoefficientFunction((coeff_x.Diff(x), coeff_x.Diff(y))) * qx \\\n",
    "        + CoefficientFunction((coeff_y.Diff(x), coeff_y.Diff(y))) * qy \\\n",
    "        + coeff_x * grad(qx) + coeff_y * grad(qy)\n",
    "        \n",
    "        #condense = True\n",
    "        \n",
    "        h = specialcf.mesh_size\n",
    "        n = specialcf.normal(mesh.dim)\n",
    "        dS = dx(element_boundary=True, bonus_intorder=val)\n",
    "                \n",
    "        diffusion = grad_u * grad_v *dx(bonus_intorder=val) + \\\n",
    "            alpha * order**2/h*jump_u*jump_v*dS + \\\n",
    "            (-grad_u *n*jump_v - grad_v *n*jump_u)*dS\n",
    "        \n",
    "        b = CoefficientFunction((beta[0],beta[1]))\n",
    "        uup = IfPos(b * n, u, uhat)\n",
    "        convection = -b * u * grad_v *dx(bonus_intorder=val) + b * n * uup * jump_v * dS\n",
    "\n",
    "        acd = BilinearForm(fes)\n",
    "        acd += eps * diffusion + convection\n",
    "        \n",
    "        with TaskManager():\n",
    "            acd.Assemble()\n",
    "\n",
    "        f = LinearForm(fes)\n",
    "        f += SymbolicLFI(coeff*v,bonus_intorder=val)\n",
    "        \n",
    "        with TaskManager():\n",
    "            f.Assemble()\n",
    "\n",
    "        gfu = GridFunction(fes)\n",
    "        gfu.vec.data = acd.mat.Inverse(freedofs=fes.FreeDofs(),inverse=\"umfpack\") * f.vec\n",
    "        u2 = gfu.components[0] + gfu.components[1] * coeff_x + gfu.components[2] * coeff_y\n",
    "        \n",
    "        error = sqrt (Integrate ((u2 - exact)*(u2- exact), mesh, order=15))\n",
    "        ehdg.loc[len(ehdg)] = [order, size, error] \n",
    "        \n",
    "        #Draw(u2,mesh,\"u\",sd=5)\n",
    "        #netgen.gui.Snapshot(w=800,h=500, filename='Images/' + \"ehdg-h_\"+str(size)+\"-k_\"+str(order)+\".png\")\n",
    "        \n",
    "        print('Order:', order, ' Mesh Size:', size , \"L2 Error:\", error)\n",
    "    print('.......................................................................')\n",
    "\n",
    "%store ehdg    "
   ]
  },
  {
   "cell_type": "code",
   "execution_count": null,
   "metadata": {},
   "outputs": [],
   "source": []
  }
 ],
 "metadata": {
  "kernelspec": {
   "name": "Python 3.8.2 64-bit",
   "display_name": "Python 3.8.2 64-bit",
   "metadata": {
    "interpreter": {
     "hash": "31f2aee4e71d21fbe5cf8b01ff0e069b9275f58929596ceb00d14d90e3e16cd6"
    }
   }
  },
  "language_info": {
   "codemirror_mode": {
    "name": "ipython",
    "version": 3
   },
   "file_extension": ".py",
   "mimetype": "text/x-python",
   "name": "python",
   "nbconvert_exporter": "python",
   "pygments_lexer": "ipython3",
   "version": "3.8.2-final"
  },
  "notify_time": "5",
  "toc": {
   "base_numbering": 1,
   "nav_menu": {},
   "number_sections": true,
   "sideBar": true,
   "skip_h1_title": true,
   "title_cell": "Table of Contents",
   "title_sidebar": "Contents",
   "toc_cell": true,
   "toc_position": {},
   "toc_section_display": true,
   "toc_window_display": true
  },
  "varInspector": {
   "cols": {
    "lenName": 16,
    "lenType": 16,
    "lenVar": 40
   },
   "kernels_config": {
    "python": {
     "delete_cmd_postfix": "",
     "delete_cmd_prefix": "del ",
     "library": "var_list.py",
     "varRefreshCmd": "print(var_dic_list())"
    },
    "r": {
     "delete_cmd_postfix": ") ",
     "delete_cmd_prefix": "rm(",
     "library": "var_list.r",
     "varRefreshCmd": "cat(var_dic_list()) "
    }
   },
   "oldHeight": 122,
   "position": {
    "height": "801px",
    "left": "1652px",
    "right": "20px",
    "top": "116px",
    "width": "256px"
   },
   "types_to_exclude": [
    "module",
    "function",
    "builtin_function_or_method",
    "instance",
    "_Feature"
   ],
   "varInspector_section_display": "block",
   "window_display": true
  }
 },
 "nbformat": 4,
 "nbformat_minor": 4
}