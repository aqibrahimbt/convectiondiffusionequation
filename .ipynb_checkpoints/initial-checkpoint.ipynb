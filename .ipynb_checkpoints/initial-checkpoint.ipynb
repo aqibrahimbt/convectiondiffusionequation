{
 "cells": [
  {
   "cell_type": "code",
   "execution_count": 1,
   "metadata": {},
   "outputs": [],
   "source": [
    "import ngsolve as ng\n",
    "import netgen.gui\n",
    "%gui tk"
   ]
  },
  {
   "cell_type": "code",
   "execution_count": 2,
   "metadata": {},
   "outputs": [],
   "source": [
    "from ngsolve import * \n",
    "from netgen.csg import * \n",
    "import math\n",
    "from netgen.geom2d import SplineGeometry\n",
    "from netgen.geom2d import unit_square\n",
    "\n",
    "hcoarse = 0.08"
   ]
  },
  {
   "cell_type": "markdown",
   "metadata": {
    "heading_collapsed": true
   },
   "source": [
    "### Generating Geometry and Mesh"
   ]
  },
  {
   "cell_type": "markdown",
   "metadata": {
    "heading_collapsed": true,
    "hidden": true
   },
   "source": [
    "##### Geometry 1"
   ]
  },
  {
   "cell_type": "code",
   "execution_count": 3,
   "metadata": {
    "hidden": true
   },
   "outputs": [],
   "source": [
    "geom1 = SplineGeometry()\n",
    "p1 = geom1.AppendPoint (0,0)\n",
    "p2 = geom1.AppendPoint (1,0)\n",
    "p3 = geom1.AppendPoint (1,1)\n",
    "p4 = geom1.AppendPoint (0,1)"
   ]
  },
  {
   "cell_type": "code",
   "execution_count": 4,
   "metadata": {
    "hidden": true
   },
   "outputs": [
    {
     "data": {
      "text/plain": [
       "3"
      ]
     },
     "execution_count": 4,
     "metadata": {},
     "output_type": "execute_result"
    }
   ],
   "source": [
    "geom1.Append ([\"line\", p1, p2])\n",
    "geom1.Append ([\"line\", p2, p3])\n",
    "geom1.Append ([\"line\", p3, p4])\n",
    "geom1.Append ([\"line\", p4, p1])"
   ]
  },
  {
   "cell_type": "code",
   "execution_count": 5,
   "metadata": {
    "hidden": true
   },
   "outputs": [],
   "source": [
    "# generate mesh\n",
    "mesh1 = Mesh(unit_square.GenerateMesh(maxh=hcoarse))"
   ]
  },
  {
   "cell_type": "markdown",
   "metadata": {
    "heading_collapsed": true,
    "hidden": true
   },
   "source": [
    "##### Geometry 2"
   ]
  },
  {
   "cell_type": "code",
   "execution_count": 2,
   "metadata": {
    "hidden": true
   },
   "outputs": [],
   "source": [
    "def FirstDomain(geom):\n",
    "    top_pnts = [ (+2.00,-0.35), (+2.00,+2.00), (-2.00,+2.00), (-2.00,-0.35)]\n",
    "\n",
    "    top_nums = [geom.AppendPoint(*p) for p in top_pnts]\n",
    "    lines  = [ (top_nums[0], top_nums[1],  10,   1,  0),\n",
    "               (top_nums[1], top_nums[2],  10,   1,  0),\n",
    "               (top_nums[2], top_nums[3],  10,   1,  0),\n",
    "               (top_nums[3], top_nums[0],  10,   1,  2) ]\n",
    "\n",
    "    for p0,p1,bn,ml,mr  in  lines:\n",
    "        geom.Append([ \"line\", p0, p1 ],\n",
    "                    bc=bn, leftdomain=ml, rightdomain=mr )\n",
    "    return (geom, top_nums)\n",
    "\n",
    "def SecondDomain(geom,topn):   \n",
    "    bot_pnts = [ (-2.00, -2.00),  (+2.00, -2.00) ]\n",
    "    botn = [geom.AppendPoint(*p) for p in bot_pnts]\n",
    "\n",
    "    lines  = [ (topn[3], botn[0],    10,   2,   0),\n",
    "               (botn[0], botn[1],    10,   2,   0),\n",
    "               (botn[1], topn[0],    10,   2,   0) ]\n",
    "\n",
    "    for p0,p1,bn,ml,mr  in  lines:\n",
    "        geom.Append([ \"line\", p0, p1 ],\n",
    "                    bc=bn, leftdomain=ml, rightdomain=mr )\n",
    "\n",
    "    return (geom, botn)\n",
    "\n",
    "def MakeMesh(hcoarse) :\n",
    "    geom2 = SplineGeometry()\n",
    "    geom2, top = FirstDomain(geom2)\n",
    "    geom2, bot = SecondDomain(geom2,top)\n",
    "    return  Mesh(geom2.GenerateMesh(maxh=hcoarse))"
   ]
  },
  {
   "cell_type": "code",
   "execution_count": null,
   "metadata": {
    "hidden": true
   },
   "outputs": [],
   "source": [
    "# generate mesh\n",
    "mesh2 = MakeMesh(hcoarse)"
   ]
  },
  {
   "cell_type": "markdown",
   "metadata": {
    "heading_collapsed": true,
    "hidden": true
   },
   "source": [
    "##### Geometry 3"
   ]
  },
  {
   "cell_type": "code",
   "execution_count": null,
   "metadata": {
    "hidden": true
   },
   "outputs": [],
   "source": [
    "geom3 = SplineGeometry()\n",
    "geom3.AddRectangle( (0, 0), (2, 0.41), bcs = (\"wall\", \"outlet\", \"wall\", \"inlet\"))\n",
    "mesh3 = Mesh(geom3.GenerateMesh(maxh=hcourse))"
   ]
  },
  {
   "cell_type": "markdown",
   "metadata": {},
   "source": [
    "### Solve Convection Diffusion Equation DG Method"
   ]
  },
  {
   "cell_type": "markdown",
   "metadata": {},
   "source": [
    "##### Configure Finte Element Spaces"
   ]
  },
  {
   "cell_type": "code",
   "execution_count": 6,
   "metadata": {},
   "outputs": [],
   "source": [
    "def setup(mesh):\n",
    "    order=4\n",
    "\n",
    "    # define finte element space \n",
    "    fes = L2(mesh, order=order, dgjumps=True)\n",
    "\n",
    "    ## Create test and trial functions\n",
    "    u,v = fes.TnT()\n",
    "    \n",
    "    # Compute jumps from one element space to the other\n",
    "    jump_u = u-u.Other()\n",
    "    jump_v = v-v.Other()\n",
    "    \n",
    "    n = specialcf.normal(2)\n",
    "    \n",
    "    mean_dudn = 0.5*n * (grad(u)+grad(u.Other()))\n",
    "    mean_dvdn = 0.5*n * (grad(v)+grad(v.Other()))\n",
    "    \n",
    "    return fes, u, v, jump_u, jump_v, mean_dudn, mean_dvdn, n, order"
   ]
  },
  {
   "cell_type": "markdown",
   "metadata": {},
   "source": [
    "#### Diffusion Equation"
   ]
  },
  {
   "cell_type": "code",
   "execution_count": 7,
   "metadata": {},
   "outputs": [],
   "source": [
    "def diffusion(fes, u, v, n, jump_u, jump_v, mean_dudn, mean_dvdn, order):\n",
    "    alpha = 4\n",
    "    h = specialcf.mesh_size\n",
    "    a = BilinearForm(fes)\n",
    "    \n",
    "    diffusion = grad(u)*grad(v) * dx \\\n",
    "    +alpha*order**2/h*jump_u*jump_v * dx(skeleton=True) \\\n",
    "    +(-mean_dudn*jump_v-mean_dvdn*jump_u) * dx(skeleton=True) \\\n",
    "    +alpha*order**2/h*u*v * ds(skeleton=True) \\\n",
    "    +(-n*grad(u)*v-n*grad(v)*u)* ds(skeleton=True)\n",
    "    \n",
    "    return diffusion"
   ]
  },
  {
   "cell_type": "markdown",
   "metadata": {},
   "source": [
    "#### Convection Equation"
   ]
  },
  {
   "cell_type": "code",
   "execution_count": 8,
   "metadata": {},
   "outputs": [],
   "source": [
    "def convection(fes, u, v, jump_v, n):\n",
    "    b = CoefficientFunction((20,5))\n",
    "    uup = IfPos(b*n, u, u.Other())\n",
    "\n",
    "    convection = -b * u * grad(v)*dx + b*n*uup*jump_v * dx(skeleton=True)\n",
    "    return convection"
   ]
  },
  {
   "cell_type": "markdown",
   "metadata": {},
   "source": [
    "#### Convection-Diffusion Equation"
   ]
  },
  {
   "cell_type": "code",
   "execution_count": 45,
   "metadata": {},
   "outputs": [],
   "source": [
    "def convection_diffusion(mesh, hcoarse):\n",
    "    \n",
    "    nrefinements = 2\n",
    "    meshes = []\n",
    "    Es = []\n",
    "\n",
    "    for ref in range(nrefinements):\n",
    "    \n",
    "        meshes.append(ng.Mesh(mesh.ngmesh.Copy()))\n",
    "        \n",
    "        mesh = meshes[-1]    \n",
    "        mesh.ngmesh.Refine()\n",
    "    \n",
    "        fes, u, v, jump_u, jump_v, mean_dudn, mean_dvdn, n, order = setup(mesh)\n",
    "    \n",
    "        ## Convection-diffusion problem\n",
    "        acd = BilinearForm(fes)\n",
    "\n",
    "        diff = diffusion(fes, u, v, n, jump_u, jump_v, mean_dudn, mean_dvdn, order)\n",
    "        convec = convection(fes, u, v, jump_v, n)\n",
    "\n",
    "        acd += diff + convec\n",
    "\n",
    "        acd.Assemble()\n",
    "\n",
    "\n",
    "        f = LinearForm(fes)\n",
    "        f += SymbolicLFI(1*v)\n",
    "        f.Assemble()\n",
    "\n",
    "\n",
    "#         gfu = GridFunction(fes)\n",
    "#         gfu.vec.data = acd.mat.Inverse(freedofs=fes.FreeDofs(),inverse=\"umfpack\") * f.vec\n",
    "        #Draw(gfu)\n",
    "        print(acd.mat.Inverse(freedofs=fes.FreeDofs(),inverse=\"umfpack\") * f.vec)"
   ]
  },
  {
   "cell_type": "code",
   "execution_count": 46,
   "metadata": {},
   "outputs": [
    {
     "ename": "TypeError",
     "evalue": "_Redraw(): incompatible function arguments. The following argument types are supported:\n    1. (blocking: bool = False, fr: float = 25) -> bool\n\nInvoked with: <ngsolve.comp.GridFunction object at 0x1165076b0>",
     "output_type": "error",
     "traceback": [
      "\u001b[0;31m---------------------------------------------------------------------------\u001b[0m",
      "\u001b[0;31mTypeError\u001b[0m                                 Traceback (most recent call last)",
      "\u001b[0;32m<ipython-input-46-789967af315f>\u001b[0m in \u001b[0;36m<module>\u001b[0;34m\u001b[0m\n\u001b[0;32m----> 1\u001b[0;31m \u001b[0mconvection_diffusion\u001b[0m\u001b[0;34m(\u001b[0m\u001b[0mmesh1\u001b[0m\u001b[0;34m,\u001b[0m \u001b[0mhcoarse\u001b[0m\u001b[0;34m=\u001b[0m\u001b[0;36m0.25\u001b[0m\u001b[0;34m)\u001b[0m\u001b[0;34m\u001b[0m\u001b[0;34m\u001b[0m\u001b[0m\n\u001b[0m",
      "\u001b[0;32m<ipython-input-45-7f8b15d61820>\u001b[0m in \u001b[0;36mconvection_diffusion\u001b[0;34m(mesh, hcoarse)\u001b[0m\n\u001b[1;32m     32\u001b[0m         \u001b[0mgfu\u001b[0m \u001b[0;34m=\u001b[0m \u001b[0mGridFunction\u001b[0m\u001b[0;34m(\u001b[0m\u001b[0mfes\u001b[0m\u001b[0;34m)\u001b[0m\u001b[0;34m\u001b[0m\u001b[0;34m\u001b[0m\u001b[0m\n\u001b[1;32m     33\u001b[0m         \u001b[0mgfu\u001b[0m\u001b[0;34m.\u001b[0m\u001b[0mvec\u001b[0m\u001b[0;34m.\u001b[0m\u001b[0mdata\u001b[0m \u001b[0;34m=\u001b[0m \u001b[0macd\u001b[0m\u001b[0;34m.\u001b[0m\u001b[0mmat\u001b[0m\u001b[0;34m.\u001b[0m\u001b[0mInverse\u001b[0m\u001b[0;34m(\u001b[0m\u001b[0mfreedofs\u001b[0m\u001b[0;34m=\u001b[0m\u001b[0mfes\u001b[0m\u001b[0;34m.\u001b[0m\u001b[0mFreeDofs\u001b[0m\u001b[0;34m(\u001b[0m\u001b[0;34m)\u001b[0m\u001b[0;34m,\u001b[0m\u001b[0minverse\u001b[0m\u001b[0;34m=\u001b[0m\u001b[0;34m\"umfpack\"\u001b[0m\u001b[0;34m)\u001b[0m \u001b[0;34m*\u001b[0m \u001b[0mf\u001b[0m\u001b[0;34m.\u001b[0m\u001b[0mvec\u001b[0m\u001b[0;34m\u001b[0m\u001b[0;34m\u001b[0m\u001b[0m\n\u001b[0;32m---> 34\u001b[0;31m         \u001b[0mRedraw\u001b[0m\u001b[0;34m(\u001b[0m\u001b[0mgfu\u001b[0m\u001b[0;34m)\u001b[0m\u001b[0;34m\u001b[0m\u001b[0;34m\u001b[0m\u001b[0m\n\u001b[0m",
      "\u001b[0;32m/Applications/Netgen.app/Contents/Resources/lib/python3.7/site-packages/ngsolve/__init__.py\u001b[0m in \u001b[0;36mTmpRedraw\u001b[0;34m(*args, **kwargs)\u001b[0m\n\u001b[1;32m     14\u001b[0m \u001b[0;34m\u001b[0m\u001b[0m\n\u001b[1;32m     15\u001b[0m \u001b[0;32mdef\u001b[0m \u001b[0mTmpRedraw\u001b[0m\u001b[0;34m(\u001b[0m\u001b[0;34m*\u001b[0m\u001b[0margs\u001b[0m\u001b[0;34m,\u001b[0m \u001b[0;34m**\u001b[0m\u001b[0mkwargs\u001b[0m\u001b[0;34m)\u001b[0m\u001b[0;34m:\u001b[0m\u001b[0;34m\u001b[0m\u001b[0;34m\u001b[0m\u001b[0m\n\u001b[0;32m---> 16\u001b[0;31m     \u001b[0;32mif\u001b[0m \u001b[0msolve\u001b[0m\u001b[0;34m.\u001b[0m\u001b[0m_Redraw\u001b[0m\u001b[0;34m(\u001b[0m\u001b[0;34m*\u001b[0m\u001b[0margs\u001b[0m\u001b[0;34m,\u001b[0m \u001b[0;34m**\u001b[0m\u001b[0mkwargs\u001b[0m\u001b[0;34m)\u001b[0m\u001b[0;34m:\u001b[0m\u001b[0;34m\u001b[0m\u001b[0;34m\u001b[0m\u001b[0m\n\u001b[0m\u001b[1;32m     17\u001b[0m         \u001b[0;32mtry\u001b[0m\u001b[0;34m:\u001b[0m\u001b[0;34m\u001b[0m\u001b[0;34m\u001b[0m\u001b[0m\n\u001b[1;32m     18\u001b[0m             \u001b[0;32mimport\u001b[0m \u001b[0mnetgen\u001b[0m\u001b[0;34m\u001b[0m\u001b[0;34m\u001b[0m\u001b[0m\n",
      "\u001b[0;31mTypeError\u001b[0m: _Redraw(): incompatible function arguments. The following argument types are supported:\n    1. (blocking: bool = False, fr: float = 25) -> bool\n\nInvoked with: <ngsolve.comp.GridFunction object at 0x1165076b0>"
     ]
    }
   ],
   "source": [
    "convection_diffusion(mesh1, hcoarse)"
   ]
  },
  {
   "cell_type": "code",
   "execution_count": null,
   "metadata": {},
   "outputs": [],
   "source": [
    "convection_diffusion(mesh2, hcoarse)"
   ]
  },
  {
   "cell_type": "code",
   "execution_count": null,
   "metadata": {},
   "outputs": [],
   "source": [
    "convection_diffusion(mesh3, hcoarse)"
   ]
  },
  {
   "cell_type": "markdown",
   "metadata": {
    "heading_collapsed": true
   },
   "source": [
    "### Solve Convection Diffusion Equation HDG Method"
   ]
  },
  {
   "cell_type": "code",
   "execution_count": null,
   "metadata": {
    "hidden": true
   },
   "outputs": [],
   "source": [
    "order=4\n",
    "V = L2(mesh, order=order)\n",
    "F = FacetFESpace(mesh, order=order, dirichlet=\"bottom|left|right|top\")\n",
    "fes = FESpace([V,F])\n",
    "u,uhat = fes.TrialFunction()\n",
    "v,vhat = fes.TestFunction()"
   ]
  },
  {
   "cell_type": "code",
   "execution_count": null,
   "metadata": {
    "hidden": true
   },
   "outputs": [],
   "source": [
    "jump_u = u-uhat\n",
    "jump_v = v-vhat"
   ]
  },
  {
   "cell_type": "code",
   "execution_count": null,
   "metadata": {
    "hidden": true
   },
   "outputs": [],
   "source": [
    "alpha = 4\n",
    "condense = True\n",
    "h = specialcf.mesh_size\n",
    "n = specialcf.normal(mesh.dim)\n",
    "\n",
    "a = BilinearForm(fes, condense=condense)\n",
    "dS = dx(element_boundary=True)\n",
    "\n",
    "a += grad(u)*grad(v)*dx + \\\n",
    "    alpha*order**2/h*jump_u*jump_v*dS + \\\n",
    "    (-grad(u)*n*jump_v - grad(v)*n*jump_u)*dS\n",
    "\n",
    "b = CoefficientFunction((20,1))\n",
    "\n",
    "uup = IfPos(b*n, u, uhat)\n",
    "\n",
    "a += -b * u * grad(v)*dx + b*n*uup*jump_v *dS\n",
    "a.Assemble()\n",
    "\n",
    "f = LinearForm(fes)\n",
    "f += SymbolicLFI(1*v)\n",
    "f.Assemble()\n",
    "\n",
    "gfu = GridFunction(fes)"
   ]
  },
  {
   "cell_type": "code",
   "execution_count": null,
   "metadata": {
    "hidden": true
   },
   "outputs": [],
   "source": [
    "if not condense:\n",
    "    inv = a.mat.Inverse(fes.FreeDofs(), \"umfpack\")\n",
    "    gfu.vec.data = inv * f.vec\n",
    "else:\n",
    "    f.vec.data += a.harmonic_extension_trans * f.vec\n",
    "\n",
    "    inv = a.mat.Inverse(fes.FreeDofs(True), \"umfpack\")\n",
    "    gfu.vec.data = inv * f.vec\n",
    "\n",
    "    gfu.vec.data += a.harmonic_extension * gfu.vec\n",
    "    gfu.vec.data += a.inner_solve * f.vec\n",
    "\n",
    "Draw (gfu.components[0], mesh, \"u-HDG\")"
   ]
  }
 ],
 "metadata": {
  "kernelspec": {
   "display_name": "Python 3",
   "language": "python",
   "name": "python3"
  },
  "language_info": {
   "codemirror_mode": {
    "name": "ipython",
    "version": 3
   },
   "file_extension": ".py",
   "mimetype": "text/x-python",
   "name": "python",
   "nbconvert_exporter": "python",
   "pygments_lexer": "ipython3",
   "version": "3.7.4"
  },
  "toc": {
   "base_numbering": 1,
   "nav_menu": {},
   "number_sections": true,
   "sideBar": true,
   "skip_h1_title": false,
   "title_cell": "Table of Contents",
   "title_sidebar": "Contents",
   "toc_cell": false,
   "toc_position": {},
   "toc_section_display": true,
   "toc_window_display": false
  },
  "varInspector": {
   "cols": {
    "lenName": 16,
    "lenType": 16,
    "lenVar": 40
   },
   "kernels_config": {
    "python": {
     "delete_cmd_postfix": "",
     "delete_cmd_prefix": "del ",
     "library": "var_list.py",
     "varRefreshCmd": "print(var_dic_list())"
    },
    "r": {
     "delete_cmd_postfix": ") ",
     "delete_cmd_prefix": "rm(",
     "library": "var_list.r",
     "varRefreshCmd": "cat(var_dic_list()) "
    }
   },
   "types_to_exclude": [
    "module",
    "function",
    "builtin_function_or_method",
    "instance",
    "_Feature"
   ],
   "window_display": false
  }
 },
 "nbformat": 4,
 "nbformat_minor": 2
}
