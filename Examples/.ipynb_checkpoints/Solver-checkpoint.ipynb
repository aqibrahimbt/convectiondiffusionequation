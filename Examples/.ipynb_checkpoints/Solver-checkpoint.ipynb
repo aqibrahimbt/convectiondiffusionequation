{
 "cells": [
  {
   "cell_type": "code",
   "execution_count": 3,
   "metadata": {
    "init_cell": true,
    "slideshow": {
     "slide_type": "slide"
    }
   },
   "outputs": [],
   "source": [
    "import netgen.gui\n",
    "from netgen.geom2d import unit_square\n",
    "from ngsolve import *"
   ]
  },
  {
   "cell_type": "markdown",
   "metadata": {},
   "source": [
    "### Initializations"
   ]
  },
  {
   "cell_type": "code",
   "execution_count": 2,
   "metadata": {
    "init_cell": true
   },
   "outputs": [],
   "source": [
    "#epsilon = 0.01\n",
    "# h = uniformly refined mesh\n",
    "# order = k"
   ]
  },
  {
   "cell_type": "code",
   "execution_count": 11,
   "metadata": {
    "init_cell": true
   },
   "outputs": [],
   "source": [
    "## Parameter setup\n",
    "orders = [1, 2, 3]\n",
    "beta = (2,1)\n",
    "mesh_size = [1.0, 0.5, 0.25, 0.1250, 0.0625, 0.0313]\n",
    "eps = 0.01\n",
    "\n",
    "# Exact Solution\n",
    "p = lambda x: x + (exp(beta[0]*x/eps)-1)/(1-exp(beta[0]/eps))\n",
    "q = lambda y: y + (exp(beta[1]*y/eps)-1)/(1-exp(beta[1]/eps))\n",
    "exact = p(x) * q(y)\n",
    "\n",
    "coeff = beta[1]*p(x) + beta[0]*q(y)\n",
    "\n",
    "alpha = 100"
   ]
  },
  {
   "cell_type": "markdown",
   "metadata": {},
   "source": [
    "### Exact Solution for Convection-Diffusion Equation"
   ]
  },
  {
   "cell_type": "code",
   "execution_count": null,
   "metadata": {},
   "outputs": [],
   "source": [
    "orders = 1\n",
    "mesh_size = 0.005\n",
    "mesh = Mesh(unit_square.GenerateMesh(maxh=mesh_size))\n",
    "fes = L2(mesh, order=orders, dirichlet=\"bottom|right|left|top\")\n",
    "gfu = GridFunction(fes)\n",
    "Draw(exact, mesh, 'exact')"
   ]
  },
  {
   "cell_type": "markdown",
   "metadata": {},
   "source": [
    "### Discontinuous Galerkin for Convection-Diffusion with upwind"
   ]
  },
  {
   "cell_type": "code",
   "execution_count": 11,
   "metadata": {},
   "outputs": [
    {
     "name": "stdout",
     "output_type": "stream",
     "text": [
      "Order: 1 Mesh Size: 1.0 L2-error: 0.18858271771985755\n",
      "Order: 1 Mesh Size: 0.5 L2-error: 0.15900789149842628\n",
      "Order: 1 Mesh Size: 0.25 L2-error: 0.13979275416656903\n",
      "Order: 1 Mesh Size: 0.125 L2-error: 0.12036257425598847\n",
      "Order: 1 Mesh Size: 0.0625 L2-error: 0.07566263907754531\n",
      "Order: 1 Mesh Size: 0.0313 L2-error: 0.03458493405768635\n",
      "......................................................................\n",
      "Order: 2 Mesh Size: 1.0 L2-error: 0.5012289412744237\n",
      "Order: 2 Mesh Size: 0.5 L2-error: 0.2385774927812544\n",
      "Order: 2 Mesh Size: 0.25 L2-error: 0.14208099659653617\n",
      "Order: 2 Mesh Size: 0.125 L2-error: 0.07413411487242062\n",
      "Order: 2 Mesh Size: 0.0625 L2-error: 0.03068731046845547\n",
      "Order: 2 Mesh Size: 0.0313 L2-error: 0.009577962690863473\n",
      "......................................................................\n",
      "Order: 3 Mesh Size: 1.0 L2-error: 0.37269916618461196\n",
      "Order: 3 Mesh Size: 0.5 L2-error: 0.22402708987183748\n",
      "Order: 3 Mesh Size: 0.25 L2-error: 0.10116813716439363\n",
      "Order: 3 Mesh Size: 0.125 L2-error: 0.04395469053114783\n",
      "Order: 3 Mesh Size: 0.0625 L2-error: 0.013032334596740662\n",
      "Order: 3 Mesh Size: 0.0313 L2-error: 0.0024364684676830483\n",
      "......................................................................\n"
     ]
    }
   ],
   "source": [
    "for order in orders:\n",
    "    for size in mesh_size:\n",
    "        mesh = Mesh(unit_square.GenerateMesh(maxh=size))\n",
    "        fes = L2(mesh, order=order, dgjumps=True)\n",
    "        u, v = fes.TnT()\n",
    "\n",
    "\n",
    "        jump_u = u-u.Other()\n",
    "        jump_v = v-v.Other()\n",
    "        n = specialcf.normal(2)\n",
    "        mean_dudn = eps * 0.5*n * (grad(u) + grad(u.Other()))\n",
    "        mean_dvdn = eps * 0.5*n * (grad(v) + grad(v.Other()))\n",
    "\n",
    "\n",
    "\n",
    "        h = specialcf.mesh_size\n",
    "        a = BilinearForm(fes)\n",
    "\n",
    "        diffusion = eps * grad(u) * grad(v) * dx \\\n",
    "            +alpha * eps * order ** 2/ h * jump_u * jump_v * dx(skeleton=True) \\\n",
    "            +(-mean_dudn * jump_v-mean_dvdn * jump_u) * dx(skeleton=True) \\\n",
    "            +alpha * eps * order ** 2/h * u * v * ds(skeleton=True) \\\n",
    "            + eps * (-n * grad(u) * v -n * grad(v) * u) * ds(skeleton=True)\n",
    "\n",
    "        a += diffusion\n",
    "        a.Assemble()\n",
    "\n",
    " \n",
    "        f = LinearForm(fes)\n",
    "        f += SymbolicLFI(coeff * v )\n",
    "        f.Assemble()\n",
    "\n",
    "\n",
    "        gfu = GridFunction(fes, name=\"uDG\")\n",
    "        gfu.vec.data = a.mat.Inverse() * f.vec\n",
    "        Draw (gfu)\n",
    "        \n",
    "        b = CoefficientFunction((beta[0],beta[1]) )\n",
    "\n",
    "        uup = IfPos(b*n, u, u.Other())\n",
    "\n",
    "        convection = -b * u * grad(v) * dx + b * n * uup * jump_v * dx(skeleton=True)+ IfPos(b*n,b*n,0)*u*v*ds(skeleton=True)\n",
    "\n",
    "        acd = BilinearForm(fes)\n",
    "        acd += diffusion + convection\n",
    "\n",
    "        acd.Assemble()\n",
    "\n",
    "        gfu = GridFunction(fes)\n",
    "        gfu.vec.data = acd.mat.Inverse(freedofs=fes.FreeDofs(),inverse=\"umfpack\") * f.vec\n",
    "        \n",
    "        print ('Order:', order, 'Mesh Size:', size , \"L2-error:\", sqrt (Integrate ((gfu-exact)*(gfu-exact), mesh)))\n",
    "        #Draw(exact,mesh,\"u\")\n",
    "        #Draw(gfu,mesh,\"uh\")\n",
    "    print('......................................................................')\n",
    "    \n",
    "    "
   ]
  },
  {
   "cell_type": "raw",
   "metadata": {},
   "source": [
    "orders = [1]\n",
    "mesh_size = [1.0]"
   ]
  },
  {
   "cell_type": "markdown",
   "metadata": {
    "heading_collapsed": true
   },
   "source": [
    "### Hybrid Discontinuous Galerkin Convection-Diffusion with upwind"
   ]
  },
  {
   "cell_type": "code",
   "execution_count": 27,
   "metadata": {
    "hidden": true
   },
   "outputs": [
    {
     "name": "stdout",
     "output_type": "stream",
     "text": [
      "Order: 1 Mesh Size: 1.0 L2-error: 0.014401717251167585\n",
      "Order: 1 Mesh Size: 0.5 L2-error: 0.014405020580297015\n",
      "Order: 1 Mesh Size: 0.25 L2-error: 0.0018882840071329746\n",
      "Order: 1 Mesh Size: 0.125 L2-error: 0.0004039696207809145\n",
      "Order: 1 Mesh Size: 0.0625 L2-error: 9.038889434581316e-05\n",
      "Order: 1 Mesh Size: 0.0313 L2-error: 2.1495135412354256e-05\n",
      "......................................................................\n",
      "Order: 2 Mesh Size: 1.0 L2-error: 0.00617711207507468\n",
      "Order: 2 Mesh Size: 0.5 L2-error: 0.0012483667148955003\n",
      "Order: 2 Mesh Size: 0.25 L2-error: 0.0001037074720516526\n",
      "Order: 2 Mesh Size: 0.125 L2-error: 1.2153967257760026e-05\n",
      "Order: 2 Mesh Size: 0.0625 L2-error: 1.4256678612507477e-06\n",
      "Order: 2 Mesh Size: 0.0313 L2-error: 1.7762421497689137e-07\n",
      "......................................................................\n",
      "Order: 3 Mesh Size: 1.0 L2-error: 0.0017473397361608943\n",
      "Order: 3 Mesh Size: 0.5 L2-error: 0.00013622661694141628\n",
      "Order: 3 Mesh Size: 0.25 L2-error: 4.348906207182024e-06\n",
      "Order: 3 Mesh Size: 0.125 L2-error: 2.619367253644025e-07\n",
      "Order: 3 Mesh Size: 0.0625 L2-error: 1.4104087876361782e-08\n",
      "Order: 3 Mesh Size: 0.0313 L2-error: 8.689176131421309e-10\n",
      "......................................................................\n"
     ]
    }
   ],
   "source": [
    "for order in orders:\n",
    "    for size in mesh_size:\n",
    "        mesh = Mesh(unit_square.GenerateMesh(maxh=size))\n",
    "        V = L2(mesh, order=order)\n",
    "        F = FacetFESpace(mesh, order=order, dirichlet=\"bottom|left|right|top\")\n",
    "\n",
    "        fes = FESpace([V,F])\n",
    "        u, uhat = fes.TrialFunction()\n",
    "        v,vhat = fes.TestFunction()\n",
    "\n",
    "        jump_u = u-uhat\n",
    "        jump_v = v-vhat\n",
    "\n",
    "        condense = True\n",
    "        h = specialcf.mesh_size\n",
    "        n = specialcf.normal(mesh.dim)\n",
    "\n",
    "        a = BilinearForm(fes, condense=condense)\n",
    "        dS = dx(element_boundary=True)\n",
    "\n",
    "        diffusion = eps * grad(u) * grad(v) * dx + \\\n",
    "            alpha * eps * order ** 2/h * jump_u * jump_v * dS + \\\n",
    "            eps * (-grad(u) * n * jump_v - grad(v) * n * jump_u) * dS\n",
    "\n",
    "                     \n",
    "        b = CoefficientFunction((beta[0],beta[1])) \n",
    "\n",
    "        uup = IfPos(b * n, u, uhat)\n",
    "              \n",
    "        convection = -b * u * grad(v) * dx + b * n * uup * jump_v * dS\n",
    "\n",
    "        a += convection + diffusion\n",
    "        \n",
    "        a.Assemble()\n",
    "                \n",
    "        f = LinearForm(fes)\n",
    "        f += SymbolicLFI(coeff * v)\n",
    "        f.Assemble()\n",
    "\n",
    "        gfu = GridFunction(fes)\n",
    "        \n",
    "        if not condense:\n",
    "            inv = a.mat.Inverse(fes.FreeDofs(), \"umfpack\")\n",
    "            gfu.vec.data = inv * f.vec\n",
    "        else:\n",
    "            f.vec.data += a.harmonic_extension_trans * f.vec\n",
    "\n",
    "            inv = a.mat.Inverse(fes.FreeDofs(True), \"umfpack\")\n",
    "            gfu.vec.data = inv * f.vec\n",
    "\n",
    "            gfu.vec.data += a.harmonic_extension * gfu.vec\n",
    "            gfu.vec.data += a.inner_solve * f.vec\n",
    "            \n",
    "        print('Order:', order, 'Mesh Size:', size , \"L2-error:\", sqrt (Integrate ((gfu.components[0] - exact)*(gfu.components[0]- exact), mesh)))\n",
    "                            \n",
    "    print('......................................................................')"
   ]
  },
  {
   "cell_type": "markdown",
   "metadata": {
    "heading_collapsed": true
   },
   "source": [
    "### Using Mass Matrix"
   ]
  },
  {
   "cell_type": "code",
   "execution_count": null,
   "metadata": {
    "hidden": true
   },
   "outputs": [],
   "source": [
    "for order in orders:\n",
    "    for size in mesh_size:\n",
    "        mesh = Mesh(unit_square.GenerateMesh(maxh=size))\n",
    "        fes = H1(mesh, order=order, dirichlet=\"bottom|right|left|top\")\n",
    "        u, v = fes.TnT()\n",
    "        \n",
    "        b = CoefficientFunction((beta[0],beta[1]))        \n",
    "        \n",
    "        a = BilinearForm(fes, symmetric=False)\n",
    "        a += SymbolicBFI((eps *  grad(u) * grad(v)) + (b * grad(u) * v))\n",
    "        a.Assemble()\n",
    "        \n",
    "        \n",
    "        f = LinearForm(fes)\n",
    "        f += SymbolicLFI(coeff * v)\n",
    "        f.Assemble()\n",
    "        \n",
    "                \n",
    "        gfu = GridFunction(fes)\n",
    "        gfu.vec.data = a.mat.Inverse(fes.FreeDofs(), inverse='sparsecholesky') * f.vec\n",
    "\n",
    "        print('Order:', order, 'Mesh Size:', size , \"L2 Error:\", sqrt (Integrate ((gfu - exact)*(gfu- exact), mesh)))\n",
    "            \n",
    "    print('......................................................................')"
   ]
  },
  {
   "cell_type": "markdown",
   "metadata": {},
   "source": [
    "### DG with Enrichment"
   ]
  },
  {
   "cell_type": "code",
   "execution_count": null,
   "metadata": {},
   "outputs": [],
   "source": []
  }
 ],
 "metadata": {
  "kernelspec": {
   "display_name": "Python 3",
   "language": "python",
   "name": "python3"
  },
  "language_info": {
   "codemirror_mode": {
    "name": "ipython",
    "version": 3
   },
   "file_extension": ".py",
   "mimetype": "text/x-python",
   "name": "python",
   "nbconvert_exporter": "python",
   "pygments_lexer": "ipython3",
   "version": "3.7.5"
  }
 },
 "nbformat": 4,
 "nbformat_minor": 4
}
