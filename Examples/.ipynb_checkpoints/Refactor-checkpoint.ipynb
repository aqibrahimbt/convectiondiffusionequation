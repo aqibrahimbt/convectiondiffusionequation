{
 "cells": [
  {
   "cell_type": "code",
   "execution_count": 1,
   "metadata": {
    "ExecuteTime": {
     "end_time": "2020-06-14T02:34:11.777812Z",
     "start_time": "2020-06-14T02:34:09.994838Z"
    }
   },
   "outputs": [],
   "source": [
    "from netgen.geom2d import unit_square\n",
    "from ngsolve import *\n",
    "from ngsolve import grad as ngsolvegrad\n",
    "from ngsolve.comp import ProxyFunction\n",
    "from ngsolve.webgui import Draw\n",
    "#import netgen.gui\n",
    "import numpy\n",
    "import pandas as pd"
   ]
  },
  {
   "cell_type": "markdown",
   "metadata": {},
   "source": [
    "#### Configuration Setup"
   ]
  },
  {
   "cell_type": "code",
   "execution_count": 2,
   "metadata": {
    "ExecuteTime": {
     "end_time": "2020-06-14T02:34:11.793484Z",
     "start_time": "2020-06-14T02:34:11.780749Z"
    }
   },
   "outputs": [],
   "source": [
    "beta = (2,0.001)\n",
    "eps = 0.01\n",
    "\n",
    "p = lambda x: x + (exp(beta[0]*(x-1)/eps)-exp(-beta[0]/eps))/(exp(-beta[0]/eps)-1)\n",
    "q = lambda y: y + (exp(beta[1]*(y-1)/eps)-exp(-beta[1]/eps))/(exp(-beta[1]/eps)-1)\n",
    "\n",
    "exact = p(x) * q(y)\n",
    "coeff =  beta[1] * p(x) +  beta[0] * q(y)\n",
    "\n",
    "\n",
    "new_config = {\n",
    "    'order': [1, 2, 3, 4],\n",
    "    'beta': (2,0.001),\n",
    "    'mesh_size': [1.0, 0.5, 0.25, 0.1250, 0.0625, 0.0313],\n",
    "    'epsilon': 0.01,\n",
    "    'exact': exact,\n",
    "    'coeff': coeff,\n",
    "    'alpha': 20, \n",
    "    'enrich_functions':[p(x), q(y)],\n",
    "    'enrich_domain_ind':[lambda x,y,h: x > 1 - h/2, lambda x,y,h: y > 1 - h/2]\n",
    "}\n",
    "\n",
    "\n",
    "columns = ['Order', 'Mesh Size', 'Error']\n",
    "error_table = pd.DataFrame(columns=columns)"
   ]
  },
  {
   "cell_type": "markdown",
   "metadata": {},
   "source": [
    "#### Enrichment Proxy Functions for the DG method"
   ]
  },
  {
   "cell_type": "code",
   "execution_count": 3,
   "metadata": {
    "ExecuteTime": {
     "end_time": "2020-06-14T02:34:11.812758Z",
     "start_time": "2020-06-14T02:34:11.795640Z"
    }
   },
   "outputs": [],
   "source": [
    "class EnrichmentProxy(CoefficientFunction):\n",
    "    \"\"\"\n",
    "    Provide wrappers for grad/Other and multiplication of enrichment lists for the DG Method.\n",
    "    \"\"\"\n",
    "    def __init__(self, func, enr_list):\n",
    "        self.func = func\n",
    "        self.enr_list = enr_list\n",
    "        self.grad_list = [CoefficientFunction((coeff.Diff(x), coeff.Diff(y))) for coeff in self.enr_list ]\n",
    "\n",
    "    def __call__(self):\n",
    "        return self.func[0] + sum([self.func[i]*self.enr_list[i-1] for i in range(1,len(self.enr_list)+1)])\n",
    "\n",
    "    def __mul__(self, other):\n",
    "        if type(other) == EnrichmentProxy:\n",
    "            return self() * other()\n",
    "        else:\n",
    "            return self() * other\n",
    "    \n",
    "    def __rmul__(self,other):\n",
    "        return self.__mul__(other)    \n",
    "    \n",
    "    def __add__(self, other):\n",
    "        if type(other) == EnrichmentProxy:\n",
    "            return self() + other()\n",
    "        else:\n",
    "            return self() + other\n",
    "    \n",
    "    def __radd__(self,other):\n",
    "        return self.__add__(other)\n",
    "    \n",
    "    def __sub__(self, other):\n",
    "        if type(other) == EnrichmentProxy:\n",
    "            return self() - other()\n",
    "        else:\n",
    "            return self() - other\n",
    "    \n",
    "    def __rsub__(self,other):\n",
    "        return self.__sub__(other)\n",
    "    \n",
    "    #gradient of newly enriched approximation spaces\n",
    "    def grad(self):\n",
    "        mygrad = ngsolvegrad(self.func[0])\n",
    "        for i in range(1,len(self.enr_list)):\n",
    "            mygrad += self.func[i] * self.grad_list[i-1]\n",
    "            mygrad += ngsolvegrad(self.func[i])*self.enr_list[i-1]\n",
    "        return mygrad \n",
    "    \n",
    "    \n",
    "    '''define proxy functions for Other'''\n",
    "    def Other(self):\n",
    "        return EnrichmentProxy([f.Other() for f in self.func],self.enr_list)"
   ]
  },
  {
   "cell_type": "markdown",
   "metadata": {},
   "source": [
    "#### Enrichment Proxy Functions for the HDG method"
   ]
  },
  {
   "cell_type": "code",
   "execution_count": 4,
   "metadata": {
    "ExecuteTime": {
     "end_time": "2020-06-14T02:34:11.828575Z",
     "start_time": "2020-06-14T02:34:11.815715Z"
    }
   },
   "outputs": [],
   "source": [
    "class EnrichmentProxy_VOL(CoefficientFunction):\n",
    "    \"\"\"\n",
    "    Provide wrappers for grad/Other and multiplication of enrichment lists for the HDG method.\n",
    "    \"\"\"\n",
    "    def __init__(self, func, enr_list):\n",
    "        self.func = func\n",
    "        self.enr_list = enr_list\n",
    "        self.grad_list = [CoefficientFunction((coeff.Diff(x), coeff.Diff(y))) for coeff in self.enr_list ]\n",
    "    \n",
    "    def __call__(self):\n",
    "        return self.func[0] + sum([self.func[2 + 2* i] * self.enr_list[i] for i in range(0,len(self.enr_list))])\n",
    "\n",
    "    def __mul__(self, other):\n",
    "        if type(other) == EnrichmentProxy_VOL:\n",
    "            return self() * other()\n",
    "        else:\n",
    "            return self() * other\n",
    "    \n",
    "    def __rmul__(self, other):\n",
    "        return self.__mul__(other)    \n",
    "    \n",
    "    def __add__(self, other):\n",
    "        if type(other) == EnrichmentProxy_VOL:\n",
    "            return self() + other()\n",
    "        else:\n",
    "            return self() + other\n",
    "    \n",
    "    def __radd__(self,other):\n",
    "        return self.__add__(other)\n",
    "    \n",
    "    def __sub__(self, other):\n",
    "        if type(other) == EnrichmentProxy_VOL:\n",
    "            return self() - other()\n",
    "        else:\n",
    "            return self() - other\n",
    "    \n",
    "    def __rsub__(self,other):\n",
    "        return self.__sub__(other)\n",
    "    \n",
    "    \n",
    "    '''gradient of newly enriched approximation spaces'''\n",
    "    def grad(self):\n",
    "        mygrad = ngsolvegrad(self.func[0])\n",
    "        for i in range(len(self.enr_list)):\n",
    "            mygrad += self.func[2+2*i] * self.grad_list[i]\n",
    "            mygrad += ngsolvegrad(self.func[2+2*i])* self.enr_list[i]\n",
    "        return mygrad\n",
    "\n",
    "def grad(q):\n",
    "    if type(q) == ProxyFunction:\n",
    "        return ngsolvegrad(q)\n",
    "    else:\n",
    "        return q.grad()\n"
   ]
  },
  {
   "cell_type": "code",
   "execution_count": 5,
   "metadata": {
    "ExecuteTime": {
     "end_time": "2020-06-14T02:34:11.840991Z",
     "start_time": "2020-06-14T02:34:11.830837Z"
    }
   },
   "outputs": [],
   "source": [
    "class EnrichmentProxy_FAC(CoefficientFunction):\n",
    "    \"\"\"\n",
    "    Provide wrappers for the facets.\n",
    "    \"\"\"\n",
    "    def __init__(self, func, enr_list):\n",
    "        self.func = func\n",
    "        self.enr_list = enr_list\n",
    "        self.grad_list = [CoefficientFunction((coeff.Diff(x), coeff.Diff(y))) for coeff in self.enr_list ]\n",
    "    \n",
    "    \n",
    "    def __call__(self):\n",
    "        return self.func[1] + sum([self.func[3 + 2*i]*self.enr_list[i] for i in range(0,len(self.enr_list))])\n",
    "\n",
    "    def __mul__(self, other):\n",
    "        if type(other) == EnrichmentProxy_FAC:\n",
    "            return self() * other()\n",
    "        else:\n",
    "            return self() * other\n",
    "    \n",
    "    def __rmul__(self,other):\n",
    "        return self.__mul__(other)    \n",
    "    \n",
    "    def __add__(self, other):\n",
    "        if type(other) == EnrichmentProxy_FAC:\n",
    "            return self() + other()\n",
    "        else:\n",
    "            return self() + other\n",
    "    \n",
    "    def __radd__(self,other):\n",
    "        return self.__add__(other)\n",
    "    \n",
    "    def __sub__(self, other):\n",
    "        if type(other) == EnrichmentProxy_FAC:\n",
    "            return self() - other()\n",
    "        else:\n",
    "            return self() - other\n",
    "    \n",
    "    def __rsub__(self,other):\n",
    "        return self.__sub__(other)\n"
   ]
  },
  {
   "cell_type": "markdown",
   "metadata": {},
   "source": [
    "#### Functions to mark/select elements to be enriched"
   ]
  },
  {
   "cell_type": "code",
   "execution_count": 6,
   "metadata": {
    "ExecuteTime": {
     "end_time": "2020-06-14T02:34:11.854884Z",
     "start_time": "2020-06-14T02:34:11.843009Z"
    }
   },
   "outputs": [],
   "source": [
    "'''Mark elements in the mesh to be enriched'''\n",
    "def mark_element(Q, mesh, enr_indicator, mesh_size):\n",
    "    ba = BitArray(Q.ndof)        \n",
    "    ba.Clear()\n",
    "    for el in Q.Elements():\n",
    "        mark = False\n",
    "        for v in el.vertices:\n",
    "            if (enr_indicator(mesh[v].point[0],mesh[v].point[1],mesh_size)):\n",
    "                mark = True\n",
    "        for dof in el.dofs:\n",
    "            ba[dof] = mark\n",
    "        Qx = Compress(Q, active_dofs=ba)     \n",
    "    return Qx\n",
    "\n",
    "\n",
    "'''Mark elements boundaries (facets) in the mesh to be enriched'''\n",
    "def mark_element_bnd(Q, QF, mesh, enr_indicator, mesh_size):\n",
    "    ba = BitArray(Q.ndof)        \n",
    "    ba.Clear()\n",
    "    for el in Q.Elements():\n",
    "        mark = False\n",
    "        for v in el.vertices:\n",
    "            if (enr_indicator(mesh[v].point[0],mesh[v].point[1],mesh_size)):\n",
    "                mark = True\n",
    "        for dof in el.dofs:\n",
    "            ba[dof] = mark\n",
    "\n",
    "    gfF = GridFunction(QF)     \n",
    "    gfF.vec[:] = 0\n",
    "    for el in QF.Elements():\n",
    "        if ba[el.nr]:\n",
    "            for dof in el.dofs:\n",
    "                gfF.vec[dof] += 1\n",
    "    ba_F = BitArray(QF.ndof)\n",
    "    ba_F.Clear()\n",
    "    for i in range(QF.ndof):\n",
    "        if gfF.vec[i] > 0.5:\n",
    "            ba_F[i] = True\n",
    "    QFx = Compress(QF, active_dofs=ba_F) \n",
    "    return QFx"
   ]
  },
  {
   "cell_type": "code",
   "execution_count": 7,
   "metadata": {
    "ExecuteTime": {
     "end_time": "2020-06-14T02:34:11.894396Z",
     "start_time": "2020-06-14T02:34:11.859132Z"
    }
   },
   "outputs": [],
   "source": [
    "\"\"\"\n",
    "(Hybrid) Discontinuous Galerkin Method with Upwinding\n",
    "\"\"\"\n",
    "\n",
    "class Convection_Diffusion():\n",
    "    \n",
    "    '''Specify default parameters if necessary (ANY?)'''\n",
    "    config = {\n",
    "    }\n",
    "    \n",
    "    def __init__(self, new_config={}):\n",
    "        self.config.update(new_config) #Updates the configuration parameters with the user input        \n",
    "    \n",
    "    '''Solves the convection-diffusion equations by the DG methods using upwinding'''\n",
    "    def _solveDG(self):\n",
    "        for order in self.config['order']:\n",
    "            for size in self.config['mesh_size']:\n",
    "                mesh = Mesh(unit_square.GenerateMesh(maxh=size))\n",
    "                V = L2(mesh, order=order, dgjumps=True)        \n",
    "                Vlist = [V]\n",
    "                Q = L2(mesh, order=0)\n",
    "                    \n",
    "                for enr_indicator in self.config['enrich_domain_ind']:\n",
    "                    Vlist.append(mark_element(Q,mesh,enr_indicator,size))\n",
    "                fes = FESpace(Vlist, dgjumps = True)\n",
    "                u = EnrichmentProxy(fes.TrialFunction(), self.config['enrich_functions'])\n",
    "                v = EnrichmentProxy(fes.TestFunction(), self.config['enrich_functions'])\n",
    "\n",
    "                jump_u = u-u.Other()\n",
    "                jump_v = v-v.Other()\n",
    "\n",
    "                n = specialcf.normal(2)\n",
    "                mean_dudn = 0.5 * n * (grad(u) + grad(u.Other()))\n",
    "                mean_dvdn = 0.5 * n * (grad(v) + grad(v.Other()))\n",
    "\n",
    "                h = specialcf.mesh_size\n",
    "                dX = dx(skeleton=True, bonus_intorder=15)\n",
    "                dS = ds(skeleton=True, bonus_intorder=15)\n",
    "\n",
    "                # diffusion equation\n",
    "                diffusion = grad(u) * grad(v) * dX \\\n",
    "                    +self.config['alpha'] * order ** 2/ h * jump_u * jump_v * dX \\\n",
    "                    +(-mean_dudn * jump_v - mean_dvdn * jump_u) * dX \\\n",
    "                    +self.config['alpha'] * order ** 2/h * u * v * dS \\\n",
    "                    + (-n * grad(u) * v -n * grad(v) * u) * dS\n",
    "\n",
    "                # convection equation\n",
    "                b = CoefficientFunction((self.config['beta'][0], self.config['beta'][1]))\n",
    "                uup = IfPos(b * n, u(), u.Other()())\n",
    "                convection = -b * u * grad(v) * dX + b * n * uup * jump_v * dX\n",
    "\n",
    "                acd = BilinearForm(fes)\n",
    "                acd += self.config['epsilon'] * diffusion + convection\n",
    "                with TaskManager():\n",
    "                    acd.Assemble()\n",
    "\n",
    "                # rhs\n",
    "                f = LinearForm(fes)\n",
    "                f += SymbolicLFI(self.config['coeff'] * v, bonus_intorder = 15)\n",
    "                with TaskManager():\n",
    "                    f.Assemble()\n",
    "\n",
    "                gfu = GridFunction(fes, name=\"uDG\")\n",
    "                gfu.vec.data = acd.mat.Inverse(freedofs=fes.FreeDofs(),inverse=\"umfpack\") * f.vec\n",
    "                gfu = gfu.components[0] + sum([gfu.components[i+1]*self.config['enrich_functions'][i] for i in range(len(self.config['enrich_functions']))])\n",
    "\n",
    "                Draw(gfu,mesh,\"u\")\n",
    "\n",
    "                error = sqrt (Integrate ((gfu-self.config['exact'])*(gfu-self.config['exact']), mesh))\n",
    "                error_table.loc[len(error_table)] = [order, size, error]\n",
    "\n",
    "                print ('Order:', order, 'Mesh Size:', size , \"L2-error:\", error)\n",
    "\n",
    "        return error_table\n",
    "    \n",
    "    \n",
    "    '''Solves the convection-diffusion equations by the HDG \n",
    "    methods with the options to either enrich or not'''\n",
    "    def _solveHDG(self):\n",
    "        for order in self.config['order']:\n",
    "            for size in self.config['mesh_size']:\n",
    "                mesh = Mesh(unit_square.GenerateMesh(maxh=size))\n",
    "                condense = True\n",
    "                h = specialcf.mesh_size\n",
    "                n = specialcf.normal(mesh.dim)\n",
    "                dS = dx(element_boundary=True, bonus_intorder=15)\n",
    "                dX = dx(bonus_intorder=15)\n",
    "                V = L2(mesh, order=order)\n",
    "                F = FacetFESpace(mesh, order=order, dirichlet=\".*\")\n",
    "                Q = L2(mesh, order=0)\n",
    "                QF = FacetFESpace(mesh, order=0, dirichlet=\".*\")\n",
    "\n",
    "                Vlist = [V]\n",
    "                Vlist.append(F)\n",
    "                for enr_indicator in self.config['enrich_domain_ind']:\n",
    "                    Vlist.append(mark_element(Q,mesh,enr_indicator,size))\n",
    "                    Vlist.append(mark_element_bnd(Q, QF, mesh,enr_indicator, size))\n",
    "                        \n",
    "                fes = FESpace(Vlist) # [V, F, Qx, QFx, Qy, QFy])\n",
    "                \n",
    "                u = EnrichmentProxy_VOL(fes.TrialFunction(),self.config['enrich_functions'])\n",
    "                v = EnrichmentProxy_VOL(fes.TestFunction(), self.config['enrich_functions'])\n",
    "\n",
    "                uhat = EnrichmentProxy_FAC(fes.TrialFunction(),self.config['enrich_functions'])       \n",
    "                vhat = EnrichmentProxy_FAC(fes.TestFunction(), self.config['enrich_functions'])\n",
    "                              \n",
    "                jump_u = u-uhat()\n",
    "                jump_v = v-vhat()\n",
    "                \n",
    "                # diffusion\n",
    "                diffusion = grad(u) * grad(v) * dX \\\n",
    "                  + self.config['alpha'] * order ** 2/h * jump_u * jump_v * dS \\\n",
    "                  + (-grad(u) * n * jump_v - grad(v) * n * jump_u) * dS\n",
    "                \n",
    "                # convection            \n",
    "                b = CoefficientFunction((self.config['beta'][0], self.config['beta'][1]))\n",
    "                uup = IfPos(b * n, u(), uhat())\n",
    "                \n",
    "                convection = -b * u * grad(v) * dX + b * n * uup * v * dS + IfPos( b * n, (uhat()-u)*vhat(), 0) * dS\n",
    "\n",
    "                acd = BilinearForm(fes,symmetric=False)\n",
    "                acd += self.config['epsilon'] *  diffusion + convection\n",
    "\n",
    "                with TaskManager():\n",
    "                    acd.Assemble()\n",
    "\n",
    "                #rhs\n",
    "                f = LinearForm(fes)\n",
    "                f += self.config['coeff'] * v * dX\n",
    "                \n",
    "                with TaskManager():\n",
    "                    f.Assemble()\n",
    "            \n",
    "                gfu = GridFunction(fes)\n",
    "                \n",
    "                gfu.vec.data = acd.mat.Inverse(freedofs=fes.FreeDofs(),inverse=\"umfpack\") * f.vec\n",
    "                    \n",
    "                gfu = gfu.components[0] + sum([gfu.components[2*i+2] * self.config['enrich_functions'][i] for i in range(len(self.config['enrich_functions']))])\n",
    "            \n",
    "                #Draw(gfu,mesh,\"u\")\n",
    "                \n",
    "                error = sqrt (Integrate ((gfu-self.config['exact'])*(gfu-self.config['exact']), mesh, order=15))\n",
    "                error_table.loc[len(error_table)] = [order, size, error]\n",
    "\n",
    "                #print ('Order:', order, 'Mesh Size:', size , \"L2-error:\", error)\n",
    "                \n",
    "        return error_table"
   ]
  },
  {
   "cell_type": "markdown",
   "metadata": {},
   "source": [
    "#### Setup and solve the convection diffusion problem"
   ]
  },
  {
   "cell_type": "code",
   "execution_count": 8,
   "metadata": {
    "ExecuteTime": {
     "end_time": "2020-06-14T02:34:15.280787Z",
     "start_time": "2020-06-14T02:34:11.897355Z"
    }
   },
   "outputs": [
    {
     "name": "stdout",
     "output_type": "stream",
     "text": [
      "    Order  Mesh Size     Error\n",
      "0     1.0     1.0000  0.001020\n",
      "1     1.0     0.5000  0.000682\n",
      "2     1.0     0.2500  0.009142\n",
      "3     1.0     0.1250  0.002161\n",
      "4     1.0     0.0625  0.003949\n",
      "5     1.0     0.0313  0.000013\n",
      "6     2.0     1.0000  0.003429\n",
      "7     2.0     0.5000  0.003202\n",
      "8     2.0     0.2500  0.000235\n",
      "9     2.0     0.1250  0.000073\n",
      "10    2.0     0.0625  0.000019\n",
      "11    2.0     0.0313  0.000305\n",
      "12    3.0     1.0000  0.002246\n",
      "13    3.0     0.5000  0.000796\n",
      "14    3.0     0.2500  0.000194\n",
      "15    3.0     0.1250  0.000047\n",
      "16    3.0     0.0625  0.000009\n",
      "17    3.0     0.0313  0.000002\n",
      "18    4.0     1.0000  0.012520\n",
      "19    4.0     0.5000  0.002801\n",
      "20    4.0     0.2500  0.000152\n",
      "21    4.0     0.1250  0.000031\n",
      "22    4.0     0.0625  0.000004\n",
      "23    4.0     0.0313  0.006923\n"
     ]
    }
   ],
   "source": [
    "CT = Convection_Diffusion(new_config)\n",
    "table = CT._solveHDG()\n",
    "print(table)"
   ]
  },
  {
   "cell_type": "markdown",
   "metadata": {},
   "source": [
    "#### Error Visualizations"
   ]
  },
  {
   "cell_type": "code",
   "execution_count": 10,
   "metadata": {},
   "outputs": [
    {
     "data": {
      "text/plain": [
       "<AxesSubplot:title={'center':'k = 4'}, xlabel='Mesh Size'>"
      ]
     },
     "execution_count": 10,
     "metadata": {},
     "output_type": "execute_result"
    },
    {
     "data": {
      "image/png": "[encoded data removed]",
      "text/plain": [
       "<Figure size 1440x360 with 4 Axes>"
      ]
     },
     "metadata": {},
     "output_type": "display_data"
    }
   ],
   "source": [
    "%matplotlib inline\n",
    "import matplotlib.pyplot as plt\n",
    "plt.style.use('seaborn-white')\n",
    "import pandas as pd\n",
    "from functools import reduce\n",
    "from IPython.display import Image, display\n",
    "import matplotlib.image as mpimg\n",
    "\n",
    "\n",
    "order_1 = table[table.Order.eq(1.0)]\n",
    "order_2 = table[table.Order.eq(2.0)]\n",
    "order_3 = table[table.Order.eq(3.0)]\n",
    "order_4 = table[table.Order.eq(4.0)]\n",
    "\n",
    "fig, (ax1, ax2, ax3, ax4) = plt.subplots(1, 4, figsize=(20,5))\n",
    "\n",
    "order_1.plot(x='Mesh Size', y='Error', ax=ax1, legend=True, title='k = 1', style='.-', loglog=True)\n",
    "order_2.plot(x='Mesh Size', y='Error', ax=ax2, legend=True, title='k = 2', style='.-', loglog=True)\n",
    "order_3.plot(x='Mesh Size', y='Error', ax=ax3, legend=True, title='k = 3', style='.-', loglog=True)\n",
    "order_4.plot(x='Mesh Size', y='Error', ax=ax4, legend=True, title='k = 4', style='.-', loglog=True)\n"
   ]
  },
  {
   "cell_type": "code",
   "execution_count": null,
   "metadata": {},
   "outputs": [],
   "source": []
  }
 ],
 "metadata": {
  "kernelspec": {
   "display_name": "Python 3",
   "language": "python",
   "name": "python3"
  },
  "language_info": {
   "codemirror_mode": {
    "name": "ipython",
    "version": 3
   },
   "file_extension": ".py",
   "mimetype": "text/x-python",
   "name": "python",
   "nbconvert_exporter": "python",
   "pygments_lexer": "ipython3",
   "version": "3.8.5"
  },
  "toc": {
   "base_numbering": 1,
   "nav_menu": {},
   "number_sections": true,
   "sideBar": true,
   "skip_h1_title": false,
   "title_cell": "Table of Contents",
   "title_sidebar": "Contents",
   "toc_cell": false,
   "toc_position": {},
   "toc_section_display": true,
   "toc_window_display": false
  },
  "varInspector": {
   "cols": {
    "lenName": 16,
    "lenType": 16,
    "lenVar": 40
   },
   "kernels_config": {
    "python": {
     "delete_cmd_postfix": "",
     "delete_cmd_prefix": "del ",
     "library": "var_list.py",
     "varRefreshCmd": "print(var_dic_list())"
    },
    "r": {
     "delete_cmd_postfix": ") ",
     "delete_cmd_prefix": "rm(",
     "library": "var_list.r",
     "varRefreshCmd": "cat(var_dic_list()) "
    }
   },
   "types_to_exclude": [
    "module",
    "function",
    "builtin_function_or_method",
    "instance",
    "_Feature"
   ],
   "window_display": true
  }
 },
 "nbformat": 4,
 "nbformat_minor": 2
}
