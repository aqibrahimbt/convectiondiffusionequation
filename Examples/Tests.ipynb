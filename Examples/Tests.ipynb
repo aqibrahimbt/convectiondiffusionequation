{
 "cells": [
  {
   "cell_type": "markdown",
   "metadata": {},
   "source": [
    "### Dependencies"
   ]
  },
  {
   "cell_type": "code",
   "execution_count": 4,
   "metadata": {
    "tags": []
   },
   "outputs": [],
   "source": [
    "from netgen.geom2d import unit_square\n",
    "from ngsolve import *\n",
    "from ngsolve import grad as ngsolvegrad\n",
    "from ngsolve.comp import ProxyFunction\n",
    "from ngsolve.webgui import Draw\n",
    "#import netgen.gui\n",
    "import numpy\n",
    "import pandas as pd\n",
    "import import_ipynb ### Allows importing the functions in the Refactor notebook\n",
    "import Refactor ### Notebook that contains functions"
   ]
  },
  {
   "cell_type": "markdown",
   "metadata": {},
   "source": [
    "### Initialize Parameters"
   ]
  },
  {
   "cell_type": "code",
   "execution_count": 2,
   "metadata": {},
   "outputs": [],
   "source": [
    "beta = (2,0.001)\n",
    "eps = 0.01\n",
    "\n",
    "p = lambda x: x + (exp(beta[0]*(x-1)/eps)-exp(-beta[0]/eps))/(exp(-beta[0]/eps)-1)\n",
    "q = lambda y: y + (exp(beta[1]*(y-1)/eps)-exp(-beta[1]/eps))/(exp(-beta[1]/eps)-1)\n",
    "\n",
    "exact = p(x) * q(y)\n",
    "coeff =  beta[1] * p(x) +  beta[0] * q(y)\n",
    "\n",
    "\n",
    "new_config = {\n",
    "    'order': [1, 2],\n",
    "    'beta': (2,0.001),\n",
    "    'mesh_size': [1.0, 0.5, 0.25, 0.1250, 0.0625, 0.0313],\n",
    "    'epsilon': 0.01,\n",
    "    'exact': exact,\n",
    "    'coeff': coeff,\n",
    "    'alpha': 20, \n",
    "    'bonus_int_order' : 15,\n",
    "    'enrich_functions':[p(x), q(y)],\n",
    "    'enrich_domain_ind':[lambda x,y,h: x > 1 - h/2, lambda x,y,h: y > 1 - h/2]\n",
    "}\n",
    "\n",
    "\n",
    "columns = ['Order', 'Mesh Size', 'Error']\n",
    "error_table = pd.DataFrame(columns=columns)"
   ]
  },
  {
   "cell_type": "markdown",
   "metadata": {},
   "source": [
    "### Runing with Default Configurations (DG and HDG)"
   ]
  },
  {
   "cell_type": "code",
   "execution_count": 3,
   "metadata": {
    "tags": []
   },
   "outputs": [
    {
     "name": "stdout",
     "output_type": "stream",
     "text": [
      "    Order  Mesh Size     Error\n",
      "0     1.0     1.0000  0.015452\n",
      "1     1.0     0.5000  0.015269\n",
      "2     1.0     0.2500  0.064330\n",
      "3     1.0     0.1250  0.005711\n",
      "4     1.0     0.0625  0.010397\n",
      "5     1.0     0.0313  0.005201\n",
      "6     2.0     1.0000  0.009340\n",
      "7     2.0     0.5000  0.052477\n",
      "8     2.0     0.2500  0.011303\n",
      "9     2.0     0.1250  0.006970\n",
      "10    2.0     0.0625  0.276752\n",
      "11    2.0     0.0313  0.005072\n"
     ]
    },
    {
     "data": {
      "image/png": "[encoded data removed]",
      "text/plain": [
       "<Figure size 1440x360 with 4 Axes>"
      ]
     },
     "metadata": {},
     "output_type": "display_data"
    }
   ],
   "source": [
    "CT = Refactor.Convection_Diffusion(new_config)\n",
    "table = CT._solveDG()\n",
    "print(table)\n",
    "Refactor.plot_error(table)"
   ]
  },
  {
   "cell_type": "code",
   "execution_count": null,
   "metadata": {},
   "outputs": [],
   "source": [
    "from IPython.display import Image, display\n",
    "import matplotlib.pyplot as plt\n",
    "import matplotlib.image as mpimg\n",
    "%matplotlib inline\n",
    "\n",
    "mesh_size = [1.0, 0.5, 0.25, 0.1250, 0.0625, 0.0313]\n",
    "orders = [1, 2, 3, 4]\n",
    "plt.figure(figsize=(20,10))\n",
    "columns = 5\n",
    "listOfImageNames = ['Images/' + \"edg-h_\"+str(size)+\"-k_\"+str(order)+\".png\" for size in mesh_size for order in orders]\n",
    "\n",
    "\n",
    "for i, imageName in enumerate(listOfImageNames):\n",
    "    plt.subplot(len(listOfImageNames) / columns + 1, columns, i + 1)\n",
    "    img= mpimg.imread(imageName)\n",
    "    plt.imshow(img)"
   ]
  },
  {
   "cell_type": "markdown",
   "metadata": {},
   "source": [
    "### Testing effect of Integration Order (DG and HDG)"
   ]
  },
  {
   "cell_type": "code",
   "execution_count": null,
   "metadata": {
    "tags": []
   },
   "outputs": [],
   "source": [
    "int_orders = [10, 15, 20]\n",
    "for val in int_orders:\n",
    "    print(\"Bonus integration order.... \", val)\n",
    "    new_config['bonus_int_order'] = val\n",
    "    CT = Refactor.Convection_Diffusion(new_config)\n",
    "    table = CT._solveDG()\n",
    "    print(table)\n",
    "    Refactor.plot_error(table)\n",
    "    print(\"....................................\")"
   ]
  },
  {
   "cell_type": "markdown",
   "metadata": {},
   "source": [
    "### Testing effect of alpha (HD and HDG)"
   ]
  },
  {
   "cell_type": "code",
   "execution_count": null,
   "metadata": {
    "tags": []
   },
   "outputs": [],
   "source": [
    "alphas = [10, 15, 20, 30, 40]\n",
    "for alpha in alphas:\n",
    "    print(\"alpha .... \", alpha)\n",
    "    new_config['alpha'] = alpha\n",
    "    CT = Refactor.Convection_Diffusion(new_config)\n",
    "    table = CT._solveDG()\n",
    "    print(table)\n",
    "    Refactor.plot_error(table)\n",
    "    print(\"....................................\")"
   ]
  }
 ],
 "metadata": {
  "kernelspec": {
   "display_name": "Python 3",
   "language": "python",
   "name": "python3"
  },
  "language_info": {
   "codemirror_mode": {
    "name": "ipython",
    "version": 3
   },
   "file_extension": ".py",
   "mimetype": "text/x-python",
   "name": "python",
   "nbconvert_exporter": "python",
   "pygments_lexer": "ipython3",
   "version": "3.8.5"
  }
 },
 "nbformat": 4,
 "nbformat_minor": 2
}
